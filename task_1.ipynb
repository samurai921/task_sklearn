{
 "cells": [
  {
   "cell_type": "markdown",
   "metadata": {},
   "source": [
    "# Импортируем необходимые библиотеки"
   ]
  },
  {
   "cell_type": "code",
<<<<<<< HEAD
   "execution_count": 1263,
=======
   "execution_count": 3133,
>>>>>>> ef00fe43381872cb2ea1cf4c29bbbd5dd157e5c4
   "metadata": {},
   "outputs": [],
   "source": [
    "import pandas as pd\n",
    "from sklearn.model_selection import train_test_split\n",
    "from sklearn.linear_model import LogisticRegression\n",
    "from sklearn.ensemble import RandomForestClassifier\n",
    "from sklearn.tree import DecisionTreeClassifier\n",
    "from sklearn.metrics import accuracy_score\n",
    "from sklearn.metrics import f1_score\n",
    "from collections import Counter\n",
    "from imblearn.over_sampling import SMOTE \n",
    "from statsmodels.stats.outliers_influence import variance_inflation_factor\n",
    "import seaborn as sns\n",
    "import matplotlib.pyplot as plt\n",
    "from sklearn.model_selection import train_test_split\n",
    "from sklearn.preprocessing import StandardScaler\n",
    "from sklearn.utils.class_weight import compute_class_weight\n",
    "import numpy as np\n",
    "RANDOM_SEED = 42"
   ]
  },
  {
   "cell_type": "markdown",
   "metadata": {},
   "source": [
    "# Откройте файл с данными"
   ]
  },
  {
   "cell_type": "code",
<<<<<<< HEAD
   "execution_count": 1264,
=======
   "execution_count": 3134,
>>>>>>> ef00fe43381872cb2ea1cf4c29bbbd5dd157e5c4
   "metadata": {},
   "outputs": [],
   "source": [
    "columns = [\"calls\",  \"minutes\",  \"message\",\"md_used\", \"is_ultra\"]\n",
    "df_tarific = pd.read_csv(\"users_behavior.csv\",\n",
    "                 names=columns,\n",
    "                 header=1) "
   ]
  },
  {
   "cell_type": "code",
<<<<<<< HEAD
   "execution_count": 1265,
=======
   "execution_count": 3135,
>>>>>>> ef00fe43381872cb2ea1cf4c29bbbd5dd157e5c4
   "metadata": {},
   "outputs": [
    {
     "data": {
      "text/html": [
       "<div>\n",
       "<style scoped>\n",
       "    .dataframe tbody tr th:only-of-type {\n",
       "        vertical-align: middle;\n",
       "    }\n",
       "\n",
       "    .dataframe tbody tr th {\n",
       "        vertical-align: top;\n",
       "    }\n",
       "\n",
       "    .dataframe thead th {\n",
       "        text-align: right;\n",
       "    }\n",
       "</style>\n",
       "<table border=\"1\" class=\"dataframe\">\n",
       "  <thead>\n",
       "    <tr style=\"text-align: right;\">\n",
       "      <th></th>\n",
       "      <th>calls</th>\n",
       "      <th>minutes</th>\n",
       "      <th>message</th>\n",
       "      <th>md_used</th>\n",
       "      <th>is_ultra</th>\n",
       "    </tr>\n",
       "  </thead>\n",
       "  <tbody>\n",
       "    <tr>\n",
       "      <th>0</th>\n",
       "      <td>85.0</td>\n",
       "      <td>516.75</td>\n",
       "      <td>56.0</td>\n",
       "      <td>22696.96</td>\n",
       "      <td>0</td>\n",
       "    </tr>\n",
       "    <tr>\n",
       "      <th>1</th>\n",
       "      <td>77.0</td>\n",
       "      <td>467.66</td>\n",
       "      <td>86.0</td>\n",
       "      <td>21060.45</td>\n",
       "      <td>0</td>\n",
       "    </tr>\n",
       "    <tr>\n",
       "      <th>2</th>\n",
       "      <td>106.0</td>\n",
       "      <td>745.53</td>\n",
       "      <td>81.0</td>\n",
       "      <td>8437.39</td>\n",
       "      <td>1</td>\n",
       "    </tr>\n",
       "    <tr>\n",
       "      <th>3</th>\n",
       "      <td>66.0</td>\n",
       "      <td>418.74</td>\n",
       "      <td>1.0</td>\n",
       "      <td>14502.75</td>\n",
       "      <td>0</td>\n",
       "    </tr>\n",
       "    <tr>\n",
       "      <th>4</th>\n",
       "      <td>58.0</td>\n",
       "      <td>344.56</td>\n",
       "      <td>21.0</td>\n",
       "      <td>15823.37</td>\n",
       "      <td>0</td>\n",
       "    </tr>\n",
       "  </tbody>\n",
       "</table>\n",
       "</div>"
      ],
      "text/plain": [
       "   calls  minutes  message   md_used  is_ultra\n",
       "0   85.0   516.75     56.0  22696.96         0\n",
       "1   77.0   467.66     86.0  21060.45         0\n",
       "2  106.0   745.53     81.0   8437.39         1\n",
       "3   66.0   418.74      1.0  14502.75         0\n",
       "4   58.0   344.56     21.0  15823.37         0"
      ]
     },
<<<<<<< HEAD
     "execution_count": 1265,
=======
     "execution_count": 3135,
>>>>>>> ef00fe43381872cb2ea1cf4c29bbbd5dd157e5c4
     "metadata": {},
     "output_type": "execute_result"
    }
   ],
   "source": [
    "df_tarific.head()"
   ]
  },
  {
   "cell_type": "code",
<<<<<<< HEAD
   "execution_count": 1266,
=======
   "execution_count": 3136,
>>>>>>> ef00fe43381872cb2ea1cf4c29bbbd5dd157e5c4
   "metadata": {},
   "outputs": [
    {
     "name": "stdout",
     "output_type": "stream",
     "text": [
      "<class 'pandas.core.frame.DataFrame'>\n",
      "RangeIndex: 3213 entries, 0 to 3212\n",
      "Data columns (total 5 columns):\n",
      " #   Column    Non-Null Count  Dtype  \n",
      "---  ------    --------------  -----  \n",
      " 0   calls     3213 non-null   float64\n",
      " 1   minutes   3213 non-null   float64\n",
      " 2   message   3213 non-null   float64\n",
      " 3   md_used   3213 non-null   float64\n",
      " 4   is_ultra  3213 non-null   int64  \n",
      "dtypes: float64(4), int64(1)\n",
      "memory usage: 125.6 KB\n"
     ]
    }
   ],
   "source": [
    "df_tarific.info()"
   ]
  },
  {
   "cell_type": "code",
<<<<<<< HEAD
   "execution_count": 1267,
=======
   "execution_count": 3137,
>>>>>>> ef00fe43381872cb2ea1cf4c29bbbd5dd157e5c4
   "metadata": {},
   "outputs": [
    {
     "data": {
      "text/html": [
       "<div>\n",
       "<style scoped>\n",
       "    .dataframe tbody tr th:only-of-type {\n",
       "        vertical-align: middle;\n",
       "    }\n",
       "\n",
       "    .dataframe tbody tr th {\n",
       "        vertical-align: top;\n",
       "    }\n",
       "\n",
       "    .dataframe thead th {\n",
       "        text-align: right;\n",
       "    }\n",
       "</style>\n",
       "<table border=\"1\" class=\"dataframe\">\n",
       "  <thead>\n",
       "    <tr style=\"text-align: right;\">\n",
       "      <th></th>\n",
       "      <th>calls</th>\n",
       "      <th>minutes</th>\n",
       "      <th>message</th>\n",
       "      <th>md_used</th>\n",
       "      <th>is_ultra</th>\n",
       "    </tr>\n",
       "  </thead>\n",
       "  <tbody>\n",
       "    <tr>\n",
       "      <th>count</th>\n",
       "      <td>3213.000000</td>\n",
       "      <td>3213.000000</td>\n",
       "      <td>3213.000000</td>\n",
       "      <td>3213.000000</td>\n",
       "      <td>3213.000000</td>\n",
       "    </tr>\n",
       "    <tr>\n",
       "      <th>mean</th>\n",
       "      <td>63.046063</td>\n",
       "      <td>438.248098</td>\n",
       "      <td>38.267351</td>\n",
       "      <td>17206.831089</td>\n",
       "      <td>0.306567</td>\n",
       "    </tr>\n",
       "    <tr>\n",
       "      <th>std</th>\n",
       "      <td>33.239054</td>\n",
       "      <td>234.595795</td>\n",
       "      <td>36.145338</td>\n",
       "      <td>7571.995923</td>\n",
       "      <td>0.461140</td>\n",
       "    </tr>\n",
       "    <tr>\n",
       "      <th>min</th>\n",
       "      <td>0.000000</td>\n",
       "      <td>0.000000</td>\n",
       "      <td>0.000000</td>\n",
       "      <td>0.000000</td>\n",
       "      <td>0.000000</td>\n",
       "    </tr>\n",
       "    <tr>\n",
       "      <th>25%</th>\n",
       "      <td>40.000000</td>\n",
       "      <td>274.530000</td>\n",
       "      <td>9.000000</td>\n",
       "      <td>12491.750000</td>\n",
       "      <td>0.000000</td>\n",
       "    </tr>\n",
       "    <tr>\n",
       "      <th>50%</th>\n",
       "      <td>62.000000</td>\n",
       "      <td>430.700000</td>\n",
       "      <td>30.000000</td>\n",
       "      <td>16942.030000</td>\n",
       "      <td>0.000000</td>\n",
       "    </tr>\n",
       "    <tr>\n",
       "      <th>75%</th>\n",
       "      <td>82.000000</td>\n",
       "      <td>572.030000</td>\n",
       "      <td>57.000000</td>\n",
       "      <td>21425.840000</td>\n",
       "      <td>1.000000</td>\n",
       "    </tr>\n",
       "    <tr>\n",
       "      <th>max</th>\n",
       "      <td>244.000000</td>\n",
       "      <td>1632.060000</td>\n",
       "      <td>224.000000</td>\n",
       "      <td>49745.730000</td>\n",
       "      <td>1.000000</td>\n",
       "    </tr>\n",
       "  </tbody>\n",
       "</table>\n",
       "</div>"
      ],
      "text/plain": [
       "             calls      minutes      message       md_used     is_ultra\n",
       "count  3213.000000  3213.000000  3213.000000   3213.000000  3213.000000\n",
       "mean     63.046063   438.248098    38.267351  17206.831089     0.306567\n",
       "std      33.239054   234.595795    36.145338   7571.995923     0.461140\n",
       "min       0.000000     0.000000     0.000000      0.000000     0.000000\n",
       "25%      40.000000   274.530000     9.000000  12491.750000     0.000000\n",
       "50%      62.000000   430.700000    30.000000  16942.030000     0.000000\n",
       "75%      82.000000   572.030000    57.000000  21425.840000     1.000000\n",
       "max     244.000000  1632.060000   224.000000  49745.730000     1.000000"
      ]
     },
<<<<<<< HEAD
     "execution_count": 1267,
=======
     "execution_count": 3137,
>>>>>>> ef00fe43381872cb2ea1cf4c29bbbd5dd157e5c4
     "metadata": {},
     "output_type": "execute_result"
    }
   ],
   "source": [
    "df_tarific.describe()"
   ]
  },
  {
   "cell_type": "markdown",
   "metadata": {},
   "source": [
    "Вывод: \n",
    "1. Пропущенных значений нет\n",
    "1. Типы столбцов в порядке\n",
    "1. Дубликатов нет"
   ]
  },
  {
   "cell_type": "markdown",
   "metadata": {},
   "source": [
    "Исследовательский анализ данных"
   ]
  },
  {
   "cell_type": "code",
<<<<<<< HEAD
   "execution_count": 1268,
=======
   "execution_count": 3138,
>>>>>>> ef00fe43381872cb2ea1cf4c29bbbd5dd157e5c4
   "metadata": {},
   "outputs": [
    {
     "data": {
      "text/plain": [
       "<Axes: >"
      ]
     },
<<<<<<< HEAD
     "execution_count": 1268,
=======
     "execution_count": 3138,
>>>>>>> ef00fe43381872cb2ea1cf4c29bbbd5dd157e5c4
     "metadata": {},
     "output_type": "execute_result"
    },
    {
     "data": {
      "image/png": "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",
      "text/plain": [
       "<Figure size 640x480 with 1 Axes>"
      ]
     },
     "metadata": {},
     "output_type": "display_data"
    }
   ],
   "source": [
    "df_tarific['calls'].hist()"
   ]
  },
  {
   "cell_type": "markdown",
   "metadata": {},
   "source": [
    "Данные в разрезе тарифов"
   ]
  },
  {
   "cell_type": "code",
<<<<<<< HEAD
   "execution_count": 1269,
=======
   "execution_count": 3139,
>>>>>>> ef00fe43381872cb2ea1cf4c29bbbd5dd157e5c4
   "metadata": {},
   "outputs": [
    {
     "data": {
      "image/png": "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",
      "text/plain": [
       "<Figure size 640x480 with 1 Axes>"
      ]
     },
     "metadata": {},
     "output_type": "display_data"
    }
   ],
   "source": [
    "df_tarific.query('is_ultra == 1')['calls'].hist(density=True)\n",
    "df_tarific.query('is_ultra == 0')['calls'].hist(density=True, alpha=0.6)\n",
    "\n",
    "plt.xlabel(\"Количество звонков\")\n",
    "plt.ylabel(\"Частота\")\n",
    "plt.legend(labels=[\"Ультра\", \"Смарт\"])\n",
    "plt.show()"
   ]
  },
  {
   "cell_type": "markdown",
   "metadata": {},
   "source": [
    "\n",
    "<div style=\"background-color: #c1b6fc; padding: 10px; border: 1px solid #a491fc;\">\n",
    "    <b>\n",
    "        <font color=\"purple\">Вывод: Исходя из полученных гистограмм, можно сделать вывод, что тариф \"Ультра\" является менее популярным чем тариф \"Смарт\". Однако пользователи тарифа \"Ультра\" проявляют наибольшую активность совершаемых звонков в сравнении с тарифом \"Смарт\".     </font>\n",
    "    </b>\n",
    "</div>"
   ]
  },
  {
   "cell_type": "markdown",
   "metadata": {},
   "source": [
    "<div class=\"alert alert-warning\">\n",
    "<b>а мне казалось что доля is_ultra 0.3 - это говорит о том, что ультра наоборот, не очень популярный. проверь формулировку выводов\n",
    "\n",
    "</b>\n",
    "</div>"
   ]
  },
  {
   "cell_type": "code",
<<<<<<< HEAD
   "execution_count": 1270,
=======
   "execution_count": 3140,
>>>>>>> ef00fe43381872cb2ea1cf4c29bbbd5dd157e5c4
   "metadata": {},
   "outputs": [
    {
     "data": {
      "image/png": "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",
      "text/plain": [
       "<Figure size 640x480 with 1 Axes>"
      ]
     },
     "metadata": {},
     "output_type": "display_data"
    }
   ],
   "source": [
    "df_tarific.query('is_ultra == 1')['minutes'].hist(density=True)\n",
    "df_tarific.query('is_ultra == 0')['minutes'].hist(alpha=0.6, density=True)\n",
    "\n",
    "plt.xlabel(\"Количество минут\")\n",
    "plt.ylabel(\"Частота\")\n",
    "plt.legend(labels=[\"Ультра\", \"Смарт\"])\n",
    "plt.show()"
   ]
  },
  {
   "cell_type": "markdown",
   "metadata": {},
   "source": [
    "\n",
    "<div style=\"background-color: #c1b6fc; padding: 10px; border: 1px solid #a491fc;\">\n",
    "    <b>\n",
    "        <font color=\"purple\"> Вывод: Схожая ситуация и с количеством потребляемых минут у пользователей тарифов \"Смарт\" и \"Ультра\". Пользователи тарифа \"Ультра\" проявляют высокую активность в использовании минут, несмотря на меньшую популярность самого тарифа. </font>\n",
    "    </b>\n",
    "</div>"
   ]
  },
  {
   "cell_type": "markdown",
   "metadata": {},
   "source": [
    "<div class=\"alert alert-warning\">\n",
    "<b>корреляция не всесильная штука, между категориальной переменной и количественной переменной вообще нельзя оценивать корреляцию:\n",
    "\n",
    "https://stats.stackexchange.com/questions/129585/is-there-a-correlation-index-for-binary-variable-vs-quantitative-variables\n",
    "\n",
    "https://www.codecamp.ru/blog/correlation-between-categorical-variables/\n",
    "</b>\n",
    "</div>"
   ]
  },
  {
   "cell_type": "code",
<<<<<<< HEAD
   "execution_count": 1271,
=======
   "execution_count": 3141,
>>>>>>> ef00fe43381872cb2ea1cf4c29bbbd5dd157e5c4
   "metadata": {},
   "outputs": [
    {
     "data": {
      "image/png": "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",
      "text/plain": [
       "<Figure size 640x480 with 1 Axes>"
      ]
     },
     "metadata": {},
     "output_type": "display_data"
    }
   ],
   "source": [
    "df_tarific.query('is_ultra == 1')['md_used'].hist(density=True) # Ультра \n",
    "df_tarific.query('is_ultra == 0')['md_used'].hist(alpha=0.6, density=True) # Смарт\n",
    "\n",
    "plt.xlabel(\"Количество потраченного трафика\")\n",
    "plt.ylabel(\"Частота\")\n",
    "plt.legend(labels=[\"Ультра\", \"Смарт\"])\n",
    "plt.show()"
   ]
  },
  {
   "cell_type": "markdown",
   "metadata": {},
   "source": [
    "\n",
    "<div style=\"background-color: #c1b6fc; padding: 10px; border: 1px solid #a491fc;\">\n",
    "    <b>\n",
    "        <font color=\"purple\">Вывод: Колличество потраченного интернет трафика говорит нам, что тариф \"Ультра\", имеет наибольшую интенсивность использования (Пик частоты приходиться на интервал от 10 до 30 гБ). Тариф \"Смарт\" по прежнему имеет большое колличиство пользователей, и пик частоты использования интернета приходиться на интервал от 10 до 20 гБ. </font>\n",
    "    </b>\n",
    "</div>"
   ]
  },
  {
   "cell_type": "markdown",
   "metadata": {},
   "source": [
    "<div class=\"alert alert-warning\">\n",
    "<b>а ультра при этом как себя ведут?\n",
    "</b>\n",
    "</div>"
   ]
  },
  {
   "cell_type": "code",
<<<<<<< HEAD
   "execution_count": 1272,
=======
   "execution_count": 3142,
>>>>>>> ef00fe43381872cb2ea1cf4c29bbbd5dd157e5c4
   "metadata": {},
   "outputs": [
    {
     "data": {
      "image/png": "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",
      "text/plain": [
       "<Figure size 640x480 with 1 Axes>"
      ]
     },
     "metadata": {},
     "output_type": "display_data"
    }
   ],
   "source": [
    "df_tarific.query('is_ultra == 1')['message'].hist(density=True) # Ультра \n",
    "df_tarific.query('is_ultra == 0')['message'].hist(alpha=0.6, density=True) # Смарт \n",
    "\n",
    "plt.xlabel(\"Количество сообщений\")\n",
    "plt.ylabel(\"Частота\")\n",
    "plt.legend(labels=[\"Ультра\", \"Смарт\"])\n",
    "plt.show()"
   ]
  },
  {
   "cell_type": "markdown",
   "metadata": {},
   "source": [
    "<div style=\"background-color: #c1b6fc; padding: 10px; border: 1px solid #a491fc;\">\n",
    "    <b>\n",
    "        <font color=\"purple\">Вывод: Исходя из данной гистограммы можно сделать вывод, что у пользователи тарифов \"Смарт\" и \"Ультра\" количество отправки собщений менее интенсивно в сравнении с другими предоставляемыми услугами. Пик частоты использование услуги приходятся на тариф \"Смарт\" от 0 до 50 сообщений, но у тарифа \"Ультра\" пик частоты приходиться от 0 - 100.     </font>\n",
    "    </b>\n",
    "</div>\n"
   ]
  },
  {
   "cell_type": "markdown",
   "metadata": {},
   "source": [
    "<div class=\"alert alert-warning\">\n",
    "<b>статистический критерий без текстового пояснения бесполезен - что ты тут считаешь? вообще хз.  по гистограмме можно сказать что пользователи ультра звонят больше\n",
    "</b>\n",
    "</div>"
   ]
  },
  {
   "cell_type": "markdown",
   "metadata": {},
   "source": [
    "<div class=\"alert alert-warning\">\n",
    "<b>здорово, что данные визуализировал - не хватает только выводов по графикам. хотя бы пару слов.</b>\n",
    "</div>"
   ]
  },
  {
   "cell_type": "code",
<<<<<<< HEAD
   "execution_count": 1273,
=======
   "execution_count": 3143,
>>>>>>> ef00fe43381872cb2ea1cf4c29bbbd5dd157e5c4
   "metadata": {},
   "outputs": [
    {
     "data": {
      "text/html": [
       "<div>\n",
       "<style scoped>\n",
       "    .dataframe tbody tr th:only-of-type {\n",
       "        vertical-align: middle;\n",
       "    }\n",
       "\n",
       "    .dataframe tbody tr th {\n",
       "        vertical-align: top;\n",
       "    }\n",
       "\n",
       "    .dataframe thead th {\n",
       "        text-align: right;\n",
       "    }\n",
       "</style>\n",
       "<table border=\"1\" class=\"dataframe\">\n",
       "  <thead>\n",
       "    <tr style=\"text-align: right;\">\n",
       "      <th></th>\n",
       "      <th>calls</th>\n",
       "      <th>minutes</th>\n",
       "      <th>message</th>\n",
       "      <th>md_used</th>\n",
       "      <th>is_ultra</th>\n",
       "    </tr>\n",
       "  </thead>\n",
       "  <tbody>\n",
       "    <tr>\n",
       "      <th>count</th>\n",
       "      <td>985.000000</td>\n",
       "      <td>985.000000</td>\n",
       "      <td>985.000000</td>\n",
       "      <td>985.000000</td>\n",
       "      <td>985.0</td>\n",
       "    </tr>\n",
       "    <tr>\n",
       "      <th>mean</th>\n",
       "      <td>73.392893</td>\n",
       "      <td>511.224569</td>\n",
       "      <td>49.363452</td>\n",
       "      <td>19468.823228</td>\n",
       "      <td>1.0</td>\n",
       "    </tr>\n",
       "    <tr>\n",
       "      <th>std</th>\n",
       "      <td>43.916853</td>\n",
       "      <td>308.031100</td>\n",
       "      <td>47.804457</td>\n",
       "      <td>10087.178654</td>\n",
       "      <td>0.0</td>\n",
       "    </tr>\n",
       "    <tr>\n",
       "      <th>min</th>\n",
       "      <td>0.000000</td>\n",
       "      <td>0.000000</td>\n",
       "      <td>0.000000</td>\n",
       "      <td>0.000000</td>\n",
       "      <td>1.0</td>\n",
       "    </tr>\n",
       "    <tr>\n",
       "      <th>25%</th>\n",
       "      <td>41.000000</td>\n",
       "      <td>276.030000</td>\n",
       "      <td>6.000000</td>\n",
       "      <td>11770.280000</td>\n",
       "      <td>1.0</td>\n",
       "    </tr>\n",
       "    <tr>\n",
       "      <th>50%</th>\n",
       "      <td>74.000000</td>\n",
       "      <td>502.550000</td>\n",
       "      <td>38.000000</td>\n",
       "      <td>19308.010000</td>\n",
       "      <td>1.0</td>\n",
       "    </tr>\n",
       "    <tr>\n",
       "      <th>75%</th>\n",
       "      <td>104.000000</td>\n",
       "      <td>730.050000</td>\n",
       "      <td>79.000000</td>\n",
       "      <td>26837.720000</td>\n",
       "      <td>1.0</td>\n",
       "    </tr>\n",
       "    <tr>\n",
       "      <th>max</th>\n",
       "      <td>244.000000</td>\n",
       "      <td>1632.060000</td>\n",
       "      <td>224.000000</td>\n",
       "      <td>49745.730000</td>\n",
       "      <td>1.0</td>\n",
       "    </tr>\n",
       "  </tbody>\n",
       "</table>\n",
       "</div>"
      ],
      "text/plain": [
       "            calls      minutes     message       md_used  is_ultra\n",
       "count  985.000000   985.000000  985.000000    985.000000     985.0\n",
       "mean    73.392893   511.224569   49.363452  19468.823228       1.0\n",
       "std     43.916853   308.031100   47.804457  10087.178654       0.0\n",
       "min      0.000000     0.000000    0.000000      0.000000       1.0\n",
       "25%     41.000000   276.030000    6.000000  11770.280000       1.0\n",
       "50%     74.000000   502.550000   38.000000  19308.010000       1.0\n",
       "75%    104.000000   730.050000   79.000000  26837.720000       1.0\n",
       "max    244.000000  1632.060000  224.000000  49745.730000       1.0"
      ]
     },
<<<<<<< HEAD
     "execution_count": 1273,
=======
     "execution_count": 3143,
>>>>>>> ef00fe43381872cb2ea1cf4c29bbbd5dd157e5c4
     "metadata": {},
     "output_type": "execute_result"
    }
   ],
   "source": [
    "df_tarific.query('is_ultra == 1').describe() # Ультра "
   ]
  },
  {
   "cell_type": "code",
<<<<<<< HEAD
   "execution_count": 1274,
=======
   "execution_count": 3144,
>>>>>>> ef00fe43381872cb2ea1cf4c29bbbd5dd157e5c4
   "metadata": {},
   "outputs": [
    {
     "data": {
      "text/html": [
       "<div>\n",
       "<style scoped>\n",
       "    .dataframe tbody tr th:only-of-type {\n",
       "        vertical-align: middle;\n",
       "    }\n",
       "\n",
       "    .dataframe tbody tr th {\n",
       "        vertical-align: top;\n",
       "    }\n",
       "\n",
       "    .dataframe thead th {\n",
       "        text-align: right;\n",
       "    }\n",
       "</style>\n",
       "<table border=\"1\" class=\"dataframe\">\n",
       "  <thead>\n",
       "    <tr style=\"text-align: right;\">\n",
       "      <th></th>\n",
       "      <th>calls</th>\n",
       "      <th>minutes</th>\n",
       "      <th>message</th>\n",
       "      <th>md_used</th>\n",
       "      <th>is_ultra</th>\n",
       "    </tr>\n",
       "  </thead>\n",
       "  <tbody>\n",
       "    <tr>\n",
       "      <th>count</th>\n",
       "      <td>2228.000000</td>\n",
       "      <td>2228.000000</td>\n",
       "      <td>2228.000000</td>\n",
       "      <td>2228.000000</td>\n",
       "      <td>2228.0</td>\n",
       "    </tr>\n",
       "    <tr>\n",
       "      <th>mean</th>\n",
       "      <td>58.471724</td>\n",
       "      <td>405.985162</td>\n",
       "      <td>33.361759</td>\n",
       "      <td>16206.803146</td>\n",
       "      <td>0.0</td>\n",
       "    </tr>\n",
       "    <tr>\n",
       "      <th>std</th>\n",
       "      <td>25.942730</td>\n",
       "      <td>184.543262</td>\n",
       "      <td>28.214621</td>\n",
       "      <td>5871.291048</td>\n",
       "      <td>0.0</td>\n",
       "    </tr>\n",
       "    <tr>\n",
       "      <th>min</th>\n",
       "      <td>0.000000</td>\n",
       "      <td>0.000000</td>\n",
       "      <td>0.000000</td>\n",
       "      <td>0.000000</td>\n",
       "      <td>0.0</td>\n",
       "    </tr>\n",
       "    <tr>\n",
       "      <th>25%</th>\n",
       "      <td>40.000000</td>\n",
       "      <td>274.130000</td>\n",
       "      <td>10.000000</td>\n",
       "      <td>12638.732500</td>\n",
       "      <td>0.0</td>\n",
       "    </tr>\n",
       "    <tr>\n",
       "      <th>50%</th>\n",
       "      <td>60.000000</td>\n",
       "      <td>410.605000</td>\n",
       "      <td>28.000000</td>\n",
       "      <td>16505.565000</td>\n",
       "      <td>0.0</td>\n",
       "    </tr>\n",
       "    <tr>\n",
       "      <th>75%</th>\n",
       "      <td>76.000000</td>\n",
       "      <td>529.515000</td>\n",
       "      <td>51.000000</td>\n",
       "      <td>20043.907500</td>\n",
       "      <td>0.0</td>\n",
       "    </tr>\n",
       "    <tr>\n",
       "      <th>max</th>\n",
       "      <td>198.000000</td>\n",
       "      <td>1390.220000</td>\n",
       "      <td>143.000000</td>\n",
       "      <td>38552.620000</td>\n",
       "      <td>0.0</td>\n",
       "    </tr>\n",
       "  </tbody>\n",
       "</table>\n",
       "</div>"
      ],
      "text/plain": [
       "             calls      minutes      message       md_used  is_ultra\n",
       "count  2228.000000  2228.000000  2228.000000   2228.000000    2228.0\n",
       "mean     58.471724   405.985162    33.361759  16206.803146       0.0\n",
       "std      25.942730   184.543262    28.214621   5871.291048       0.0\n",
       "min       0.000000     0.000000     0.000000      0.000000       0.0\n",
       "25%      40.000000   274.130000    10.000000  12638.732500       0.0\n",
       "50%      60.000000   410.605000    28.000000  16505.565000       0.0\n",
       "75%      76.000000   529.515000    51.000000  20043.907500       0.0\n",
       "max     198.000000  1390.220000   143.000000  38552.620000       0.0"
      ]
     },
<<<<<<< HEAD
     "execution_count": 1274,
=======
     "execution_count": 3144,
>>>>>>> ef00fe43381872cb2ea1cf4c29bbbd5dd157e5c4
     "metadata": {},
     "output_type": "execute_result"
    }
   ],
   "source": [
    "df_tarific.query('is_ultra == 0').describe() # Смарт "
   ]
  },
  {
   "cell_type": "markdown",
   "metadata": {},
   "source": [
    "<div style=\"background-color: #c1b6fc; padding: 10px; border: 1px solid #a491fc;\">\n",
    "<b>\n",
    "<font color=\"purple\">\n",
    "\n",
    "Заключение: Исходя из данных двух таблиц статистики для тарифов \"Ультра\" и \"Смарт\" можно сделать следующие выводы:\n",
    "\n",
    "1. Среднее количество звонков у пользователей тарифа \"Ультра\" выше - 73 звонка против 58 у \"Смарта\".\n",
    "\n",
    "2. Средняя длительность разговоров также больше для \"Ультра\" - 511 минут против 406 минут у \"Смарта\". \n",
    "\n",
    "3. Среднее количество sms сообщений выше у \"Ультра\" - 49 против 33 у \"Смарта\".\n",
    "\n",
    "4. Использованный интернет-трафик в среднем также интенсивнее используется абонентами \"Ультра\" - почти 19.5 Гб против 16.2 Гб.\n",
    "\n",
    "Таким образом, несмотря на меньшую абонентскую базу, пользователи тарифа \"Ультра\" используют услуги сотовой связи значительно интенсивнее в сравнении с тарифом \"Смарт\"\n",
    "\n",
    "</font>\n",
    "</b>\n",
    "</div>"
   ]
  },
  {
   "cell_type": "code",
<<<<<<< HEAD
   "execution_count": 1275,
=======
   "execution_count": 3145,
>>>>>>> ef00fe43381872cb2ea1cf4c29bbbd5dd157e5c4
   "metadata": {},
   "outputs": [
    {
     "data": {
      "text/plain": [
       "<Axes: >"
      ]
     },
<<<<<<< HEAD
     "execution_count": 1275,
=======
     "execution_count": 3145,
>>>>>>> ef00fe43381872cb2ea1cf4c29bbbd5dd157e5c4
     "metadata": {},
     "output_type": "execute_result"
    },
    {
     "data": {
      "image/png": "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",
      "text/plain": [
       "<Figure size 640x480 with 2 Axes>"
      ]
     },
     "metadata": {},
     "output_type": "display_data"
    }
   ],
   "source": [
    "sns.heatmap(df_tarific.query('is_ultra == 1').drop('is_ultra', axis=1).corr(), annot=True)"
   ]
  },
  {
   "cell_type": "code",
<<<<<<< HEAD
   "execution_count": 1276,
=======
   "execution_count": 3146,
>>>>>>> ef00fe43381872cb2ea1cf4c29bbbd5dd157e5c4
   "metadata": {},
   "outputs": [
    {
     "data": {
      "text/plain": [
       "<Axes: >"
      ]
     },
<<<<<<< HEAD
     "execution_count": 1276,
=======
     "execution_count": 3146,
>>>>>>> ef00fe43381872cb2ea1cf4c29bbbd5dd157e5c4
     "metadata": {},
     "output_type": "execute_result"
    },
    {
     "data": {
      "image/png": "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",
      "text/plain": [
       "<Figure size 640x480 with 2 Axes>"
      ]
     },
     "metadata": {},
     "output_type": "display_data"
    }
   ],
   "source": [
    "sns.heatmap(df_tarific.query('is_ultra == 0').drop('is_ultra', axis=1).corr(), annot=True)"
   ]
  },
  {
   "cell_type": "markdown",
   "metadata": {},
   "source": [
    "<div class=\"alert alert-warning\">\n",
    "<b>выводы?</b>\n",
    "</div>"
   ]
  },
  {
   "cell_type": "markdown",
   "metadata": {},
   "source": [
    "\n",
    "<div style=\"background-color: #c1b6fc; padding: 10px; border: 1px solid #a491fc;\">\n",
    "    <b>\n",
    "        <font color=\"purple\">\n",
    "Вывод: Смотря на матрицу корреляции, можно сказать, что наибольшая корреляция у параметров тарифов наблюдается между количеством звонков и минутами, и составляет около 0,97. В случае использования таких данных при моделировании возрастает вероятность переобучения моделей и снижается точность прогнозов на новых данных, поскольку модель может учитывать шумы и случайные флуктуации в обучающей выборке. \n",
    "Для решения этой проблемы необходимо будет: либо удалить или один, или другой столбец, либо воспользоваться расчетом VIF, либо метод PCA.\n",
    "\n",
    "  </font>\n",
    "    </b>\n",
    "</div>\n"
   ]
  },
  {
   "cell_type": "markdown",
   "metadata": {},
   "source": [
    "<div class=\"alert alert-warning\">\n",
    "<b>и что с этим делаем? это проблема?\n",
    "</b>\n",
    "</div>"
   ]
  },
  {
   "cell_type": "markdown",
   "metadata": {},
   "source": [
    "<div class=\"alert alert-info\">\n",
    "<b> смотри, звонки и минуты сильно скореллированы. можно попробовать стратегии: </b>\n",
    "\n",
    "1. удалить или один, или другой. чтобы понять какой удалить можно либо в тупую попробовать, либо воспользоваться расчетом VIF, либо каким нибудь PCA.\n",
    "\n",
    "2. объединить признаки - это называется feature engineering. то есть по сути придумать формулу, объединяющую эти два признака в один\n",
    "\n",
    "\n",
    "полезные статьи по теме:\n",
    "\n",
    "https://stats.stackexchange.com/questions/361020/why-is-multicollinearity-so-bad-for-machine-learning-models-and-what-can-we-do-a\n",
    "https://habr.com/ru/companies/akbarsdigital/articles/592493/\n",
    "https://medium.com/analytics-vidhya/removing-multi-collinearity-for-linear-and-logistic-regression-f1fa744f3666\n",
    "https://towardsdatascience.com/how-to-remove-multicollinearity-in-dataset-using-pca-4b4561c28d0b\n",
    "https://machinelearningmastery.com/information-gain-and-mutual-information/\n",
    "\n",
    "\n",
    "</div>"
   ]
  },
  {
   "cell_type": "markdown",
   "metadata": {},
   "source": [
    "# Разобьем данные на выборки"
   ]
  },
  {
   "cell_type": "code",
<<<<<<< HEAD
   "execution_count": 1277,
   "metadata": {},
   "outputs": [],
   "source": [
    "X = df_tarific.drop(columns=['is_ultra']) \n",
    "Y = df_tarific['is_ultra']"
   ]
  },
  {
   "cell_type": "code",
   "execution_count": 1278,
   "metadata": {},
   "outputs": [
    {
     "name": "stdout",
     "output_type": "stream",
     "text": [
      "Counter({0: 2228, 1: 985})\n"
     ]
    }
   ],
   "source": [
    "counter = Counter(Y)\n",
    "print(counter)"
   ]
  },
  {
   "cell_type": "code",
   "execution_count": 1279,
=======
   "execution_count": 3147,
>>>>>>> ef00fe43381872cb2ea1cf4c29bbbd5dd157e5c4
   "metadata": {},
   "outputs": [],
   "source": [
    "# from imblearn.under_sampling import RandomUnderSampler\n",
    "\n",
    "# if counter[1] < counter[0]:\n",
    "#     smote = SMOTE(random_state=42)\n",
    "#     X_resampled, Y_resampled = smote.fit_resample(X,Y)\n",
    "#     X,Y = X_resampled, Y_resampled\n",
    "\n",
    "# else:\n",
    "#     undersampler = RandomUnderSampler()\n",
    "#     X_resampled, Y_resampled = undersampler.fit_resample(X,Y)\n",
    "#     X,Y = X_resampled, Y_resampled\n",
    "\n",
    "# print(Counter(Y))"
   ]
  },
  {
   "cell_type": "markdown",
   "metadata": {},
   "source": [
    "Разделение на обучающий, валидационный и тестовый наборы"
   ]
  },
  {
   "cell_type": "code",
   "execution_count": 3148,
   "metadata": {},
   "outputs": [],
   "source": [
    "X_train, X_temp, y_train, y_temp = train_test_split(X , Y, test_size=0.33, random_state = RANDOM_SEED)"
   ]
  },
  {
   "cell_type": "code",
   "execution_count": 3149,
   "metadata": {},
   "outputs": [
    {
     "name": "stdout",
     "output_type": "stream",
     "text": [
      "Counter({0: 1487, 1: 665})\n",
      "Counter({1: 1487, 0: 1487})\n"
     ]
    }
   ],
   "source": [
    "counter = Counter(y_train)\n",
    "print(counter)\n",
    "\n",
    "if counter[1] < counter[0]:\n",
    "    smote = SMOTE(random_state=42)\n",
    "    X_train_resampled, y_train_resampled = smote.fit_resample(X_train, y_train)\n",
    "    print(Counter(y_train_resampled))\n",
    "else:\n",
    "    print(\"No need for resampling, classes are balanced.\")"
   ]
  },
  {
   "cell_type": "markdown",
   "metadata": {},
   "source": [
    "Проверка мультиколлинеарности"
   ]
  },
  {
   "cell_type": "code",
<<<<<<< HEAD
   "execution_count": 1280,
=======
   "execution_count": 3150,
>>>>>>> ef00fe43381872cb2ea1cf4c29bbbd5dd157e5c4
   "metadata": {},
   "outputs": [],
   "source": [
    "from statsmodels.tools.tools import add_constant\n",
    "from statsmodels.stats.outliers_influence import variance_inflation_factor\n",
    "\n",
    "def get_VIF(dataFrame, target):\n",
    "    data = add_constant(dataFrame.loc[:, dataFrame.columns != target])\n",
    "    seriesObject = pd.Series([variance_inflation_factor(data.values, i) for i in range(data.shape[1])], index=data.columns)\n",
    "    return seriesObject"
   ]
  },
  {
   "cell_type": "code",
<<<<<<< HEAD
   "execution_count": 1281,
=======
   "execution_count": 3151,
>>>>>>> ef00fe43381872cb2ea1cf4c29bbbd5dd157e5c4
   "metadata": {},
   "outputs": [
    {
     "name": "stdout",
     "output_type": "stream",
     "text": [
<<<<<<< HEAD
      "const       8.070889\n",
      "calls      28.285520\n",
      "minutes    28.162671\n",
      "message     1.057562\n",
      "md_used     1.115740\n",
=======
      "const       7.456770\n",
      "calls      34.267882\n",
      "minutes    34.133054\n",
      "message     1.060702\n",
      "md_used     1.126256\n",
>>>>>>> ef00fe43381872cb2ea1cf4c29bbbd5dd157e5c4
      "dtype: float64\n"
     ]
    }
   ],
   "source": [
<<<<<<< HEAD
    "vif_results = get_VIF(X, '')\n",
=======
    "vif_results = get_VIF(X_train_resampled, '')\n",
>>>>>>> ef00fe43381872cb2ea1cf4c29bbbd5dd157e5c4
    "print(vif_results)"
   ]
  },
  {
   "cell_type": "markdown",
   "metadata": {},
   "source": [
<<<<<<< HEAD
    "<div style=\"background-color: #c1b6fc; padding: 10px; border: 1px solid #a491fc;\">\n",
    "    <b>\n",
    "        <font color=\"purple\">\n",
    "Вывод: Полученные значения VIF (variance inflation factor) указывают на наличие существенной мультиколлинеарности между переменными \"calls\" (количество звонков) и \"minutes\" (количество минут разговоров). Их значения VIF превышают порог 10, что говорит о критическом уровне мультиколлинеарности.\n",
    "\n",
    "При этом переменные \"message\" и \"md_used\" имеют приемлемый уровень VIF около 1, что говорит об их независимости от остальных признаков.\n",
    "\n",
    "Таким образом для дальнейшего моделирования имеет смысл оставить только один из столбцов с высокой мультиколлинеарностью - \"calls\" или \"minutes\". Либо можно применить методы борьбы с мультиколлинеарностью вроде PCA или регуляризации. Но в любом случае совместное использование двух сильно коррелирующих предикторов негативно скажется на качестве и интерпретируемости модели.\n",
    "\n",
    "  </font>\n",
    "    </b>\n",
    "</div>"
   ]
  },
  {
   "cell_type": "markdown",
   "metadata": {},
   "source": [
=======
>>>>>>> ef00fe43381872cb2ea1cf4c29bbbd5dd157e5c4
    "<div class=\"alert alert-warning\">\n",
    "<b>ка где минуты? ты же их еще не удалял?\n",
    "</b>\n",
    "</div>"
   ]
  },
  {
   "cell_type": "markdown",
   "metadata": {},
   "source": [
<<<<<<< HEAD
=======
    "<div style=\"background-color: #c1b6fc; padding: 10px; border: 1px solid #a491fc;\">\n",
    "    <b>\n",
    "        <font color=\"purple\">\n",
    "Вывод: Полученные значения VIF (variance inflation factor) указывают на наличие существенной мультиколлинеарности между переменными \"calls\" (количество звонков) и \"minutes\" (количество минут разговоров). Их значения VIF превышают порог 8, что говорит о критическом уровне мультиколлинеарности.\n",
    "\n",
    "При этом переменные \"message\" и \"md_used\" имеют приемлемый уровень VIF около 1, что говорит об их независимости от остальных признаков.\n",
    "\n",
    "Таким образом для дальнейшего моделирования имеет смысл оставить только один из столбцов с высокой мультиколлинеарностью - \"calls\" или \"minutes\". Либо можно применить методы борьбы с мультиколлинеарностью вроде PCA или регуляризации. Но в любом случае совместное использование двух сильно коррелирующих параметров негативно скажется на точности модели.\n",
    "\n",
    "  </font>\n",
    "    </b>\n",
    "</div>"
   ]
  },
  {
   "cell_type": "markdown",
   "metadata": {},
   "source": [
>>>>>>> ef00fe43381872cb2ea1cf4c29bbbd5dd157e5c4
    "удаление высококоррелированных признаков с корреляцией более 0.9"
   ]
  },
  {
   "cell_type": "code",
<<<<<<< HEAD
   "execution_count": 1282,
=======
   "execution_count": 3152,
>>>>>>> ef00fe43381872cb2ea1cf4c29bbbd5dd157e5c4
   "metadata": {},
   "outputs": [],
   "source": [
    "corr_matrix = X_train_resampled.corr()\n",
    "high_corr_features = set()\n",
    "\n",
    "for i in range(len(corr_matrix.columns)):\n",
    "    for j in range(i):\n",
    "        if abs(corr_matrix.iloc[i, j]) > 0.9:\n",
    "            \n",
    "            colname_j = corr_matrix.columns[j]\n",
    "            high_corr_features.add(colname_j)\n",
    "\n",
    "X_train_resampled = X_train_resampled.drop(columns=high_corr_features)\n"
   ]
  },
  {
   "cell_type": "code",
<<<<<<< HEAD
   "execution_count": 1283,
=======
   "execution_count": 3153,
>>>>>>> ef00fe43381872cb2ea1cf4c29bbbd5dd157e5c4
   "metadata": {},
   "outputs": [
    {
     "data": {
      "text/html": [
       "<div>\n",
       "<style scoped>\n",
       "    .dataframe tbody tr th:only-of-type {\n",
       "        vertical-align: middle;\n",
       "    }\n",
       "\n",
       "    .dataframe tbody tr th {\n",
       "        vertical-align: top;\n",
       "    }\n",
       "\n",
       "    .dataframe thead th {\n",
       "        text-align: right;\n",
       "    }\n",
       "</style>\n",
       "<table border=\"1\" class=\"dataframe\">\n",
       "  <thead>\n",
       "    <tr style=\"text-align: right;\">\n",
       "      <th></th>\n",
       "      <th>minutes</th>\n",
       "      <th>message</th>\n",
       "      <th>md_used</th>\n",
       "    </tr>\n",
       "  </thead>\n",
       "  <tbody>\n",
       "    <tr>\n",
       "      <th>0</th>\n",
       "      <td>477.540000</td>\n",
       "      <td>0.000000</td>\n",
       "      <td>19090.740000</td>\n",
       "    </tr>\n",
       "    <tr>\n",
       "      <th>1</th>\n",
       "      <td>200.940000</td>\n",
       "      <td>34.000000</td>\n",
       "      <td>11627.130000</td>\n",
       "    </tr>\n",
       "    <tr>\n",
       "      <th>2</th>\n",
       "      <td>508.700000</td>\n",
       "      <td>21.000000</td>\n",
       "      <td>19254.670000</td>\n",
       "    </tr>\n",
       "    <tr>\n",
       "      <th>3</th>\n",
       "      <td>932.140000</td>\n",
       "      <td>6.000000</td>\n",
       "      <td>35497.910000</td>\n",
       "    </tr>\n",
       "    <tr>\n",
       "      <th>4</th>\n",
       "      <td>742.030000</td>\n",
       "      <td>81.000000</td>\n",
       "      <td>14996.510000</td>\n",
       "    </tr>\n",
       "    <tr>\n",
       "      <th>...</th>\n",
       "      <td>...</td>\n",
       "      <td>...</td>\n",
       "      <td>...</td>\n",
       "    </tr>\n",
       "    <tr>\n",
       "      <th>2969</th>\n",
       "      <td>326.973329</td>\n",
       "      <td>63.105478</td>\n",
       "      <td>19591.377195</td>\n",
       "    </tr>\n",
       "    <tr>\n",
       "      <th>2970</th>\n",
       "      <td>300.569658</td>\n",
       "      <td>6.602977</td>\n",
       "      <td>13697.254095</td>\n",
       "    </tr>\n",
       "    <tr>\n",
       "      <th>2971</th>\n",
       "      <td>1070.940647</td>\n",
       "      <td>66.175886</td>\n",
       "      <td>33581.988933</td>\n",
       "    </tr>\n",
       "    <tr>\n",
       "      <th>2972</th>\n",
       "      <td>198.761362</td>\n",
       "      <td>87.679714</td>\n",
       "      <td>25001.643371</td>\n",
       "    </tr>\n",
       "    <tr>\n",
       "      <th>2973</th>\n",
       "      <td>293.396077</td>\n",
       "      <td>20.083105</td>\n",
       "      <td>21735.748202</td>\n",
       "    </tr>\n",
       "  </tbody>\n",
       "</table>\n",
       "<p>2974 rows × 3 columns</p>\n",
       "</div>"
      ],
      "text/plain": [
       "          minutes    message       md_used\n",
       "0      477.540000   0.000000  19090.740000\n",
       "1      200.940000  34.000000  11627.130000\n",
       "2      508.700000  21.000000  19254.670000\n",
       "3      932.140000   6.000000  35497.910000\n",
       "4      742.030000  81.000000  14996.510000\n",
       "...           ...        ...           ...\n",
       "2969   326.973329  63.105478  19591.377195\n",
       "2970   300.569658   6.602977  13697.254095\n",
       "2971  1070.940647  66.175886  33581.988933\n",
       "2972   198.761362  87.679714  25001.643371\n",
       "2973   293.396077  20.083105  21735.748202\n",
       "\n",
       "[2974 rows x 3 columns]"
      ]
     },
<<<<<<< HEAD
     "execution_count": 1283,
=======
     "execution_count": 3153,
>>>>>>> ef00fe43381872cb2ea1cf4c29bbbd5dd157e5c4
     "metadata": {},
     "output_type": "execute_result"
    }
   ],
   "source": [
    "X_train_resampled"
   ]
  },
  {
   "cell_type": "code",
   "execution_count": 3154,
   "metadata": {},
   "outputs": [
    {
     "name": "stdout",
     "output_type": "stream",
     "text": [
      "const      7.414728\n",
      "minutes    1.103568\n",
      "message    1.060635\n",
      "md_used    1.121850\n",
      "dtype: float64\n"
     ]
    }
   ],
   "source": [
    "vif_results = get_VIF(X_train_resampled, '')\n",
    "print(vif_results)"
   ]
  },
  {
   "cell_type": "markdown",
   "metadata": {},
   "source": [
    "Масштабирование признаков  "
   ]
  },
  {
   "cell_type": "code",
<<<<<<< HEAD
   "execution_count": 1284,
=======
   "execution_count": 3155,
>>>>>>> ef00fe43381872cb2ea1cf4c29bbbd5dd157e5c4
   "metadata": {},
   "outputs": [],
   "source": [
    "scaler = StandardScaler()\n",
    "X_train_resampled = pd.DataFrame(scaler.fit_transform(X_train_resampled))"
   ]
  },
  {
   "cell_type": "code",
<<<<<<< HEAD
   "execution_count": 1285,
   "metadata": {},
   "outputs": [
    {
     "data": {
      "text/plain": [
       "array([[ 0.66058902,  0.49066933,  0.72516989],\n",
       "       [ 0.41987082,  1.32078107,  0.50900962],\n",
       "       [ 1.29247428,  1.18242911, -1.15832155],\n",
       "       ...,\n",
       "       [ 1.02166631,  0.87805481, -0.42700423],\n",
       "       [ 0.02870375,  1.43146263,  1.85355794],\n",
       "       [ 0.51014015, -0.89285024,  1.6211841 ]])"
      ]
     },
     "execution_count": 1285,
     "metadata": {},
     "output_type": "execute_result"
    }
   ],
   "source": [
    "X_scaled"
   ]
  },
  {
   "cell_type": "markdown",
   "metadata": {},
   "source": [
    "Разделение на обучающий, валидационный и тестовый наборы"
   ]
  },
  {
   "cell_type": "code",
   "execution_count": 1286,
   "metadata": {},
   "outputs": [],
   "source": [
    "X_train, X_temp, y_train, y_temp = train_test_split(X_scaled , Y, test_size=0.33, random_state = RANDOM_SEED)"
   ]
  },
  {
   "cell_type": "code",
   "execution_count": 1287,
   "metadata": {},
   "outputs": [],
   "source": [
    "X_valid, X_test, y_valid, y_test = train_test_split(X_temp, y_temp, test_size=0.5, random_state = RANDOM_SEED)"
=======
   "execution_count": 3156,
   "metadata": {},
   "outputs": [],
   "source": [
    "X_valid, X_test, y_valid, y_test = train_test_split(X_train_resampled, y_train_resampled, test_size=0.5, random_state = RANDOM_SEED)"
>>>>>>> ef00fe43381872cb2ea1cf4c29bbbd5dd157e5c4
   ]
  },
  {
   "cell_type": "markdown",
   "metadata": {},
   "source": [
    "<div class=\"alert alert-warning\">\n",
    "<b>дисбаланс классов? мультиколлинеарность? масштабирование признаков? все это может поднять тебе качество моделей</b>\n",
    "</div>"
   ]
  },
  {
   "cell_type": "markdown",
   "metadata": {},
   "source": [
    "#  Исследуем модели"
   ]
  },
  {
   "cell_type": "markdown",
   "metadata": {},
   "source": [
    "# Random Forest"
   ]
  },
  {
   "cell_type": "code",
<<<<<<< HEAD
   "execution_count": 1288,
=======
   "execution_count": 3157,
>>>>>>> ef00fe43381872cb2ea1cf4c29bbbd5dd157e5c4
   "metadata": {},
   "outputs": [],
   "source": [
    "best_RF = None\n",
    "best_accuracy_RF = 0\n",
    "best_est_RF = 0\n",
    "best_depth_RF = 0"
   ]
  },
  {
   "cell_type": "markdown",
   "metadata": {},
   "source": [
    "<div class=\"alert alert-info\">\n",
    "в ML постоянно могут мешать надоедливые warnings, это можно отключить так:"
   ]
  },
  {
   "cell_type": "code",
<<<<<<< HEAD
   "execution_count": 1289,
=======
   "execution_count": 3158,
>>>>>>> ef00fe43381872cb2ea1cf4c29bbbd5dd157e5c4
   "metadata": {},
   "outputs": [],
   "source": [
    "import warnings\n",
    "warnings.filterwarnings('ignore')"
   ]
  },
  {
   "cell_type": "code",
<<<<<<< HEAD
   "execution_count": 1290,
=======
   "execution_count": 3159,
>>>>>>> ef00fe43381872cb2ea1cf4c29bbbd5dd157e5c4
   "metadata": {},
   "outputs": [],
   "source": [
    "for est in range(2, 10):\n",
    "    for depth in range(2, 10):\n",
    "        \n",
    "        RF = RandomForestClassifier(random_state = RANDOM_SEED, n_estimators = est, max_depth = depth)\n",
    "        RF.fit( X_train_resampled, y_train_resampled)\n",
    "        \n",
    "        prediction_valid_RF = RF.predict(X_valid)\n",
    "        accuracy_RF = accuracy_score(prediction_valid_RF, y_valid)\n",
    "\n",
    "        if best_accuracy_RF < accuracy_RF:\n",
    "            best_RF = RF\n",
    "            best_depth_RF = depth\n",
    "            best_est_RF = est\n",
    "            best_accuracy_RF = accuracy_RF"
   ]
  },
  {
   "cell_type": "markdown",
   "metadata": {},
   "source": [
    "Результаты работы:"
   ]
  },
  {
   "cell_type": "code",
<<<<<<< HEAD
   "execution_count": 1291,
=======
   "execution_count": 3160,
>>>>>>> ef00fe43381872cb2ea1cf4c29bbbd5dd157e5c4
   "metadata": {},
   "outputs": [],
   "source": [
    "prediction_test_RF = best_RF.predict(X_test)"
   ]
  },
  {
   "cell_type": "markdown",
   "metadata": {},
   "source": [
    "Расчет accuracy и сравнение тестовых и валидационных значений "
   ]
  },
  {
   "cell_type": "code",
<<<<<<< HEAD
   "execution_count": 1292,
=======
   "execution_count": 3161,
>>>>>>> ef00fe43381872cb2ea1cf4c29bbbd5dd157e5c4
   "metadata": {},
   "outputs": [
    {
     "name": "stdout",
     "output_type": "stream",
     "text": [
      "Random Forest accuracy_score valid: 0.8244788164088769\n"
     ]
    }
   ],
   "source": [
    "print(f\"Random Forest accuracy_score valid: {best_accuracy_RF}\")"
   ]
  },
  {
   "cell_type": "code",
<<<<<<< HEAD
   "execution_count": 1293,
=======
   "execution_count": 3162,
>>>>>>> ef00fe43381872cb2ea1cf4c29bbbd5dd157e5c4
   "metadata": {},
   "outputs": [
    {
     "name": "stdout",
     "output_type": "stream",
     "text": [
      "Random Forest accuracy_score test: 0.8117014122394082\n"
     ]
    }
   ],
   "source": [
    "accuracy_RF_test = accuracy_score(prediction_test_RF, y_test)\n",
    "print(f\"Random Forest accuracy_score test: {accuracy_RF_test}\")"
   ]
  },
  {
   "cell_type": "markdown",
   "metadata": {},
   "source": [
    "f1_score"
   ]
  },
  {
   "cell_type": "code",
<<<<<<< HEAD
   "execution_count": 1294,
=======
   "execution_count": 3163,
>>>>>>> ef00fe43381872cb2ea1cf4c29bbbd5dd157e5c4
   "metadata": {},
   "outputs": [
    {
     "name": "stdout",
     "output_type": "stream",
     "text": [
      "Random Forest f1_score test: 0.8258764216068029\n"
     ]
    }
   ],
   "source": [
    "f1_score_RF_valid = f1_score(prediction_valid_RF, y_valid, average='weighted')\n",
    "print(f\"Random Forest f1_score test: {f1_score_RF_valid}\")"
   ]
  },
  {
   "cell_type": "code",
<<<<<<< HEAD
   "execution_count": 1295,
=======
   "execution_count": 3164,
>>>>>>> ef00fe43381872cb2ea1cf4c29bbbd5dd157e5c4
   "metadata": {},
   "outputs": [
    {
     "name": "stdout",
     "output_type": "stream",
     "text": [
      "Random Forest f1_score test: 0.8138906739702512\n"
     ]
    }
   ],
   "source": [
    "f1_score_RF_test = f1_score(prediction_test_RF, y_test, average='weighted')\n",
    "print(f\"Random Forest f1_score test: {f1_score_RF_test}\")"
   ]
  },
  {
   "cell_type": "markdown",
   "metadata": {},
   "source": [
    "\n",
    "<div style=\"background-color: #c1b6fc; padding: 10px; border: 1px solid #a491fc;\">\n",
    "    <b>\n",
    "        <font color=\"purple\">Вывод: \n",
    "\n",
    "Показатели точности:\n",
    "\n",
    "Точность на валидационной выборке составляет приблизительно 84.33%.\n",
    "Точность на тестовой выборке составляет приблизительно 84.06%.\n",
    "Модель показывает хорошую производительность как на валидационной, так и на тестовой выборке.\n",
    "\n",
    "Показатели F1:\n",
    "\n",
    "F1-мера на тестовой выборке составляет приблизительно 83.87%.\n",
    "F1-мера на валидационной выборке составляет приблизительно 84.24%.\n",
    "F1-скор на валидационной выборке выше, чем на тестовой выборк.\n",
    "\n",
    "Точность и F1-скор находятся на приемлемом уровне, что указывает на хорошую общую производительность модели.\n",
    "\n",
    " </font>\n",
    "    </b>\n",
    "</div>\n"
   ]
  },
  {
   "cell_type": "markdown",
   "metadata": {},
   "source": [
    "# Decision Tree"
   ]
  },
  {
   "cell_type": "code",
<<<<<<< HEAD
   "execution_count": 1296,
=======
   "execution_count": 3165,
>>>>>>> ef00fe43381872cb2ea1cf4c29bbbd5dd157e5c4
   "metadata": {},
   "outputs": [],
   "source": [
    "best_DT = None\n",
    "best_accuracy_DT = 0\n",
    "best_depth_DT = 0"
   ]
  },
  {
   "cell_type": "code",
<<<<<<< HEAD
   "execution_count": 1297,
=======
   "execution_count": 3166,
>>>>>>> ef00fe43381872cb2ea1cf4c29bbbd5dd157e5c4
   "metadata": {},
   "outputs": [],
   "source": [
    "for depth in range(2,10):\n",
    "    DT = DecisionTreeClassifier(random_state = RANDOM_SEED, max_depth = depth)\n",
    "    DT = DT.fit(X_train_resampled, y_train_resampled)\n",
    "    prediction_valid_DT = DT.predict(X_valid)\n",
    "    accuracy_DT = accuracy_score(prediction_valid_DT, y_valid)\n",
    "    if best_accuracy_DT < accuracy_DT:\n",
    "        best_DT = DT\n",
    "        best_accuracy_DT = accuracy_DT\n",
    "        best_depth_DT = depth"
   ]
  },
  {
   "cell_type": "markdown",
   "metadata": {},
   "source": [
    "Вывод "
   ]
  },
  {
   "cell_type": "code",
<<<<<<< HEAD
   "execution_count": 1298,
=======
   "execution_count": 3167,
>>>>>>> ef00fe43381872cb2ea1cf4c29bbbd5dd157e5c4
   "metadata": {},
   "outputs": [],
   "source": [
    "from sklearn import tree"
   ]
  },
  {
   "cell_type": "code",
<<<<<<< HEAD
   "execution_count": 1299,
=======
   "execution_count": 3168,
>>>>>>> ef00fe43381872cb2ea1cf4c29bbbd5dd157e5c4
   "metadata": {},
   "outputs": [
    {
     "data": {
<<<<<<< HEAD
      "image/png": "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",
=======
      "image/png": "iVBORw0KGgoAAAANSUhEUgAAAgcAAAGFCAYAAABpMVB1AAAAOXRFWHRTb2Z0d2FyZQBNYXRwbG90bGliIHZlcnNpb24zLjguMiwgaHR0cHM6Ly9tYXRwbG90bGliLm9yZy8g+/7EAAAACXBIWXMAAA9hAAAPYQGoP6dpAADkTklEQVR4nOydeVwTV/f/P1mAEBbZNxXFtWgFq1UU1Fq17vsCuNa2Vqt9ancfbbV20da22tpVq08XBRdQ0bpWq1aroKKo4IK7giIJhEXWACH394e/yTeEBJLJJJPgfb9evtQkc+6ZO+fOnDn33HMFhBACCoVCoVAolP+PkG8FKBQKhUKh2BbUOaBQKBQKhVIH6hxQKBQKhUKpA3UOKBQKhUKh1IE6BxQKhUKhUOpAnQMKhUKhUCh1oM4BhUKhUCiUOlDngEKhUCgUSh2oc0ChUCgUCqUO1DmgUCgUCoVSB+ocUCgUCoVCqQN1DigUCoVCodSBOgcUCoVCoVDqQJ0DCoVCoVAodaDOAYVCoVAolDpQ54BCoVAoFEodqHNAoVAoFAqlDtQ5oFAoFAqFUgfqHFAoFAqFQqkDdQ4oFAqFQqHUgToHFAqFQqFQ6kCdAwqFQqFQKHUQ860AhUKhGEN2djYUCgXr4318fBAcHMyhRhRK04U6BxQKxebJzs5GaGgoKioqWMuQSqXIzMykDgKFYgTUOaBQKDaPQqFARUUF4uPjERoaavLxmZmZmDZtGhQKBXUOKBQjoM4BhUKxG0JDQ9GtWzccOnQIUqkUXl5eIIQgICAAjo6OOHnyJAghKCwshK+vL4YMGcK3yhSKXUKdAwqFYncMGjQI+fn5SExMBCEEQ4cOhUQiwVNPPYWSkhIQQqhjQKGYAXUOKBSK3SEUCuHv74833nhD7/fh4eFW1ohCaVpQ54BCodg82omISUlJ8PX1RWFhIZRKJWQyGcLCwtC1a1eIxWKkpqairKwMLVq0gEgkQteuXflTnEKxUwSEEMK3EhQKhaJLRUUF9u/fj4SEBOzZswdVVVWYPn06evXqhcrKSnTv3h0ikQg3b96ESCRCVlYWWrVqhbZt2+LGjRvIz8+Hg4MDWrVqBaVSiWnTpmHYsGF47bXXMGTIEDg5OfF9ihSKzUKdAwqFYjNUVlbiwIEDSExMxJ49e1BRUYHu3bvjhRdewHfffYfKykrWsh0dHdG6dWvcuHED7u7uGDNmDKKjozF48GA4OjpyeBYUiv1DnQMKhcIrSqUSBw8e1EQIysrK0LVrV0RHR2PSpElo164dAO6KIF29ehXbtm1DQkICMjMz0axZM4wbNw7R0dEYOHAgdRQoFFDngEKh8EBVVRUOHTqExMRE/PnnnygtLUWXLl0QHR2N6OhodOjQweI6EEJw5coVJCYmIiEhATdu3ICnp6fGURgwYAAcHBwsrgeFYotQ54BCoViF6upqHD58GAkJCdi1axdKSkrQuXNnTYSATXEjriCE4NKlSxpH4datW/D29sb48eMRHR2N/v37Qyym+duUJwfqHFAoFItRU1ODI0eOIDExETt37kRxcTE6duyImJgYREdHo3PnznyrWA9CCC5evIjExEQkJibizp078PHxwYQJExATE4N+/fpBJBLxrSaFYlGoc0ChUDhFpVLhn3/+QWJiIpKSklBYWIj27dtrHIKnn34aAoGAbzWNghCC8+fPIyEhAYmJicjKyoK/vz8mTJiA6Oho9OnThzoKlCYJdQ4oFIrZqFQqHD9+XOMQKBQKtG3bVpNDEB4ebjcOgSEIITh79qwmonD//n0EBgZi4sSJiI6ORmRkJIRCId9qUiicQJ0DCoXCitraWpw4cQKJiYnYsWMH8vLy0Lp1a02E4JlnnrF7h8AQarUaZ86cQWJiIrZt24acnBwEBQVh0qRJiI6ORq9evaijQLFrqHNAoVCMRq1W4+TJk0hMTMT27dshl8sRHBysiRA8++yzTdYhMIRarcapU6c0jkJubi5atmypcRR69uz5xPUJxf6hzgGFQmkQfQ+/Fi1aYNKkSYiJiaEPPy30OU+tWrXS9FX37t1pX1HsAuocUCiUehBCcObMGSQkJNCwOUuYaZeEhATs2LED+fn5CAkJ0URZmvK0C8X+oc4BhUIBUDfhbtu2bcjOzkZAQIAm4S4qKoo6BCzRTtjcsWMHCgoKNAmbMTExCAsLo44CxaagzgGF8gTDLNVjMvDv3bsHPz8/jUNAl+pxT01NDY4dO4aEhAQkJSWhqKgIHTp00EQU7GmpJ6XpQp0DCuUJo6EiP9HR0XjuueeoQ2Al9BWJCg0N1TgKnTp14ltFyhMKdQ4olCcA7fLAiYmJuHnzJry8vDB+/HjExMTQ8sA2QHV1Nf7++28kJibWKy8dHR2Np556im8VKU8Q1DmgUJowV65c0VT3u379Ot1YyE7QtzFVWFiYxlFo37493ypSmjjUOaBQmhiZmZmaCMHVq1fRrFkzjB07FjExMXRLYjtEqVTir7/+QmJiInbv3o3y8nLNltbR0dFo27Yt3ypSmiDUOaBQmgA3btzQOASXLl2Cm5sbxo4di+joaLzwwgtwcnLiW0UKB1RWVuLAgQNITEzEnj17UFFRge7du2t2tgwJCeFbRUoTgToHFIqdcuvWLY1DkJ6eDldXV4wePRrR0dEYMmQIJBIJ3ypSLEh5eTn279+PxMRE7Nu3D5WVlejRo4fGUWjVqhXfKlLsGOocUCh2xJ07d7Bt2zYkJibi/PnzcHFxwahRoxAdHY2hQ4fC2dmZbxUpPFBWVoa9e/ciMTER+/fvR1VVFXr16oXo6GhMnDgRLVu25FtFip1BnQMKxcbJysrCtm3bkJCQgHPnzsHZ2RkjR45EdHQ0hg8fDqlUyreKFBuitLQUe/bsQWJiIg4cOIDq6mpERkYiJiYGEydORFBQEN8qUuwA6hxQKDbI/fv3NRGCM2fOQCKRYPjw4YiOjsbIkSPh4uLCt4oUO+DRo0fYvXs3EhMTcfDgQahUKvTp0wfR0dGYMGECAgMD+VaRYqNQ54BCsRFycnKwfft2JCYmIiUlBU5OThg2bJjGIXBzc+NbRYodU1xcjD///BMJCQn4+++/UVtbi379+iEmJgbjx4+Hv78/3ypSbAjqHFAoPJKbm6txCE6ePAlHR0cMGTIE0dHRGD16NNzd3flWkdIEKSwsxK5du5CYmIjDhw+DEIL+/fsjOjoa48ePh6+vL98qUniGOgcUipWRy+XYsWMHEhMT8e+//0IkEmHw4MGIiYnB6NGj4eHhwbeKlCcIhUKBXbt2ISEhAUePHoVAIMCAAQMQHR2NcePGwdvbm28VKTxAnQMKxQrk5+cjKSkJCQkJOH78OIRCIQYNGoTo6GiMHTsWnp6efKtIoWjsNDExEceOHYNAINDY6bhx46idPkFQ54BCsRAFBQWaG+0///wDABgwYABiYmIwduxY+kZGsWl0I1xisRgvvPACoqOjMWbMGBrhauJQ54BC4RB9c7nPP/+85s2LzuVS7JHc3FyNo3Dy5EmIxWIMGTJEMxVGc2OaHtQ5oFDM5MKFC1i9ejXy8/M1WeDPPfecZrmYn58f3ypSKJyhb1XN0KFDNYW4PD09IRAI+FaTYibUOaA8cWRnZ0OhULA+3sfHB8HBwZr/BwYGQiaToXfv3pg6dSomTJiAgIAALlSlUGya+/fvaxyF06dPAwDc3NxQXFwMoVCo+R2bMac7zijWhToHlCeK7OxshIaGoqKigrUMqVSKzMxMzY0rLS0NN2/eRExMDH1jojyxZGVlYfDgwRCLxbh06ZLGOWA75nTHGcW6iPlWgEKxJgqFAhUVFYiPj0doaKjJx2dmZmLatGlQKBSam1b37t3RvXt3rlWlUOyKVq1a4fr16/U+ZzPm9I0zinWhzgHliSQ0NBTdunXDoUOH4OXlBaVSCU9PTwQEBMDR0REZGRkghODOnTvw9/fHkCFD+FaZQrFrQkNDoVAoIJVK4eXlBUJInfFWW1sLkUgEpVLJynGncIuw8Z9QKE2XQYMG4fTp0/jnn3/g4OCA8vJyKBQKuLq6oqqqCk5OTnB0dORbTQqlSZCbm4vjx4+jsLAQbm5uKCkpwZ07d6BUKpGbmwuRSISBAwfyrSYFNHJAecIRCoX4z3/+w7caFMoTwYsvvsi3ChQjoc4B5YklKSkJvr6+KCwshFKphEwmQ1hYGLp27QqxWIzU1FRUVVXBw8MDUqkUXbt25VtlCsVuOXr0KMrLyw2Ot3///RdlZWVo374936pSQJ0DyhNKUlISqqqqEBISgsrKSnTv3h1BQUG4efMmsrOzUV1djYqKCnTv3h3Xrl1DcXExzp07h7y8PL5Vp1DskuLiYuzevbvOmBOJRNixYwccHBwQEhKCBw8e4MSJE7h16xbf6j7xUOeA8sRQUVGBHTt2QCQSYfny5azlODg4oLi4mDvFKJQmjI+PDyQSicljztnZGT4+PhbSitIY1DmgNHmqqqqwfv16LF++HAqFAjExMZg6darJhYpUKhX27NmDX3/9FS+88AKmT5+Ojz76CG3atLGQ5hSKfaNUKvHll19CqVRi8ODBWLx4MVxcXBo85tixY1i6dCk8PT2Rl5dHlzLyBaFQmijV1dVk/fr1pGXLlkQoFJIZM2aQ27dvmy1XqVSSH374gQQEBBCxWEzmzJlD7t+/z4HGFErT4datW6Rbt27E0dGRrFmzhqjVaqOPvXPnDunRowdxdHQkP/zwg0nHUriBOgeUJodKpSLx8fGkXbt2BACJjo4mV69e5byd8vJy8tVXXxFvb2/i5ORE3nrrLSKTyThvh0KxN7Zv307c3d1J27Ztyfnz51nJUCqVZP78+QQAmTRpEikuLuZYS0pDUOeA0mSora0l27dvJ506dSIAyOjRo8nFixct3u6jR4/Ip59+Stzd3YlUKiULFy4kBQUFFm+XQrE1qqqqNA/0iRMncvJA58LRoJgOdQ4odo9arSb79u0jzzzzDAFABg8eTM6cOWN1PQoKCsgHH3xAXFxciLu7O/nkk0/Io0ePrK4HhcIHd+/eJT169CAODg6cTwUwUxROTk4mT1FQ2EGdA4pdc+TIEdK7d28CgPTt25ccP36cb5WIXC4nb7/9NnFyciJeXl7kyy+/JGVlZXyrRaFYjF27dhEPDw8SEhJCzp49a5E2Kisrybx58wgAEhsbS0pKSizSDuUx1Dmg2CXJycnk+eefJwBIjx49yMGDB23ubeLBgwdk7ty5xMHBgfj7+5PvvvuOVFZW8q0WhcIZ1dXV5J133iEAyLhx40hRUZHF29y6dStxc3MjHTp0IOnp6RZv70mFOgcUu+LcuXNk2LBhBADp0qUL2bVrl805BbrcuXOHvPTSS0QoFJIWLVqQX375hVRXV/OtFoViFllZWaRXr15ELBaTb7/91qrj8MaNGyQ8PJxIJBKyfv16m78H2CPUOaDYBZcuXSLjx48nAEjHjh3J1q1bSW1tLd9qmcS1a9dIbGwsAUDatGlDNm7cSFQqFd9qUSgms2fPHuLp6UmCg4PJ6dOnedGhoqKCzJ49mwAg06ZNI6Wlpbzo0VShzgHFprlx4waZMmUKEQgEpHXr1uSPP/4gNTU1fKtlFunp6WTs2LEEAAkNDSWJiYl25+hQnkyqq6vJ+++/TwCQUaNG2cSqnE2bNhEXFxfy1FNPkUuXLvGtTpOBOgcUm+Tu3bvk5ZdfJiKRiDRv3pysXbuWVFVV8a0Wp6SmppKhQ4cSAKRr165kz549NDxKsVnu379PoqKiiEgkIl9//bVN2WpmZiZ5+umnibOzM/n999/5VqdJQJ0Dik2Rk5ND5s2bRxwcHIivry/59ttvm3wS34kTJ8hzzz1HAJCIiAjy999/29SNl0I5cOAA8fb2Ji1atCDJycl8q6OX8vJy8vLLLxMAZObMmaS8vJxvlewa6hxQbIK8vDzy7rvvEolEQjw9PckXX3zxRM0hqtVq8vfff5OIiAgCgDz33HPkxIkTfKtFecKpqakhH3zwAQFAhg0bRvLz8/lWqVE2bNhApFIp6dy5s0Uqoz4pUOeAwiuFhYXkww8/JC4uLsTNzY189NFHT3SZVLVaTfbs2UPCw8MJADJkyBCSmprKt1qUJ5CcnBzSr18/IhKJyBdffGFXeTFXrlwhnTp1IlKplMTFxfGtjl1CnQMKL5SUlJBly5YRDw8P4uzsTBYsWGAXbyXWora2lmzbto2EhoYSAGTMmDEkIyODb7UoTwiHDh0ivr6+JCgoiPz77798q8OKsrIyMmPGDAKAzJo1i1RUVPCtkl1BnQOKVamoqCArV64kPj4+xNHRkcyfP5/k5ubyrZbNolKpSFxcHGnTpg0RCAQkNjaWXLt2jW+1KE0UlUpFlixZQgQCARk8eDCRy+V8q2QWarWa/Prrr0QikZAuXbrQsWMC1DmgWAWlUkl+/PFHEhgYSMRiMZk9ezbJzs7mWy27obq6mqxbt460aNGCCIVCMnPmTHLnzh2+1aI0IXJzc8nzzz9PhEIhWbZsmV1NIzRGRkYG6dixI3F1dSWbN2/mWx27gDoHFItSU1ND/ve//5Hg4GAiEAjI9OnTya1bt/hWy26prKwk33//PfH39ydisZi89tpr5P79+3yrRbFzjhw5Qvz9/UlAQAD5559/+FbHIpSUlJApU6YQAOS1115r8qugzIU6BxSLoFKpyKZNm0i7du00+7FfuXKFb7WaDOXl5eSrr74iXl5exMnJibz99tt2HwKmWB+VSkU++eQTIhQKycCBA4lMJuNbJYuiVqvJL7/8QpycnEjXrl3JzZs3+VbJZqHOAYVT1Go12bFjB+ncubOmitqFCxf4VqvJ8ujRI/LJJ58Qd3d3IpVKyaJFi2yiah3F9pHL5WTQoEFEIBCQjz/++Ikq5X3hwgXSrl074ubmRhITE/lWxyahzgGFE9RqNdm3bx/p1q0bAUBeeOEF3mquP4kUFBSQRYsWEalUStzd3cknn3xCHj16xLdaFBvl2LFjJDAwkPj5+ZHDhw/zrQ4vPHr0iERHRxMA5PXXXydKpZJvlWwK6hxQzObIkSOkd+/eBADp06cPOXbsGN8qPbHI5XLy9ttvEycnJ+Ll5UW+/PJLUlZWxrdaFBuhtraWLF++nAiFQtK/f3/y8OFDvlXiFbVaTX7++Wfi6OhIunfvTm7fvs23SjYDdQ4orElOTiYDBgwgAMizzz5L/vrrL1r210Z48OABmTt3LhGLxcTf3598//339M3oCSc/P58MHTqUCAQCsnjxYrvfwIxL0tLSSJs2bUizZs1IUlIS3+rYBNQ5oJhMWloaGT58OAFAunTpQnbt2kWdAhvlzp07ZObMmUQoFJKWLVuSdevWkerqar7VoliZkydPkubNmxMfHx/y119/8a2OTVJcXEwmTJhAAJA333yzyW30ZirUOaAYzaVLl8j48eMJANKhQweydevWJrUWuilz7do1EhsbSwCQNm3akI0bNz5RCWhPKrW1teTLL78kIpGI9O3blzx48IBvlWwatVpNvv/+e+Lg4EB69uxJ7t69y7dKvEGdA0qD1NbWkr1795IpU6YQgUBAWrduTX7//XcakrRT0tPTydixYwkAEhoaShITE2lZ2SbK/fv3CQACgCxcuJCOWRNITU0lrVq1IgDI7Nmz+VaHF4SgUBrgpZdewsiRI3Ho0CH8/PPPuH79OmbOnAmxWMy3ahQWhIWFYefOnUhNTUWrVq0QHR0NqVSKEydO8K0ahWMuXboEAJg+fTq++OILOmZNoEePHjh69CgAIC0tjWdt+IFaC6VBBg8ejHv37mHDhg1o3bo13+pQOKJHjx44cOAAli1bhi+//BIlJSV8q0ThmGHDhoEQwrcadkubNm2e6P4TkCf57Jsw2dnZUCgUrI718fFBcHAwxxpR7Am29kNth3vYXAt6HbjnSRsTNHLQBMnOzkZoaCgqKipYHS+VSpGZmWmXBk0xH3Psh9oOt7C9FvQ6cMuTOCaoc9AEUSgUqKioQHx8PEJDQ006NjMzE9OmTYNCobA7Y6ZwA1v7obbDPWyuBb0O3PMkjgmakNiECQ0N1Ri1RCKBk5MTWrVqhfbt20MkEsHHxwelpaUoLS0FAHTr1s1kZ4LSdGnIfuRyOcRiMeRyOXJzc6ntWBjmWqjValRUVNS7FnK5HA8ePEBlZSW9DhaEuQ41NTVwcnLSe0+9efMmCCFwcXGx62tBnYMmzqBBg3Dx4kXs2LEDDg4OKC8v18yb3bx5EyUlJXB3d0e3bt141pRiixiyn6CgIOTn50OtVmPEiBF8q/lEkJubi4MHDwIA3NzcUFJSgjt37kAoFKK6uhre3t6IioriWcumT25uLg4fPoyioqI616GsrAwXLlxAixYt0L17d3Ts2JFvVc2CTis0cYRCIf7zn//wrQbFTqH2Yzu8+OKLej8PDw+3siZPNoauQ1ODOgdNnKSkJPj6+qKwsBBKpRIymQxhYWHo2rUrxGIxUlNTIRaLIRaL4ePjw7e6FBvi6NGjKC8vb9B2lEol3Nzc0K9fP77VbdIYcy0UCgVatWoFR0dHvtVtshhzHWQyGdq2bYtevXrxra5ZUOegCZOUlISqqiqEhISgsrIS3bt3R1BQEG7evIns7GwAj0Nkffr0wYkTJ+Dn54e7d+/yrDXFViguLsbu3bvr2I9IJMLhw4ehVqs1tuTo6Ijz58+jpqaGb5WbLIauxZ9//omHDx+iT58+KC8vx7Fjx1BYWMi3uk0WQ9dh586dkEqlaN68OUpLS3H9+nUcO3YMIpGIb5VZQ52DJoZKpcJff/0FkUiE5cuXs5Lh6OgIiUTCsWYUe8HHxwdSqZSV/UilUhqB4hC218LZ2ZleBw55EscELYLUhDh06BDeffddXL58GRMmTMCsWbPg5+dn9PEVFRXYsGED4uLi4OHhgWXLluGll16ya++Xwg59BV/+/vtvLFy4EO7u7vjnn3/0HmevBV9sFUII3nzzTfzwww+YOnUq3nrrLQiF+vPI09PTMX/+fAQGBmLTpk3o0aOHlbVt2miPic8++wz//PMP/vzzT7i5uQEANmzYgJ9++gnbtm1Dq1atNMfZ7Zjgb1sHCldkZmaSESNGEACkT58+5OzZs2bJy87OJlOnTiUASHh4ODl69ChHmlLsme+//56IRCICgG77bAVqamrIq6++SgCQr776yqhjLl++TJo3b05CQkLIjRs3LKzhk8nly5eJUCgk3333XZ3PKysrSXBwMBk/fjxPmnELdQ7sGIVCQd544w0iFotJSEgI2bZtG1Gr1ZzJP336NOnVqxcBQMaMGUNvNk84H374IfH19SUASE5ODt/qNGkqKyvJ2LFjiUgkIn/88YdJx2ZlZZGOHTsSX19fcu7cOQtp+OQyYsQI0qZNG1JVVVXvu40bNxIAJDk5mQfNuIU6B3ZIdXU1Wb16NfH09CRubm7kyy+/JJWVlRZpS61Wky1btpDg4GDi4OBA3nnnHVJUVGSRtii2zSuvvEI6depEAJC0tDS+1WmyFBUVkX79+hFnZ2eyZ88eVjLy8/NJREQEcXV1JX///TfHGj65HD16lAAgCQkJer+vra0lXbt2JZGRkZy+qPEBdQ7sCLVaTXbv3k06dOhAhEIhmT17NpHJZFZpu6Kigixfvpy4uLgQb29v8uOPP9L94Z8wRo4cSQYOHEgAkP379/OtTpMkJyeHdOnShXh6epr99llWVkaGDRtGHBwcyNatWznS8MmltraWPPvss6Rnz54NPvj//vtvAoAkJSVZUTvuoc6BnZCenq65MQ8aNIhkZGTwosfDhw/Jyy+/TAQCAQkNDSUHDhzgRQ+K9enRowd56aWXCADy22+/8a1Ok+P69eukdevWpEWLFuTKlSucyKyuribTpk0jAoGA/PDDD5zIfFLZvHkzAUCOHz/e6G+HDBlC2rdvb9e5ObR8so0jl8sxZ84cPPPMM7h//z727NmDQ4cOoUuXLrzoExgYiF9//RVpaWnw9/fHsGHDMGzYMFy9epUXfSjWQyaTISgoCF5eXpDL5Xyr06Q4e/YsoqKi4OzsjJSUFHTq1IkTuQ4ODtiwYQPeeecdvPHGG1iyZAkIXaBmMlVVVfjggw8wevRoowp+ffnll7h16xbWr19vBe0sBN/eCUU/lZWVZMWKFcTNzY14enqS1atX25wXqlaryc6dO0nbtm2JSCQi8+bNI/n5+XyrRbEAarWaODo6ku+//56EhoaSt956i2+VmgyHDh0iLi4upFevXkShUFisna+++ooAILNmzaJTgibyzTffEKFQSK5evWr0MS+++CLx9fUlJSUlFtTMclDnwMZQq9Vk27ZtJCQkhIjFYjJ//nxSUFDAt1oNolQqycqVK0mzZs1Is2bNyKpVq/Rm8lLsl6KiIgKAJCYmkv79+5PY2Fi+VWoSbN68mTg4OJDhw4eTsrIyi7f3xx9/EJFIRMaOHUsqKios3l5ToLCwkHh6epLZs2ebdFx2djaRSCRkyZIlFtLMslDnwIY4e/Ys6du3LwFARo4cSa5du8a3SiaRl5dH5s2bR0QiEWnXrh3ZuXOn3WfsUh6TmZmpmW+NjY0lzz//PN8q2T2rV68mAMiMGTOsGhXcu3cvcXZ2Jn379qUrj4zg/fffJy4uLiQ3N9fkYxcuXEikUqldLv2lzoEN8ODBAzJjxgwCgDz99NPk0KFDfKtkFpcvXyZDhgwhAEj//v3JhQsX+FaJYibHjh0jAMi1a9fIm2++SUJDQ/lWyW5Rq9Vk0aJFBAB5//33eXGgU1JSiKenJ+nSpYtdPrisRVZWFnFyciJLly5ldXxxcTHx9vYms2bN4lYxK0CdAx4pLy8nn3zyCZFKpcTX15esXbu2Sc0F7t+/n4SGhhKBQEBefvllVp43xTZISEggAEhRURH54osviJeXF98q2SU1NTXklVdeIQDIypUredXlypUrpEWLFqRVq1bk+vXrvOpiq0yfPp34+/ublTewevVqIhQKyeXLlznUzPJQ54AHamtrSVxcHGnRogVxdHQk77//PikuLuZbLYtQXV1NfvzxR+Ll5UVcXV3J8uXL6VynHfLdd98RJycnolaryW+//UYA0LwSE6moqCCjR48mYrGYbNy4kW91CCGP58VDQ0OJj48PSU1N5Vsdm+L8+fNEIBCQNWvWmCWnqqqKtGnThowcOZIjzawDdQ6sTHJyMunRowcBQCZMmEBu377Nt0pWobCwkLz99ttELBaT4OBgsmXLFpqPYEd88MEHJDg4mBBCyL59+wgAcv/+fZ61sh8KCwtJnz59iFQqtbkCUgUFBaR3797ExcXF7qc0uUKtVpNBgwaRjh07cpIPsnXrVgKA/PPPP+YrZyWoc2Al7t27R2JiYggA0q1bN6MKaTRFbty4QcaMGUMAkMjISHLmzBm+VaIYwSuvvEJ69uxJCCEkLS2NAKB1+43kwYMH5Omnnybe3t7k9OnTfKujl/LycjJixAji4OBANm/ezLc6vPPXX38RAGTnzp2cyFOr1aRHjx7k2WefJbW1tZzItDTUObAwJSUlZNGiRcTJyYkEBgaSP/74w26Mw5IcOXKEhIeHEwBk6tSpJDs7m2+VKA0wYsQIMmrUKELI44cdALJ3716etbJ9MjMzSXBwMGnZsiXJzMzkW50Gqa6uJi+++CIBQFavXs23OryhUqlIWFgY6dOnD6fRTSapd8uWLZzJtCTUObAQKpWKrF+/nvj7+2vWupaWlvKtlk2h3UfOzs60j2yYZ599lrz66quEkMcPEQDk119/5Vkr2+bMmTPE29ubdOrUyW6mYNRqNVmwYAEBQBYtWvRETv398ccfBAA5deoU57JHjRpFQkJCiFKp5Fw211DnwAIcPXqUvhWbgHZ0JSgoiEZXbJCWLVuSxYsXa/7v7e1NPv/8cx41sm0OHDhApFIpiYyMtPkiZvpYtWoVAUBefvnlJrWCqjEqKipIixYtyMSJEy0i/8qVK0QoFJJvv/3WIvK5hDoHHKI9n967d2+bnV+0Ve7evavJy+jevTv5999/+VaJQv6vdLL2xj2dOnUi8+fP51Er2yU+Pp6IxWIycuRIUl5ezrc6rImLiyNisZiMGjXKrs/DFL744gsiFovJjRs3LNbG7NmziZeXl80XoKLOAQcwmfgODg40E58DTp48+USu6LBVCgsLCQCybds2zWcDBgwgMTExPGplm3zzzTcEAHnppZeaxBs3EwGJiooihYWFfKtjUfLz84m7uzt54403LNrOw4cPiVQqJQsWLLBoO+ZCnQMzqKmpIT/++CPx9vama/g5hqkF0bx5c+Lo6EgWLFhAHj16xLdaTyRXr14lAOpEciZPnkyee+45/pSyMbTn6hcuXNikXg5Onz5NvL29SefOncmDBw/4VsdivPnmm8TNzY3k5eVZvK2PPvqIODk5kaysLIu3xRbqHLBEt/rfw4cP+VapSdLUq0jaA//88w8BUKeK3ltvvUWeeuopHrWyHWpqasjMmTMJALuYS2YDs+oiODjY5lddsOHWrVvEwcGBLF++3CrtlZSUED8/PzJjxgyrtMcG6hyYiO6+AefPn+dbpSeCprb/hD3BFHDRjtysWLGCeHp68qiVbVBeXk5GjhxJxGIx2bRpE9/qWJT79++Tzp0723S9BrbExMSQ5s2bWzW34ueffyYCgcBm956hzoGR5Ofna3YcbNu2Ld1xkCfOnj1L+vTpY7c7V9ojI0eOJADqLDP9/fffCQC7WJJlKQoKCkhkZCRxcXEhBw8e5Fsdq1BYWEiioqKIVColBw4c4FsdTti5cycBQH777TertltdXU06duxIoqKiSGVlpVXbNgbqHDRCVVUVWblyJWnWrBlp1qwZWbly5RN9Q7QF1Go12bZtG2ndujURi8Vk/vz5drlczF6IiIggAEhZWZnmsz179hAAFs3qtmUOHTpEOnbsSLy9vZ+4Kp/l5eVk1KhRRCwWk48//tjup/kAEABEpVJZve2PP/6YALDJlT/UOTBAWVkZef3110mbNm2ISCQi8+bNs0qiCsV4KisryYoVK4ibmxvx9PQkL774Irl37x7fajU5KioqyN27d+t89sknnxAAZMmSJfwoxSPM6g2BQPDERq5qamrIsGHDCAAyZ84cvtUxi4EDB5IVK1bw0nZxcTHp0aMHSUxM5KX9hhAQQggo9Zg6dSo2b96M8PBwbNq0CZ07d+ZbJYoB5HI53nnnHWzevBnt27fHjRs3+FapyVNYWIhRo0Zh69ataNmyJd/qWJWqqioMHz4cc+bMQXR0NN/q8EZxcTEmT56MmTNnIiYmhm91KBxDnQMDXL16FYmJiViwYAGkUinf6lAaQa1W46effkL79u0xdOhQvtWhUCgUu6ZJOgfZ2dlQKBSsjvXx8UFwcDDHGlH4gNqBabDpL3vvJ7Y2Yu/nbQlM6Utr9J892LOpOlpTP7FVWrEi2dnZCA0NRUVFBavjpVIpMjMz6cC3c6gdmAbb/rLnfjLHRuz5vC2BqX1p6f6zB3tmo6M19WtyzoFCoUBFRQXi4+MRGhpq0rGZmZmYNm0aFAoFHfR2DrUD0zCmv3Jzc1FcXKz5/927d7FkyRKcOHGi3jH28GbN1kaeRPtoDFP60hr9x+baWvu6mqqjtfVrcs4BQ2hoKBQKBaRSKby8vEAIQUBAABwdHXHv3j14eXnh1q1bcHZ2hqurKzp16sS3yhQLEBoaim7duuHQoUNo1qwZXF1dAUBjCxkZGRCJRMjJyUFtbe0TnWAGPE4yq6ioqDdmkpOTMWnSJFRWVtY7Ztq0afU+s6c3a+Ze4eXlBaVSCU9PT815nz9/Hl27dsWxY8fg4eEBf39/k53NJwmlUgmJRFLHdjIyMlBbW4ucnBy0adPGqv3X0HMgIyMDbm5uuH//PiQSCW/X1dCYy8jIQElJCVxcXFBTU2N1/ZqscwAAgwYNws8//4yioiLExMSgvLwcJSUlUKvVuHbtGh48eIDg4GD07NmTb1UpFiY3Nxdnz57Fc889h+DgYJSUlKCkpARKpRJlZWXw9fVFv379+FaTdyIiItCyZUskJiaCEIKhQ4dCIpGgpqYGlZWVNvNmyDWG7hUeHh44d+4cJBIJXF1d8dRTT+H8+fN8q2uzBAcH48iRI3VsJygoCCUlJRCJRCguLoavr69VdcrNzcWDBw/0jn2FQgFPT0/069ePt+saERGB06dP17M9V1dXlJSU4O7du7yMoybtHOzatQvh4eEoLCzEhQsXIJPJEBYWhq5du6JNmzZQKpUoKCjAqVOn0Lt3b77VpViIpKQktGnTBh4eHsjJyUFaWlodO8jIyEBBQQGSk5Ph7e3Nt7q8cuzYMURERCA4OBhKpRIHDhxAWFgY3NzcADy+0QYHB6OwsBBKpbLOmBKLxUhNTbXLN+vG7hUZGRl48OABlEolnJ2d+VbXZklPT0dERITefhSLxThw4AAyMzOtqpObmxv69euHgoIC5OTkaHTq1q0bxGIx/v33X+zduxdBQUFW1YuBGXMN2Z5CocDdu3etqleTdg7Gjx/f4PcjRoywkiYUPmnMDqKiour8/0l+MxwwYAC6detW73OmTzIyMiCVSlFZWYnu3bsjKCgIt2/fRl5eHmpqalBVVQWZTGZttc3GFBt5ku2jMQzZD0N0dLTV+8/Y5wBf17WxPmNsz9r6NVnnICkpCVu2bEFISIjmRiYSiZCXl4fMzEy4ubmhe/fuuHz5MqqqquDm5oaSkhK+1aZwjCE7uHnzJkQiESorK6FSqdC1a1ekpaVBrVajsLCQb7V5Y/Xq1ejVq1edvpLJZHjw4AEkEgni4uIQFxfXqBypVAofHx8raGw+hmzk9u3bAABfX1/I5XKUl5cDeDyvTtGPPvvJycmBu7u7Ztmeo6Oj1fRpbPy3bt0ap06dgrOzM6qrq62mlzYN9Vl+fj6Ki4s19ypr0uTqHNAlbBSA2oGpsO0viUSC7du3IzAwsM7n9rBagS5l5A66lNF0bH0pY5NzDoD6hSWYBKlvv/0W/fr1Q2JiIr7++mvs37+/XnKMPdzUKMaRkpKCF198Ebm5uVixYgUiIyMN/lapVOLjjz/G33//jXnz5mHBggVo1aqVFbXlH+1xs3LlSuzbtw/79u2DVCrF/fv3MW7cOCxatAgTJkzQHGPv40VfEZoHDx5gzJgxAIDdu3ejefPm9Y6z9/O2BLp9OXfuXGRkZCA2NhZvvPFGnd9auwjSjRs3MHnyZHz99dcYMGAATp48iTfffBN//PEHunTpYlW9DOkIPF7507p1awiFQty+fRubNm2q83ur6mf13Rx44NVXXyUtWrTQ7LpVXFxMnJ2dybJly3jWjGIpTp06Rfz8/EhISAi5cuWKUceo1WqydOlSAoBMnz79id19Mz8/n0ilUrJ06dI6n0dHR5M2bdrY/S58jZGcnKzZqS8lJYVvdeyWp59+mvj7+5OZM2fyrQqZM2cOCQoK0tiuSqUirVu3Ji+++CK/imlRVlZGRCIRWbNmDfnll1+ISCSqs026tRFaxwXhj9LSUmzevBmzZs2CSCQCADRr1gyxsbFYv349amtredaQwjVbtmxB//790b59e5w5c8boGhYCgQAff/wxNm/ejMTERAwcOBD5+fkW1tb2+PHHHwEA//nPf+p8/t///hd37tzBjh07+FDLasjlcr3/ppiGXC6Hl5cX731YUlKC+Ph4zJ49G2Lx4zQ7kUiEOXPmICEhwWZyjM6dO4fa2lpERkYiMjIStbW1OHv2LG/6NHnnYMuWLaisrMQrr7xS5/PZs2cjKysLf//9N0+aUbiGEIKlS5diypQpiI6OxpEjR1itqZ48eTKOHTuGmzdvIiIiAleuXLGAtrZJWVkZfvjhB8yaNateQmG3bt3wwgsvYMWKFSBNbzZSg1wuh1AohEgk4v3BZq+oVCooFAr4+vryvnolPj4eSqUSs2bNqvP5yy+/jNraWvzxxx/8KKZDcnIy3N3d0blzZ3Tq1AnNmjVDcnIyb/o0eefgl19+wYgRI9CiRYs6n0dERCAsLAzr1q3jSTMKl1RWVmLy5Mn49NNPsXz5cmzYsAFOTk6s5fXq1QupqalwdXVFZGQk/vrrLw61tV3+97//oaSkBO+8847e7xcuXIiLFy/i0KFDVtbMeshkMvj7+9vEg81eyc/PByEEQUFBvDpYhBD8/PPPGDNmTL3cET8/P0ycOBFr1qyBWq3mScP/IyUlBb169YJIJIJQKETv3r2RkpLCmz5N2jlIS0vD+fPnMXv27HrfCQQCzJ49G7t370Zubi4P2lG4QiaToX///ti9eze2bduGDz74AAKBwGy5rVq1QnJyMvr27YsRI0Zowu1NlerqaqxatQpTpkwxmIz5/PPP49lnn8WKFSusrJ31kMvlCAgIQEBAAI0csITpt+DgYOTl5fH28D158iSuXLmCuXPn6v1+3rx5uHXrFo4cOWJlzeqiVquRkpJSJ2k6MjISp06d4q3vmrRzsG7dOrRo0QJDhw7V+/3UqVPh6OiI3377zcqaUbgiPT0dPXv2xP379/Hvv/9i4sSJnMp3c3PDn3/+ibfeegtvvPEG/vOf/0ClUnHahq2wZcsWPHjwAAsWLDD4G4FAgIULF+LYsWM4c+aMFbWzHnK5HP7+/vD396fOAUuYfmvTpg1UKhVv8/pr1qxB+/btMWDAAL3fR0VF4emnn8aaNWusrFldrl+/jqKiojrFtqKiolBcXGz1ipIMTdY5YBIRX3nlFU0Sii4eHh6IiYnB+vXrbSKsRDGNPXv2ICoqCj4+PkhNTcWzzz5rkXZEIhFWrVqFX375RTNN9ejRI4u0xRdqtRpffvklRo8ejc6dOzf427Fjx6JDhw748ssvraSddWGmFfz9/em0AkuYfuvQoQMAfhI78/LysH37drz22msQCvU/6gQCAebOnYvdu3cjJyfHyhr+H8nJyRAKhYiIiNB81rNnT4hEIt7yDpqsc7BlyxZUVFTUS0TUZc6cOTQx0c4ghOCbb77BmDFj8MILL+DEiRP1ckoswezZs/HXX38hNTUVvXv3xp07dyzeprXYs2cPMjMz8d///rfR34pEIixYsAA7d+7k7a3GktBpBfORy+Xw8PDQrMnnox9/++03iEQizJw5s8HfTZs2DRKJBOvXr7eOYnpISUmps4cJALi6uiI8PJy3vIMm6xysW7cOw4cPR8uWLRv8XUREBLp06UITE+2E6upqzJ49G++++y4WLFiAHTt2wMXFxWrtDxw4EKdPn0ZNTQ169uyJEydOWK1tS0EIwRdffIG+ffs2WChKm2nTpiEoKAhff/21hbWzPtrTCjRywA7t6Avzf2tSW1uLtWvXIiYmBl5eXg3+1t3dHdOmTcO6detQU1NjJQ3rkpycrHfsRUZG0sgBl6SlpSEtLU1vIqIuNDHRfigsLMTQoUOxYcMG/P7771ixYoXBcKEl6dixI06fPo0uXbpg4MCB2LBhg9V14JJ///0XZ86cwcKFC40+xsnJCW+//Tbi4+Nx//59C2pnXcrKylBeXq55sJWXl2v2VKAYD+Ngubq6wsXFxeqRg7/++gtZWVmYN2+eUb+fO3cucnNzsXv3bgtrVh+FQoEbN27U2wAOeJx3cOvWLeTl5VldrybpHDCJiMOGDTPq99OmTYODgwN+//13C2tGYcuNGzfQq1cvpKen4/Dhw42GCi2Nt7c3Dh48iBkzZmDmzJlYtGiR3eatrFixAl26dDF6vDDMnj0bLi4u+Pbbby2kmfVhHmLMtAJg/bfepgDjHADgJQKzZs0adOvWDT169DDq9+Hh4YiMjOQlMZGZNjAUOdD+jTVpcs4Bk4j48ssvG0xE1IUmJto2//zzD3r16gWhUIgzZ86gX79+fKsEAHB0dMT69euxcuVKfPnll5g0aZLdvWWmp6fjr7/+wn//+1+Tl3+6u7vj9ddfx7p162ymypy5MA8x7ZA4zTswHZlMpnGurJ27ce/ePezfvx9z5841yabnzp2LI0eO4MaNGxbUrj4pKSkIDAzUu3w4ODgYLVq0oM4BF2zdutWoRERdZs+ejXv37uHw4cMW0ozChv/9738YPHgwnn32WZw+fRrt2rXjW6U6CAQCvPvuu9i1axcOHjyIfv368Zr1bCpffvklWrdujZiYGFbHz58/H7W1tfjpp5841owfmIcYdQ7MQzdyYM0+XLduHdzd3TF58mSTjps4cSK8vb2xdu1aC2mmn5SUFERFRRl0ZCIjI6lzwAXr1q3DsGHDTN65qlevXnj66adpYqKNUFtbi/feew+vvvoqZs2ahX379sHDw4NvtQwyevRonDx5Enl5eejZsyfOnz/Pt0qNcufOHSQkJOC9994zOsqmi5+fH15++WV89913dhc10YdcLodYLIaXlxe8vb1pCWUW1NTUoKCgoE7kwFrTClVVVfj1118xY8YMkxOVJRIJXn75Zfzxxx+orKy0kIZ1qa6uxtmzZxtMBI6MjMS5c+dQVVVlFZ0YmpRzcP78eZw7d86oRERdmMTEP//8k84x8kxpaSnGjh2Lb7/9Ft999x1+/vlnODg48K1Wo3Tt2hWpqalo3rw5+vbti6SkJL5VapCVK1fC29sbL730klly3nvvPRQXFzeJYmIymQx+fn4QCoUQCoXw8/Oj9wMTYUon8xE5SEpKQl5eHl577TVWx8+ZMwdFRUVISEjgWDP9XLhwAUqlUm8yIkNUVBSqqqqs/sLRpJyDdevWoXnz5hg+fDir46dPnw6xWEwTE3kkOzsbffr0wfHjx7F3717Mnz+fk1LI1iIwMBDHjx/HyJEjMWHCBJvdpEgul+P333/Hm2++CalUapaskJAQxMTEYNWqVbwtBeMK7XA4YP2QeFNAe2qG+dtaJZTXrFmD/v37G70Tqy5t27bFkCFD8PPPP3OsmX5SUlIgkUjQtWtXg78JDw+HVCq1+tRCk3EOysrKsGnTpgYrIjYGTUzklzNnzqBnz5549OgRUlJSTM6etxWcnZ2xZcsWLFmyBIsWLcLMmTOtHhJsjO+//x5isdjopV6N8d///hdZWVlWe+OyFEwBJAZaCMl0tFd8MH/X1taioKDAou1evnwZJ06cMLiPgrHMnTsXZ8+eRVpaGkeaGSY5ORk9evSAo6Ojwd84ODigZ8+eVq930GScg61bt6K8vNzkRERdZs+ejbt37/K+EceTRkJCAvr374+2bdsiNTUVTz/9NN8qmYVQKMSnn36K+Ph4bN26FYMGDYJCoeBbLQCP97f/6aefMGfOHHh6enIiMywsDMOHD8eKFSvs2rFmivcw0EJIpsP0l5+fHwBYLbFz7dq18Pf3x9ixY82Sw+zia+lljYQQJCcnNzilwMAkJVozCtlknAO2iYi69O7dG507d8Yvv/zCkWaUhiCE4NNPP0VsbCwmTJiAI0eOaG4qTYGpU6fin3/+wfXr1xEREWET5YZ/+eUXVFRU4O233+ZU7sKFC3HlyhXs37+fU7nWRHdagUYOTEcul8PT01OzZbo1qiSWlZVh48aNmDVrVoNv4cYgFosxZ84cbN68GcXFxdwoqId79+5BJpMZVZU0KioKcrncqiXbm4RzcOHCBZw9e5ZVIqIuNDHReiiVSkydOhVLly7FZ599hri4OEgkEr7V4pzIyEikpqbC2dkZvXv3xqFDh3jTpaqqCt9++y1mzJhRb397c+nTpw969+5ttxsyEULqTSvQnAPT0Ze3wXxuKTZt2oTy8nJOngEAMGvWLNTU1GDjxo2cyNMHk0PQu3fvRn/bq1evOsdYgybhHKxfvx5BQUEYMWIEJ/KYxMQ//viDE3mU+sjlcgwYMAA7d+5EQkICFi9ebFeJh6bSunVrzX7tw4cPt1rCky5xcXGQyWR4//33OZfNbOd88uRJnDx5knP5lqasrAwVFRX1Hmzl5eUoKyvjUTP7QndqxsXFBa6urhZ72SKEYM2aNRg5cqTZkWOGgIAAjBs3DmvXrrVYKD8lJQUdO3aEj49Po7/18vJCp06dqHNgCmVlZYiPjzcrEVEXT09PREdH08REC3Hp0iX07NkTd+/exfHjxxEdHc23SlbB3d0du3fvxuuvv47XX38d8+fPh0qlslr7tbW1+OqrrzBu3Dh07NjRIm2MHDkSnTp1ssvogW4infa/afTAeHSjL4BlIzCnT59Genq62YmIusydOxeZmZk4fvw4p3IZDG22ZAhrb8Jk987BO++8g9LSUrMTEXWZPXs27ty5g6+++opTuU86+/fvR2RkJDw9PZGamoqePXvyrZJVEYvFmtoNP//8M0aNGoVHjx5Zpe1ly5bh5s2bRm3LzBahUIj//ve/2Lt3L3bs2GGxdiyBdulkhoqKCgDArl27+FDJ7qipqcHRo0dx69atOp9bKneDEIJ58+ahZcuWGDx4MKeymQTp//znP5y/JKalpSE9PR0hISFGHxMSEoJLly4hNTWVU10MYffOAbMHt7661ObQvXt3AMDnn3/OqdwnlfLycixbtgyjRo3CgAEDcPLkyUa3027KzJ07FwcOHMCpU6cQGRlpla2fP/74YwCwuEM2ZswYAODcYbc0165dA4A6CbG+vr4A0CSqP1oD5iGqmxTo6upqkWTc7OxsXLx4EQA436FVIBBAJBLhypUrnOt+9uxZAGh0O2ltmOmHM2fOcKqLQYids2bNGvLPP/9YRPa2bdtIQkKCRWQ/aTz11FMEAHnzzTeJSqXiWx2b4erVq6RZs2YEADl06JBF23r//ffJjh07LNoGwzfffEO+++47q7TFFV27diUAyNWrV+t8npOTQ9RqNU9a2R+5ubmkpqamzmdCoZAAsEg/vvPOO+TBgwecyyWEEJlMRt566y1SW1vLqdza2lpy4sQJk487ceIE57oYQkCIDZZvozQ5Zs6cidzcXOzdu9cuSiFbk7/++gtvvfUW4uLijN5ilsI9R44cwbp167B169YmnRzLB/Hx8UhOTuZlS2QKO6hzQKFQKBQKpQ7cpPdbkOzsbJMqy/n4+Ji1nMXU9rhq1x5g2zcMT0IfcQEbmwdg1XFiCDY2Ykt2Ye/6WxNr3Jutff/num1TZJh7fENyWGGVyQuWZGVlEalUSgAY/UcqlZKsrCyrtcdFu/aAOX3zpPQRF7DpZ4lEQpydnXm/FmxtxFbswt71tybWuDdb+/7PddumyjD3eK77wKYjBwqFAhUVFYiPj0doaGijv8/MzMS0adOgUChYeU6mtsdVu/YA275heBL6iAvY2jwAq40TQ7CxEb7sQt8bWWZmpt3ozzeNXevc3Nw6pYfv3r2LJUuW4MSJE/V+b+hN19r3f67bNkWGucc3JIctNu0cMKhUKk2d7oCAADg6OuL8+fPo2rUr/vrrL7Ro0QI+Pj6sHlr6CA0NRbdu3XDo0CE0a9YMrq6uddo+efIk3NzcIBAIjNo0oymh3TdeXl5QKpXw9PSsd10OHjyIdu3aQSgUNrgdKUU/xcXFqKmpqWd7qampqK6uBiEE3t7edWy+uLgYFRUV8PLyAiFEc8ydO3fg6emJCxcuwMfHx+IlqkNDQ6FQKPSOnYyMDKhUKpSVlcHDw4OzMWsK2dnZCA0N1dQw0MVQP2ZkZIAQgnv37iEwMBADBw60sua2R3FxMdRqdZ37gFwux8SJE6FUKuv9nnFktZFKpcjMzDT4MGvsesjlctTW1lrElgy1nZqaChcXF03Bp4ba1tdH2vfKa9euNVgMrSEdnJyckJubC6lUylmFYAa7qHNw9epVJCUlwcHBAeXl5VAoFPDw8NCUkpRKpRap+DZo0CCcPXu2XttBQUF49OjRE+cYaDNo0CCcPn0a//zzT73rcu7cOfj7+6Oqqoo6BiwpKCjA4cOHUVRUBDc3N5SUlODOnTuQSCTw8vJCYGAgIiIi6hwTERGBixcvYseOHXWuCQBcuXIFEokEEonEpMIrbMnNzdWrv1KphEwmg7e3N2/jR/uNLC0tTfMnPj4egOF+dHV1RVVVFWpra+Hi4sKL7rZGREREvfvA7du3oVQq6/Wvvj/x8fGoqKhocF69seshFovRtm1bi5xfQUEBjh8/jsLCwjp2XF1djdu3b8Pf37/eONQn4+DBgwBQR4ZYLMbp06chFovRpUsXg8cbOn8fHx+UlpbC0dERHh4eXJ42ADuJHPj6+mp2tGNuLmFhYejVqxfEYjFSU1Nx9OhRTjsoKSkJvr6+aNmyJXx9fXHgwAGEhYWha9eu8PHxwYMHD7B//354eXmZvQuYvdFY35SVleHWrVtwdXXFxYsXqYPAAqlUioiICBQUFCAnJ0dj8127doVYLMaxY8dQUVEBZ2dnzTHHjh1DREQECgsLceHChTrHtGnTBseOHYNCodAU9rEUR48eRUREBDw8PJCTk4O0tLQ6emRkZCA7OxuEEE1EkA9yc3MRHByMwsJCKJVKXLhwAUDj/SiRSCCXy/Hvv/9qIiNPKvr6iolM6favrg1nZGQY9bbf2PVITU2FTCZDYGAg5+dnaBwyz56rV68iOTm5zjg0Vob2WM7JyWF9/hkZGSgrK9PYL1fYhXMwYMAAdOvWzeD3THjv/PnznLU5fvz4Br/XDuFw2a490FjfREVFPdFRFS5ozOZHjRoFoK7tsTnGEjSmh7Zt8Dl2MjIyIJVKUVlZie7du+Opp54CYD/62wL6+orpk+LiYuzevRshISGaPhaJRNi5cyfatm2L+/fv48aNG6za0MYS939j22aiBg21bcy4NOd4S9mjXTgHq1evRq9eveoY2M2bN9G2bVvcu3cPtbW1aNasmd45LjYkJSVhy5Yt9Yw6Ly8PmZmZcHNzQ7du3XDlyhU4OzsjPT2dk3btAUN9c/PmTYhEItTW1kIkEqFt27a4fPkylEolPDw8aOEjE9Fn8zk5OXB3d8f9+/ehVCrRokWLOjbf0LVp27Ytbt26hcLCQovrbkgPmUyGkpIStG/fHrdu3UJpaSkv26L7+PhAKpUiLi4OcXFxRut/+/ZtAI8jmZcuXYKHhwdKS0utrb5Noa+vFAoFnJycsHz5cqNkSKXSBncmbOh+rFKpoFQqUVBQYJFNzPSNw7y8PEgkEshkMshkMjz11FMNPnv0ybh9+zacnZ1RXFwMuVzeYOShofOXSCRQKBQoLS1FbW0tqquruTt5s9c7WBB7Wsro7OzcpJcz0aWM1uFJXMrIx9jJysoiaWlpdf7s3bvX5H58Uu2arZ3u3bu3Xr8b6ju6lJHfpYw2XyFRd8nRhg0b8PPPPyMkJARbt26t93suiyDl5uZi7NixmD17tmYTGblcjjFjxuCll17CnDlzOGvXHtDum7i4OKxevRo//PBDvW1Hf//9d/z4449Ys2ZNnU1+noQ+4gJdm1+7di02btyIp556Cr/99lu93+srgqRSqTQhT93rwBxjjSJICxcuRFZWFrZs2YJdu3bhs88+w19//VUn78GW7EJb/9mzZ6O8vBzx8fEQCARQKBQYNWoUXnrpJcyePVtzjC3pb010r7VcLsfw4cMBANu3b6+X+MpFEaS0tDTMnj0bEydOxJEjR3D48GGz2zC27c2bN+Pbb79Fq1atsH379nq/N6aI0ddff40///wT3bt3x3fffWfy8QDw1ltvIS0tDSNHjtS7w+oTUQRJH++88w7x9vYm/v7+Fm/rpZdeIn5+fqS0tLSeDm5ubiQ/P9/iOtgiZ8+eJQ4ODuS9997T+31tbS0ZNGgQCQgIIHK53MraNT1mz55N/Pz8SNu2bY0+JicnR/MmER8fb0HtDFNWVkakUin54osvCCGEFBQUELFYTL7//nte9DGF48ePEwBk165ddT6fP38+8fT0JI8ePeJJM9vl7NmzGps7evSoRdr47rvviJOTE0lMTCQASG5urkXa0cfChQuJh4cH8fLyYi0jOjqaBAYGku7du7OW0aNHDxIUFEQmTpzIWoYx2MVSRm3kcjk8PT2Rn5+P2tpai7WTmZmJDRs2YPHixfUykhctWgRCCFasWGGx9m2VkpISxMbGomvXrgbnFIVCITZu3Ija2lrMnDmT873QnzTkcjm8vLwgl8tNOgYAnJ2dTTqOS/bs2YOKigrExMQAeLw97ZAhQ/RG/GyNzz77DGFhYRg9enSdzxcsWIDy8nL89NNPPGlmu2jbmaVsLj09HZ07d9Yk6Fkz34sZh4WFhaipqTFLhjn9wzwDLT2u7dI58PPzg1qtRkFBgcXa+eijj9CiRYs64UMGHx8fvPvuu/jxxx/x4MEDi+lgaxBCMG/ePOTl5WHLli0NLuEMDAzExo0bceDAAaxevdp6SjZBGJsvKytDeXm50ccAgJ+fH2/OwdatWxEREVEnvBwbG4uUlBRkZ2fzopMxnDp1CocPH8aSJUvq7c7YvHlzvPLKK1i1ahXKysp40tA2sYZDmp6ejvDwcISEhMDV1RUZGRkWaUcfMpkMfn5+AIC8vDxWMpixLJfLQVjM6JP/X/TJ39+fOge6yGQyBAUFaf5tCdLS0rB9+3Z8/PHHBtdhv/POO3B1dcWyZcssooMtsnHjRmzatAlr1641qujI0KFD8e6772LhwoVIS0uzgoZNE22bN/aGwIyNwMBAXlYEPHr0CAcOHNBEDRhGjx4NJycnJCYmWl0nY/nss8/QqVMng0t2Fy5ciJKSEqxdu9bKmtk2THErf39/i9icSqXC5cuXER4eDqFQiC5dulg9cmDus4cZyzU1NSgqKjL5+EePHqGqqsoq49runAO5XK5JtrCU5/Thhx/iqaeewvTp0w3+xt3dHYsWLcKvv/6KW7duWUQPW+LGjRt4/fXXMXPmTEyZMsXo4z7//HOEh4cjNjb2iV/2xQbmTaFly5YAjLd5uVwODw8PBAYG8hI52LVrF2pqahAdHV3nc3d3d4wYMcJmpxbOnTuHAwcOYPHixRAK9d8eg4OD8eKLL+Lrr782WIL5SYQpJWypt9qbN2+iqqoKYWFhAIDw8HCrOgcymcysZ09VVRWKi4vNksEcExwcjJKSEs6W7+vDrpwDlUoFhUKBNm3aALCMc3D8+HEcPHgQn332GcTihstAzJs3D35+fli6dCnnetgSVVVViI2NRYsWLfDDDz+YdKyjoyO2bNkCmUyGefPmWUjDpktZWRkqKyvRrl07AKY5BwEBAZpa99Zm69at6Nu3L5o3b17vu9jYWKSlpdmkU/3ZZ5+hQ4cO9ZwaXRYtWoSCggKsW7fOSprZPjKZDP7+/hazOcYRCA8P1/x97do1VFVVcd6WLmq1Gnl5eZopMjbnx0xFmPP8Yo5hIreWHNt25Rzk5+eDEILg4GC4ublxHlYhhODDDz9Et27dGq0CCDyeW/voo4+wZcsWq859WZv//ve/uHLlCrZu3cqqXGy7du2wdu1axMfHY+PGjRbQsOnC2Hjbtm01hYSMPc7f399iId6GUCgUOHz4cL0pBYYRI0bAxcUFCQkJVtWrMS5evIjdu3fjww8/hEgkavC3bdq0wfTp0/HVV19Z9O3NnmDmwi1lc+np6WjRogW8vLwAAGFhYVCpVMjMzOS8LV2KioqgUqk07bM5P+YYZh8gc2R06NCBtQxjsSvngPGSGAPk2mvav38/kpOT8fnnnxsMKery8ssvo02bNli8eDGnutgKe/fuxXfffYevv/7arD0Spk6dihdffBHz5s0zqmQq5TGMjQcFBcHX19ekyAHzFpefn2/VFSNJSUlQq9WYOHGi3u+lUilGjx5tc87BsmXL0KZNG6OnzT744API5XL8+uuvFtbMPrD0tAKTjMjAbFZkjakF5iFszrOHOaZNmzaskzblcjkcHR3Rvn37OjItgV06B5YIl6rVanz44Yfo168fBg8ebPRxDg4O+PTTT7Fnzx6cOnWKM31sgZycHMycOROjRo3CG2+8Yba8H3/8Ec2bN0dsbKxVQoFNAW2H2BSb175R19bWWnRljy5bt27FwIEDNZnd+oiNjcWlS5dw9epVq+nVEJcvX8aOHTvwwQcfNDqdyNC+fXtMnjwZK1asoPaMutMKeXl5nDuk6enpmnwD4PEOh23btrWKc8DFs0cul0MgEMDPz88sByMgIAC+vr4QCoXUOWBgvDemc7kMqWzbtg3p6en4/PPP6y1faozY2Fh06dIFH3zwAavlKbZIbW0tpk2bBicnJ/z2228m94k+XF1dsXXrVly5cgULFy7kQMumj0wmg4ODAzw9PU2yee1pBeb/1iA3NxfHjh0zOKXAMGTIEDRr1sxmogfLly9Hq1atGkxC1seHH36InJwcbNiwwUKa2QdMsh3jkLLNxjeEQqHAw4cP60QOgMd5B9aY0tWNHLCdEvD29oaDg4NZMvz9/SESieDj40OnFRiYDGyJRMJp5KCmpgZLlizBiBEjWO0mKBQKsXz5chw7dqxeOU975YsvvsDx48exadOmBjdFMZVnnnkGX331FVavXo29e/dyJrepwqyLFggERtt8TU0NCgoKNG85gPWcg+3bt0MsFmPcuHEN/s7JyQnjxo3Dli1beHeor127hoSEBCxcuNDk7ddDQ0MxadIkfP7556wL4zQFmGQ7JnIAcBvyZhwA7cgB8H8rFixtQ3K5HFKpFK6urmZFDhhnPSAggNWYZCIH5sgwFrtyDhivCQCnkYMNGzbg5s2bZtUsGDlyJHr37t0kogfJycn4+OOPsXjxYvTv359z+fPnz8fIkSPx0ksv4eHDh5zLb0rIZDLNzcBYm9e+UTPjxVorFrZu3YrBgwdrksYaIjY2Fjdv3sTFixctr1gDLF++HEFBQXjppZdYHb948WJkZWXp3eHxSUH3zVr7My5IT0+HRCLRzLUzhIWFQaFQIDc3l7O29MFmHOqTof38YjMmuZBhLHblHGh7Xv7+/lAoFGaXUFYqlfjkk080JYHZIhAI8Pnnn+PcuXPYuXOnWTrxSVFREaZMmYLevXvjo48+skgbAoEAv//+OxwdHTFt2jSLlsG2d3Rt3pibgXaeAvO2Yw3nIDs7GykpKYiNjTXq9wMGDIC3tzevUwu3bt3C5s2bsXDhQoMFzxqjS5cuGD9+PD7//HOLbBtsD2jPyVvCIU1PT8fTTz9dLx+EmWawdN6B7jgsKioyeXtk7bd+c3IOqHOgB92QilqtrrdjlamsWbMGubm5+OSTT8zWr3///njhhRewePFiu3zgEUIwa9YslJaWYtOmTUYnZrHBx8cH8fHxOHbs2BO5R4Wx6Np8eXl5o2V7tW/UzN/WcA4SExMhkUjq7UdgCAcHB0ycOBFbt27lLdr2+eefw8/PT7PrKlsWL16M27dvY8uWLRxpZl8wyXa+vr5wdXWFVCrlfFpBN98AAFq3bg03NzeL5x3ojkPA9BLKujJMTdpkCqJZa1zblXOgG1JhPmNLaWkpPv/8c7z00kuadaPmsnz5cmRmZmLTpk2cyLMmv/zyC5KSkvDrr79aZQva559/Hh9++CGWLl2KlJQUi7dnj+iz+cZuCNqJu8xx1sg5SEhIwPDhw+Hu7m70MbGxscjKysKZM2csqJl+7t69i7i4OCxYsADOzs5myXrmmWcwatQoLF++3C5fDMyFSbYTi8UQCASc2lxNTQ2uXLmi1zkQCAQICwuzeOSAi2ePrgxTkzaLi4tRXV1tkal1fdiVc6AbUmE+Y8u3336L0tJSTsPnPXr0wPjx47F06VKTw058cvnyZbz99tuYO3duo8lkXLJ06VL06tULkydP5jS7uSmgvckKYLzNM7u2Mcl11tik5datWzh37pzRUwoMffv2RUBAAC9TCytWrICXlxfmzJnDibwlS5bg+vXr2LZtGyfy7AntN1qAW5u7fv06qqur6yUjMlijjLK5zx6lUolHjx6ZJUN7upD5u7S0FJWVlUbLMAW7cQ60M7AB852DgoICrFy5EvPmzdPUreeKzz77DFlZWVi/fj2nci0Fs61u+/btsWrVKqu2LRaLsWnTJpSUlODVV1+1+2ROLiktLYVSqawXzjTGOdC+UVtjWiEhIQEuLi4YMWKESceJRCJER0cjISHBqm/c2dnZ+P333/Huu+9CKpVyIrNHjx4YOnQoli1b9sRtU6798AS4tTnmwd+Qc3D9+nWLVapkSiczY4qJyJlyfswUhKljWRt904WmyjAFu3EOmNLJjAE6OzvD3d2ddVhlxYoVIIRg0aJFXKoJAOjUqROmT5+Ozz77zOgtdvnk7bffxt27d7F161azw6tsaNWqFX799Vfs2LGD1qrXQjsDHAC8vLyMKqGsHb5kjrf0tEJCQgJGjx7N6kEbGxuL3NxcnDx50gKa6eerr76Cu7s75/t9LFmyBFeuXLHrpGQ2WNLmMjIyEBwcDE9PT73fh4eHo7a21mIFtQoKClBbW6s5PwcHB3h7e5t0frpjmc3UBBcyTMFunAPdkArzbzZeU05ODn788Ue888478PX15UxHbT7++GMUFhaavFGRtdm2bRvWrVuH7777Dp06deJNj/Hjx+O1117DW2+9hcuXL/Omhy2ha/NCoVCzF3xjx+mOk/z8fIu9mV+9ehWXLl0yeUqBoVevXggODrba1EJOTg7Wr1+v2XadSyIjIzFw4EB8+umnT1T0wJLTCrplk3V5+umnIRAILDa1wMWzR1eGq6urySWU5XI5nJycNDk9ll6mbHfOARfh0s8++wxSqRTvvPMOZ/rpEhISgtmzZ+PLL7+02bn0e/fu4dVXX8WkSZMwa9YsvtXBN998g3bt2iE2NpZuhQv2Nq9vWkGtVlushHJCQgKaNWuGIUOGsDpeIBAgJiYG27Zts8pSwK+//hpSqRT/+c9/LCL/o48+QkZGBvbs2WMR+baIvmkFrkooN+YcuLi4oF27dhZ3Dsx59miv5gBgUlEzbRkBAQGaarU+Pj4WLaFsN86BbgY2wC50devWLfz6669YtGgRmjVrxqmOuixevBhVVVVYuXKlRdthQ01NDaZMmQIPDw+sW7eOk/LI5uLs7IytW7fizp07FnXc7AWZTAZHR0d4eHhoPjPG5vWFeJnPuYYQgq1bt2LcuHGs6wQAj6cWFAoFjh49yqF29ZHJZPjll1/w1ltvmbSqwhT69euHfv364bPPPnsicmiUSiWKi4vr2ZxKpUJhYaFZsvPy8iCTyQzmGzBYMilRN5zP/NvUKQEfH586y8PZyNDWQSQSwdfXl04rMBnY2jcgNpGDjz/+GH5+fnj99de5VrEeAQEBePPNN7F69WqrVagzlo8//hipqanYsmVLnYcP33Tu3BmrV6/GL7/8gh07dvCtDq8wb2PajltjNl9TU4PCwsJ6bzmMPK65ePEibty4wXpKgeGZZ55Bu3btLD61sGrVKjg6OmL+/PkWbeejjz5CWloaDhw4YNF2bAHdZDvtf5trc8wDv6HIAQDNckZLOGNyuRyurq5wcXHRfMb2rV8bPmSYgl05B9peE2D6vE9SUhI2bdqEJUuWWC3xbsGCBRCLxTaViX/kyBF88cUX+Oyzz9C7d2++1amH9lTHvXv3+FaHN9atW1fPvhuzee3Sybr89ttv3CoIYPbs2XBxccGAAQPMkiMQCDB8+HBs3LjRYlt6nzlzBj/88APeeOMNg8ltXDFgwABERERg/vz5KCkpsWhbfMMkXz569EjzGVfz4cuWLYNAIGh0RZm7uzuKioossl/L2rVrUVZWVmeKhE3Oge6YzMzMxIEDB4yeetEn4+7du/jjjz+M1sMU7MY5SE9Pr5cJ7erqiry8PJSWlholg9kpbubMmVyrZxBPT0+0atUKe/bswfHjx63WriFOnDiBQYMG4emnn8Z///tfvtXRi0AgwLp166BSqRASEtLkb66GcHJyqufEuri44MGDBwa3CM7MzASAOnsbMOFzkUjEuY7nzp1DZWUlHBwczJYVFBQElUplsYjRK6+8gqqqKkyYMMEi8rURCATo1asXbt++jdWrV1u8PT5hIltBQUGaz5jpX3MrFzKr1BqzL8Z5yM7ONqs9fTg5OcHJyalOBM/NzQ1FRUVG55NduXKl3lj29vaGSCQyyjlQqVS4c+dOvWegu7u7WdN5DULsBABEV90JEyYQACQpKckoGQsWLCDffPONJdRrkFu3bpEhQ4aQoqIiq7etS2JiInFwcCAJCQl8q9Ior7/+OnFyciIPHz7kWxVeUCqVpLKyss5nzz//PAFATp48qfeYGTNmEAAkLi6uzuclJSVErVZzruOePXtIdnY2J7LUajXZsGFDvXPmiq1bt5IPP/zQIv2gj4qKCjJ16lRy8+ZNq7THJyUlJXX+f/fuXQKAdOrUyWy5eXl5Rv327t27Frm21dXVpLy8vM5n06ZNIwDI5s2bGz2+pqaGACASiaTO57W1taSsrMwoHe7cuUMAkNDQ0DqfV1VVkYqKCqNkmIrdOAeffPIJ+d///lfns/v375OxY8eSqqoqnrSiUKzLrVu3yIQJE4hKpdL7/e3bt8mECRNIdXW1lTWjUOoye/ZscvToUb7VsAi5ublkzJgxRjuy8+fPJ3v27GHdnlqtJlOmTCHnz59nLcNUBITYyEQ4hUKhUCgUm8By2+5ZkezsbFa7M/r4+Fh8gyE2urHRy9R2rHHu5sD2mjLY+vlpY4lrZ4rMhuRZw664aMNa48xYbE0frrCUPbC1V67s3FRZxsizhHyr3uetFqOwEFlZWUQqlWpyEkz5I5VKSVZWls3pZqpebNqx9LmbgznX1B7OTxtLXDtTZRqSZw274qINa40zS56TPdispeyBrb1yZeeWPDcu5Vv7Pm+TkQND3lFubi6Ki4vrfKZQKFBRUYH4+HiEhoYa3UZmZiamTZsGhUJhMW+djW5s9DK1HWucuzmwvaYMtn5+2jR2rro2f/fuXSxZsgQnTpyAh4dHvfHAfGZs/zXUV9awKy7asNY4MxZb04crzLFV3d9rv9Ga0l/a/QSAEzvn+txyc3MBAIGBgXXaN1bX3NxcXLhwoZ58U2QYc86NYXPOQXZ2NkJDQ/WWzxUKhQaXfYSGhkKhUMDLywtKpRKenp4ICAiAo6MjTp48CTc3N81SlKioKIuegy7MzdrLywuEEI1e58+fR9euXXHs2DF4e3vDzc2N1cNQu52amhpNvXimnTt37sDDwwPnzp1DYGAghEL7WMEaGhqKbt264dChQwavKyEEpaWlaN26NSIiIvhWmTX6rp1cLsfEiRP17jY3bdq0BscD8LhynUQiqWNzd+7cgaenJ44dO4Z27dpBIpGw0k17XGVnZ6NZs2Zm265ara53jTMyMlBbW4ucnBwEBwc32IahcXby5El4enpq5ERHR7PW0xQauydJpVIolUqoVCqz+s7a6LtWjdmqLlKpFJmZmXUeWoQQVFRU1Okn5t51+vRpiMVivfVp9B2ne28wtn/12ZCp59bQuDRkoxkZGSgpKUFZWRlmzpypef7pk29IRmpqKpycnHDv3j0EBgaabVM25xwwHtybb76JLl264NGjR6iursaVK1cQHx9v8HPgscd19uxZPPfcc3Bzc0NJSQlKSkrg6OiIgoIC+Pj4WN0xAICIiAi0bNkSiYmJIIRg6NChkEgkCA4Oxr179yCRSFBSUoI+ffrg/PnzZrVz+vRpFBUVISYmBuXl5ZoaAVevXkVZWRlUKhU6duzI1alZhUGDBuHnn3+ud15BQUFQKBQoLS21+70Y9F2727dvQ6lU1rN5hUIBJycnfP755w1+d+PGDTx8+LCeLdy/fx9eXl4Qi8UICQlhpRvT/zKZDDU1NfD29ub8/EtKSuDq6oqHDx/C1dW10Y2jGtJToVDgwYMHVn8rb8x2AWDEiBFmjXtrY6qttm/fHh07doRIJEJ6ejquX7+OH3/8sd4b7aVLl3D37t169nrt2jW0bt0ahBA4OjrW00ffcYxt+vr6IiIiwuj+NffcsrKysHLlSoPPqYbsvKSkBLm5uXqff9rj2pAMHx8fPHz4EI6Ojhg4cKDZNmVzzgHDjBkz0K1bN83/z58/j/j4eIOfHz16FBEREfDw8EBOTg7S0tIQFhaGrl27ok2bNkhNTUVZWRnS0tLQvXt3q56LUChEcnIyunbtisLCQly4cEFTL5zR78CBAzh48KBZu0QeO3YMERERBttITU1FZWUl5zvRWZKkpCT4+vqiZcuW8PX1xYEDBzTn5OPjg7KyMiiVSjg6OuL69et25/gw6Lt2zFu9rs0Dj+3+888/b/A75saYmZkJpVJZxx7EYjEyMjKQmprKSjdtu8rIyEBOTg7Kyso4PX/tNo4dO9ZoEafGZKhUKqvvIbJr1y6Eh4cb1Onff//F/v3765XFtWVMtVVt+vbti/Pnz+PHH3+s950he+3ZsyfEYjFSU1Nx7tw5k4/bt29fnRC/pc9t5cqVBp9Tjdno9evXDbbFjGtj7vOJiYlo166dUedsCJt1DlavXo1evXqhsrIS3bt3x61btwA8flhs2bIFISEhqKyshJubG4DH5UobunADBw60it6GGD9+fIPfM6FOc7w9Y/vAnt5SGuu3qKgoXqJBXKPv2jHXSdfmtceD7jgRiUQ4deqUQZnaREVFGVVG3Bg52vqyobE2Ro0a1Wgbjclgu2ukOTRmvyNGjABgX2OyIVvVZ49yuRzOzs4oKCjAw4cPDTp5xty/9JW9buw4UyIzpo5D3fM7ffo0AMPPr8Z07devn8G2jJXB1X3e5pwDHx8fSKVSxMXFIS4urs53QqEQy5cv13ucPqPMy8tDYWEhiouL0bt3b1y+fBk1NTUghFh1r3VDRpWXl4dHjx6hXbt2OH/+PNzd3c3aVtdQOzdv3kTbtm1x7949FBcXo7q6msOzsxwNnY9IJEJtbS1KSkrw7LPP4vLlyygtLYWfn1+dnc/sBX3nqlAoIJFIDNq8UCjUO04Y9I0JbVuorKw0qvS4PjkymQxVVVXw9vbGzZs3QQgxy64aGiMSiURTMtpQ2eiGzreiogJt27ZFbm4uSkpK0LJlS73zx1xj6JxkMhkqKirQunVrXLhwAUql0iKlrS2Fvn5OTU2FRCJp0B61kUql8PHxaVTu7du34efnh/z8fIP3LkPHOTs7Q6lUQiqVGm2bbMahLg2Ny4ZsghCC27dvw9HRscG2GhsrBQUFKCwsNPs+b5NFkExZrVBdXY3XX38dlZWVJrejLymGSxpKruRSLzbtWPrczYFtv2ljy+enDZtzlUgk2L59OwDoXa0AAJMmTTJ6TBjqK2vYFRdtWGucGYut6cMV5tiqblhft1aBKXKZfgLA6jh9/cvluelbrZCbm2vSmNQnn40Mc2zKJp0DU9F2Jm7duoWYmBh88sknGDlyJADg5ZdfBiEEv//+e53j+CiCdPnyZbz44otYt24d5s2bh3fffbde9jQXhWTS09Px8ssvA3i82ZLuhh22XnBF+3z+97//Yc2aNfjll1/w7LPP1vldfHw8vv32W3z//fd1phds/fy00ecMDxs2DHl5efjwww/rhabZFEFavHgx/v33X/Tr1w/Lli0zWp6unFmzZmmywv/55596u+BxVQRp5syZuHnzJqZPn47XXnut0TZ0ZRw4cACLFy/GqFGjkJmZqXcraGsWQfrwww9x9+5dbN68GdOnT0fz5s2xYsUKq+nDFbrntX79evz+++9o27at3jdltkWQVq1ahZ07d6Jr16718hMMFUEqLS1F//79AQB//PEHunTpYpIu+uwwNjYW9+7dw9y5c/Hiiy+yOjdD8pmlhgBw+PDhelMmxtj5kSNHsGDBAkgkEiQnJ9dr84kugqTLzJkzSfPmzevst7Br1y4CgCQnJ/Oo2WO+/fZbIpFISFVVFYmIiCBTpkyxSDs7duzQFMKw541fTp48SUQiEVmyZIne72tra8mwYcOIr69vk9mgSa1WE0dHR+Lm5kY+/fRTTmQOGjSING/enAwcOJC1jKqqKiKRSMiqVavItm3bCACSk5PDiX66hISEEH9/fzJ79mxWxy9YsIAEBweTn3/+mYjFYqJUKjnW0HhqamqIp6enxoY/+eQT4u7u3iT2v5g3bx7x8/MjLVu25FTu5MmTSVBQEAkPDzf6mGvXrmnuebt27eJED39/f+Lj40PefvttTuRps2/fPo2+GRkZrGT8+OOPRCQSEQCktLSUU/3sY8G7keTk5GDTpk1466236ix5GTVqFDp27IiVK1fyqN1jkpOT0aNHDzg6OiIyMhIpKSkWaUcul2vmMc3dU50vioqKMGXKFPTu3RsfffSR3t8IhUL88ccfEIlEmDFjhlVzSSwFM7fq6enJ2bWTy+Xw8vIyS97FixehVCoRFRWFyMhIALCo/Zpz/unp6QgLC0N4eDhUKpUmDM0Hp06dQlFRkSaSOXLkSJSUlODkyZO86cQV2teJcBiEZnP9md8KhUJOxk1tbS3y8/M5HYfaaMtkK18ul2umErnWsUk5B99//z2cnZ0xe/bsOp8LhUK8++672LVrF27cuMGTdo+LdaSkpGhurFFRUbh37x4ePnzIeVvMGl/APp0DQghmzZqF0tJSbNq0qcEkQz8/P8THx+PIkSP46quvrKilZWCul5+fH6fOgbnykpOTIZFI8MwzzyAoKAitW7fWG8o0l7KyMlRUVMDf35+1vhkZGQgPD9eEltPT07lU0ST27t0LPz8/zZQY03+6UzL2iFwuh7+/P6qrq/Ho0SNO5fr5+SEvL6/R+hbaxwCPQ+kymcxsHQoKCqBWqzkdh9owDhDzb7Yy/P39zZJhiCbjHJSUlGDt2rWYM2cO3N3d630/ffp0+Pr64ptvvuFBu8dkZWXh4cOHmrlxS759yeVyBAYGQiwWczJQrM0vv/yCpKQk/Prrr0bNmQ0cOBALFy7E4sWLNcuJ7BXmejGFXMxFpVIhPz9fU3hHpVKxkpOSkqKJegGPnVtL2K6555+fn4/c3FyEh4fDzc0Nbdu2RUZGBtdqGs3evXsxYsQITWVSgUCAESNGNAnnQCaTaRLmuLzPyGQyBAUFQa1WG72CSyaTwdHREYGBgZw8KLkeh/rkBwQEwNXVlbV8pp+Yf3NJk3EO1q9fj4qKCsyfP1/v9xKJBG+88Qb++OMP5OXlWVm7xzA30t69ewN4nM0aEhJikbcvuVyOgIAAi3m9luTSpUt4++23MXfuXIwbN87o4z755BP06NEDkydPrpfFb08w1ys4OJiTa6dQKEAIQXBwMAghyM/PN1kGIQTJyckahxZ47NyeP3+e8+qUuudvariaiRKEh4cDAMLCwniLHNy5cwdXr17VTCkwjBw5Ejdu3OA1kskFcrlc47xzdZ+pqalBQUGByXKZt2h/f39OHpRcj0N98v39/TUlmtnKaNGihabeApc0CeegpqYGq1evxpQpU9CiRQuDv5s7dy5EIhF++uknK2r3f6SkpKBDhw511vdaKu9AJpOZbXh8UFFRgZiYGLRv3x6rVq0y6VgHBwds2bIFRUVFmDNnDqdzoNZELpdrymtzce0YGW3btq3zf1PIyspCbm5uPedApVLprVpnDtr6VlZWmlx5MSMjA87OzprzDQ8PR3p6Oi/2sG/fPjg4OOCFF16o8/nAgQPh5OSEffv2WV0nrqioqEBpaammEh9X9xnm5Y25fsY+6JkXInOmo3TlMXoUFBSgpqbGbJm68s3Vl4kQW+IlsEk4BwkJCXjw4AHee++9Bn/n7e2NV155BT/99BMvtfiTk5PrVfNj3r7Y1GloCG3Ds6dphbfeegv37t3D1q1bjarep0vr1q2xfv16JCYm4tdff7WAhpZH27ErKSkx2zaY68+UlmZjD4wDq+0cdOnSBa6urpw7tzKZDGKxGG3atNH83xTS09PRpUsXTUJueHg4FAqFZv25Ndm7dy/69++vqeTK4OLiggEDBtj11ALzMGrdujWcnJw4u88wchl7Nfahx/ULkUwmg5ubG1q2bMk64taYfHMiHYSQOudMpxV0IITg66+/xtChQ+uta9XH22+/jaKiono1DyxNaWkpMjIy6txcgcfztiqVCmfPnuWsLW2j4cqLtgbbtm3D+vXr8d1336FTp06s5UyaNAmvvvoq5s+fj6tXr3KooXXQDo8y/zdXHgBNn7KRl5ycXC/qJRKJ0KtXL86nxZhkNGYu21R909PTNVMKwONpBeZza1JaWopjx47Vm1JgGDlyJP79919OE/msCXNduHxb15bbqlUruLm5mRQ54HpagctxaEg+W2emtLQUSqXSYvd5u3cO/v77b2RkZOD999836vchISGYNGkSvvnmG6OzYLkgNTUVarW6XuTg6aef5vztq6ysDJWVlQgICLCbaYV79+7h1VdfxaRJkzBr1iyz5a1evRohISGIjY3lPCpjaZioD7MZDxfOQbNmzeDh4QEPDw9W8lJSUvTuYcEkJXK9jI3t+VdXV+Pq1at1nIPWrVvDzc3N6kmJhw8fRnV1tWb/BF1GjBgBlUqFQ4cOWVUvrtB2Dri8zzAPdj8/P5PkattNWVkZysvLzdKD63GoTXV1NQoLC82K7lqq/xns3jn4+uuv0a1bNzz//PNGH/P+++/jzp07SEpKsqBmdUlOToanp2e9XQMt8fbFGJq2F23L8+81NTWYPHkyPDw8sG7dOk52zpNKpdi6dStu3rzZ6HSTraEd9WH+z4U8AKxuRIaiXsDjaYbCwkLNbnJcwOjr6ekJBwcHk/S9fv06ampqNNEC4PFSZj6SEvfu3YvQ0FDN3LkurVq1QpcuXex2akEmk0EoFMLb25vT6UtmiZ+Tk5PRcnWjpYwcc2Dk+fn5af7PFUxeBaNvfn6+yS+r+u7zXGLXzsHFixdx+PBhvP/++yY9ULp3747nn38eX3/9tdUemikpKejdu7dmOZM2XL99MYOCCVkZu8EOXyxduhRnz57Fli1bNAU9uKBLly745ptv8PPPP2Pnzp2cybU0TLjRx8eHk4IuzBsQAFbhxzNnzkCtVut1Dnr16gWBQMCpc8ucv0AgMFlfxgHQdg6A/0tKtBZqtRr79u0zOKXAMHLkSOzfv9+qUUyukMvl8PX1hUgk4vTNlY29Pnr0CNXV1XXe9M19WDJ26OTkxHkhJN17tClLNnVlMOfM9UugXTsHK1euRKtWrTBx4kSTj33vvfdw9uxZnDhxwgKa1aW2thanTp0yuLUw129f2oZnqfkyrjhy5AhWrFiBTz/9VLPEk0tee+01jBs3Dq+88gqys7M5l881hBDNzVEkEsHX15ezmxwAVolLTNTrqaeeqvedu7s7unTpwum0GLP+GzA90pGeno7WrVujWbNmdT4PCwvD9evXrbIbIwCkpaVBLpcbnFJgGDlyJBQKBVJTU62iF5eYc50ak2uqvVrinmep82NkA/+Xr6H9mbHI5XI4ODjAw8MD/v7+rFb2NITdOgfZ2dnYunUr3n77bVZb9A4bNgydO3fG119/bQHt6nL16lWUlJToffMC/u/ti6sbrEwmg4ODA7y8vGzaOcjLy8O0adPw/PPP47///a9F2hAIBPjf//4HV1dXTJ06lXUBIGtRVFSEmpqaOtMAXIVH2cprKOoFcFsMiXGO2Oqrm4zIEB4ejtraWqslqO7duxceHh4GXwgYIiIi4O3tbZdTC7rXKS8vj5M3VzbXXzvE7u3tbfa6/9raWigUCk7HoTbaVVDZ5jQw45qJsLGR0RB26xysXr0a7u7ueOWVV1gdLxAI8N5772Hv3r0Wv2EkJydDJBKhZ8+eer9n3r64Cs1qh2UtkUzDBWq1GjNnzoRKpUJcXJxF97P38vLCpk2bkJKSgs8++8xi7XCBdqiQ+ZvLaQVT5dXW1uL06dMNPuQiIyNx7do1k8Oi+tBOpmWjb0ZGRr0pBeDxFJNAILDa1MLevXsxbNiwRl9cRCIRhg8fbrfOgfZ1qq6u5qT4mK5chULR6LSL9rgRCoVmr/tXKBRQq9WcjkNt5HI5vL294eDgwPrBrttPbGQ0hF06B8XFxVi/fj3mzp0LV1dX1nKmTJmCoKAgk4vtmEpKSgqeeeaZetsma8Pl25f2myKbpC5rsHr1ahw4cAAbNmzQlP+0JH379sXSpUuxbNkyHD9+3OLtsUX7DYj525xrp1Kp6r0BKRQKowu6XLlypcGoFwCN43Dq1CnWejKYc/5yuRxyuVxv5MDFxQXt2rWzinOQk5OD8+fPN5pvwDBy5EhkZGTYxbSXNroRKeYzruWq1epGawzIZDI4OTlpSuebO264Hof65DOynZ2dTVqyqU8Gl/3PYJfOwdq1a1FdXY033njDLDmOjo548803ER8fb9ECKfqKH+nC5duXdlhOIBDYXAnltLQ0LFy4EG+//TaGDx9utXY//PBD9O3bF1OnTuWkny2B9twp87c51y4/Px+EkHo3EWMLuqSkpDQY9QIeLxUMCAjgxLk1dP7GhKt1yybrYq0VC/v374dQKMTQoUON+v3gwYMhFovtrlqibvif+cwcampqUFhYaLJc7Wgpc5w5ulgigqcrnzk3tvK1ZXh6ekIsFj/ZkYOqqip89913mDFjhubCmcOcOXPg5OSEH374gQPt6iOTyXDnzp0G37yA/6s8x8Xbl3a4CeDesM2htLQUsbGx6NKlC7744gurti0SiRAfH4/Kykq89NJLNrm8Uy6Xa94kAPOvnb6bnPbnjWFM1EsgECAyMpKTaTF9+iqVSqNW26Snp8PFxUVTWVEXa5VR3rt3L6KiouDl5WXU7z08PNC3b1+7mlooLy9HWVkZ52FtZomfqXK5vufpixxwWUJZV182zoy2DKFQyHlehN05B5s2bYJMJsO7777LibxmzZph9uzZWLNmjUWW+zEP+8acg5CQEM7evrTDTQD3ITFzmDdvHmQyGbZu3QonJyert9+iRQv8/vvv2LNnD3788Uert98Y2klGwONrV1payrrct76bnPbnjaG72ZIhoqKikJqaavbNk0mmZbayNUXfjIwMdOnSxWDiZHh4OIqKipCTk2OWjg1RWVmJw4cPGz2lwDBy5EgcOXLE7MI91kI3wuPm5gaJRMJJTQ5tucZef67veUzhMIlEAuD/nBSuNu0zV1/tug5sZTSGXTkHarUaK1euxKhRo/Quq2LLm2++ibKyMovU4k9OTkZwcHCDG0IB3L196WZ7A9xn2rJl48aNiI+Px88//4z27dvzpsfo0aPxxhtv4L333sPFixd500Mf+q4d8zlbeQA0hVyYv43NAL9z506jU2LAY+dXqVSa3Z9M6WRt58hYfQ2tVGBgvrPk1MKxY8dQUVHByjmoqqrC0aNHLaQZt+g6B2xqUhgjVyKRwN3d3ehpBQZzddH34NXWz1zMnVYoKSlBVVWVRe/zduUc7N+/H5mZmUaXSjaWli1bIjY2Ft9++y3nO2+lpKQY9eYFcPP2xdTbtrVphRs3bmDevHmYPn06pk+fzqsuAPDVV18hNDQUsbGxNvW2pi88ynzOVp6Hh4fmDciUgi76NlsyRLdu3eDk5GS2c8v2/KuqqpCZmdmgcxAcHIxmzZpZ1DnYt28fWrdujdDQUJOO69ChA9q1a2c3eQe60z/Mv7lyDhgn1li5+uyGmfpgq4c+54CLN/OqqioUFRWZNa1gqf7Xxq6cg6+//hoRERHo06cP57Lfe+89ZGdnY9u2bZzJVCqVSEtLM+rNC/i/t68LFy6wblM3LMf8m88SylVVVYiNjUVgYCBv22XrIpFIkJCQgPv375ud2Molht5Y2N6UdOUxMo2Rl5KSYlTUC3ic3NujRw+zp8V09fXw8ICjo2Oj+mZmZkKlUuldxsggEAgsmpRICMHevXsxcuRIViXAR44cib1799pkLowuMpkMIpEI3t7ems+4CGvLZDJ4eXnB0dHRaLmGoqWAeU619oPXlIhbY2iXTmYwtYRyQ/d5rrAb5yA1NRX//vuvyaWSjSU8PByDBw/mtKRyWloaqqurjY4cMG9f5txgdcNyzL+NTeqyBAsXLsTly5exdevWelvX8knHjh3x448/4vfff8eWLVv4VgdA/TcWb29vs0oo68oDjH9LMSXqBTyOfCUnJ5s1fnT1NXa1DbOpUkPOAfB4nFtqA6YrV64gKyvL5CkFhpEjRyInJ8fqe0CwgSmdrJ3fwdW0gqn2WlxcjOrqak6dA10n1dHREV5eXpzt9qitIwBNCWWFQsFahikre4zBLpyD2tpazJw5E61bt8bYsWMt1s7777+PixcvcpZF/84770AgEBi9/bCjoyM8PDywZMkS1m3qCzcxn/GRDb17926sXr0aX375Jbp372719htj5syZmDx5MubMmYMbN27wqsu9e/eQk5ODzMxMzWcikcispai6b0CAceHHS5cu4dSpU/D19TW6rRYtWuDhw4fYvn07K13Lyspw5syZeg9vY/RdsmQJxGJxo86nSCTCtWvXLJJr8uqrr0IkEqFfv36sju/Tpw/EYjFeffVVjjXjnp9++qneNeEirL1u3TrcvXvXJLn67nnV1dUAgN9++81kHQoLC3H58mVcunTJJD2MZcOGDQBQZ7dYU50ZuVyueV4w3L17F5WVlTh37pzZOgJ24hykpaUhMzMTrq6uFq2k99xzzwEAZ1X0mDXmpmTlOzk5oaKigrX3d+7cOYhEojq15UNCQgA8LrZhTQ4fPowxY8bgmWeewVtvvWXVto1FIBBg7dq1IISgY8eOKCkp4U0Xppqe7i5+UqkUZ8+eNVmeWq1GZmZmnRAt8NgJvXbtGtRqtcFj79+/DwBGTSkwMDuO3rx502RdgcfnLxKJNPbK4OjoiPPnzzd4rEqlMmqctWrVCsDjMtVcc/XqVdTW1mryO0zFyckJKpUK165d41gz7vH29q63VNPZ2RkPHz40K4fHy8urTr4B8Lhf7t69q3ng68I4k8wKFwAIDAwEAFYbuTk4OEAgENRbEuvk5IS0tDST5enC3JubN2+u+YzpS2OjRmfPnoW7u3udKDpz32CznYBeiB1QU1ND3nvvPVJQUGDxtnbv3k02bNjAiazi4mJSWFho0jFVVVXkwYMHrNsMDAwkAEhRUVGdz6urq1nLZMv27duJs7Mz2bt3r9XbNpX333+fuLq6kry8PF710HedABA2Q7WwsJAAIEFBQXU+b968OQHQ6Hi6d++eyW3eu3ePqNVqk49jqK6urne8MedfXl5OKioqjGrDUveR27dvk9zcXLNkyGQycvPmTY40shy1tbVEpVLV+WzEiBEEAPn7779Zy1WpVKS2trbOZ927dycASGZmpt5jRo0aRQCQQ4cO1fncnHseWzs0Rb42J0+eJADIoEGDjDrewcFBry5c3uftwjmgGM+hQ4fI4sWL+VaDwiHr1q0ja9asYXXsm2++SVJTU+t8lpqaSt58800ONLMOu3btIsuWLeNbDUojPHjwgMyYMaOe02AuN27cIK+88opBp/PGjRtk1qxZZjmlxrB161by9ddfW0S2Wq0mc+bMIZcvXzbq95s2bSIrV660iC4MAkLsIDWWQqFQKBSK1eBocoI92dnZRmdoauPj44Pg4GBedWF0MOU4fXqzbdcQXMtjK5dtO3xhqX7juy2udDCkBxv7t+ZY46qvueovfZh7D7EUtnIvMUYun7bBpU6WkM1GPq/TCllZWUQqlWrmckz5I5VKSVZWFq+6SKVSkpKSYtJxunqzbdfQuXMtj4trZalrxiWW6je+2+JSBy7sl82YMWessW1Lt6+56i8uroW1xpEt3Usak2tNOzS27y15Xa1xD+E1cqBQKFBRUYH4+HiTKoplZmZi2rRpUCgUnHnQpurC6HDnzh2jj9OnN9t2GY9R13PMzMxkLa+hvmR7rUxthy/MuQ6mnk9jbeXm5qK4uFjz/7t372LJkiU4ceJEvd9rvw0YepPQlWeMDvow136NHTOGzv/IkSOct2XMOZp6no3J0oVNH1pjHBmjl/a1MtZOzZHr4eFRxzY8PDwQGBho0n3PXDts7PwYTBnnDclmdgxmVmAw52Dp+xXv0woAEBoaCoVCAalUCi8vLxBCEBAQoFnC1LVrVxw7dkzzGZuHk7EolUpIJJI6Oty5cweenp44ffo0AgMD4erqWk8H7aVUzHEZGRkQiUS4ceMGvL29G9S7uLgYFRUVBs//8uXLAKBZJpWbm4u+ffsa3JDHkDzmXO7evQtXV1eTlzeGhoaiW7duOHToELy8vKBUKuHp6VlP34sXL0IoFMLd3b3Bkra2RnFxMWpqauDq6grg/67lyZMn4eLigqysLAQFBXFig8XFxVCr1XX6UC6XY9KkSXXWQDNMmzat3mdSqVRTFyE0NFSvPQiFQoPLFpmxp+9apqamorq6Gu7u7iguLm7wnAkhqKioqHN8RkYGamtr8ejRIwiFwnrHGzr/iRMnQqlU1muDqf+hr62TJ08CeLy+3VBb+q4rM0Zra2shFosbva4N3asyMjKgUqmgUqkgkUhMthF99x5GpkQiQV5enkXvfYYw1HfJycl6bbUhO9V+MLGR25AtNySTue9dvHgRKpWq3jGm2KGx56ctX/debEi+PtkNnbOh+3xqaiocHBxw7949+Pv7s7Ibm3AOAGDQoEH4+eefUVRUhJiYGJSXl6OkpAQeHh44d+4cysrKQAjBM8880+iaZ3MIDg7GkSNHQAjB0KFDNRt/FBUVoVmzZqipqdGrw9WrV5GdnV1Hd1dXVygUCrRo0QIDBgxoUO+IiAicPn1a7/mfPn0awOMSnswacMYo3nzzTXTp0gWPHj1CdXU1rly5gvj4eIPygMdepIODA7p378662mRD1+v06dNQqVRwc3OzK8cAMHwdgoKCoFAooFarDe76x0Vbt2/fRmVlZb3rqlAo0L59e3Ts2BEikQg3b96Ek5NTnShSQ/Zg6HPgsaN59uxZPPfcc3Bzc0NJSQlKSkqgUqlQU1MDBwcHjBgxokH79ff3x4ULF+qMm6CgIJSUlKC0tFTv8YbOX6lU6j1/JycnfP7553rbeuqpp1BSUgKZTKZ3bxJD15UZo2VlZUbXdMjNzcWDBw/w3HPPITg4WNNfSqUSZWVl8PHxQVRUlMn3qRs3buDhw4d69ZPJZHXeHK2Job4rLi42ylYPHz6MTz/9tN5bq6lyDdmytm00dN+7dOkSRo8ebbYdNjQO9TkHBQUFOH78eB17ycjIMEo+03em3ud9fHzw4MEDeHl51an/YAo24xzs2rUL4eHhKCwsxIULFyCTyRAWFoauXbuiTZs2SE1NRVVVFdLS0ixSPpkhPT0dERERBvVISUnBwYMH61WO69ChA3x8fPQek5GRofcYbY4dO9Zgu1evXkVeXl49GTNmzEC3bt00/z9//jzi4+MhFAoRFBSE8PBwZGZmQqlUamT27NkTYrEY+/btY3XDSUpKgq+vL1q2bAlfX18cOHBAo6uPjw/KysqQm5sLDw8PXLt2jdMdNC1NY9dBqVSivLy8TpEpLttiIkO611WXvn376n34GLIHQ58fPXoUERER8PDwQE5ODtLS0urZbm5uLpKTkxuMMjU2bpKTk+sVctJno8xv9J3/+fPn8fnnnzfaVkZGhibS1lBf6x7DRA8aw83NDf369UNBQQFycnI0srp16waxWIyrV6/i6NGjJhfg8fX1RURERL3xyshNTU216HbThjDUd0xFwsZs1cXFBZ9++qnZcg3ZMvPd559/3uh1PnLkSL2HpSXGoTZSqRQRERF17MVY+UzfGeqLxs43NTW1Qd0awmacg/Hjxzf4/cCBAzX/tmTkYMCAAQ1erCFDhujV4ZlnnjF4HLPxUkN6N9ZuRESEXhmrV69Gr169UFlZie7du+PWrVua7xrr08beBg3RmFxjN5qyRRq7DiNGjADAjQ3qa4uRm5SUhC1btiAkJERzbZk3lbZt2+L+/ft6yz0bsgddeUyZ4cbOV/tammO/UVFRep0LXVtq3749Vq1aVe88RCIRTp06xbotY8/TmOvamP0bGquN0ZiOAwcOtOi9zxCG9GJ00XetGrNTNnIN2bL2d2z60BLj0Fj5xvYd2/HLPDfZ2I1NOAf6OigvLw+PHj3Co0eP8Oyzz+LmzZvIy8uDs7OzRXct06dLTk4O3N3dkZ+fj+LiYrRo0aLeXJG+465fv47mzZsjPz8farUaDg4OJrV78+ZNVFRUICwsDBcuXEBlZaWmfLSHhwekUini4uIQFxdXT15jRp2VlQWJRGLy9tANyRWJRBAIBFCpVOjQoQMuXrwItVqNZs2acVfS08Louw63b9/G9evXMWzYMFy4cAFubm4oKCgwuy19fcmESJcvX26UDKlUCh8fH82/9dmDUCg0KM/Q9WTGX7t27ZCSkoLAwEDNbnKmyLl16xZcXFxQWFiIhw8fGnX+EonEoF0Dhq+Rs7OzZoMx3fnqxuy2bdu2uHjxot5cD2P7q7CwEE899RSuXr0KpVJpsNyvIRo7r4KCAqN37eMSQ+ecmpra6LVi0LZTc+Q2ZMsNyWTue/fu3au3eRLX41AXfdf1ypUrRvcdm/GrfZ8vLCw02RYBgNciSNnZ2QaTqBqjoQQQa+kilUpx+PBhDBo0yOjjdPVm2y6ThKabnZ6bm2swoc1YnfRhzrUypR2+MOc6mHo+bNqSSCTYvn17vWkgtqsVqqur8frrr5tkJ4D59stmzACPz//nn382SWe2bem7rmzt3xJjy1rjyJJ2ylYuAL2rFUy975ljh42dH4Op52lItr7VCpa6z2vDe4VE3RvaF198gX///Rf79u1DWVkZXnjhBbzxxhv1sjitURTm999/xy+//ILWrVtj69at9X6vr5AGIQS9evWCSqXCqlWr0L9//0b11m131apV+Pfff+Hh4YHg4OB6G0GxKYI0evRo5Obm4t1330VsbKxJ8hqS+8knnyAtLQ1//vkniouLMWTIELz33nuIjo6ud7w9FUFaunQp0tPTsXPnThQUFGDo0KFYtGgRJkyYoPk9l0WQUlNTMXfuXADAqVOn6m2WZK0iSD/99BM2b96Mjh076t3Rzhj7/eCDD5CcnIy+ffti2bJleo/XPebevXuavv3zzz/rJQcaOm7RokVISUnBc889V29e29Axd+/excSJEwEAe/bsQVBQUKPnqO88U1JS8MYbb2Djxo2YMWMGPv30U820U2OyGpO9YMECnDlzBgMGDMDSpUtZyeQCbb0qKysxYMAAzJ07F9OmTcOwYcMwePBgvPvuuybrps/2nnvuOZSVlWHZsmUYNmxYne/YFEF65513cO7cOQwZMgQffvihXnm6x1y7dg1Tp04FABw6dAje3t4m62FIJ6VSiT59+mDatGmIi4vDtm3b6mzuxEURpKioKCiVSnz55ZcYNGiQWbrb1N4KSqWSeHp6koULF2o+mzhxIgkPD+dFnzfffJP4+PgQf39/o49hNrsRCARk7dq1rNodMGAAGT9+PHn11VdJWFgYKxm6uLi4EE9PT/LBBx9wIo+Qx5vduLm5kaVLl2o+GzVqFOnZsydnbfBBWVkZcXFxIZ9++qnms2HDhpHIyEiLtblp0yZNsRI+C0W9/PLLJCAggLRt25a1jOeff560aNHC6E1kCCHk2LFjmvNPTk42+rj+/fuTFi1akMGDBxt9zD///KNp69SpU0Yfp8uSJUuIr68vUavVpFOnTmTOnDmsZenSp08f0qJFCzJ8+HDOZJrL9u3bCQBy69YtQggh8+bNI8HBwZzsaVBZWUkAEEdHR7Jq1Sqz5RFCSEREBGnevDkZM2aM0cfs379fYxsXL17kRA+G1NRUAjzemAoA2bx5M6fyS0tLCQAiFovJDz/8YLY8m9qyef/+/SgqKsL06dM1n02fPh3p6en19ta2BnK5HF5eXsjPzzd6ro/Zj9vT05PV3t+EEKSnpyM8PFyTxc1mvkib8vJylJeXs9bJELt370ZpaWmdqM706dORmpqK69evc9aOtdm1axfKy8vrnVdKSgpu375tkTblcrkmg5nLa8RGDy8vL7N0YCND+7emHmettnRJTk5GZGQkBAIBIiMjkZKSwlqWLlxcB65JSkpCeHi4Zmvg8ePHIzs7m5MkSSafhctz5tM29JGeng6hUIioqCi0aNFCs9U0V5j77NHFppyDuLg4dOvWDZ06ddJ8NnToUHh7ezeatGEJZDIZ/Pz8oFarjU5AY5Jd/Pz8WF2ghw8foqCgQOMc1NTUmL2/O6OHv78/pwYfFxeH3r17o127dprPRo0ahWbNmmnW0NsjGzduRN++fTU1JQBgzJgxcHNzs5gdMrYG8O8c+Pv7o6ysDOXl5axlmGr/crkcjo6OEIlEJh3H9Jupxzg5OUEoFLLua5VKhTNnziAyMhLA43Du5cuX6+V2sIXpQ93kOb6oqqrC3r1766zU6NevH7y8vLBz506z5TPXge19UxdCCKs+lMvlmiWoXPd9eno6OnToAGdnZ4SHhyM9PZ1T+dp9yIXuNuMcFBQUYO/evZgxY0adzx0dHTF58mRs2rTJ6pm6crkczZs3B2C8oTAXKCgoiNUFYrzJsLAwhIWFAYDZRsTowVYnfcjlchw8eLDe9ZJIJIiOjkZcXFyDlcxslYcPH+Lw4cN1olfA42SeiRMnIi4uziKrZeRyOYKCgiAQCHh9IGgX22Fzk66pqUFBQQGCgoKQn59frxpdQ+0GBASYdGOrrq5GUVERgoKCkJeXZ1J0LyAgAL6+vqz7+tKlSygvL9csgYyMjAQhBGfOnGElT5vKykpN4a28vDyLrs4ylqNHj6KkpATjxo3TfObg4IBRo0YhKSnJbPnMdWjevDkn9s+sWAkKCoJcLje6Dxk7bNasGedOekZGhuaeHhYWxrlzoH2fb1KRg8TERKjVakyePLned9OnT8fDhw9x9OhRq+okl8s1CRzGdrZcLoeTkxOaN2/O6gKlp6fD3d0drVu3hru7O0JCQswOPzF6BAcHc2bwW7ZsgUgk0pt4OH36dGRlZWlK2toTmzdvhoODAyZNmlTvuxkzZuDOnTucho8Z5HI5AgMD4e3tzVvkgBCCvLw8tGrVSqOTqTDh4VatWoEQYvSucUzEwpToFtNWcHCwSdE9Nm3pkpycrKkyCjyuz+Dj48OJbWiP15qaGhQVFZkt01ySkpLQrl07PP3003U+Hz9+PDIzMzWrp9gil8shEAjQsmVLTuxfuw8rKytRVlZm9HHm2oY+tKeLASA8PBwPHz40a5dbXeRyOUQiEWd9aDPOwcaNGzF06FBNaFWbHj16oGPHjti4caPV9KmurkZhYaEmm9TYzmY8T6Z+tqmkp6cjLCxMUwWSCw+TMZqQkBCTvOiG2LhxI0aOHAkvL69630VFRSEkJMSq14sr4uLiMHr0aL3V7fr164fg4GCLTC3IZDL4+/uzthsuKC4uRnV1tWZOmY0ezDGmymDe5k05f+ZNiZnWstYYBR6vVOjevbsmT4TJO0hOTmYlTxvdPuR7aqG2thZ//vknxo8fX6867QsvvAAXFxezpxbkcjl8fHwQGBjIqXPA2IYpkd+AgAD4+/tz2u/Z2dl49OhRHecAAKd5B4xjExAQ0HSmFW7evInTp0/XC+UyCAQCTJ8+HUlJSUZ7gOai/Qbk5uZmknExniebC6TtXQLgZG6KmZcNCAhAdXW12fOiV65cwYULFwxeL6FQiGnTpmHbtm0mr6Pnk/T0dGRkZNSbKmFgzishIUHvhizmYKmbkiloP2xFIhErPZhjOnbsWOf/xhxn6rhhHgCmtmXuGAUeRw50K4FGRkbizJkzRk+lGILRiSk7zndSYnJyMvLz8/VWhnR2dsbw4cPNnlrQdo7z8vLMnpJk+rBDhw4ATHMcLeGkM/dw5t7evn17SCQSTqcWdHU39yXQJpyD+Ph4uLu7Y/To0QZ/M3XqVFRUVHCS/GIMjHGZGmLSvsmVlZWZVGBDqVTi+vXrmnkp4LEx5eXlmfXA0L4ZMv83h7i4OHh5eWH48OEGfzN9+nSUlJRgz549ZrVlTeLi4uDr66spka2P6dOno7i4GPv27eOsXbVajby8PIuEM02BaTcwMBC+vr5mRQ6YpGJTIgdsxhoAzY5zbMYom3N88OABsrOzNcmIDFFRUSgrK6u3r4OpyOVyCIVCjXPAd+QgKSkJQUFB6NGjh97vx40bh7S0NGRnZ7NuQ/v619bWml2BVC6Xw8HBQeMcWNNx1EdGRgY8PT01OWwikQhPP/00p86Btu5VVVV49OiRWfJ4dw4IIYiLi8OkSZMa3NildevWeO6556wWqmZuGqaGH7XDo9pyjOHKlStQq9X1IgeAeeEnc3TSpba2FvHx8YiNja1XqEeb9u3bo1evXnYztaBSqbBp0yZMnjy5wTLXTz31FHr06MHpeTFlcc0NdZsLW5vXleHl5QV3d3ejk7qYzHI2Y83HxwfNmjWDm5ubUccxjpg558jkFeg6B927d4eDg4PZUwtyuRy+vr5o1qwZpFIpr5EDQgiSkpIwbtw4g7uRjhgxAo6Ojma9uHF5j2KO9/f3h5eXFxwcHIySxyTTWmIcMhFh7WmZ8PBwzqcVuOxD3p2D5ORk3L1712CIWpvp06fjyJEjVtmZjPEafX19TfIitd9KtOUYQ3p6OgQCQZ2kn5CQELi6uprlYZqjky7Hjh1DTk6O0dfrr7/+arAmv61w5MgRyGQyo89r//79nCUT6Uap+JxWkEgkcHNzY60HY2sAjJbB5Dow519eXm7U9CGbtoqKilBTU6Npq7S01OSSyCkpKWjTpo3mJszg7OyM7t27m52UyJyXQCDg1R4AIC0tDffv329wsyl3d3cMGjTIrKkFLu9R2vKEQqHRK2CY+xSjh0KhMHuKiEF3uhh47BxcuXLF5P1tDMF1H/LuHGzcuBGtWrVC3759G/3txIkT4eTkhE2bNllcL7lcDm9vbzg4OBgdfmSyvdmG8NPT09GuXTu4uLhoPhMKhejSpYtZzgHjRbu7u8PJycksj3Ljxo1o3769Zue5hoiJiYFQKMSWLVtYt2ctNm7ciNDQUE32eUMw5af1ldRmg3YdioCAADx69IjznAZj9dB+KLGNHDC2b+zbl/b5mzJutNsyVl+2bWnDFD/SBxdJiWz60FIkJSXBy8sL/fr1a/B348ePx4kTJ1jryvXUp7m2ERAQAEII8vPzzdIDeFyE7tatW3Wmi4HHzkF1dTVnBeO47kNenQOlUonExERMmzbNYMhKm2bNmmHMmDHYuHGjxdf+MiEaAEZnf2q/lfj4+Jic1JWRkVHPuwTMT0rUvumbk8laXl6OHTt2YPr06fWylvXh7e2NESNG8FLAyhRKS0uxc+dOo8/L19cXw4YN4+y89D2w+Ii2sLF5fTLMvSkDxr31sNFXd+rE2LYYysvLceHCBYPbkkdFRSErK8us6CabPrQUSUlJGDNmTKO7qo4ePRoCgQC7d+82uQ2lUolHjx7B398fLi4ucHV15dQ5MNU2uHzAAo9rYhBC6t3bu3TpAsD8OjYANPltTI0GJycn+44c7NmzB48ePTIqlMswY8YMXLlyBRcvXrScYqgfslQoFI0WWWEuRkBAAIRCoUlJXbrrYLUJDw/HtWvXUFVVZeJZQFPpjrkRmnOz2blzZ72ywo0xY8YMpKWl4erVq6zatAY7duyAUqnUbLhiDDNmzOCsTLRMJoOrqytcXFw4Cwmy1cPchxKzTJCRYcx5aI8bU27KbPTVncIxti2Gc+fOoba21mDkoHfv3gBg1tQCmz60BJmZmbh+/XqdwkeG8PX1Rd++fVnlHWg7bAA356zbh2xtg4u+z8jIgEgkQufOnet87unpieDgYE7yDrR1Nyfypw2vzkFcXBx69uypWYpkDIMHD4afn5/F30Z130rUanWjc8y6Rm5KSPDBgwcoKioy6ByoVCpWhUbM0UmXuLi4emWFG2P48OHw9PS06ehBXFwc+vfvb9KOZSNHjkSzZs04OS9dW2M+sza6ejB7cpgjw9jIgUQigbu7O7y8vCAWi40+jk1bzs7OcHNzg7e3t8nlmpOTk+Hu7l7vRs8QGBiIkJAQs5wDNudlCZKSkuDi4oIXXnjBqN+PHz8ehw8fNjlLnst7FFA3wdUUeUwyraOjI6eRg/T0dHTs2FFTE0Mbrsooc92HAI/OQX5+Pg4cOGBwTbkhxGIxpkyZgs2bN3OWLKIP3bcSoHFD0Q5LMX8b63ky3qM+54BJUGRjRPp0YmM0TFlhU6+Xk5MTYmNjER8fb5PllO/fv49//vnH5POSSCSIiYnhpEy0dgjUx8eHtxLKbGxeG6ZwmG7ErbFxqj3txSSQNdauUqlEcXFxnbaM2SBNO9lPJBKZXEI5JSUFvXr1gkgkMvibqKgo1s5BRUUFSktL641XPsZOUlISRowYofehpo9x48ahpqbG5GW+5tw39VFSUgKlUlmvDxubitYeh05OTvDw8OBkHBqKCAPcOQfakQPmb7t1DphkrpiYGJOPnT59OuRyOf7++2+u1dKgO+8HNB5ikslkmrcSwDTvLT09HR4eHmjZsmW979zc3NC2bVtWRqTPaNgYPFNWeOLEiSYfO336dDx48ADHjh0z+VhLs2nTJkgkEkyYMMHkY6dPn47s7GycOHHCLB20H8pisRg+Pj5Wf1vUTqYFjLd5bbSzvZm/jUnq0j5/5rjG2tXXlrHRPe1VBqbcRNVqNVJSUgxOKTBERkbi/PnzJq+CYPRj9GL+rq2tRWFhocmyzOHevXs4f/58g6sUdGnZsiV69Ohh8qoFmUwGgUAAHx8fAOY/2PS9RSuVSpSUlDSqh64dmjsO1Wp1nT0VdAkLC4NMJjM7x0gul0MsFsPT0xMAN1MzvDkHGzduxIgRIzQGYQrPPPMMOnfubLE19FVVVSguLq4zZwUYFzlg3kqY44y9QLplk3VhuyaWMRqmzDHb6lkbN27EmDFj9JYVboxevXqhXbt2NlfzgBCCjRs3Yty4cRqHzhS4KhOt+8DiI5TMJNOaM72h76ZsjAw2529OW9oPAFMSL69fv46ioiKDyYgMUVFRUKlUOHfunFFydfVj9NL+29r2sGvXLjg6OmLYsGEmHTd+/HgcOHDApMqoTF0HJunRXPvX90LEtNOYHlyPw6ysLJSWljYYOQDML6PM2DWT2G+30wqZmZk4d+6cSYmI2jDllHft2tWoN8gGXe/d2dkZ7u7uRkUO2HqeDYWegP/bY8HUhzpTOpkxGn9/f5M3c0lPT8elS5fMvl47duxgvQ2wJTh//jwyMzPNPi9zy0SzeXPmGt0bqpeXl8mrbQzdlNmMG2OOYdsW28hBSkoKhEJho8t4O3fuDDc3N1ZLGtmeF9ckJSXhhRdegLu7u0nHjR8/HhUVFTh06JDRx+i7/qbssqmLvugL046pepjb77plk3Vp27YtpFIpJyXy9T17zFnVx4tzEBcXBw8PD4wcOZK1jKlTp6Kqqgrbt2/nULPH6BoX8282nqcxBV0qKipw8+bNBp2D8PBwKBQK5ObmGnMKdXTSPQ/mc2PZuHFjo2WFG2PatGkoKyvDrl27WMvgmo0bNyIgIACDBg1iLWP69OkoLS3Fn3/+yer42tpa5Ofncx7ONBVdmzd27l+fDGbzNOZvU9/mjR1rAoEAvr6+dfS2RFsMycnJCAsLazTKJBKJ0KtXL1Z5B3L549LJ3t7eGv2Yz62FXC7HyZMnTZpSYOjQoQM6depk0tSCvmtiyi6b+uQ5Ojpqopxso0pcjMP09HTNhlL6EIlEZtexAfTrbu4+OlZ3DtRqNeLj4xETEwMnJyfWclq0aIEBAwZYJAteN7TH/JuNcWnLMwRTNtnQvBTwf56nqUakz2ExRicGlUqFzZs3N1pWuDHatGmDPn362MyqhZqaGmzZsgVTpkxpdA13Q7Rr1w69e/dmfV4FBQVQq9W8TyuwtXldGUzhMOBx0qaHh0eDMnQzy7XbbeitRy5/XDqZuXZMdK+htrT3sNBuy9i3Q2PyDRiYpERTEwnlcjn8/Pw0CY/MEldr2sPu3bshEAga3OumIcaPH4/du3cbXfnP3HuULtpJpwDg4eEBR0fHBuUxybRcj8PGposB7nbe5bIPAR6cg+PHj+P+/fsmZ4frY8aMGTh27BiysrI40Oz/YBJkmLcSwPhQJ5sLlJ6eDqFQWG+vdG2Y3SFNnZvSF25iPjeGw4cPQyaTcXa9/v77b5OjH5bg4MGDyM/P5+y8Dh48yGog6oaRmX/zMa3g7OwMV1dX1nro2poxMrQLh2kfU1FR0WDEjU1bhYWFUKlU9aYVjInuKRQKXL9+vdF8A4bIyEgUFhbixo0bRv2egc15cU1SUhL69evHKh8MeOwcFBcXG52AbO49ShfdB6UxZah1E1yZfysUCrPKGxsqbKdNeHg4MjMzUV1dzbodrvsQ4ME5iIuLQ9u2bTXFQsxh/PjxkEqlnJdTZt6AtN8oGwsx6XsrMfYCZWRkoEOHDg1uPCUUCll5mLrRDDc3N0gkEqMfZHFxcQgNDUW3bt1MalcfkyZNgoODAzZv3my2LHOJi4tDly5dGh24xhAdHQ2RSMSqTLShKSxmOZa10E2mZfQwNXKg78HWkAxD56/9Hd9tAcCpU6cA1N9syRAREREQCoUm5x2wOS8uKS4uxpEjR1hNKTB07doVrVu3NnpqgYupT20MOVhsbYNtCeXS0lLcvn3bKOegpqYG165dY9UOE33jsg8BKzsH6enp+OOPPzBq1CijytQ2hqurK5577jl88sknZm/xqc23335bb0lUYyGmoqKiem8lxhR0UavV+OGHH4xa9lReXo4tW7YYnfymL2TLlFA2xmjOnDmDLVu2YMyYMZxcLw8PD0RFReHDDz+0SCKpsaSkpGDbtm0YO3YsJ/K8vLzQu3dvLFq0yKgNg7TRd1Nitr615nbX33//Pe7du1fnMzbTCrqbEaWnpzfoDBqaztD+Th/btm3DhQsXTNJ3w4YNAFBnHtbY6N78+fMhEomMLpTl7u4OqVSKd99916jfM+jrw0uXLml0tzRz5sxBTU1Ng9uxN4ZAIEDPnj3xyy+/4MGDBw3+trKyEiUlJXXOmamL8c0337BqX18fNmYb+uyQ+SwxMZGVHqtWrQLwuOx/QzDbOC9evJhVO2fOnEFlZWWdaq3u7u4mvQTqw6rOwa5du0AIMakiYmN4eXmhuroaaWlpnMls27ZtPc/T0dEReXl5BrP8mXC/9qZJAoEArq6ujSYmOTg46K1voEubNm1Mekg/ePAAFRUV9YqYODo6at6EGiIpKQmEEIPV4NjQrFkzVFVVmb3nvTls27aN8/Nyc3ODUqk02fs/deoUnJyc6lyjzp07QyAQaJLSrEFISEi9B5+DgwPu379vlONaW1uLq1ev1tsjJTQ0tM70nC5nz54F/l97Xx4cV3Hn/5kZSXNIsmZGI43kQz5k2RZBlgMJdgKEJLDLVlG7m92EkNp4IVvZDUlld0lqNw45XElI4rAUScgmmEABZbCNCQaHBDAx2ManbAw+JB+SbR2WD2lGmtE5OmY0M/37Q78e3nvzju43741l9n2qKOT35tufb3d/u/v7+vg2kDlqCyBzVpu+k4IQgvLyclx33XWi53a7HadOnVJc5583bx5sNhsWL16cxaV17DCRSMDlcjHdAUNRWlrKtecgmUyira0ti2Pp0qVZg51ZOHbsGIAPBiy9mD17NgghOH36tOrv6HvhrKnL5YLb7UZtbS0379TUFM6dO5dVhna7XfW017vvvgtAbIf19fWZjyk9oFzLli1T/R1dvlELrKWGkpIS2Gw20Z41m82G4uLi3G4IJXlEPB4n27dvNzTNdDpNXn/9dZJOpw1NU5re3XffTQCQ119/XVbmW9/6FgFAfv/734vSAUDcbrcq38TEBLP+4+PjTL8jhJANGzYQAORrX/ua6DkAwlL1ExMT5C9/+QszHwtSqZTh9cWLiYkJsmPHDkPT1JuvQCBAAJCxsTHR83yXj5zN33777QQAOXz4sKZ8NBolAEhNTY1s2kr46Ec/SgCQjo6OzLO2tjYCgNx0002q+koxe/ZsAoAMDQ0xy7W2thIAZNWqVYoyhBASi8XIxMSE6m+kSCQSZGRkhPn34XCYACC1tbVZ7/JlD6FQiHR3d+ecTjqdJkePHtXU+yc/+QkBQNatW5clrweXL18mAEh9fb3oud/vJwAU67Curo4AIL29vYboQcHaX4+Pj+fEJScLgBQVFelOM6/OwbWMaDRKvv71r5NUKiX7fmBggHzjG98gU1NTouePP/44ee211/KhYhYSiQS5//77szqol156iTz99NNXRScLYuzcuZM8+uijV1sNWfT09JB///d/Z+60vv/975OWlhYujubmZvLDH/5QNq2TJ09ypXX8+HGydu1aLhlCCHnwwQfJqVOnuOXMwIMPPkjOnDlztdXIG2KxGPna175G4vG4YWmuWbOGnDt3TvTsyJEj5KGHHlKU0Xp/LeLJJ58kf/zjH3XL2wgx+e5jCxYsWLBgwcI1Bf0HvGVw8eJFzdjmUgQCAa7b8PTyyPHxpqNHVwo9XABMLc9rrb7M5MtX3crxzGQ75OXLtSxySU+Yph49jKiHfKdhdvvgTT+f9WU08qG7XjkjbZQZRk1hdHd3E4/Hk1nPZv3P4/FwrXHp5ZHy6UmHV9dcdHa5XMTtdptWntdafZnNl6+6lfLMdDs006a00tVbNk1NTdx68MqYVZdGl6HZdXS16suIfRFXQ/erbaM8MGzmIBKJYHx8HJs2bUJ9fT2TTGtrK1avXo1IJMLs3ejhkeMDoJlOb29v5thTV1cX1q5di/3798Pr9YqOQ3m93kx4TKEMfTc0NMSlM9UTALNMb28vjh8/ntFRKGOETkK9rkZ9mcmnh0cP3/79+/Gtb31LVD+tra26bMMsXaW2IrR7oUw8Hs+KcKqVF6X2VF9fr8tGlXTdtWsXtx5aMlLI1QOPLSi1Vx57MLt98Kavlbbe+lLTSelLWsoFfNBPG9lHd3Z2mi7HKsPadgG2GQVDlxWA6TPEU1NTmUhrVVVVKCoqwrFjx7BixQrs2bMHgUAA5eXl3IOFEPX19YhEIvD7/ZicnITP58vi2rFjBxYvXgy73Y4VK1Yo6ptOp7PS2LZtG77+9a9nBaJZvXo17Ha74hEltXdKZdPS0gKHw4Hu7m54PB5RudB8ejwe+P1+EEJk83nfffdldKWORS46dXZ2wufzoaurC3a7HbNmzTKkvuTyceDAAXg8nsxNmFoX27CANnY1rkAgwBzxTgvJZDIzWArrlRCCCxcuoLS0FN/73vcAZNcP1VfODmk9tLa2io5Z5QKlOleyeTmdHQ6H4sU4cumHw2F84QtfkG1PgLaNSssmHA7j7rvvlo35sXbt2oyc1AaU9BDKyJXNgQMHMGfOHBw/fhxVVVWqbUHJ9mg7P3XqFB544IHMEVEle1BLI5FI6A7OAwCEEIyPj4tsjdprZ2dnTv2zUv3rqS+q18jICAghoqPkFy9eRH19vexR21z6aLl2SMump6cHc+bMySobNbspLS1FT08P5s+fnyUnVw+0ze/ZswfXX3991rFMHrsG5O3L4/GgtbVV1UEw3DlYuXIlDh8+jMHBQdxzzz0YGxvDyMgIvF4v3n//fUxOTiKRSGDZsmWZM7V6cccdd2D9+vWKXGT6NIaiY6Cmr9PpxOTkJB544AE0NDRgeHgYiUQCp0+fxqZNm7KeRyIROJ1OrFu3TlFGiaukpAQ9PT0Apu+MIJI9or29vbh8+TJuu+021NTUYGRkJBNB79VXX8Xk5KSsrrnoBADnz59HLBZDTU0NGhsbTauv2bNnIxQKYXJyMqd7DoRQytfs2bMRiUQwOTmp+1yxHM6cOYOLFy9m1WsoFEJFRQWi0SgmJiZ01UNraysmJydht9tzctAoeG0+Eomgrq4OS5cuhcPhwLPPPosNGzZw5aWjo8NQG+3o6JAtT2F60WgUe/fuFbWblpYW1XatZjd0MFaLZKpWviUlJYhEIhgZGcH4+Liq7mppXL58GXfddZco1DUvTp48ia6urqy0Y7EYnE5nTjE2jKyvkZERxGIx0UBIQWcq8tVHx2IxFBcXyzrFanbT09MDp9MpG2NBrh6A6b43EAggkUhkxQXibV/Cttvc3IxLly7hkUce0ZwRMtw52LNnD1auXImBgQEcP34coVAIy5cvx4oVK7Bo0SK0tLQgmUzi6NGjOUfde/XVV9HY2KjI1dTUhPb2dthsNsXwv0r6UiO89957RbLHjh3Dpk2bsp7Td+vWrVOU0SqbI0eOYHBwMHObGEVpaSk+9alPIRqN4sqVKxm5m266CQUFBXj22WdldWXRyW63Y/bs2Zn43pOTk5n0b7jhBhQUFGDfvn24cuUKZs+ezV9JAmjVV0tLC9rb2zE+Ps59VawULPnavn07xsfHs8pbDyoqKrBy5cosLlpHW7duBaBsTyy2MTw8bIiuvDYvxcWLF7FhwwauvNAgT0a1G5b0PB4PVq5cKWo3SnKs9QB8EMGPt3xpGjQAmJruWmm89NJLomBOvFCy1xUrVmD58uVoampCa2urrrSNrC9hG3rzzTdl85yvPrqgoAAtLS2Ix+NMeRbW1759+2QDaCnVA+2jmpqasoKI8ZavELfeeiuOHTuGRx55RPE3FIY7B5/97GdVlRNO4+b6JaoV/5vlimElfalujz32GFatWoWJiQnceOONaG9vBzAdPXDLli1YuHCh5jt6xatW2dx+++0ibtZ83nrrrbp1Ykn/rrvuktWLF1o80il+s/nuueceQ3gA7bqls1dK9qTXNozUVcnmHQ4H+vr64HK5MDg4iL1793LnhaatZqNGp6cmZ2Y9aKXB0l610vjiF7+Yky1opX/nnXeqRrbkTVtvfQmhlGc9fbTe+qd9lFQPLTmlPpSlHlhk1NpuOByG2+1GNBpFT08P84yp4c6BXIU4HA50dHTA5XJhzpw5OHr0KFwuF0ZHRw3nOX/+PDweD8LhMG688UacO3cOiUQCRUVFsvH8ldI5cuQIXC4XNm7cmHUdr91ux89//nNZvdTeqelcW1uLCxcuIJVKie6JUJNxOByora3F7t274XQ6DdWpo6MDwHTI5tbWVhBCcqovOaOleUgkEhgfH8eNN96IEydOIBqNoqamBkVFRbr5lPIVCoUwMTGBRYsW4fTp0xgcHDRkeUEtfwsWLMDevXvhdDpl7UlN346ODlRWVmamtOntcblAiev06dOqOgrhcDi48hKJROByuVRt1Mj0APk6OXz4sK56oHVZUVGB9vZ22a9HNV6e9qqmR0dHB9xuN+LxeGYpUg/UHMBoNIq+vj7u66bVdGepL6U8U71CoZDoroZAIACPx6Orj9ZT/0p9NItcW1sbxsfHs254VLIVylVcXJxla0rly9p2gek9B1q3bhoWBEltc4gaWDZGGMEj5QPAnY7L5cLLL78MQHx5i9ZpBQCKm3HUuGw2G5eMUEeqj5E6AVevvszm4+XRyyetn97eXu56yJeuSjoD8qcVePMiTNfIdrN+/Xp885vf5NKDVwbIrgc95ZurPZjdPnjS15t/3rIX6mTUaQWA39Y8Hg927tyJO+64gyvPeuT0csm1XYDttIKhERKlFdXR0YEvfvGLuO+++/Dcc8/hwIEDWZt5jAricf78eXzpS1/Cvffei40bN2L//v2yG4e0giD9wz/8A3p6evCf//mf+PKXv5yzrmo6//3f/z16e3vxwAMPyHIB2UGQtm/fjrVr16KkpCQzvatXR6lO9MjMvffei82bN+PAgQNZX+9G1deZM2fwz//8z7j33nvxwgsv4MCBAygsLMwpP0p8p06dwn333afKZVTdnjx5El/5ylcyXAcPHhRtsmQNenPnnXciEong+9//Pj7/+c+boisAvPnmm/jhD3+Iz3/+8zhy5AheffXVLJlcbKqpqQn/8R//AWD6chutstBKLx6PZ65NfuKJJ3DTTTfJ6iqV+81vfoOtW7di2bJlePrpp5lkJiYmcMsttwAAnnzySXzsYx+TlVPT90c/+hE6OzsxMTGBj3/84/jud7/Lnca+ffvw7W9/G3a7HYcPHxbNdOXaPi5duoTPfe5z+MpXvoINGzZg9+7dolsEcw2CNDo6ik9/+tMAgGeeeSZrc7hS2T/66KP405/+hIaGBqxfv15WxmjItcN77rkH3d3duP/++/Ev//IvTLrv2rULa9asQVFREZqamrL21inJ3X333bh06RK+8Y1v4L777mOSefvtt/Hggw/C6XTi4MGDily6oDNmBBM2b95MAJDdu3cTAOTQoUOmcW3cuJEAILt27SIAyLvvvqsrnbKyMuL3+8l3v/tdgzXMRmlpKfH5fOTBBx9klnn00UeJy+UiAMjk5KSh+jz77LPEZrORt99+mwAgx44dMzR9IZ5++mkR14kTJ0zjeuqpp4jdbs9wNTc3m8b15JNPEofDQd566y0CgPt+AEKmL3EqLCwks2bNIj/5yU9M0PIDrFmzhtTU1JBnnnmG2Gw2EovFDE3/ueeeywRkuXz5cs7pXbhwIZPeCy+8wCx33333kerqarJkyRJmmc7OzgzXli1b9KhLVqxYQb761a+SL33pS+SWW27RlcbTTz+d0SMcDutKQwmvvPIKAUD27NmT6auNxNmzZzO6v/zyy8xyX/rSl8icOXNIQ0ODofrwoqKiglRUVJBvfetbzDKPP/44cTgcBFC/BEyKQCBAAoEA+fa3v80s89vf/jbDxXPJFwtMvbK5ubkZNTU1+MQnPgGHw5G51tgMtLS0YP78+fjEJz6RuZ6TF5OTkxgeHobf70coFDJByw8wPj6O0dFRlJeXc3GFQqHMNbO53NUth+bmZtTW1mbiDJhdX3V1dRkuPfXFw7VkyRJ8/OMfz/zbLDQ3N2Pp0qWZr0w9XIODg5iamsqLHTY3N6OxsRGNjY0ghBh+lXYoFMocuTMiLzQNugbNI+f3+7najJBLT1ubmprCmTNnMuVLz8rzIhQKZb7mjW7zLS0tqKiowCc/+Uk4nU7D2wYtw4KCAu6y560vo5FMJhGJRODz+Uzvo6empjJxe/SUE/3bSJjuHDQ2NsLlcmHp0qWmDgCUy+12Y8mSJbq4aKUEg0HTjZKmX1lZycUVDocRDAZFaRgFWoalpaWora3NS32VlpZi0aJFeeEqKyvDggUL8sLl8/lQU1OTkx3y2oYeUH0/8pGPZM5BG4lwOIzKysrM30akB/C3UdpuhoeHZQPFqHHprYezZ88ikUhknIORkRFcuHCBOx1hmzd6AKD1X1hYiOuvv96U+gf09XN0I67W0VGzEIlEQAjRbWv0bxbQDcf54GKFqc5BS0sLli9fDgBobGzMS6dMufR4wLRwaVAeMyHk4jUGGm/ASB0JIWhpaRGVoVn1RQgR1dfy5ctN+5qn+aJ2uHz5clPzZQQXtYc5c+aYaod9fX2Zc9VmOfChUChjr0Z0XqFQCHa7HdXV1dxfWLx6hEIhOBwOVFdX66oHWpbLly/P2ITefsnIMhSiubnZ1LYRCoVQVFSEqqoqrjKkeSaE6L60LVdQfXn7aKGtseZZ79hjpm2Y5hz09/ejt7c3a8DWM62mhXA4jHA4LHJE9HDRSqmpqTH9i41yzZ8/n3vKqqamBjabzVAdr1y5goGBgSznwIz6unz5MoaGhvLCdfHiRQwPD+fsOLLgwoULGB0dzZkrX3ZIdTOzbMLhMKqrqw1bIgmHwwgEAlyDTTqdRn9/P+bPn59Jg5WroqIiE56WF3Sp0+v1Yvbs2SgvL9c1+NLBpqSkxFB7GBkZQVdXl6j+T58+beiXOv2y5fkiTiQSGBgY4K4vo0F5a2pquAfsOXPmoKioiMsRBabHA15HZO7cuSgsLLx2lhVoIxB+HY6OjuqaVtOCtJNbvnw5hoeH0d3dzZVOOByG3W7HokWLcjrny8pFz8DzcFFPMRAIGNpohF859P/RaBS9vb2GcShxNTY2or+/35SvZKkdNjY2ZpzJfHD19vZyx8APh8PweDyYN2+eqR1jc3MzPB4PamtrAXwwg2OkkxYOh1FVVWXYUh1Nj2fAjkajSKVSmXzyfM1R3fXOHFAbt9lsumfjhHk2so2cPHkSgNhe4/E4zp07ZxiHHt1pLA/e+jIalHfx4sUYGBhAIpFgkqMOMY/dUFteuHAhIpFIVjwEFq5rZuZA2vFQAzRjSre5uRnFxcU5c4VCIQQCAVRXV8sGujASNOb+7NmzkUwmMTAwoCmTSqXQ39+f8cSNbDTNzc0oKyvLeOtm15fX68W8efPywuX3+zFnzpy8cFH7yYUrFAohGAyiqqoKsVgMY2NjhutK9WpoaMgcjctlXVwJwrwYtSGR1/7p7+rq6mC327m+5qjuejpe4dIZoH+pTphnoz8ICgoKMvd1UEfGyLahR3daX/ROgas5c1BWVoa5c+cCYAtARgjRZTd0EyPtE1k+KIRcRo8HgInOQUtLC66//vpMx1NdXY1AIGBap9zQ0JCJXT1nzhz4/X7uKVLhFBj9t1nQwxWJRJBOp03pKOhaOT0nu2DBAsyaNcu0+mpsbBRxlZSUmDLdT7/eKNeiRYtQXFxsSr6kZVhbWwu3283NlS87FO6PAIx3nJLJJKLRqKH2Kiwb1hk34XpuIBDg+poT6s4zk0j3cwidg+XLl6OjowOxWIw5HXqCyqwPgvr6+kwsE7/fj7lz5xraNoRlGAqFmGalhNP5ZWVlV3XmgLcdjo6OYnJykru+pG2eRY5ermTGeACYPHMgbBh0Ws3MAUDKpadTplNg9N9mQThlycpFf8M7rcoCufoya6OgcOMjMB3O1KyNgnJcDQ0NptmhkMvhcOjiyocdJhKJzDE7CurAG1U2/f39mZv0zFhWSKVSTDNuwhMOPHoI22gymRRdF6wF6VKn8G86nc8C+rVqRpuXtg2qo5FtQ1hfk5OTTCHYhSccjM4zD/S0Q2EfrdfW9HCZUU6mOAdyHQ9gzg74RCKB1tZWQ7iknqKZHqtw6omVi/7G6K+IiYkJnDt3Li/1NT4+jvPnz+eFa2xsDO3t7XnhGh0dRUdHxzVjh21tbZiampJ14I0qG6G9mrGsIOTQkikpKUFxcTH3VK+wjfJ0vtJlVQC47rrruI+LmtXm0+k0Tp48aWrbkE57A2xlGAqFUF5ejsLCQlOmy1lBv+bpUVzePlqPrfEc+zXLNihMcQ5oxyP8mgc+mFbL5QIfKVpbW5FMJrOMXM8UHjWG4uJiFBcX52VZoaSkJHNRFIsMwP8FpIVTp04hnU7L1tfZs2eZz4XnytXW1mYo18mTJ0EIkeVqbW1VvTxHDxdNW8p15swZ5s1MwAe2UV5enrlVzWjQAaChoUH03MgZHKm9Dg4OcpWDFBMTExgdHeUebIRnwVk70bGxMYyNjel20qRLnQDgdDqxbNkyrvKVlmF/fz9SqRSzvBI6OjowNjYma689PT2GHB+UTnsDbGUora+rNXNAB+zCwkLm4ETS+uJZSgkGg3A6ncxBl+TGAyM3E5viHNBpKanh6ZlW04JSJ6cn4pvQKM2ezpJysRpDaWkp3G43qqqquAK6qKGlpQV2ux3XX3+96HljYyNSqRROnz6dMwdFc3Mz7HY7PvKRj8hy6b1DXonL4XDIciWTScO5CgoKcN1112VxTU1Noa2tjSmddDqNvr4+BINB2O120wIhtbS0YMGCBaI4+lRfoxx4YedlxBKJdBoVYB9s6O952poeLgrpEhMF77R9OByGzWbLHKk06ty/9GSNUD/h+1yQS33lqx/m0YNV98LCQvh8PlRVVSGRSGRdAGUkl9PpRFlZWWbZRu7mYb0wxTlobm6W7Xjq6+tRUFBg6JpWc3MzFi5ciFmzZome807hTUxMYGRkJGPEZk5njY2NIRaLibhYp5GEMoAx69HNzc2oq6uDx+MRPb/++uths9kMra+WlhYsXbo061KshoYG2Gw2Q6f7KZfL5RI9zyUgjRrXsmXLsm4q5OUaGBhAMpk03Q7VBi8AhoRRDoVC8Hq9cDqdhtircBqVZ3aPfgFSWd4pW57ZPUB5qRP4wDlg3dxIT1AVFBQYuszU0tIi+qKnqKurg9vtNqRtCMvQ5/OhsLBQVz93NZYVaDhjPX10MBiEzWZjtvmpqSlEo9G8cPHANOdArmHomVbTgtymGmA6HjoPl9DLpf83y2MVflHR/+uZHhWmlQuU6qu4uBiLFy82tL6km0cpSkpKDA/ZrJQvM0I2K3HxhmzWaxu8UNKXOvBGfTkaaa9626hUj9HRUc2reXOpB6VlVWDaOYjFYujq6mJKSzrrIdQtFyjVv8PhMCyMsrAM6QCmp76i0WjeQyjTo4S52hp9pga66XSmjAcUpi0ryDUMwPgNL0pGDvCF5RV6ufT/ZnmsuXRyRncU0pC/UhhdX0rOHGBsGOV0Oq2aLyPX1o3kyoeTGg6H0dfXJ6uvkQ680F6NuF+Bhk4uLy8HwN5G9bSbcHg6SBnl4qkHaZAvIXhnkqSzHiy6s+podtsIhUKZaW9A3wwpXUrhDSSWK+ScQzNtTfj7qzkeCGG4cxAOT0efUxoAeKfV1BAKhdDf3686sLFySY3BzJkDvY6IsKMIBAKw2Ww5OzCXLl0ShTKWwsjQxt3d3aJQxmZySUMZm8nV2dmJsbExTS4W5MNJVVpvpjDKIRTaa2FhIfcNpFKEw9OX8dDYKSyDTSqVyuzhoDJUNy3dKysrMxsKeepBaakTmO5XKioquJxFqrPb7casWbNytoehoSF0d3er1v+ZM2eYo/QpgepO436wlGE8HsfQ0BB3fRkNuXbIu4Q1a9YsOJ1OJluTcvGOB16vF0VFRYaWk+HOAUvHMzY2xjytpga5s8RSLtaQzeHwdOjkQCAAYLqC+vr6DNkZLMcl/CqhXFpOjLCjKCgoQEVFRc4ODEt9DQ4O4sqVKznxAGz1FY1G0dPTkxeuSCRi2PqtFldfXx/z14DH48lcc2yGk9rc3IySkhIsWrRIUd+TJ0/m7MALv2yA3JdIhJ0hwFY20WgU6XSae69OLrqrzY7xHhc1ugyB7LDJUjQ2NiKRSODs2bM58QhnAAC2+pJOsecj5owc5D4WBwcHNU84CeuLdSmFvqeza8FgEAMDA5rOmXA8sNlshm9eNtw5aGlpQXFxsWLHY2SITtrJLVy4UPY9NX6WKTwazlj4VZJOp00JoUy/gOhXCUtAl1QqJdogQ3XMdXBraWmBz+fLhAiVwuj68vv9mVvEpOCpLxYuYShjJS6j8kUDtuTKJTcY0A2sRqGlpSXrmJ0Qy5cv51oXV4KewVwNws4QYLN/6VdZIBBgCqGci+5qU/YA34kFqR5GtPnm5mYUFhZi2bJlsu+NavNy9cVS7gCylqPyPXMQDoczm2mBD+xHLYSyMK4DBYvdhMNh+P3+TKRKmnctLmlfYfSHhCkzB2odT1VVFSorKw3rlJcvX67KxRqyWa6g6XOjIdfg6XMl9Pf3Z0InC+WMmDkQhvyVoqamBl6v17D6EoZNlmL+/PmGhWzWyhcN2WwklxJ4QjYr2YaRdsgyeNHf6QXdgW3kwCbXRrXO/Uu/AB0OByoqKjT1UBrYtGZTQqEQ+vr6FL/KgenBt7OzU/PYmfQEFWDMANDc3IzrrrsOhYWFsu+9Xi9qamoMdw7oET21pTxpfTmdTni93rzPHMjNegj1k8PIyAji8bguB5Z3PBgaGsrEkODh4oEpzoFawwCMW9PU6uR4pvD0VJBe6HFEpJtW6N9GdBRq9UXDKBvpHMwELiNDNrNwNTQ0zAgnNR6PKx6zE3Lm6sBLd3vTv41cVggGg5oXpEkHG1Y95OqBJVyz1jKd8J1WvBc53Y36IMhHHy0dYIPBIOLxuKpTFAqFMnEdKK5GrAM555DqpyYD8Nv8TBoPhDDUOVA73yuEEbvS4/E42tramIychUtuOpc+Nxp6HBHp9Cj9OxfnRSmUsRRG1FcsFkNHR4eqMwcYE9t9dHQUnZ2dhtmGGoaHh3HhwgXDuMx2Utva2mQjikqRa52bYa96OtFQKITS0lJRDA+zvuaA6SUbtaVOYPq4aGFhoWb5Kg0AuZRhKpXCqVOnTG8bdNpb6pQB2gMsDZ1McTViHUgdm4qKCthsNk1bA/htXmprLEspZrQvKQx1DpRCGUvR2NiIrq6unKI5nTlzBqlUiomLJeKbtII8Hg9KS0tNmzkQcrEEdDHjK+LUqVMghDCV4blz5zTPhhvFlWvIZq0NV0KuXEM283CxhGyW2obf7zc0hLJSRFEpcv1yVLLXoaEhXWGr6b4LPV9zQhkqp1aesVgM4+PjupZ3tJZVAaCoqAj19fWa5as0AEQiEd3n/tvb2zExMcFkr3SJRA8GBwcxNTXFXYbSfpjKXe2ZA5bTNko239fXp7mUIuXSCtesNh4YFULZUOfgwQcfBADFTWAUpaWlAIBf/OIXpnPRXd8PP/yw6u+kFZROpzE6OopHHnlEt45qXNLNa1pTQuHw9N3iwmh/LS0tGBkZwfvvv69LjzVr1gDQLkOPx4N0Oo1HH31UFw8Pl9vtRiqVwq9+9SvdXN/5zne4uB577LG8cCWTSfzv//6v4m9o6GShbSQSCaRSKfzP//yPbh2F+K//+i8AH7QLJSSTSXR1dWHfvn26eGiZCu9SYNlopYRXX30VwPSdABQsg82vf/1rtLe3i55ptbU//vGPAKaPqPJwTU5OYvPmzUy3Nw4PD+PJJ59UHeSlJ6gA4OzZsyCEYMeOHZoccvjBD34A4IOvUyX4fD4AwEMPPaSL5+WXXwYAXLx4MfOMpQzl+sZDhw5h9+7dOd3LwQs9TiXtH4V1yhJCWe944HK5RMdlq6qqNJdteGCoc+Dz+TJH7NRAv1qKi4t1c/n9fsO4Ll26hFgshoKCgswzm82G2bNna3rYvOju7sbY2JiIC5hel96/f7+i3L59+7JC8958880oKCiA3+/XpYvf78/EAVcDLQNpeGUelJeXo6ioSJNrxYoVAJAVXlkPlzR8txJXrvlyOp2yZ9qFoGUoDeUsRFtbG1KplGhKtaioCBUVFRldc0VlZSUqKysVN2pS3HDDDQCg+gWshoaGBrjdbtEgRMv56NGj3OnNmzcPDocDH//4xzPPXC4XioqKVNtNQ0ND1n0XwAftUA41NTUoKCgQcbndbhQWFqo6Sw6HA4WFhZpLZwDwkY98BE6nU7V89+/fD4/HI/rNqlWrUFBQoHgyRgterxd2ux3z5s1T/d3SpUths9kyH3K8WLBgARwOR8aOgOmPQofDoVpf77//ftamz1tvvRVerzerzzQL/f39iEajWXw2mw0HDx5UlFuxYgVKSkpEZUbb+/Hjx2Vl+vr6MDAwkDklJ+Q6cOCAIte+ffvgdrtF7ZhynThxQlGOC8RgJJNJQ3+nhHQ6bRjXiy++SACQf/3Xf83iMBqbN28mAMjXvvY10XMARK06CgoKZN/noqORZWhx5c61fv16AoB85zvfyeIwCqlUiqRSKabfGlE2Qrz88ssEAPnqV79qSHpjY2MEAKmsrGSWIYSQz3zmMwQAOXHiBLNcLBYjAEhVVZWqjqxlxmI3s2bNIgDI1NSUqm68yGfbEGJoaIgAIPPmzVPkA0BKSko00zITr732GgFA/umf/kn0XKuPJiRbzyeeeIIAIGvWrJH9/Z/+9CcCgKxevZqLy+VyZb3/3e9+RwCQ733ve6o6ssJw5+BaRDKZJN/5zndILBbLG9fY2Jjo+RtvvEG2bNmiKPf666+TF1980Wz1LFxFTE1Nkf/+7/8mExMTV1sVU5BOp8n3vvc9Eo1GDUvziSeeIAcPHuSSCYfD5Ac/+AH3gPPEE0+QQ4cOccnkgnfeeYc888wzeePLB373u9+RI0eOKL7/7W9/q/o+H0in02TNmjVkZGRE9Hznzp3kueee40orlUqRNWvWkNHRUdX3Uq633nqLPP/884rp7tixg2zcuFH0bGpqiqxZs8awccxGiIEXQFuwYMGCBQsWrnlwL+JcvHiR+z5xuqGGRy4QCKCmpoaLTw+PXlmqXz7BW/Z6y0OPXDwez9oTwYLe3l4A2hv6jODLlx3qlcuVi2Kmt1GtdqM3vXyVNfDhtCHg2qt/1jSNhtF5npHgmWbo7u4mHo8nsx7C+p/L5SJut5tLxuPxkKamJi4+PTx6ZT0eD+nu7jZk+sasstdbHnrkHA6HrnK32+265PTw5csO9crlwkVtcaa3Ua12w6s/TU+PnJ6y/rDa0LVa/yxpGg29NnqtgWvmIBKJYHx8HJs2bUJ9fT2TTGtrK1avXg0AzHJUprOzk5mPlae3tzfrWElXVxfWrl3LrCPlikQiqh6hmncpp4fX60V1dXXWO6/Xi6GhIa6y11PueuW2b9+OtWvXcvEIuXjl9PDlyw5Z5aR1TG1w165durioLc60NirMJ83j/v37ZX8bCAQ09VdKDwC3nFZZK9URYG458eioh0tJzux8SevfyH5Oqy9Wg1I/LadfdXU1Wltbudu1Wp6V+nw6m6r3nRS8Mxi6zobQCvT7/SCEoKqqCkVFRTh27BhWrFiBvXv3ory8HOXl5aLCGxoawtTUlOjGuaKiInR2dsLn86G3txcFBQVZBa7ER+X27Nkj+n19fT0ikQg8Ho9IJhwO4+6771YN5jM0NIR0Oo3JyUn4fL4M14EDB+Dz+XD27FmmYEAXL15EfX09xsfHZd/b7XbFOO1q75TKsKWlBYQQdHR0YO7cuaIypOVRVlamWPbvvPMOlixZklVfcuVOj9hQHWk0uPr6etxwww146623ZLkOHDiAOXPmYHBwEMlkMsOlVF/Cck+lUojFYrjzzjvR2toqkvP7/Vn1JSwPt9udlS+1Ou7u7obX65W1QyU58v/vnJdyAdPnnukSCLXDL3zhC7LBl+jgo1TPR44cQXFxcea2QaUOVK2teb1etLW1IRAIoLi4mKlsWlpakEwmM8e7pLyEEIyPj4tk3nrrLaxevTorn3QgksLj8eCll15S1F+p3ITpTU5OwuVyiWxo27Zt+MY3vpHVbmlZS+unqKgIBw8eVO0rlMqJtqdDhw7JXjDGy6Wm44EDB1BcXAyn04mhoSFNuxP20X/5y18wMjKCj33sY1x99J49e1BbW5u1pCfXV2jVl1Y/J9f30Ngu/f39WeOLHqj102r6AXztWivPescDLR2F8Hg8aG1tZXYQdDkHK1euxOHDhzE4OIh77rkHY2NjGBkZgdfrxfvvv58J1rNs2TIcO3ZMUw6Y9gBDoRBqamqyzqdHo1Hs3bsXt912G2pqajAyMoKRkRFEIhG0t7djyZIlmRutKO644w6sX79exNXR0YGJiQk88MADaGhowPDwMBKJBCKRCJxOJ9atW6eo4+zZsxGJROB2uzWjywEfzLKocfG8O336NDZt2qSoX0lJCUKhEAKBgOyFKr29vXjvvfeyyjAUCuHy5ctYuHAhPvGJTzDVFy0LGrFOOgOixGW329HV1YVAIIDbbrtNxCVXX1IuuRgJQq7S0tIM1+TkJEKhEJYuXYpVq1Zx5QtAlj1RO9yxY0cW16xZs9De3i7LBUxH87x48aLIDicnJ1XrPxqNYufOnVll6HK50N3djcrKSnzmM5/J4tLKIzAdTyEcDsPn8zG30ZKSEsRiMUQiEdkvk5MnT6Krq0skMzU1pZjPuro6LF26FA6HA52dnSgoKMDq1asztiSX/5aWFs1yO3fuHHp6ekR6OJ1O2XZP25S0fkZGRjA0NKQqo1a+58+fx4IFC2Q/dHi4hPmSk5s9ezZCoRCSySTuvPNOTbujfXRTUxNcLheWLFmCj370o1n1P2/ePLz00ksghOBv/uZvMsF2BgcHUV5ejptvvjmLS66PZqkvPf3c5OQkAoGA7vguQij101QPnjpRa9d1dXWw2Wy4//77dXHxvhO2r/Pnz8PpdHLPsOhyDux2eyZAUGtra6YjXr58OW644QYUFBSgqakJL730EhYvXpyR27NnD1auXImBgQEcP348I7NixQosWrQIZ86ckY0k5fF4sHLlSkSjUVy5ciWL68yZM1kyr776KhobG0VcNEjEvffeKwrOAQDHjh3DunXrNHVsaWlBU1MTc1mpcfG8O3bsGDZt2qSp35EjRxAKhUTlDkwHIPnUpz6VVYY33XQTCgoKsG/fPuzevRterzcjw8Il9ZK3bduGRYsWwev14sqVKzh69KhIZt++fUgmk3jnnXdETqBcfUm5BgcHswLoKOWL2saRI0ewY8cOUbAslnwRmUM8Sna4YsWKzF0EBw8ezArgVFFRgZUrV2baynvvvadpGyxc27dvVwyGo9ZGaZ2fOXOGq2xou5aDNI9a7U2IW2+9NWuwkcs/S/vl0YO2KT0yWjbU1NSEkpISTVvIJV/CunzjjTeynDYlGRpIqampCXv27BEF8LLb7Th48CBWrFihmLddu3ZlOep660upfFnHGK0geKxQ0oOnTtTaNZXTy8X7Tgi59sUC3SGn/vEf/1H1/Z133gkAIqU++9nPqmZi5cqVWTKsclIZOf3ob7Zt24YtW7Zg4cKFmJiYwI033pgJsarFdfPNN3NF71Pj4nlHo25p6Xf77beL8kqhVV933XVXlhwr1+bNm7l5pFxacpQLmP7y5ZXTky9eO7z55puZ5Orq6vDLX/4yZzuU4xJCq2zk2psWr1y7VpKjv3nsscewatWqTB7pXRFutzsTmVTqZKqlx1tuSnqwyOhth3rKKRd7uOuuu7jtVUlHljZlVL6U6oRFD7nZEr1Q0kPOdg8dOiSbZ7V2LZRT4uIpJ7X06GxBbW0tLl26hHg8rhqZVQm6nAOlzNNQkMuWLcP58+cBQHSdqlwmqMzcuXNx7tw5OByOrLU3JT5aAO3t7bh8+bLm7w8fPgyXy4Wf//zn3Hmja9exWEzEpYRAIACPx6PIZbfbdb1TMgSHw4EFCxbg5MmTKC0tFcWvV8pTKBRCc3Mzbr75ZvT29iKRSIguqFLjqq2txYkTJ0AIUTVuh8ORiQfvcDiwZMkSnDp1ClNTUxkd1fSLx+O4fPkybrnlFpw7dw6JRCKzAU3NDoeHh7F48WK0t7ejr69PFJ5UKV+pVApLly7N7FeQDlhq5VFZWYne3l6UlZVpytEpQTU7VGorLpcrs/RBp1jloNZmxsfHUVtbi3PnzsHpdIrqXK1MXS4XotEoLl68mLXmLCcXiUTgcrmwceNGbNy4UTGvFB6PJzNzpZYeb7kdOXJEVQ8lLrU6UusnKisr0d/fj4GBAUxNTWnqd/r0aV35ov1fd3c3XC4XE5dQpqenB3V1dSIb0uprL1y4AI/Hk3XPgZ76stvtXHUibQNyevCC9tNyeqjpB+hr10ppao0HSnpo6SiEx+MR3dOhBa4gSFqb7JTgcrlgs9m4bvXzeDzYuXMn7rjjDmY+PTwURUVFsNvtzDf0sWzuMPK0AgDNzZRS6C0PPXIOhwOpVIqLB+DbUJOrXL7sUK+cy+XC+vXr8c1vfpNbR2qL10Ibffnll2X3LdCOi0d/mh7A1z70lrXT6YTNZuO6yVOvDenRMReufNe/Uf0c70Y7KXhPK/T29nLbmlqeZ+ppBe4IiXIFuWHDBjzxxBOYO3cuXnnlFVmlAHGADUIIVq1ahWQyiYcffhh/9Vd/JZsRKd+zzz6Lp556CvPmzcPWrVs1eaRcjzzyiGiKWk32mWeewdNPP42amhr84Q9/kNUvn5CWRTqdxk033QRCCH75y1/i05/+dJaOQHZ5PPXUU9iwYQPmz5+PLVu2ZPHIyaVSKdx0000AgF/96le47bbbRDJKQYmefPJJPP/881iwYIFo+YFCLghSMpnMTHn/+te/xqc+9aksOTm+3//+99i4cSMWLlyITZs2MeVLyPWb3/wGt9xyS5aMnB2uX78emzdvRm1tLZ5//nlZLqmckOu3v/0tPvnJTzJxPf7443jhhRewePFiPPfcc4pcFHJt9Pvf/z4OHjyIT37yk7K3ocqVzYULF/D5z38ewPSX3Pz585n0ffDBB3Ho0CHccsstWV9DeoLgbN26FQ8//DAqKyvx5ptvKqYnlbv99tsxNDSEtWvX4nOf+xyT7i+99BIeeeQRVFZWYvv27Vm6KbWpz3zmMxgZGcGPfvQj/N3f/R0T14svvohHH30UwWAQb7zxhiyXnNynP/1pjI6O4sc//jH+9m//lklmy5Yt+NWvfoWqqiq89tprzPm67bbbEIvF8NBDD4mWBNW4Nm/ejN/85jeorq7Gn/70J1kZNUjTa2trw5e//GUAwJtvvpl1o+RM6IsfeOABnDhxAn/913+dufnyaupnBLiXFWpqarIyumnTJvh8PoyMjKiucQnlhoeHM0ejiouLFeWkfM8//zy8Xq8ql1Q/enTO4XCockllN2zYoMmVT0jLIhKJgBACu92uWYZCOBwOeL1ejI6OMpcFXQKw2+0oKSlhLg+73c7EJQS9M53eCscqZ7PZ4PV6EYvFmPPV09OT+VuNS1r2rPkSyl25ciXzXK0MpVw2mw0+n08zX0ryADA1NQWfz4epqSnmsonFYpm/A4EAs75TU1Pw+/2aXKz6//nPf0ZZWRkGBwfx0Y9+VPFGSaFcMpnE8PAwSkpK4HK5mHV/9dVXmbmE+R0ZGUFxcTEX17Zt21BWVoahoSHmfNGlP4/HA7fbzcz1yiuvMHNRxONxxGIxuN1urnxt3bo1U4ZG1L/w6uLKysoZ2RfTI62pVGpG6GcEDLmyORQKwefzYWBggHkNiA4Afr8/8zernN/vRyQSyVpjM5qLHvfq7+9XvXf9aoHmxev1qt79LSfn9/vR19fHPDVPucrKynTVVzgcNp0rHA5nuFgnxGi5zZo1S3e+WLlo+qWlpbrqKxQKMXOppcEjI/e3GVxa6VHHZnBwkEmmv78fhBD4fD5duicSCdmTU3KgjrPevmxycjJzDNJsrvHxcZHTpwZqo9TOebnGxsYUr8XmgZDbKJsyGtRGZ6p+emCIcxAOhxEMBgFAtBFOSwaY9gR5DC8cDmemlfr7+03nCgaDIITouq/BbNC8BINBXWWYSqVEG0ZZuPTWVzKZZO7Yc+Xi6dhz5YrH48wde671NTk5Kdo8yANqy7y8hYWFKCoq0qUvj4xWerR/YU0z17LWw5VLX/Z/nUsrPXrs2SibMhKEEPT19XHb2kyHYc7BnDlzMn+zygDAnDlzuA1v7ty5eeEKhULc+conqE40GAqPXD7rK19ceuqLllsu+WIt+3zWlxBTU1OIRqOYPXs21+xeOBxGdXU1V6cXj8cxODiIOXPmIBqNMs/uaemRS1nPVHvVw2WEverJl157NeJLOhQKobq6mnsGI18YGhpCIpHI1Ine2b2ZBsOWFej6C6sxhEIhFBUVcRueXi6Xy6WrU6absGbidFEoFEJxcbGuQZQ3X6FQCKWlpdxlqLe+ysrKUF1dzSxDCNFVX+FwOLPDl4dLWIY8Hbvf70d1dTWzjN58CUFn82garLN7oVAIwWAQwWCQmZemXVNTkwkpnSuENsQ7iM6fPz8v9gpM55mXS4+96uXSky+bzYaamhrd/YtRMwe8dphPCG1tYmJC9+zeTEPOzgH9KqmtrQXA55VWVVVxdZT0q0QPVzAY5OKanJzE0NAQFi1axMWVT9Ay5Gk0Y2NjiMViuuuLxhBnQSwWw/j4OOrq6ri5gsEgF9fo6CgmJia48xUKhbjzNTIygng8nolCydOx89YX/SqhXHrskMrwpqGnzunveOtcCdQ5qqmpgdvt5nb6eBxnoSPmcrm48uz3+3Vz8SzbhEIhlJeXc82IUK4FCxagsLCQK1+BQIDLcU6n0+jr68OCBQsysUpyhZ42mk9QnXj7npmOnJ0D+qUwZ84clJeXc3mlQm+QZSqGcs2dO5dr8wc1Lj1c9K6Hmeqx8g6i9Hfz58/P3MfAw8UzsAk9ao/Ho7u+WEDztXDhQrhcLi45vflauHAhd8fOW1+Ua9GiRSgqKtJlh1Rm6dKlon+z6qunbJYsWcLFpQTqYPIODsKyHhoaYopLQO/k4LU9YTmxLttQp48u2+hxMFk3ZQ8ODmJqagrV1dWorKzkzldVVRUikQjTpuyBgQEkk0nu5Sg1XCszB8uWLRP9+1pHzs6BcOMPjzEIKzyRSGB4eDgvXKybumgF83LlE8J8xWIxpp3BRpQh/UrPB9fw8DBTx07ri3acvINIMBjE4OAgU8dO09bjwFAu1vV4IZfeTX5U5rrrrhP9m0dfXueTXjiUa7uR2pCesgbYllKMsFezuYT2CrBtyjYiX6xLRHrrSw3CPM/Uftjlcs3oWWY9MMw54O2UhVOWwnRYuXi/lqkHzMvF+6WXTwi/Iui/WWSAa6u+eDtbXi5hvni49ORLWF9mcknT8Pv9KC4uZt7URaeihbwsM250KrqkpAQ+n88w50CvveptG7nYkJn9Sy59Wa72amb/ooSpqSkMDAzM+GWFqqoq+P1+rmWbmY6cnQPqGVZWVqKqqkrXVJwwHRauiooK7mk/oZGzyIXDYdhsNm6ufEI47QewNd5QKASHw4Hy8vK81FdBQQF8Pl9e6quwsJCbS/rVx5qvoqIilJWV6frq460vl8uF0tJS3XZIeQEw1zmd9qZlE4/HmWb3hFxGtBvhDJ7eZQVhOqxcepcVeLn0zD7xto1c88Vrr5TLiMGcOtC8yzb5BC0nm802Y8cKPTBk5sDn86GoqIi5o6RfJcIGxeqVlpeXo7CwkIuLnkHl4QqFQggEAigoKJiR01npdBr9/f3cnVI4HEZFRQXsdjtzvlKpFCKRiK76qqys5OJKJpOIRqO66kvYQFlk6GZaPfni7QwSiQQGBwd11RdvvpTSANjP/Uunh4XPjObSSk+Pg0n1qKiogM1mY9a9qKgIXq9X1/Q7z9n+cDgMp9OJWbNm6XIwebmEDqbefLHaq8fjQUlJieHOIc+MWz5htM3PFBjiHPB+lQwPD2e+SsrKyuB0Ork6Sh4uuhknGAzC5/OhsLDQNK58IhqNIpVKIRgMory8nHlnsJ58RSIRpNNpBINBBAIB2O1207hoZDthx24Wl/CrhLcDnMlcRqQhnfbOp77S9KiDWVVVxRTVU+hgFhQUIBAIMOteWVkJm83GvJSSSCQwMDCAYDCIwsJC5k3ZQqePlSsej2NoaAjBYBBOp5N5U7aUi2VT9uTkJIaHhxEMBuFyueD1enXXfy7n/vXaYT4x08cKvTBkWYFWWjAYxNDQEOLxuKYMMF2QPF9EUi65K1HN4opGozMqhLIwX3a7nXmzmjRf/f39mrcpCrkcDgcqKip0cbF07EIu2rHr5dLqlIRctGPPB1dRURHz2r+Ui3XtXysNFhmqL+8MDi8XT3rJZBIDAwOqMrQ+9ORZKMMSrpk6fblysSzbCNfzc+Fi2ZRtFNfExARzuGal9GhaPHaYTxht8zMFhs4csE77CL1B+n89U5b55DIqoItRMCpf6XRaM4SyUVypVEqzYzeKi6Vjl3aArGuk0i8FlnDNRuWLJ1yzUhq8095lZWXMRzbNWFaQtnmtNI3sXz4sXEIbN5uLN19a6fn9fhQVFRkaktkoCJetAcs5ECEXw9PTKc9krnxC2njzUYYfVi7a6bCukUq/FPRw5csO6bS3MI3BwUHN2T3Ka7PZRFPfaqDT3kKuXEMoz/Q2f7W5WO1VOmBryQlnjuj/r0a/KXQ2eJZt8gW6bC0tpw9DCGVDlhX0GB79KqFyZhq52+1GSUmJ6Vz5RCgUQklJCYqLiwGYX4azZs2C2+1m5qIhhvVweb1eOJ3OvHDRzbRUTqsjE26m5eWim2l58qWHSwjhXgfh/7Vm3ITlyaqv3NcmCxerHrwDmx6nb6Zz0RNUVM7MWQqbzYZAIJCRuxr9ppwdzqSPNOGyB/0/zy2bMxk5OQf0DCotGGq0LIYXDAYzd4qzVLhwMw4A5ikmPVy0cnm58glhgwfY8kWvUNXTUfByxWIxTExM5IWLhjPWw0U9foDt60i4mZbKsHLx5ku4mZbKsHBJeYWyZtaDXi4lSJ2jkpISeDweJj2kDiav01daWsoUQplOewudPhYu4VQ067JNODx9WqugoICZi4YzpnZKN2WzcNHTWrxcNF8+nw8FBQU5zxzwttF8wmibn0nIyTmQbsYpLCxk2kCmVOFqUzFSLtZNXXq4pNN3dLfuTKpwPY1Gmi+Px4PS0lJTBlEpF53lyAdXaWkp3G63rgGQd7p11qxZcDqdecmX1+vVdX2yMA0eZyZXfXOdVqYOph49pDJakTapg0nlWJdS5Li0lm1oDAkjuLSWbaQOJuvxW+HSGSvXwMAAUqlURo7nCLMS9LTRfMJom59JyMk5kE6p0L9ZDE8qo7Wpy0gurWkfvVz5hFy+6KVKajL0t0I5PWU4OjqK8fHxvHBpdexSrlw6QK3TNtIvBeHxMN58aQV00ZsvuTTo7Bed3dOjL++0N8+RTTXdjbAhQL3DNppLbSkln1zSwYv+rcdx1tqUbUa/KddGZ9LAK7dsTZ9f68jJOcjF8KQywvSuVa584sNahvnm0juICLlYp9zl8mVGxy5NQ7jXgWV2j05765lxE05F8xzZVEqPckv10JL7sNqrHJfaQJSLI3K1+01h4DAe3fMJWid02VrP7N5MhSHOAf1CANg7St5OORwOi75KzOay2+2ZzTisXPmE3nw5HA74/X6RnFllSMMZ54OLhjPm5dLTAQo301I5s/Il/CqhcrzOgZCXJQ1h6GShjNYFaXq4tHSnafCkp7esP8xc+XCc9eZLCdKlZPo3SyydfEFaTrlEMp1pyHlZQbgZB9D27KQbf6gMTU+NS7gZh4UrnU7r5goEAnA4HMxc+UQqlRJt/AHY80WjzQnl1GSSyWQmTLMeLupRs3BNTU1lwjTzcgWDQS4uYWQ7s7ni8bjsF5AZXEppCKGVhtLXJqu+PFxqCIVCsg4m7/R7IBDQjLQZCoVkHUxeLpZlm1Dog/sycuFiWbYJhUKZcMb54CouLs6coGLlUkuPpiFMD5g5a/pG2/xMQs4zB0KvDtD2SqWbcYDpTV1aO4P1cA0ODiKZTIrkWKZ99HDlE9FoFOl0WqSj3+/X3BmsJ1+RSEQUbQ5AJlyz0Vx0PVMoR++BMJpLesSPcmnF4Zfj0vpSkPsCYjkBY4Qd6klD6WszH/pK05M6R1VV6iGU6X0ZQj0KCgo0o3pKp4dZuKjTJ+RiWbZR4lJbtqHhjIVcLMs2arM5SlwTExMYHR0VcdFwzXrrX8+5f6WZCOG7q42ZPlbkgpycgz179siG3h0aGsKVK1dkZd5//30AEM022Gw2OJ1O7Ny5U5Fr7969slwDAwPo7e1V5aLn2ClcLhd27dqlyiUNlUwIQSQSmRGV/t577wEQ58tms2nma9++fbL5CofDiEQizFx2u10XVzqdRigUUoySSLnoETTWfO3fvz9rF3U6nUZPT48i15EjR7K47HY73G43du/erch14MCBLC5CCK5cuaK4ofbdd9/N4nI4HHC73dz5SqVSuHz5MtMNiclkEs3NzVlTsPF4HM3NzYrhwPft2wcAoqUT+vf+/fsVuVpaWmS5Tpw4oRmiWw67d+8WDaDAdB2lUimcOXNGVqa5uRkARLN+VE6trOXq3G63Y2pqCm1tbVxcDodDk0s6WNpsNiQSCZw7d05W5sSJE7JcBQUFqlx79uzJema32xGPx9He3i4rc/z48UzaPFzvvPOObL4mJibQ2dmpKKcEqrtwNofOthw8eJA7PaMxOTmJtra2rE3F8XgcR44cueYDIeXkHDQ3N+Ps2bOiZ62trQCAo0ePysq88847ALKnp4aHh1U75ZaWlkzaFLSD0OKSDugjIyOqjsipU6eyOh/aQdCGczVBG6hwQCeEIBaL4e2331aUO3PmDE6fPi16Rv/d0tIiK0PLSciVTqcxNjamytXW1oZTp05lcRFCNLmE4ZzT6TTGx8fx1ltvKXKdPXs2i+vUqVMghGTll4LqLgyxnEqlMD4+jh07dihynTt3TpFLacCS40omk5iYmFDNV3t7O06ePJnFlU6nFQcsIWKxGAYHB7Ns9sSJExgaGlI82fLGG28AmP6CpKCnRV5//XVZmdHRUQwNDclyDQ4O6oqvf/DgQVy6dEn0jA4yTU1NijIA0N3dLXoeCoUyTo8cDh06hIsXL8pyHTp0SFbmwIEDAJAlFw6HsXfvXkWud999N0u/jo4OVS7qlEnLo6+vT5Orq6tL9Iw6BYcPH5aVoeV0+fJl0fP+/n5ZZ4Pivffey3ICzp8/n9GDF9u3bwcA0akoaofURq8motEoxsfHM44bRXNzM8Lh8Iy7WpobJAds27aN7N+/X/RsfHyc/OxnPyPpdFpWZmJigvzsZz8jqVRK9PyVV17JSkuIl19+Oev92NiYKhfVRY7rwIEDqlwHDx7M4vr5z3+uyJVPKOmydetW0tTUpCi3detWcujQIdGz0dFR1XzFYjHZ93/4wx/I4cOHFbnk3o+OjpJ169Ypcim9f/HFF8m7776ryCX3XotrZGREkevIkSOqXNL3w8PDmly/+MUvst5v2bJFleuFF16Q5Xr44YeZ7fDxxx8nXV1domddXV3k8ccfV5RRei+XlvT9hQsXstJav349k65SbN++nbz11luiZ4lEgvz0pz8lyWRSViaZTJKHHnqITE1NaaYlfb9z504urkQiIcv1xhtvkLfffluR64033sjiisfjmlw//elPZbmkaQnx2muvkV27dslySftFLS65tIT485//THbv3i16Njk5qcqlhrNnz5Knnnoq6/ljjz1Genp6uNMzA7/+9a9Jb2+v6Flrayt5+umnr5JGxsFGyDU+92HBggULFixYMBQ5361gwYIFCxYsWPhwwXIOLFiwYMGCBQsiFGj/ZHrDjdJudgDo7e0V7dT2er2orq5WfC4no1fO6/UCgGJaSlxKslpc9J0QgUAANTU1Wc+NgFrZs5a71jtg+ty/9FSHlpweGTU5pec0TSC7nrXey6WZqx3ylm8u6cnpKGeH9MSOnH0a2da03mnlRQhhuzHbzs3Ml9F6XM30zCxDOVAb0FP/aukZDR79gKszVhgOrU0J3d3dxOPxEACK/9ntdq7nRr9T+71Zegj/83g8pLu72/ANIVplb2S56ylDveVupA5XwzaMtqdc822GTmblRfgfbTf5tPOZUuczxb7y/U7OBpqamnTVv5pNzYR+OF/6mQXNmYNIJILx8XE88MADaGhoyFxZG4lEUFdXB5vNhvvvvz/r/enTp7Fp0yZZOafTiXXr1hnyrqurC7/73e+49ctFj7q6OixduhQOhwO7d+/Gj3/8Y0QiEcM9QrWyV9JPT7lTmU2bNqG3txc+n4+53Hlk1Lj0pqdWz7mkaWT56k1Py36pHba3t+Pf/u3fTGlrP/zhD+Hz+XJu88I2c/r0aZSWlmL16tWZr7F82PlMqXO18r2WdM+l3zx//jycTidWr16Nzs5O7vpXS8/ovlhPP5xP/UyDlvdw9OhRAoAcPXqU672anJHv9OqXyzs9v9MDPfoZLaP03mi7yKUejdZRr575KnsjeK9GXpR+OxPq4cPKNVNsQw70t5s2bTI0PaP7YqPza8ZYYQaY9hwAwLZt27BlyxYsXLgQExMTuPHGG+FwODKBNB577DGsWrUq844G2pA+dzgcmWA3cu+U0nM4HJkAIcJ3NGKW3O/Pnz+fCYAkp7+ajjTIilK6tbW1aG9vzwoUYgZ4dKfP1WSk72gZKtUxrS/hexrcREmGBohh1U9LB2oXWjrK2QaPjNY7PeWbS77lbJ6+6+vrg8vlygQBU8uHXn2NKhuhvoODg7KRAHnaYa71IMdFA1Llg0upXo3mMtpetfKl1n/Ti8QikQg8Hk9WkCBeLq30jAZvOQnHikuXLilGv5yx0PIerD0HV28dydpzcPV0NLp8zcy3GTqZlRfhf9aeg6tvX9aeA/P64XzpZxaYgiBZpxWy3wlhnVZgl1GTs04rsOlonVawTivMVN213klhnVaYubAiJFqwYMGCBQsWRLCCIFmwYMGCBQsWRLCcAwsWLFiwYMGCCJZzYMGCBQsWLFgQwXIOLFiwYMGCBQsiWM6BBQsWLFiwYEEEyzmwYMGCBQsWLIhgOQcWLFiwYMGCBREs58CCBQsWLFiwIILlHFiwYMGCBQsWRLCcAwsWLFiwYMGCCJZzYMGCBQsWLFgQwXIOLFiwYMGCBQsiWM6BBQsWLFiwYEEEyzmwYMGCBQsWLIhgOQcWLFiwYMGCBREs58CCBQsWLFiwIILlHFiwYMGCBQsWRLCcAwsWLFiwYMGCCJZzYMGCBQsWLFgQwXIOLFiwYMGCBQsiWM6BBQsWLFiwYEEEyzmwYMGCBQsWLIhgOQcWLFiwYMGCBRH+HwHijNfK8wKrAAAAAElFTkSuQmCC",
>>>>>>> ef00fe43381872cb2ea1cf4c29bbbd5dd157e5c4
      "text/plain": [
       "<Figure size 640x480 with 1 Axes>"
      ]
     },
     "metadata": {},
     "output_type": "display_data"
    }
   ],
   "source": [
    "tree.plot_tree(DT);"
   ]
  },
  {
   "cell_type": "markdown",
   "metadata": {},
   "source": [
    "<div class=\"alert alert-info\">\n",
    "чтобы спрятать вспомогательный вывод к графику достаточно поставить ; в конце, обрати внимание"
   ]
  },
  {
   "cell_type": "markdown",
   "metadata": {},
   "source": [
    "<div class=\"alert alert-warning\">\n",
    "<b>выводы?</b>\n",
    "</div>"
   ]
  },
  {
   "cell_type": "markdown",
   "metadata": {},
   "source": [
    "accuracy"
   ]
  },
  {
   "cell_type": "code",
<<<<<<< HEAD
   "execution_count": 1300,
=======
   "execution_count": 3169,
>>>>>>> ef00fe43381872cb2ea1cf4c29bbbd5dd157e5c4
   "metadata": {},
   "outputs": [
    {
     "name": "stdout",
     "output_type": "stream",
     "text": [
      "Decision Tree valid accuracy_score: 0.796906523201076\n"
     ]
    }
   ],
   "source": [
    "print(f\"Decision Tree valid accuracy_score: {best_accuracy_DT}\")"
   ]
  },
  {
   "cell_type": "code",
<<<<<<< HEAD
   "execution_count": 1301,
=======
   "execution_count": 3170,
>>>>>>> ef00fe43381872cb2ea1cf4c29bbbd5dd157e5c4
   "metadata": {},
   "outputs": [],
   "source": [
    "prediction_test_DT = best_DT.predict(X_test)"
   ]
  },
  {
   "cell_type": "code",
<<<<<<< HEAD
   "execution_count": 1302,
=======
   "execution_count": 3171,
>>>>>>> ef00fe43381872cb2ea1cf4c29bbbd5dd157e5c4
   "metadata": {},
   "outputs": [
    {
     "name": "stdout",
     "output_type": "stream",
     "text": [
      "Decision Tree test accuracy_score: 0.8110289172831204\n"
     ]
    }
   ],
   "source": [
    "accuracy_DT_test = accuracy_score(prediction_test_DT, y_test)\n",
    "print(f\"Decision Tree test accuracy_score: {accuracy_DT_test}\")"
   ]
  },
  {
   "cell_type": "markdown",
   "metadata": {},
   "source": [
    "f1_score"
   ]
  },
  {
   "cell_type": "code",
<<<<<<< HEAD
   "execution_count": 1303,
=======
   "execution_count": 3172,
>>>>>>> ef00fe43381872cb2ea1cf4c29bbbd5dd157e5c4
   "metadata": {},
   "outputs": [
    {
     "name": "stdout",
     "output_type": "stream",
     "text": [
      "Decision Tree valid f1_score: 0.798889972310849\n"
     ]
    }
   ],
   "source": [
    "f1_score_DT_valid = f1_score(prediction_valid_DT, y_valid, average='weighted')\n",
    "\n",
    "print(f\"Decision Tree valid f1_score: {f1_score_DT_valid}\")"
   ]
  },
  {
   "cell_type": "code",
<<<<<<< HEAD
   "execution_count": 1304,
=======
   "execution_count": 3173,
>>>>>>> ef00fe43381872cb2ea1cf4c29bbbd5dd157e5c4
   "metadata": {},
   "outputs": [
    {
     "name": "stdout",
     "output_type": "stream",
     "text": [
      "Decision Tree test f1_score: 0.8141143752852329\n"
     ]
    }
   ],
   "source": [
    "f1_score_DT_test = f1_score(prediction_test_DT, y_test, average='weighted')\n",
    "print(f\"Decision Tree test f1_score: {f1_score_DT_test}\")"
   ]
  },
  {
   "cell_type": "markdown",
   "metadata": {},
   "source": [
    "\n",
    "<div style=\"background-color: #c1b6fc; padding: 10px; border: 1px solid #a491fc;\">\n",
    "    <b>\n",
    "        <font color=\"purple\">Вывод: \n",
    "\n",
    "Точность на тестовой и валидационной выборках:\n",
    "\n",
    "Точность на тестовой выборке составляет приблизительно 83.59%.\n",
    "Точность на валидационной выборке составляет приблизительно 83.12%.\n",
    "Модель дерева решений показывает сопоставимую производительность на тестовой и валидационной выборках.\n",
    "\n",
    "F1-скор на тестовой и валидационной выборках:\n",
    "\n",
    "F1-скор на тестовой выборке составляет приблизительно 83.65%.\n",
    "F1-скор на валидационной выборке составляет приблизительно 83.19%.\n",
    "Значения F1-скора говорят о том, что модель показывает неплохие результаты, особенно на валидационной выборке.\n",
    "\n",
    "Точность и F1-скор находятся на уровне, который может считаться приемлемым.\n",
    " </font>\n",
    "    </b>\n",
    "</div>\n"
   ]
  },
  {
   "cell_type": "markdown",
   "metadata": {},
   "source": [
    "# LogisticRegression"
   ]
  },
  {
   "cell_type": "code",
<<<<<<< HEAD
   "execution_count": 1305,
=======
   "execution_count": 3174,
   "metadata": {},
   "outputs": [],
   "source": [
    "X = df_tarific.drop(columns=['is_ultra']) \n",
    "Y = df_tarific['is_ultra']\n",
    "X_train, X_temp, y_train, y_temp = train_test_split(X , Y, test_size=0.33, random_state = RANDOM_SEED)"
   ]
  },
  {
   "cell_type": "code",
   "execution_count": 3175,
   "metadata": {},
   "outputs": [
    {
     "name": "stdout",
     "output_type": "stream",
     "text": [
      "Counter({0: 1487, 1: 665})\n",
      "Counter({1: 1487, 0: 1487})\n"
     ]
    }
   ],
   "source": [
    "counter = Counter(y_train)\n",
    "print(counter)\n",
    "\n",
    "if counter[1] < counter[0]:\n",
    "    smote = SMOTE(random_state=42)\n",
    "    X_train_resampled, y_train_resampled = smote.fit_resample(X_train, y_train)\n",
    "    print(Counter(y_train_resampled))\n",
    "else:\n",
    "    print(\"No need for resampling, classes are balanced.\")"
   ]
  },
  {
   "cell_type": "code",
   "execution_count": 3176,
   "metadata": {},
   "outputs": [
    {
     "name": "stdout",
     "output_type": "stream",
     "text": [
      "const       8.018588\n",
      "calls      27.701464\n",
      "minutes    27.531799\n",
      "message     1.055593\n",
      "md_used     1.126544\n",
      "dtype: float64\n"
     ]
    }
   ],
   "source": [
    "vif_results = get_VIF(X_train, '')\n",
    "print(vif_results)"
   ]
  },
  {
   "cell_type": "code",
   "execution_count": 3177,
   "metadata": {},
   "outputs": [],
   "source": [
    "corr_matrix = X_train.corr()\n",
    "high_corr_features = set()\n",
    "\n",
    "for i in range(len(corr_matrix.columns)):\n",
    "    for j in range(i):\n",
    "        if abs(corr_matrix.iloc[i, j]) > 0.9:\n",
    "            \n",
    "            colname_j = corr_matrix.columns[j]\n",
    "            high_corr_features.add(colname_j)\n",
    "\n",
    "X_train = X_train.drop(columns=high_corr_features)"
   ]
  },
  {
   "cell_type": "code",
   "execution_count": 3178,
   "metadata": {},
   "outputs": [
    {
     "data": {
      "text/html": [
       "<div>\n",
       "<style scoped>\n",
       "    .dataframe tbody tr th:only-of-type {\n",
       "        vertical-align: middle;\n",
       "    }\n",
       "\n",
       "    .dataframe tbody tr th {\n",
       "        vertical-align: top;\n",
       "    }\n",
       "\n",
       "    .dataframe thead th {\n",
       "        text-align: right;\n",
       "    }\n",
       "</style>\n",
       "<table border=\"1\" class=\"dataframe\">\n",
       "  <thead>\n",
       "    <tr style=\"text-align: right;\">\n",
       "      <th></th>\n",
       "      <th>minutes</th>\n",
       "      <th>message</th>\n",
       "      <th>md_used</th>\n",
       "    </tr>\n",
       "  </thead>\n",
       "  <tbody>\n",
       "    <tr>\n",
       "      <th>57</th>\n",
       "      <td>477.54</td>\n",
       "      <td>0.0</td>\n",
       "      <td>19090.74</td>\n",
       "    </tr>\n",
       "    <tr>\n",
       "      <th>1338</th>\n",
       "      <td>200.94</td>\n",
       "      <td>34.0</td>\n",
       "      <td>11627.13</td>\n",
       "    </tr>\n",
       "    <tr>\n",
       "      <th>2509</th>\n",
       "      <td>508.70</td>\n",
       "      <td>21.0</td>\n",
       "      <td>19254.67</td>\n",
       "    </tr>\n",
       "    <tr>\n",
       "      <th>2356</th>\n",
       "      <td>932.14</td>\n",
       "      <td>6.0</td>\n",
       "      <td>35497.91</td>\n",
       "    </tr>\n",
       "    <tr>\n",
       "      <th>2691</th>\n",
       "      <td>742.03</td>\n",
       "      <td>81.0</td>\n",
       "      <td>14996.51</td>\n",
       "    </tr>\n",
       "    <tr>\n",
       "      <th>...</th>\n",
       "      <td>...</td>\n",
       "      <td>...</td>\n",
       "      <td>...</td>\n",
       "    </tr>\n",
       "    <tr>\n",
       "      <th>1095</th>\n",
       "      <td>91.89</td>\n",
       "      <td>6.0</td>\n",
       "      <td>2834.04</td>\n",
       "    </tr>\n",
       "    <tr>\n",
       "      <th>1130</th>\n",
       "      <td>119.20</td>\n",
       "      <td>19.0</td>\n",
       "      <td>4294.00</td>\n",
       "    </tr>\n",
       "    <tr>\n",
       "      <th>1294</th>\n",
       "      <td>763.27</td>\n",
       "      <td>10.0</td>\n",
       "      <td>33233.63</td>\n",
       "    </tr>\n",
       "    <tr>\n",
       "      <th>860</th>\n",
       "      <td>288.43</td>\n",
       "      <td>21.0</td>\n",
       "      <td>21722.72</td>\n",
       "    </tr>\n",
       "    <tr>\n",
       "      <th>3174</th>\n",
       "      <td>621.66</td>\n",
       "      <td>31.0</td>\n",
       "      <td>14950.81</td>\n",
       "    </tr>\n",
       "  </tbody>\n",
       "</table>\n",
       "<p>2152 rows × 3 columns</p>\n",
       "</div>"
      ],
      "text/plain": [
       "      minutes  message   md_used\n",
       "57     477.54      0.0  19090.74\n",
       "1338   200.94     34.0  11627.13\n",
       "2509   508.70     21.0  19254.67\n",
       "2356   932.14      6.0  35497.91\n",
       "2691   742.03     81.0  14996.51\n",
       "...       ...      ...       ...\n",
       "1095    91.89      6.0   2834.04\n",
       "1130   119.20     19.0   4294.00\n",
       "1294   763.27     10.0  33233.63\n",
       "860    288.43     21.0  21722.72\n",
       "3174   621.66     31.0  14950.81\n",
       "\n",
       "[2152 rows x 3 columns]"
      ]
     },
     "execution_count": 3178,
     "metadata": {},
     "output_type": "execute_result"
    }
   ],
   "source": [
    "X_train"
   ]
  },
  {
   "cell_type": "code",
   "execution_count": 3179,
   "metadata": {},
   "outputs": [],
   "source": [
    "scaler = StandardScaler()\n",
    "X_train = pd.DataFrame(scaler.fit_transform(X_train))"
   ]
  },
  {
   "cell_type": "code",
   "execution_count": 3180,
   "metadata": {},
   "outputs": [],
   "source": [
    "X_valid, X_test, y_valid, y_test = train_test_split(X_train, y_train, test_size=0.5, random_state = RANDOM_SEED)"
   ]
  },
  {
   "cell_type": "code",
   "execution_count": 3181,
>>>>>>> ef00fe43381872cb2ea1cf4c29bbbd5dd157e5c4
   "metadata": {},
   "outputs": [],
   "source": [
    "# LR = LogisticRegression(random_state= RANDOM_SEED, penalty='l1', solver='saga')\n",
    "LR = LogisticRegression(random_state=RANDOM_SEED, penalty='l2')\n",
    "LR.fit(X_train, y_train)\n",
    "prediction_valid_LR = LR.predict(X_valid)\n",
    "accuracy_LR = accuracy_score(prediction_valid_LR, y_valid)"
   ]
  },
  {
   "cell_type": "markdown",
   "metadata": {},
   "source": [
    "Вывод"
   ]
  },
  {
   "cell_type": "markdown",
   "metadata": {},
   "source": [
    "accuracy"
   ]
  },
  {
   "cell_type": "code",
<<<<<<< HEAD
   "execution_count": 1306,
=======
   "execution_count": 3182,
>>>>>>> ef00fe43381872cb2ea1cf4c29bbbd5dd157e5c4
   "metadata": {},
   "outputs": [
    {
     "name": "stdout",
     "output_type": "stream",
     "text": [
<<<<<<< HEAD
      "Logistic Regression valid accuracy_score: 0.7433962264150943\n"
=======
      "Logistic Regression valid accuracy_score: 0.7630111524163569\n"
>>>>>>> ef00fe43381872cb2ea1cf4c29bbbd5dd157e5c4
     ]
    }
   ],
   "source": [
    "print(f\"Logistic Regression valid accuracy_score: {accuracy_LR}\")"
   ]
  },
  {
   "cell_type": "code",
<<<<<<< HEAD
   "execution_count": 1307,
=======
   "execution_count": 3183,
>>>>>>> ef00fe43381872cb2ea1cf4c29bbbd5dd157e5c4
   "metadata": {},
   "outputs": [],
   "source": [
    "prediction_test_LR = LR.predict(X_test)"
   ]
  },
  {
   "cell_type": "code",
<<<<<<< HEAD
   "execution_count": 1308,
=======
   "execution_count": 3184,
>>>>>>> ef00fe43381872cb2ea1cf4c29bbbd5dd157e5c4
   "metadata": {},
   "outputs": [],
   "source": [
    "accuracy_LR_test = accuracy_score(prediction_test_LR, y_test)"
   ]
  },
  {
   "cell_type": "code",
<<<<<<< HEAD
   "execution_count": 1309,
=======
   "execution_count": 3185,
>>>>>>> ef00fe43381872cb2ea1cf4c29bbbd5dd157e5c4
   "metadata": {},
   "outputs": [
    {
     "name": "stdout",
     "output_type": "stream",
     "text": [
<<<<<<< HEAD
      "Logistic Regression test accuracy_score: 0.7476459510357816\n"
=======
      "Logistic Regression test accuracy_score: 0.7388475836431226\n"
>>>>>>> ef00fe43381872cb2ea1cf4c29bbbd5dd157e5c4
     ]
    }
   ],
   "source": [
    "print(f\"Logistic Regression test accuracy_score: {accuracy_LR_test}\")"
   ]
  },
  {
   "cell_type": "markdown",
   "metadata": {},
   "source": [
    "f1_score"
   ]
  },
  {
   "cell_type": "code",
<<<<<<< HEAD
   "execution_count": 1310,
=======
   "execution_count": 3186,
>>>>>>> ef00fe43381872cb2ea1cf4c29bbbd5dd157e5c4
   "metadata": {},
   "outputs": [
    {
     "name": "stdout",
     "output_type": "stream",
     "text": [
<<<<<<< HEAD
      "Logistic Regression test f1_score: 0.7987571180920704\n"
=======
      "Logistic Regression test f1_score: 0.8115802805726878\n"
>>>>>>> ef00fe43381872cb2ea1cf4c29bbbd5dd157e5c4
     ]
    }
   ],
   "source": [
    "f1_score_LR_valid = f1_score(prediction_valid_LR, y_valid, average='weighted')\n",
    "print(f\"Logistic Regression test f1_score: {f1_score_LR_valid}\")"
   ]
  },
  {
   "cell_type": "code",
<<<<<<< HEAD
   "execution_count": 1311,
=======
   "execution_count": 3187,
>>>>>>> ef00fe43381872cb2ea1cf4c29bbbd5dd157e5c4
   "metadata": {},
   "outputs": [
    {
     "name": "stdout",
     "output_type": "stream",
     "text": [
<<<<<<< HEAD
      "Logistic Regression test f1_score: 0.7917084610751828\n"
=======
      "Logistic Regression test f1_score: 0.7947361625532149\n"
>>>>>>> ef00fe43381872cb2ea1cf4c29bbbd5dd157e5c4
     ]
    }
   ],
   "source": [
    "f1_score_LR_test = f1_score(prediction_test_LR, y_test, average='weighted')\n",
    "print(f\"Logistic Regression test f1_score: {f1_score_LR_test}\")"
   ]
  },
  {
   "cell_type": "markdown",
   "metadata": {},
   "source": [
    "\n",
    "<div style=\"background-color: #c1b6fc; padding: 10px; border: 1px solid #a491fc;\">\n",
    "    <b>\n",
    "        <font color=\"purple\">Вывод: \n",
    "\n",
    "Точность на тестовой и валидационной выборках:\n",
    "\n",
    "Точность на тестовой выборке составляет приблизительно 76.20%.\n",
    "\n",
    "Точность на валидационной выборке составляет приблизительно 74.25%.\n",
    "\n",
    "Модель логистической регрессии показывает сопоставимую производительность на тестовой и валидационной выборках.\n",
    "\n",
    "F1-скор на тестовой и валидационной выборках:\n",
    "\n",
    "F1-скор на тестовой выборке составляет приблизительно 80.97%.\n",
    "\n",
    "F1-скор на валидационной выборке составляет приблизительно 79.68%.\n",
    "\n",
    "Значения F1-скора говорят о том, что модель демонстрирует неплохие результаты на обеих выборках.\n",
    "\n",
    "Общие наблюдения:\n",
    "\n",
    "Точность и F1-скор находятся на уровне, который может считаться приемлемым.\n",
    "\n",
    "Модель логистической регрессии показывает себя стабильно как на тестовой, так и на валидационной выборках.\n",
    " </font>\n",
    "    </b>\n",
    "</div>\n"
   ]
  },
  {
   "cell_type": "markdown",
   "metadata": {},
   "source": [
    "<div class=\"alert alert-warning\">\n",
    "<b>в целом все хорошо, кроме отсутствующих выводов и вообще текста. если хочешь повысить качество - оставил подсказку</b>\n",
    "</div>"
   ]
  }
 ],
 "metadata": {
  "kernelspec": {
   "display_name": "Python 3 (ipykernel)",
   "language": "python",
   "name": "python3"
  },
  "language_info": {
   "codemirror_mode": {
    "name": "ipython",
    "version": 3
   },
   "file_extension": ".py",
   "mimetype": "text/x-python",
   "name": "python",
   "nbconvert_exporter": "python",
   "pygments_lexer": "ipython3",
   "version": "3.10.0"
  },
  "toc": {
   "base_numbering": 1,
   "nav_menu": {},
   "number_sections": true,
   "sideBar": true,
   "skip_h1_title": false,
   "title_cell": "Содержание",
   "title_sidebar": "Contents",
   "toc_cell": true,
   "toc_position": {},
   "toc_section_display": true,
   "toc_window_display": true
  }
 },
 "nbformat": 4,
 "nbformat_minor": 4
}
