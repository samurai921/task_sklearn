{
 "cells": [
  {
   "cell_type": "markdown",
   "metadata": {},
   "source": [
    "# Задача 2. Определение стоимости авто #\n",
    "\n",
    "Ключевая метрика RMSE -  среднеквадратичная ошибка. Чтобы сдать проект значение метрики должно быть не более 2500."
   ]
  },
  {
   "cell_type": "markdown",
   "metadata": {},
   "source": [
    "# Импортируем необходимые библиотеки "
   ]
  },
  {
   "cell_type": "code",
   "execution_count": 102,
   "metadata": {},
   "outputs": [],
   "source": [
    "import warnings\n",
    "import math\n",
    "\n",
    "import pandas as pd\n",
    "import numpy as np\n",
    "import matplotlib.pyplot as plt\n",
    "import seaborn as sns\n",
    "\n",
    "from sklearn.preprocessing import LabelEncoder\n",
    "from sklearn.model_selection import train_test_split, GridSearchCV, RandomizedSearchCV\n",
    "from sklearn.compose import make_column_transformer\n",
    "from sklearn.pipeline import make_pipeline\n",
    "from sklearn.preprocessing import OneHotEncoder, OrdinalEncoder, StandardScaler\n",
    "from sklearn.metrics import mean_squared_error\n",
    "from sklearn.linear_model import Ridge\n",
    "from sklearn.tree import DecisionTreeRegressor\n",
    "import lightgbm as lgb\n",
    "from catboost import CatBoostRegressor\n",
    "\n",
    "warnings.filterwarnings('ignore')\n"
   ]
  },
  {
   "cell_type": "markdown",
   "metadata": {},
   "source": [
    "# Подготовка данных #"
   ]
  },
  {
   "cell_type": "markdown",
   "metadata": {},
   "source": [
    "Откроем и изучим файл"
   ]
  },
  {
   "cell_type": "code",
   "execution_count": 103,
   "metadata": {},
   "outputs": [],
   "source": [
    "df = pd.read_csv(\"autos.csv\")"
   ]
  },
  {
   "cell_type": "code",
   "execution_count": 104,
   "metadata": {},
   "outputs": [
    {
     "data": {
      "text/html": [
       "<div>\n",
       "<style scoped>\n",
       "    .dataframe tbody tr th:only-of-type {\n",
       "        vertical-align: middle;\n",
       "    }\n",
       "\n",
       "    .dataframe tbody tr th {\n",
       "        vertical-align: top;\n",
       "    }\n",
       "\n",
       "    .dataframe thead th {\n",
       "        text-align: right;\n",
       "    }\n",
       "</style>\n",
       "<table border=\"1\" class=\"dataframe\">\n",
       "  <thead>\n",
       "    <tr style=\"text-align: right;\">\n",
       "      <th></th>\n",
       "      <th>DateCrawled</th>\n",
       "      <th>Price</th>\n",
       "      <th>VehicleType</th>\n",
       "      <th>RegistrationYear</th>\n",
       "      <th>Gearbox</th>\n",
       "      <th>Power</th>\n",
       "      <th>Model</th>\n",
       "      <th>Kilometer</th>\n",
       "      <th>RegistrationMonth</th>\n",
       "      <th>FuelType</th>\n",
       "      <th>Brand</th>\n",
       "      <th>Repaired</th>\n",
       "      <th>DateCreated</th>\n",
       "      <th>NumberOfPictures</th>\n",
       "      <th>PostalCode</th>\n",
       "      <th>LastSeen</th>\n",
       "    </tr>\n",
       "  </thead>\n",
       "  <tbody>\n",
       "    <tr>\n",
       "      <th>0</th>\n",
       "      <td>2016-03-24 11:52:17</td>\n",
       "      <td>480</td>\n",
       "      <td>NaN</td>\n",
       "      <td>1993</td>\n",
       "      <td>manual</td>\n",
       "      <td>0</td>\n",
       "      <td>golf</td>\n",
       "      <td>150000</td>\n",
       "      <td>0</td>\n",
       "      <td>petrol</td>\n",
       "      <td>volkswagen</td>\n",
       "      <td>NaN</td>\n",
       "      <td>2016-03-24 00:00:00</td>\n",
       "      <td>0</td>\n",
       "      <td>70435</td>\n",
       "      <td>2016-04-07 03:16:57</td>\n",
       "    </tr>\n",
       "    <tr>\n",
       "      <th>1</th>\n",
       "      <td>2016-03-24 10:58:45</td>\n",
       "      <td>18300</td>\n",
       "      <td>coupe</td>\n",
       "      <td>2011</td>\n",
       "      <td>manual</td>\n",
       "      <td>190</td>\n",
       "      <td>NaN</td>\n",
       "      <td>125000</td>\n",
       "      <td>5</td>\n",
       "      <td>gasoline</td>\n",
       "      <td>audi</td>\n",
       "      <td>yes</td>\n",
       "      <td>2016-03-24 00:00:00</td>\n",
       "      <td>0</td>\n",
       "      <td>66954</td>\n",
       "      <td>2016-04-07 01:46:50</td>\n",
       "    </tr>\n",
       "    <tr>\n",
       "      <th>2</th>\n",
       "      <td>2016-03-14 12:52:21</td>\n",
       "      <td>9800</td>\n",
       "      <td>suv</td>\n",
       "      <td>2004</td>\n",
       "      <td>auto</td>\n",
       "      <td>163</td>\n",
       "      <td>grand</td>\n",
       "      <td>125000</td>\n",
       "      <td>8</td>\n",
       "      <td>gasoline</td>\n",
       "      <td>jeep</td>\n",
       "      <td>NaN</td>\n",
       "      <td>2016-03-14 00:00:00</td>\n",
       "      <td>0</td>\n",
       "      <td>90480</td>\n",
       "      <td>2016-04-05 12:47:46</td>\n",
       "    </tr>\n",
       "    <tr>\n",
       "      <th>3</th>\n",
       "      <td>2016-03-17 16:54:04</td>\n",
       "      <td>1500</td>\n",
       "      <td>small</td>\n",
       "      <td>2001</td>\n",
       "      <td>manual</td>\n",
       "      <td>75</td>\n",
       "      <td>golf</td>\n",
       "      <td>150000</td>\n",
       "      <td>6</td>\n",
       "      <td>petrol</td>\n",
       "      <td>volkswagen</td>\n",
       "      <td>no</td>\n",
       "      <td>2016-03-17 00:00:00</td>\n",
       "      <td>0</td>\n",
       "      <td>91074</td>\n",
       "      <td>2016-03-17 17:40:17</td>\n",
       "    </tr>\n",
       "    <tr>\n",
       "      <th>4</th>\n",
       "      <td>2016-03-31 17:25:20</td>\n",
       "      <td>3600</td>\n",
       "      <td>small</td>\n",
       "      <td>2008</td>\n",
       "      <td>manual</td>\n",
       "      <td>69</td>\n",
       "      <td>fabia</td>\n",
       "      <td>90000</td>\n",
       "      <td>7</td>\n",
       "      <td>gasoline</td>\n",
       "      <td>skoda</td>\n",
       "      <td>no</td>\n",
       "      <td>2016-03-31 00:00:00</td>\n",
       "      <td>0</td>\n",
       "      <td>60437</td>\n",
       "      <td>2016-04-06 10:17:21</td>\n",
       "    </tr>\n",
       "  </tbody>\n",
       "</table>\n",
       "</div>"
      ],
      "text/plain": [
       "           DateCrawled  Price VehicleType  RegistrationYear Gearbox  Power  \\\n",
       "0  2016-03-24 11:52:17    480         NaN              1993  manual      0   \n",
       "1  2016-03-24 10:58:45  18300       coupe              2011  manual    190   \n",
       "2  2016-03-14 12:52:21   9800         suv              2004    auto    163   \n",
       "3  2016-03-17 16:54:04   1500       small              2001  manual     75   \n",
       "4  2016-03-31 17:25:20   3600       small              2008  manual     69   \n",
       "\n",
       "   Model  Kilometer  RegistrationMonth  FuelType       Brand Repaired  \\\n",
       "0   golf     150000                  0    petrol  volkswagen      NaN   \n",
       "1    NaN     125000                  5  gasoline        audi      yes   \n",
       "2  grand     125000                  8  gasoline        jeep      NaN   \n",
       "3   golf     150000                  6    petrol  volkswagen       no   \n",
       "4  fabia      90000                  7  gasoline       skoda       no   \n",
       "\n",
       "           DateCreated  NumberOfPictures  PostalCode             LastSeen  \n",
       "0  2016-03-24 00:00:00                 0       70435  2016-04-07 03:16:57  \n",
       "1  2016-03-24 00:00:00                 0       66954  2016-04-07 01:46:50  \n",
       "2  2016-03-14 00:00:00                 0       90480  2016-04-05 12:47:46  \n",
       "3  2016-03-17 00:00:00                 0       91074  2016-03-17 17:40:17  \n",
       "4  2016-03-31 00:00:00                 0       60437  2016-04-06 10:17:21  "
      ]
     },
     "execution_count": 104,
     "metadata": {},
     "output_type": "execute_result"
    }
   ],
   "source": [
    "df.head()"
   ]
  },
  {
   "cell_type": "markdown",
   "metadata": {},
   "source": [
    "Проверим типы данных"
   ]
  },
  {
   "cell_type": "code",
   "execution_count": 105,
   "metadata": {},
   "outputs": [
    {
     "name": "stdout",
     "output_type": "stream",
     "text": [
      "<class 'pandas.core.frame.DataFrame'>\n",
      "RangeIndex: 354369 entries, 0 to 354368\n",
      "Data columns (total 16 columns):\n",
      " #   Column             Non-Null Count   Dtype \n",
      "---  ------             --------------   ----- \n",
      " 0   DateCrawled        354369 non-null  object\n",
      " 1   Price              354369 non-null  int64 \n",
      " 2   VehicleType        316879 non-null  object\n",
      " 3   RegistrationYear   354369 non-null  int64 \n",
      " 4   Gearbox            334536 non-null  object\n",
      " 5   Power              354369 non-null  int64 \n",
      " 6   Model              334664 non-null  object\n",
      " 7   Kilometer          354369 non-null  int64 \n",
      " 8   RegistrationMonth  354369 non-null  int64 \n",
      " 9   FuelType           321474 non-null  object\n",
      " 10  Brand              354369 non-null  object\n",
      " 11  Repaired           283215 non-null  object\n",
      " 12  DateCreated        354369 non-null  object\n",
      " 13  NumberOfPictures   354369 non-null  int64 \n",
      " 14  PostalCode         354369 non-null  int64 \n",
      " 15  LastSeen           354369 non-null  object\n",
      "dtypes: int64(7), object(9)\n",
      "memory usage: 43.3+ MB\n"
     ]
    }
   ],
   "source": [
    "df.info()"
   ]
  },
  {
   "cell_type": "markdown",
   "metadata": {},
   "source": [
    "Создание описательной статистики"
   ]
  },
  {
   "cell_type": "code",
   "execution_count": 106,
   "metadata": {},
   "outputs": [
    {
     "data": {
      "text/html": [
       "<div>\n",
       "<style scoped>\n",
       "    .dataframe tbody tr th:only-of-type {\n",
       "        vertical-align: middle;\n",
       "    }\n",
       "\n",
       "    .dataframe tbody tr th {\n",
       "        vertical-align: top;\n",
       "    }\n",
       "\n",
       "    .dataframe thead th {\n",
       "        text-align: right;\n",
       "    }\n",
       "</style>\n",
       "<table border=\"1\" class=\"dataframe\">\n",
       "  <thead>\n",
       "    <tr style=\"text-align: right;\">\n",
       "      <th></th>\n",
       "      <th>Price</th>\n",
       "      <th>RegistrationYear</th>\n",
       "      <th>Power</th>\n",
       "      <th>Kilometer</th>\n",
       "      <th>RegistrationMonth</th>\n",
       "      <th>NumberOfPictures</th>\n",
       "      <th>PostalCode</th>\n",
       "    </tr>\n",
       "  </thead>\n",
       "  <tbody>\n",
       "    <tr>\n",
       "      <th>count</th>\n",
       "      <td>354369.000000</td>\n",
       "      <td>354369.000000</td>\n",
       "      <td>354369.000000</td>\n",
       "      <td>354369.000000</td>\n",
       "      <td>354369.000000</td>\n",
       "      <td>354369.0</td>\n",
       "      <td>354369.000000</td>\n",
       "    </tr>\n",
       "    <tr>\n",
       "      <th>mean</th>\n",
       "      <td>4416.656776</td>\n",
       "      <td>2004.234448</td>\n",
       "      <td>110.094337</td>\n",
       "      <td>128211.172535</td>\n",
       "      <td>5.714645</td>\n",
       "      <td>0.0</td>\n",
       "      <td>50508.689087</td>\n",
       "    </tr>\n",
       "    <tr>\n",
       "      <th>std</th>\n",
       "      <td>4514.158514</td>\n",
       "      <td>90.227958</td>\n",
       "      <td>189.850405</td>\n",
       "      <td>37905.341530</td>\n",
       "      <td>3.726421</td>\n",
       "      <td>0.0</td>\n",
       "      <td>25783.096248</td>\n",
       "    </tr>\n",
       "    <tr>\n",
       "      <th>min</th>\n",
       "      <td>0.000000</td>\n",
       "      <td>1000.000000</td>\n",
       "      <td>0.000000</td>\n",
       "      <td>5000.000000</td>\n",
       "      <td>0.000000</td>\n",
       "      <td>0.0</td>\n",
       "      <td>1067.000000</td>\n",
       "    </tr>\n",
       "    <tr>\n",
       "      <th>25%</th>\n",
       "      <td>1050.000000</td>\n",
       "      <td>1999.000000</td>\n",
       "      <td>69.000000</td>\n",
       "      <td>125000.000000</td>\n",
       "      <td>3.000000</td>\n",
       "      <td>0.0</td>\n",
       "      <td>30165.000000</td>\n",
       "    </tr>\n",
       "    <tr>\n",
       "      <th>50%</th>\n",
       "      <td>2700.000000</td>\n",
       "      <td>2003.000000</td>\n",
       "      <td>105.000000</td>\n",
       "      <td>150000.000000</td>\n",
       "      <td>6.000000</td>\n",
       "      <td>0.0</td>\n",
       "      <td>49413.000000</td>\n",
       "    </tr>\n",
       "    <tr>\n",
       "      <th>75%</th>\n",
       "      <td>6400.000000</td>\n",
       "      <td>2008.000000</td>\n",
       "      <td>143.000000</td>\n",
       "      <td>150000.000000</td>\n",
       "      <td>9.000000</td>\n",
       "      <td>0.0</td>\n",
       "      <td>71083.000000</td>\n",
       "    </tr>\n",
       "    <tr>\n",
       "      <th>max</th>\n",
       "      <td>20000.000000</td>\n",
       "      <td>9999.000000</td>\n",
       "      <td>20000.000000</td>\n",
       "      <td>150000.000000</td>\n",
       "      <td>12.000000</td>\n",
       "      <td>0.0</td>\n",
       "      <td>99998.000000</td>\n",
       "    </tr>\n",
       "  </tbody>\n",
       "</table>\n",
       "</div>"
      ],
      "text/plain": [
       "               Price  RegistrationYear          Power      Kilometer  \\\n",
       "count  354369.000000     354369.000000  354369.000000  354369.000000   \n",
       "mean     4416.656776       2004.234448     110.094337  128211.172535   \n",
       "std      4514.158514         90.227958     189.850405   37905.341530   \n",
       "min         0.000000       1000.000000       0.000000    5000.000000   \n",
       "25%      1050.000000       1999.000000      69.000000  125000.000000   \n",
       "50%      2700.000000       2003.000000     105.000000  150000.000000   \n",
       "75%      6400.000000       2008.000000     143.000000  150000.000000   \n",
       "max     20000.000000       9999.000000   20000.000000  150000.000000   \n",
       "\n",
       "       RegistrationMonth  NumberOfPictures     PostalCode  \n",
       "count      354369.000000          354369.0  354369.000000  \n",
       "mean            5.714645               0.0   50508.689087  \n",
       "std             3.726421               0.0   25783.096248  \n",
       "min             0.000000               0.0    1067.000000  \n",
       "25%             3.000000               0.0   30165.000000  \n",
       "50%             6.000000               0.0   49413.000000  \n",
       "75%             9.000000               0.0   71083.000000  \n",
       "max            12.000000               0.0   99998.000000  "
      ]
     },
     "execution_count": 106,
     "metadata": {},
     "output_type": "execute_result"
    }
   ],
   "source": [
    "df.describe()"
   ]
  },
  {
   "cell_type": "markdown",
   "metadata": {},
   "source": [
    "# Удаление неиформативных признаков и изменение названий столбцов"
   ]
  },
  {
   "cell_type": "markdown",
   "metadata": {},
   "source": [
    "удалим неинформативные признаки"
   ]
  },
  {
   "cell_type": "code",
   "execution_count": 107,
   "metadata": {},
   "outputs": [
    {
     "name": "stdout",
     "output_type": "stream",
     "text": [
      "<class 'pandas.core.frame.DataFrame'>\n",
      "RangeIndex: 354369 entries, 0 to 354368\n",
      "Data columns (total 11 columns):\n",
      " #   Column            Non-Null Count   Dtype \n",
      "---  ------            --------------   ----- \n",
      " 0   Price             354369 non-null  int64 \n",
      " 1   VehicleType       316879 non-null  object\n",
      " 2   RegistrationYear  354369 non-null  int64 \n",
      " 3   Gearbox           334536 non-null  object\n",
      " 4   Power             354369 non-null  int64 \n",
      " 5   Model             334664 non-null  object\n",
      " 6   Kilometer         354369 non-null  int64 \n",
      " 7   FuelType          321474 non-null  object\n",
      " 8   Brand             354369 non-null  object\n",
      " 9   Repaired          283215 non-null  object\n",
      " 10  DateCreated       354369 non-null  object\n",
      "dtypes: int64(4), object(7)\n",
      "memory usage: 29.7+ MB\n"
     ]
    }
   ],
   "source": [
    "df = df.drop(['DateCrawled', 'RegistrationMonth', \n",
    "                  'NumberOfPictures','PostalCode', 'LastSeen'], axis=1)\n",
    "df.info()"
   ]
  },
  {
   "cell_type": "markdown",
   "metadata": {},
   "source": [
    "# Работа со стилем и типами данных"
   ]
  },
  {
   "cell_type": "markdown",
   "metadata": {},
   "source": [
    "изменим названия столбцов"
   ]
  },
  {
   "cell_type": "code",
   "execution_count": 108,
   "metadata": {},
   "outputs": [],
   "source": [
    "df.columns = ['price', 'vehicle_type', 'registration_year', 'gearbox', 'power', \n",
    "                'model', 'kilometer', 'fuel_type', 'brand', 'repaired', 'date_created']"
   ]
  },
  {
   "cell_type": "markdown",
   "metadata": {},
   "source": [
    "изменим тип данных в столбцах, где это необходимо"
   ]
  },
  {
   "cell_type": "code",
   "execution_count": 109,
   "metadata": {},
   "outputs": [],
   "source": [
    "df['date_created'] = pd.to_datetime(df['date_created'])"
   ]
  },
  {
   "cell_type": "code",
   "execution_count": 110,
   "metadata": {},
   "outputs": [
    {
     "name": "stdout",
     "output_type": "stream",
     "text": [
      "<class 'pandas.core.frame.DataFrame'>\n",
      "RangeIndex: 354369 entries, 0 to 354368\n",
      "Data columns (total 11 columns):\n",
      " #   Column             Non-Null Count   Dtype         \n",
      "---  ------             --------------   -----         \n",
      " 0   price              354369 non-null  int64         \n",
      " 1   vehicle_type       316879 non-null  object        \n",
      " 2   registration_year  354369 non-null  int64         \n",
      " 3   gearbox            334536 non-null  object        \n",
      " 4   power              354369 non-null  int64         \n",
      " 5   model              334664 non-null  object        \n",
      " 6   kilometer          354369 non-null  int64         \n",
      " 7   fuel_type          321474 non-null  object        \n",
      " 8   brand              354369 non-null  object        \n",
      " 9   repaired           283215 non-null  object        \n",
      " 10  date_created       354369 non-null  datetime64[ns]\n",
      "dtypes: datetime64[ns](1), int64(4), object(6)\n",
      "memory usage: 29.7+ MB\n"
     ]
    }
   ],
   "source": [
    "df.info()"
   ]
  },
  {
   "cell_type": "markdown",
   "metadata": {},
   "source": [
    "# Работа с пропусками"
   ]
  },
  {
   "cell_type": "markdown",
   "metadata": {},
   "source": [
    "функция для построения графика, отражающего доли пропусков"
   ]
  },
  {
   "cell_type": "code",
   "execution_count": 111,
   "metadata": {},
   "outputs": [],
   "source": [
    "def pass_value_barh(df):\n",
    "    if df.isna().sum().sum() > 0:\n",
    "        missing_percentage = (df.isna().mean() * 100).to_frame().rename(columns={0: 'space'}).query('space > 0').sort_values(by='space', ascending=True)\n",
    "\n",
    "        fig, ax = plt.subplots(figsize=(10, 8))\n",
    "        plot = sns.barplot(x='space', y=missing_percentage.index, data=missing_percentage, palette='viridis')\n",
    "\n",
    "        ax.set_title('Доля пропусков' + \"\\n\", fontsize=14)\n",
    "        ax.set_xlabel('Процент пропусков', fontsize=12)\n",
    "        ax.set_ylabel('Признаки', fontsize=12)\n",
    "        plt.xticks(fontsize=10)\n",
    "        plt.yticks(fontsize=10)\n",
    "\n",
    "        for p in plot.patches:\n",
    "            width = p.get_width()\n",
    "            ax.text(width + 0.1, p.get_y() + p.get_height() / 2., f'{width:.2f}%', ha='center', va='center', fontsize=10)\n",
    "\n",
    "        plt.show()\n",
    "    else:\n",
    "        print('Пропусков не осталось!')"
   ]
  },
  {
   "cell_type": "markdown",
   "metadata": {},
   "source": [
    "визуализация доли пропусков в каждом столбце"
   ]
  },
  {
   "cell_type": "code",
   "execution_count": 112,
   "metadata": {},
   "outputs": [
    {
     "data": {
      "image/png": "[encoded data removed]",
      "text/plain": [
       "<Figure size 1000x800 with 1 Axes>"
      ]
     },
     "metadata": {},
     "output_type": "display_data"
    }
   ],
   "source": [
    "pass_value_barh(df)"
   ]
  },
  {
   "cell_type": "markdown",
   "metadata": {},
   "source": [
    "заполним пропуски и заменим значения в столбце \"repaired\""
   ]
  },
  {
   "cell_type": "code",
   "execution_count": 113,
   "metadata": {},
   "outputs": [
    {
     "data": {
      "text/html": [
       "<div>\n",
       "<style scoped>\n",
       "    .dataframe tbody tr th:only-of-type {\n",
       "        vertical-align: middle;\n",
       "    }\n",
       "\n",
       "    .dataframe tbody tr th {\n",
       "        vertical-align: top;\n",
       "    }\n",
       "\n",
       "    .dataframe thead th {\n",
       "        text-align: right;\n",
       "    }\n",
       "</style>\n",
       "<table border=\"1\" class=\"dataframe\">\n",
       "  <thead>\n",
       "    <tr style=\"text-align: right;\">\n",
       "      <th></th>\n",
       "      <th>price</th>\n",
       "      <th>vehicle_type</th>\n",
       "      <th>registration_year</th>\n",
       "      <th>gearbox</th>\n",
       "      <th>power</th>\n",
       "      <th>model</th>\n",
       "      <th>kilometer</th>\n",
       "      <th>fuel_type</th>\n",
       "      <th>brand</th>\n",
       "      <th>repaired</th>\n",
       "      <th>date_created</th>\n",
       "    </tr>\n",
       "  </thead>\n",
       "  <tbody>\n",
       "    <tr>\n",
       "      <th>0</th>\n",
       "      <td>480</td>\n",
       "      <td>NaN</td>\n",
       "      <td>1993</td>\n",
       "      <td>manual</td>\n",
       "      <td>0</td>\n",
       "      <td>golf</td>\n",
       "      <td>150000</td>\n",
       "      <td>petrol</td>\n",
       "      <td>volkswagen</td>\n",
       "      <td>0</td>\n",
       "      <td>2016-03-24</td>\n",
       "    </tr>\n",
       "    <tr>\n",
       "      <th>1</th>\n",
       "      <td>18300</td>\n",
       "      <td>coupe</td>\n",
       "      <td>2011</td>\n",
       "      <td>manual</td>\n",
       "      <td>190</td>\n",
       "      <td>NaN</td>\n",
       "      <td>125000</td>\n",
       "      <td>gasoline</td>\n",
       "      <td>audi</td>\n",
       "      <td>1</td>\n",
       "      <td>2016-03-24</td>\n",
       "    </tr>\n",
       "    <tr>\n",
       "      <th>2</th>\n",
       "      <td>9800</td>\n",
       "      <td>suv</td>\n",
       "      <td>2004</td>\n",
       "      <td>auto</td>\n",
       "      <td>163</td>\n",
       "      <td>grand</td>\n",
       "      <td>125000</td>\n",
       "      <td>gasoline</td>\n",
       "      <td>jeep</td>\n",
       "      <td>0</td>\n",
       "      <td>2016-03-14</td>\n",
       "    </tr>\n",
       "    <tr>\n",
       "      <th>3</th>\n",
       "      <td>1500</td>\n",
       "      <td>small</td>\n",
       "      <td>2001</td>\n",
       "      <td>manual</td>\n",
       "      <td>75</td>\n",
       "      <td>golf</td>\n",
       "      <td>150000</td>\n",
       "      <td>petrol</td>\n",
       "      <td>volkswagen</td>\n",
       "      <td>0</td>\n",
       "      <td>2016-03-17</td>\n",
       "    </tr>\n",
       "    <tr>\n",
       "      <th>4</th>\n",
       "      <td>3600</td>\n",
       "      <td>small</td>\n",
       "      <td>2008</td>\n",
       "      <td>manual</td>\n",
       "      <td>69</td>\n",
       "      <td>fabia</td>\n",
       "      <td>90000</td>\n",
       "      <td>gasoline</td>\n",
       "      <td>skoda</td>\n",
       "      <td>0</td>\n",
       "      <td>2016-03-31</td>\n",
       "    </tr>\n",
       "  </tbody>\n",
       "</table>\n",
       "</div>"
      ],
      "text/plain": [
       "   price vehicle_type  registration_year gearbox  power  model  kilometer  \\\n",
       "0    480          NaN               1993  manual      0   golf     150000   \n",
       "1  18300        coupe               2011  manual    190    NaN     125000   \n",
       "2   9800          suv               2004    auto    163  grand     125000   \n",
       "3   1500        small               2001  manual     75   golf     150000   \n",
       "4   3600        small               2008  manual     69  fabia      90000   \n",
       "\n",
       "  fuel_type       brand repaired date_created  \n",
       "0    petrol  volkswagen        0   2016-03-24  \n",
       "1  gasoline        audi        1   2016-03-24  \n",
       "2  gasoline        jeep        0   2016-03-14  \n",
       "3    petrol  volkswagen        0   2016-03-17  \n",
       "4  gasoline       skoda        0   2016-03-31  "
      ]
     },
     "execution_count": 113,
     "metadata": {},
     "output_type": "execute_result"
    }
   ],
   "source": [
    "df['repaired'] = df['repaired'].fillna('no')\n",
    "df.loc[(df.repaired == 'no'), 'repaired'] = 0\n",
    "df.loc[(df.repaired == 'yes'), 'repaired'] = 1\n",
    "\n",
    "df.head()"
   ]
  },
  {
   "cell_type": "markdown",
   "metadata": {},
   "source": [
    "заполним пропуски в других столбцах"
   ]
  },
  {
   "cell_type": "code",
   "execution_count": 114,
   "metadata": {},
   "outputs": [],
   "source": [
    "df = df.fillna('unknown')"
   ]
  },
  {
   "cell_type": "code",
   "execution_count": 115,
   "metadata": {},
   "outputs": [
    {
     "data": {
      "text/html": [
       "<div>\n",
       "<style scoped>\n",
       "    .dataframe tbody tr th:only-of-type {\n",
       "        vertical-align: middle;\n",
       "    }\n",
       "\n",
       "    .dataframe tbody tr th {\n",
       "        vertical-align: top;\n",
       "    }\n",
       "\n",
       "    .dataframe thead th {\n",
       "        text-align: right;\n",
       "    }\n",
       "</style>\n",
       "<table border=\"1\" class=\"dataframe\">\n",
       "  <thead>\n",
       "    <tr style=\"text-align: right;\">\n",
       "      <th></th>\n",
       "      <th>price</th>\n",
       "      <th>vehicle_type</th>\n",
       "      <th>registration_year</th>\n",
       "      <th>gearbox</th>\n",
       "      <th>power</th>\n",
       "      <th>model</th>\n",
       "      <th>kilometer</th>\n",
       "      <th>fuel_type</th>\n",
       "      <th>brand</th>\n",
       "      <th>repaired</th>\n",
       "      <th>date_created</th>\n",
       "    </tr>\n",
       "  </thead>\n",
       "  <tbody>\n",
       "    <tr>\n",
       "      <th>0</th>\n",
       "      <td>480</td>\n",
       "      <td>unknown</td>\n",
       "      <td>1993</td>\n",
       "      <td>manual</td>\n",
       "      <td>0</td>\n",
       "      <td>golf</td>\n",
       "      <td>150000</td>\n",
       "      <td>petrol</td>\n",
       "      <td>volkswagen</td>\n",
       "      <td>0</td>\n",
       "      <td>2016-03-24</td>\n",
       "    </tr>\n",
       "    <tr>\n",
       "      <th>1</th>\n",
       "      <td>18300</td>\n",
       "      <td>coupe</td>\n",
       "      <td>2011</td>\n",
       "      <td>manual</td>\n",
       "      <td>190</td>\n",
       "      <td>unknown</td>\n",
       "      <td>125000</td>\n",
       "      <td>gasoline</td>\n",
       "      <td>audi</td>\n",
       "      <td>1</td>\n",
       "      <td>2016-03-24</td>\n",
       "    </tr>\n",
       "    <tr>\n",
       "      <th>2</th>\n",
       "      <td>9800</td>\n",
       "      <td>suv</td>\n",
       "      <td>2004</td>\n",
       "      <td>auto</td>\n",
       "      <td>163</td>\n",
       "      <td>grand</td>\n",
       "      <td>125000</td>\n",
       "      <td>gasoline</td>\n",
       "      <td>jeep</td>\n",
       "      <td>0</td>\n",
       "      <td>2016-03-14</td>\n",
       "    </tr>\n",
       "    <tr>\n",
       "      <th>3</th>\n",
       "      <td>1500</td>\n",
       "      <td>small</td>\n",
       "      <td>2001</td>\n",
       "      <td>manual</td>\n",
       "      <td>75</td>\n",
       "      <td>golf</td>\n",
       "      <td>150000</td>\n",
       "      <td>petrol</td>\n",
       "      <td>volkswagen</td>\n",
       "      <td>0</td>\n",
       "      <td>2016-03-17</td>\n",
       "    </tr>\n",
       "    <tr>\n",
       "      <th>4</th>\n",
       "      <td>3600</td>\n",
       "      <td>small</td>\n",
       "      <td>2008</td>\n",
       "      <td>manual</td>\n",
       "      <td>69</td>\n",
       "      <td>fabia</td>\n",
       "      <td>90000</td>\n",
       "      <td>gasoline</td>\n",
       "      <td>skoda</td>\n",
       "      <td>0</td>\n",
       "      <td>2016-03-31</td>\n",
       "    </tr>\n",
       "  </tbody>\n",
       "</table>\n",
       "</div>"
      ],
      "text/plain": [
       "   price vehicle_type  registration_year gearbox  power    model  kilometer  \\\n",
       "0    480      unknown               1993  manual      0     golf     150000   \n",
       "1  18300        coupe               2011  manual    190  unknown     125000   \n",
       "2   9800          suv               2004    auto    163    grand     125000   \n",
       "3   1500        small               2001  manual     75     golf     150000   \n",
       "4   3600        small               2008  manual     69    fabia      90000   \n",
       "\n",
       "  fuel_type       brand  repaired date_created  \n",
       "0    petrol  volkswagen         0   2016-03-24  \n",
       "1  gasoline        audi         1   2016-03-24  \n",
       "2  gasoline        jeep         0   2016-03-14  \n",
       "3    petrol  volkswagen         0   2016-03-17  \n",
       "4  gasoline       skoda         0   2016-03-31  "
      ]
     },
     "execution_count": 115,
     "metadata": {},
     "output_type": "execute_result"
    }
   ],
   "source": [
    "df.head()"
   ]
  },
  {
   "cell_type": "markdown",
   "metadata": {},
   "source": [
    "проверяем, что пропусков не осталось"
   ]
  },
  {
   "cell_type": "code",
   "execution_count": 116,
   "metadata": {},
   "outputs": [
    {
     "name": "stdout",
     "output_type": "stream",
     "text": [
      "Пропусков не осталось!\n"
     ]
    }
   ],
   "source": [
    "pass_value_barh(df)"
   ]
  },
  {
   "cell_type": "markdown",
   "metadata": {},
   "source": [
    "В колонке, отражающей информацию о том, была ли машина в ремонте, заменим все пропущенные значения на \"no\". Это обосновано тем, что при заполнении этого признака, если машина не подвергалась ремонту, могли оставлять графу пустой. После этого проведем кодирование значений: \"yes\" заменим на 1, а \"no\" на 0.\n",
    "\n",
    "Все пропуски в остальных столбцах, отражающих категориальные признаки (тип кузова, тип топлива, тип коробки передач, модель автомобиля), заполним значением \"unknown\"."
   ]
  },
  {
   "cell_type": "markdown",
   "metadata": {},
   "source": [
    "# Поиск и удаление дубликатов"
   ]
  },
  {
   "cell_type": "markdown",
   "metadata": {},
   "source": [
    "Ищем полные дубликаты"
   ]
  },
  {
   "cell_type": "code",
   "execution_count": 117,
   "metadata": {},
   "outputs": [
    {
     "data": {
      "text/plain": [
       "15062"
      ]
     },
     "execution_count": 117,
     "metadata": {},
     "output_type": "execute_result"
    }
   ],
   "source": [
    "df.duplicated().sum()"
   ]
  },
  {
   "cell_type": "markdown",
   "metadata": {},
   "source": [
    "удаляем полные дубликаты"
   ]
  },
  {
   "cell_type": "code",
   "execution_count": 118,
   "metadata": {},
   "outputs": [
    {
     "data": {
      "text/plain": [
       "0"
      ]
     },
     "execution_count": 118,
     "metadata": {},
     "output_type": "execute_result"
    }
   ],
   "source": [
    "\n",
    "df = df.drop_duplicates()\n",
    "\n",
    "df.duplicated().sum()"
   ]
  },
  {
   "cell_type": "markdown",
   "metadata": {},
   "source": [
    "# Работа с аномальными значениями"
   ]
  },
  {
   "cell_type": "markdown",
   "metadata": {},
   "source": [
    "Посмотрим нет ли аномалий типа: год регистрации автомобиля превышает год публикации объявления"
   ]
  },
  {
   "cell_type": "code",
   "execution_count": 119,
   "metadata": {},
   "outputs": [
    {
     "data": {
      "text/plain": [
       "(14242, 11)"
      ]
     },
     "execution_count": 119,
     "metadata": {},
     "output_type": "execute_result"
    }
   ],
   "source": [
    "df.loc[df['registration_year'] > df['date_created'].dt.year].shape"
   ]
  },
  {
   "cell_type": "markdown",
   "metadata": {},
   "source": [
    "удалим подобные объекты"
   ]
  },
  {
   "cell_type": "code",
   "execution_count": 120,
   "metadata": {},
   "outputs": [],
   "source": [
    "df = df.loc[df['registration_year'] <= df['date_created'].dt.year]"
   ]
  },
  {
   "cell_type": "markdown",
   "metadata": {},
   "source": [
    "данные по столбцу \"год регистрации автомобиля\""
   ]
  },
  {
   "cell_type": "code",
   "execution_count": 121,
   "metadata": {},
   "outputs": [
    {
     "data": {
      "image/png": "[encoded data removed]",
      "text/plain": [
       "<Figure size 640x480 with 1 Axes>"
      ]
     },
     "metadata": {},
     "output_type": "display_data"
    },
    {
     "data": {
      "image/png": "[encoded data removed]",
      "text/plain": [
       "<Figure size 640x480 with 1 Axes>"
      ]
     },
     "metadata": {},
     "output_type": "display_data"
    },
    {
     "name": "stdout",
     "output_type": "stream",
     "text": [
      "Максимальный год регистрации автомобиля: 2016\n"
     ]
    }
   ],
   "source": [
    "# Boxplot\n",
    "plt.boxplot(df['registration_year'])\n",
    "plt.grid()\n",
    "plt.ylim(1970, 2022)\n",
    "plt.title('Boxplot года регистрации автомобилей')\n",
    "plt.ylabel('Год регистрации')\n",
    "plt.show()\n",
    "\n",
    "# Гистограмма\n",
    "plt.hist(df['registration_year'], range=(1800, 1970), bins=10, edgecolor='black')\n",
    "plt.grid()\n",
    "plt.title('Гистограмма года регистрации автомобилей')\n",
    "plt.xlabel('Год регистрации')\n",
    "plt.ylabel('Частота')\n",
    "plt.show()\n",
    "\n",
    "# Вывод максимального года регистрации\n",
    "print(f'Максимальный год регистрации автомобиля: {df[\"registration_year\"].max()}')"
   ]
  },
  {
   "cell_type": "code",
   "execution_count": 122,
   "metadata": {},
   "outputs": [],
   "source": [
    "# Фильтрация данных\n",
    "df = df.query('1970 <= registration_year').reset_index(drop=True)"
   ]
  },
  {
   "cell_type": "code",
   "execution_count": 123,
   "metadata": {},
   "outputs": [
    {
     "data": {
      "image/png": "[encoded data removed]",
      "text/plain": [
       "<Figure size 640x480 with 1 Axes>"
      ]
     },
     "metadata": {},
     "output_type": "display_data"
    },
    {
     "data": {
      "image/png": "[encoded data removed]",
      "text/plain": [
       "<Figure size 640x480 with 1 Axes>"
      ]
     },
     "metadata": {},
     "output_type": "display_data"
    }
   ],
   "source": [
    "# Boxplot\n",
    "plt.boxplot(df['registration_year'])\n",
    "plt.grid()\n",
    "plt.title('Boxplot года регистрации автомобилей (после фильтрации)')\n",
    "plt.ylabel('Год регистрации')\n",
    "plt.show()\n",
    "\n",
    "# Гистограмма\n",
    "plt.hist(df['registration_year'], bins=10, edgecolor='black')\n",
    "plt.grid()\n",
    "plt.title('Гистограмма года регистрации автомобилей (после фильтрации)')\n",
    "plt.xlabel('Год регистрации')\n",
    "plt.ylabel('Частота')\n",
    "plt.show()"
   ]
  },
  {
   "cell_type": "markdown",
   "metadata": {},
   "source": [
    "Исключим столбец с датой публикации объявления"
   ]
  },
  {
   "cell_type": "code",
   "execution_count": 124,
   "metadata": {},
   "outputs": [],
   "source": [
    "# Удаление столбца 'date_created'\n",
    "df = df.drop('date_created', axis=1)"
   ]
  },
  {
   "cell_type": "markdown",
   "metadata": {},
   "source": [
    "Исключим аномалии в столбце с годом регистрации автомобиля: удалим объявления, в которых год регистрации автомобиля превышает год публикации объявления, чтобы избежать попадания в выборку автомобилей \"из будущего\". Установим нижнюю границу в 1970 год, чтобы охватить старые автомобили, и верхнюю границу в 2016 год – максимальный год регистрации автомобиля."
   ]
  },
  {
   "cell_type": "markdown",
   "metadata": {},
   "source": [
    "данные по столбцу \"мощность (в л.с.)\""
   ]
  },
  {
   "cell_type": "code",
   "execution_count": 125,
   "metadata": {},
   "outputs": [
    {
     "name": "stdout",
     "output_type": "stream",
     "text": [
      "Python 3.11.1\n"
     ]
    }
   ],
   "source": [
    "!python -V "
   ]
  },
  {
   "cell_type": "code",
   "execution_count": 126,
   "metadata": {},
   "outputs": [
    {
     "data": {
      "image/png": "[encoded data removed]",
      "text/plain": [
       "<Figure size 640x480 with 1 Axes>"
      ]
     },
     "metadata": {},
     "output_type": "display_data"
    },
    {
     "data": {
      "image/png": "[encoded data removed]",
      "text/plain": [
       "<Figure size 640x480 with 1 Axes>"
      ]
     },
     "metadata": {},
     "output_type": "display_data"
    }
   ],
   "source": [
    "# Boxplot для столбца 'power'\n",
    "plt.boxplot(df['power'])\n",
    "plt.grid()\n",
    "plt.ylim(0, 400)\n",
    "plt.title('Boxplot мощности автомобилей')\n",
    "plt.ylabel('Мощность')\n",
    "plt.show()\n",
    "\n",
    "# Гистограмма для столбца 'power'\n",
    "plt.hist(df['power'], range=(400, df['power'].max()), bins=10, edgecolor='black')\n",
    "plt.grid()\n",
    "plt.title('Гистограмма мощности автомобилей')\n",
    "plt.xlabel('Мощность')\n",
    "plt.ylabel('Частота')\n",
    "plt.show()"
   ]
  },
  {
   "cell_type": "code",
   "execution_count": 127,
   "metadata": {},
   "outputs": [],
   "source": [
    "# Функция для нормализации мощности\n",
    "def normal_power(num):\n",
    "    return num / 100 if num >= 10000 else num\n"
   ]
  },
  {
   "cell_type": "code",
   "execution_count": 128,
   "metadata": {},
   "outputs": [],
   "source": [
    "# Применение функции и перевод в целочисленный тип\n",
    "df['power'] = df['power'].apply(normal_power).astype(int)\n",
    "\n",
    "# Фильтрация данных по мощности\n",
    "df = df.query('50 <= power <= 400').reset_index(drop=True)"
   ]
  },
  {
   "cell_type": "code",
   "execution_count": 129,
   "metadata": {},
   "outputs": [
    {
     "data": {
      "image/png": "[encoded data removed]",
      "text/plain": [
       "<Figure size 640x480 with 1 Axes>"
      ]
     },
     "metadata": {},
     "output_type": "display_data"
    },
    {
     "data": {
      "image/png": "[encoded data removed]",
      "text/plain": [
       "<Figure size 640x480 with 1 Axes>"
      ]
     },
     "metadata": {},
     "output_type": "display_data"
    }
   ],
   "source": [
    "# Boxplot для столбца 'power'\n",
    "plt.boxplot(df['power'])\n",
    "plt.grid()\n",
    "plt.title('Boxplot нормализованной мощности автомобилей')\n",
    "plt.ylabel('Мощность')\n",
    "plt.show()\n",
    "\n",
    "# Гистограмма для столбца 'power'\n",
    "plt.hist(df['power'], bins=10, edgecolor='black')\n",
    "plt.grid()\n",
    "plt.title('Гистограмма нормализованной мощности автомобилей')\n",
    "plt.xlabel('Мощность')\n",
    "plt.ylabel('Частота')\n",
    "plt.show()"
   ]
  },
  {
   "cell_type": "markdown",
   "metadata": {},
   "source": [
    "Исключим из столбца с мощностью автомобиля все значения, являющиеся аномалиями. Точно известно, что значения выше 10 тыс. л.с. являются аномалиями. Поэтому все значения, превышающие этот порог, будут поделены на 100. Также, согласно диаграмме размаха, мы увидели, что значения выше 250 л.с. и ниже 70 л.с. выходят за пределы \"усов\". Мы решили оставить только те объекты, у которых значения мощности находятся в промежутке от 50 л.с. до 400 л.с., чтобы учесть как маломощные автомобили, так и машины с высокой мощностью."
   ]
  },
  {
   "cell_type": "markdown",
   "metadata": {},
   "source": [
    "данные по столбцу \"пробег\""
   ]
  },
  {
   "cell_type": "code",
   "execution_count": 130,
   "metadata": {},
   "outputs": [
    {
     "data": {
      "image/png": "[encoded data removed]",
      "text/plain": [
       "<Figure size 640x480 with 1 Axes>"
      ]
     },
     "metadata": {},
     "output_type": "display_data"
    },
    {
     "data": {
      "image/png": "[encoded data removed]",
      "text/plain": [
       "<Figure size 640x480 with 1 Axes>"
      ]
     },
     "metadata": {},
     "output_type": "display_data"
    },
    {
     "name": "stdout",
     "output_type": "stream",
     "text": [
      "Уникальные значения столбца с пробегом: [125000, 150000, 90000, 40000, 30000, 70000, 100000, 60000, 5000, 20000, 80000, 50000, 10000]\n"
     ]
    }
   ],
   "source": [
    "# Boxplot для столбца 'kilometer'\n",
    "plt.boxplot(df['kilometer'])\n",
    "plt.grid()\n",
    "plt.title('Boxplot пробега автомобилей')\n",
    "plt.ylabel('Пробег (в км)')\n",
    "plt.show()\n",
    "\n",
    "# Гистограмма для столбца 'kilometer'\n",
    "plt.hist(df['kilometer'], bins=10, edgecolor='black')\n",
    "plt.grid()\n",
    "plt.title('Гистограмма пробега автомобилей')\n",
    "plt.xlabel('Пробег (в км)')\n",
    "plt.ylabel('Частота')\n",
    "plt.show()\n",
    "\n",
    "# Вывод уникальных значений столбца 'kilometer'\n",
    "unique_kilometer_values = list(df['kilometer'].unique())\n",
    "print(f'Уникальные значения столбца с пробегом: {unique_kilometer_values}')\n"
   ]
  },
  {
   "cell_type": "markdown",
   "metadata": {},
   "source": [
    "Из графиков видно, что множество автомобилей имеют пробег от 120 до 150 тыс. км, что вполне типично для рынка подержанных автомобилей. Важно отметить, что наличие такого распределения не исключает возможность наличия автомобилей с низким пробегом. Поэтому мы решаем не исключать аномалии по данному столбцу."
   ]
  },
  {
   "cell_type": "code",
   "execution_count": 131,
   "metadata": {},
   "outputs": [
    {
     "data": {
      "image/png": "[encoded data removed]",
      "text/plain": [
       "<Figure size 640x480 with 1 Axes>"
      ]
     },
     "metadata": {},
     "output_type": "display_data"
    },
    {
     "data": {
      "image/png": "[encoded data removed]",
      "text/plain": [
       "<Figure size 640x480 with 1 Axes>"
      ]
     },
     "metadata": {},
     "output_type": "display_data"
    }
   ],
   "source": [
    "# Boxplot для столбца 'price'\n",
    "plt.boxplot(df['price'])\n",
    "plt.ylim(0, 16000)\n",
    "plt.title('Boxplot цены автомобилей')\n",
    "plt.grid()\n",
    "plt.ylabel('Цена')\n",
    "plt.show()\n",
    "\n",
    "# Гистограмма для столбца 'price'\n",
    "plt.hist(df['price'], bins=10, edgecolor='black')\n",
    "plt.grid()\n",
    "plt.title('Гистограмма цены автомобилей')\n",
    "plt.xlabel('Цена')\n",
    "plt.ylabel('Частота')\n",
    "plt.show()\n"
   ]
  },
  {
   "cell_type": "code",
   "execution_count": 132,
   "metadata": {},
   "outputs": [],
   "source": [
    "# Фильтрация данных по цене\n",
    "df = df.query('0 < price <= 16000')"
   ]
  },
  {
   "cell_type": "markdown",
   "metadata": {},
   "source": [
    "данные по столбцу \"цена"
   ]
  },
  {
   "cell_type": "code",
   "execution_count": 133,
   "metadata": {},
   "outputs": [
    {
     "data": {
      "image/png": "[encoded data removed]",
      "text/plain": [
       "<Figure size 640x480 with 1 Axes>"
      ]
     },
     "metadata": {},
     "output_type": "display_data"
    },
    {
     "data": {
      "image/png": "[encoded data removed]",
      "text/plain": [
       "<Figure size 640x480 with 1 Axes>"
      ]
     },
     "metadata": {},
     "output_type": "display_data"
    }
   ],
   "source": [
    "\n",
    "# Boxplot для столбца 'price'\n",
    "plt.boxplot(df['price'])\n",
    "plt.title('Boxplot цены автомобилей (фильтрация)')\n",
    "plt.ylabel('Цена')\n",
    "plt.grid()\n",
    "plt.show()\n",
    "\n",
    "# Гистограмма для столбца 'price'\n",
    "plt.hist(df['price'], bins=10, edgecolor='black')\n",
    "plt.title('Гистограмма цены автомобилей (фильтрация)')\n",
    "plt.grid()\n",
    "plt.xlabel('Цена')\n",
    "plt.ylabel('Частота')\n",
    "plt.show()\n"
   ]
  },
  {
   "cell_type": "markdown",
   "metadata": {},
   "source": [
    "Удалим аномалии из столбца с целевым признаком – \"цена\". К аномалиям относятся все значения выше верхней границы \"усов\"."
   ]
  },
  {
   "cell_type": "markdown",
   "metadata": {},
   "source": [
    "# Изучение корреляции признаков"
   ]
  },
  {
   "cell_type": "markdown",
   "metadata": {},
   "source": [
    "Преобразование категориальных переменных в числовой формат"
   ]
  },
  {
   "cell_type": "code",
   "execution_count": 134,
   "metadata": {},
   "outputs": [],
   "source": [
    "le = LabelEncoder()\n",
    "df_encoded = df.copy()\n",
    "categorical_columns = df.select_dtypes(include=['object']).columns\n",
    "\n",
    "for column in categorical_columns:\n",
    "    df_encoded[column] = le.fit_transform(df[column])"
   ]
  },
  {
   "cell_type": "markdown",
   "metadata": {},
   "source": [
    "Построение тепловой карты"
   ]
  },
  {
   "cell_type": "code",
   "execution_count": 135,
   "metadata": {},
   "outputs": [
    {
     "data": {
      "image/png": "[encoded data removed]",
      "text/plain": [
       "<Figure size 1000x800 with 2 Axes>"
      ]
     },
     "metadata": {},
     "output_type": "display_data"
    }
   ],
   "source": [
    "\n",
    "\n",
    "plt.figure(figsize=(10, 8))\n",
    "sns.heatmap(df_encoded.drop('price', axis=1).corr(), annot=True, cmap='coolwarm', fmt=\".2f\")\n",
    "plt.show()\n"
   ]
  },
  {
   "cell_type": "markdown",
   "metadata": {},
   "source": [
    "Значение коффициента корреляции между численными признаками не привышает 0.2 – 0.3. Такая корреляция считается слабой, следовательно мультиколлинеарности нет."
   ]
  },
  {
   "cell_type": "markdown",
   "metadata": {},
   "source": [
    "# Подготовка выборок для обучения моделей"
   ]
  },
  {
   "cell_type": "markdown",
   "metadata": {},
   "source": [
    "описание данных после предобработки"
   ]
  },
  {
   "cell_type": "code",
   "execution_count": 136,
   "metadata": {},
   "outputs": [
    {
     "name": "stdout",
     "output_type": "stream",
     "text": [
      "<class 'pandas.core.frame.DataFrame'>\n",
      "Index: 267273 entries, 1 to 283245\n",
      "Data columns (total 10 columns):\n",
      " #   Column             Non-Null Count   Dtype \n",
      "---  ------             --------------   ----- \n",
      " 0   price              267273 non-null  int64 \n",
      " 1   vehicle_type       267273 non-null  object\n",
      " 2   registration_year  267273 non-null  int64 \n",
      " 3   gearbox            267273 non-null  object\n",
      " 4   power              267273 non-null  int32 \n",
      " 5   model              267273 non-null  object\n",
      " 6   kilometer          267273 non-null  int64 \n",
      " 7   fuel_type          267273 non-null  object\n",
      " 8   brand              267273 non-null  object\n",
      " 9   repaired           267273 non-null  int64 \n",
      "dtypes: int32(1), int64(4), object(5)\n",
      "memory usage: 21.4+ MB\n"
     ]
    }
   ],
   "source": [
    "df.info()\n"
   ]
  },
  {
   "cell_type": "markdown",
   "metadata": {},
   "source": [
    "разделим данные на выборки"
   ]
  },
  {
   "cell_type": "code",
   "execution_count": 137,
   "metadata": {},
   "outputs": [],
   "source": [
    "features_train, features_test, target_train, target_test = train_test_split(df.drop('price', axis=1),\n",
    "                                                                            df['price'],\n",
    "                                                                            test_size=0.25, \n",
    "                                                                            random_state=42)"
   ]
  },
  {
   "cell_type": "markdown",
   "metadata": {},
   "source": [
    "проверим размеры выборок"
   ]
  },
  {
   "cell_type": "code",
   "execution_count": 138,
   "metadata": {},
   "outputs": [
    {
     "data": {
      "text/plain": [
       "(200454, 9)"
      ]
     },
     "metadata": {},
     "output_type": "display_data"
    },
    {
     "data": {
      "text/plain": [
       "(200454,)"
      ]
     },
     "metadata": {},
     "output_type": "display_data"
    },
    {
     "data": {
      "text/plain": [
       "(66819, 9)"
      ]
     },
     "metadata": {},
     "output_type": "display_data"
    },
    {
     "data": {
      "text/plain": [
       "(66819,)"
      ]
     },
     "metadata": {},
     "output_type": "display_data"
    }
   ],
   "source": [
    "display(features_train.shape, target_train.shape)\n",
    "display(features_test.shape, target_test.shape)"
   ]
  },
  {
   "cell_type": "markdown",
   "metadata": {},
   "source": [
    "# Обучение моделей"
   ]
  },
  {
   "cell_type": "markdown",
   "metadata": {},
   "source": [
    "категориальные признаки"
   ]
  },
  {
   "cell_type": "code",
   "execution_count": 139,
   "metadata": {},
   "outputs": [
    {
     "data": {
      "text/plain": [
       "['vehicle_type', 'gearbox', 'model', 'fuel_type', 'brand']"
      ]
     },
     "execution_count": 139,
     "metadata": {},
     "output_type": "execute_result"
    }
   ],
   "source": [
    "CATEGORICAL = features_train.select_dtypes(include='object').columns.to_list()\n",
    "CATEGORICAL"
   ]
  },
  {
   "cell_type": "markdown",
   "metadata": {},
   "source": [
    "численные признаки"
   ]
  },
  {
   "cell_type": "code",
   "execution_count": 140,
   "metadata": {},
   "outputs": [
    {
     "data": {
      "text/plain": [
       "['registration_year', 'power', 'kilometer']"
      ]
     },
     "execution_count": 140,
     "metadata": {},
     "output_type": "execute_result"
    }
   ],
   "source": [
    "NUMERIC = features_train.select_dtypes(exclude='object').columns.to_list()\n",
    "NUMERIC.remove('repaired')\n",
    "NUMERIC"
   ]
  },
  {
   "cell_type": "markdown",
   "metadata": {},
   "source": [
    "заготовка для сводной таблицы по всем моделям"
   ]
  },
  {
   "cell_type": "code",
   "execution_count": 141,
   "metadata": {},
   "outputs": [],
   "source": [
    "rmse_score_diff_methods = pd.DataFrame()"
   ]
  },
  {
   "cell_type": "markdown",
   "metadata": {},
   "source": [
    "# Применение базовых моделей\n",
    "# метод Ridge\n",
    "Для применения логистической регрессии (метод Ridge) мы применяем кодирование One-Hot Encoding для категориальных признаков и используем метод StandardScaler для числовых признаков."
   ]
  },
  {
   "cell_type": "markdown",
   "metadata": {},
   "source": [
    "Кодировка категориальных признаков и маштабирование численных"
   ]
  },
  {
   "cell_type": "code",
   "execution_count": 142,
   "metadata": {},
   "outputs": [],
   "source": [
    "features_train_ridge = features_train.copy()\n",
    "\n",
    "col_transformer_ridge = make_column_transformer(\n",
    "    (\n",
    "        OneHotEncoder(drop='first', handle_unknown='ignore'),\n",
    "        CATEGORICAL\n",
    "    ),\n",
    "    (\n",
    "        StandardScaler(), \n",
    "        NUMERIC\n",
    "    ),\n",
    "    remainder='passthrough')"
   ]
  },
  {
   "cell_type": "code",
   "execution_count": 143,
   "metadata": {},
   "outputs": [
    {
     "name": "stdout",
     "output_type": "stream",
     "text": [
      "Fitting 5 folds for each of 25 candidates, totalling 125 fits\n"
     ]
    },
    {
     "name": "stdout",
     "output_type": "stream",
     "text": [
      "CPU times: total: 15.7 s\n",
      "Wall time: 1min 3s\n"
     ]
    }
   ],
   "source": [
    "%%time\n",
    "\n",
    "ridge_model = Ridge(random_state=42)\n",
    "\n",
    "ridge_pipeline = make_pipeline(col_transformer_ridge, ridge_model)\n",
    "\n",
    "ridge_params_grid = {'ridge__alpha': np.arange(0.00, 0.25, 0.01)}\n",
    "\n",
    "ridge_grid = GridSearchCV(\n",
    "    ridge_pipeline, \n",
    "    param_grid=ridge_params_grid, \n",
    "    scoring='neg_root_mean_squared_error', \n",
    "    n_jobs=-1,\n",
    "    verbose=1)\n",
    "\n",
    "ridge_grid.fit(features_train_ridge, target_train)\n",
    "\n",
    "best_ridge_model = ridge_grid.best_estimator_\n",
    "best_ridge_parameters = ridge_grid.best_params_\n",
    "best_ridge_result = ridge_grid.best_score_ * -1\n"
   ]
  },
  {
   "cell_type": "code",
   "execution_count": 144,
   "metadata": {},
   "outputs": [
    {
     "name": "stdout",
     "output_type": "stream",
     "text": [
      "Оптимальный результат RMSE модели: 2188.3065663929942\n",
      "Оптимальные параметры модели: {'ridge__alpha': 0.22}\n"
     ]
    }
   ],
   "source": [
    "print(f'Оптимальный результат RMSE модели: {best_ridge_result}')\n",
    "print(f'Оптимальные параметры модели: {best_ridge_parameters}')"
   ]
  },
  {
   "cell_type": "markdown",
   "metadata": {},
   "source": [
    "замеряем время предсказания"
   ]
  },
  {
   "cell_type": "code",
   "execution_count": 145,
   "metadata": {},
   "outputs": [
    {
     "name": "stdout",
     "output_type": "stream",
     "text": [
      "CPU times: total: 312 ms\n",
      "Wall time: 315 ms\n"
     ]
    }
   ],
   "source": [
    "%%time\n",
    "\n",
    "# замеряем время предсказания\n",
    "predicted_test = best_ridge_model.predict(features_train)"
   ]
  },
  {
   "cell_type": "code",
   "execution_count": 146,
   "metadata": {},
   "outputs": [],
   "source": [
    "rmse_score_diff_methods.loc['Ridge', 'RMSE'] = best_ridge_result\n",
    "rmse_score_diff_methods.loc['Ridge', 'time_fit'] = '43.6 s'\n",
    "rmse_score_diff_methods.loc['Ridge', 'time_predict'] = '185 ms'"
   ]
  },
  {
   "cell_type": "markdown",
   "metadata": {},
   "source": [
    "# Дерево решений"
   ]
  },
  {
   "cell_type": "markdown",
   "metadata": {},
   "source": [
    "Используем порядковое кодирование признака *model, так как в нем отражено большое количество уникальных значений (модель автомобиля), и OHE кодирование остальных категориальных признаков*."
   ]
  },
  {
   "cell_type": "markdown",
   "metadata": {},
   "source": [
    "кодировка категориальных признаков и маштабирование численных"
   ]
  },
  {
   "cell_type": "code",
   "execution_count": 147,
   "metadata": {},
   "outputs": [],
   "source": [
    "features_train_tree = features_train.copy()\n",
    "\n",
    "col_transformer_tree = make_column_transformer(\n",
    "    (\n",
    "        OrdinalEncoder(handle_unknown='use_encoded_value', unknown_value=-1), \n",
    "        CATEGORICAL\n",
    "    ),\n",
    "    (\n",
    "        StandardScaler(),\n",
    "        NUMERIC\n",
    "    ),\n",
    "    remainder='passthrough')"
   ]
  },
  {
   "cell_type": "code",
   "execution_count": 148,
   "metadata": {},
   "outputs": [
    {
     "name": "stdout",
     "output_type": "stream",
     "text": [
      "Fitting 5 folds for each of 13 candidates, totalling 65 fits\n"
     ]
    },
    {
     "name": "stdout",
     "output_type": "stream",
     "text": [
      "CPU times: total: 33.5 s\n",
      "Wall time: 34.5 s\n"
     ]
    }
   ],
   "source": [
    "%%time\n",
    "\n",
    "model_tree = DecisionTreeRegressor(random_state=42)\n",
    "\n",
    "pipline_tree = make_pipeline(col_transformer_tree, model_tree)\n",
    "\n",
    "params_grid_tree = {'decisiontreeregressor__max_depth': range(2, 15)}\n",
    "\n",
    "grid_tree = GridSearchCV(\n",
    "    pipline_tree, \n",
    "    param_grid=params_grid_tree,\n",
    "    scoring='neg_root_mean_squared_error',\n",
    "    verbose=1)\n",
    "\n",
    "grid_tree.fit(features_train_tree, target_train)\n",
    "\n",
    "best_model_tree = grid_tree.best_estimator_\n",
    "best_parametrs_tree = grid_tree.best_params_\n",
    "best_result_tree = grid_tree.best_score_ * -1"
   ]
  },
  {
   "cell_type": "code",
   "execution_count": 149,
   "metadata": {},
   "outputs": [
    {
     "name": "stdout",
     "output_type": "stream",
     "text": [
      "Оптимальный результат RMSE модели: 1664.96603629967\n",
      "Оптимальные параметры модели: {'decisiontreeregressor__max_depth': 14}\n"
     ]
    }
   ],
   "source": [
    "print(f'Оптимальный результат RMSE модели: {best_result_tree}') \n",
    "print(f'Оптимальные параметры модели: {best_parametrs_tree}') "
   ]
  },
  {
   "cell_type": "markdown",
   "metadata": {},
   "source": [
    "замеряем время предсказания"
   ]
  },
  {
   "cell_type": "code",
   "execution_count": 150,
   "metadata": {},
   "outputs": [
    {
     "name": "stdout",
     "output_type": "stream",
     "text": [
      "CPU times: total: 234 ms\n",
      "Wall time: 233 ms\n"
     ]
    }
   ],
   "source": [
    "%%time\n",
    "\n",
    "predicted_test = best_model_tree.predict(features_train)"
   ]
  },
  {
   "cell_type": "code",
   "execution_count": 151,
   "metadata": {},
   "outputs": [],
   "source": [
    "rmse_score_diff_methods.loc['DecisionTree', 'RMSE'] = best_result_tree\n",
    "rmse_score_diff_methods.loc['DecisionTree', 'time_fit'] = '19.9 s'\n",
    "rmse_score_diff_methods.loc['DecisionTree', 'time_predict'] = '136 ms'"
   ]
  },
  {
   "cell_type": "markdown",
   "metadata": {},
   "source": [
    "# Градиентный бустинг\n",
    "# LightGBM\n"
   ]
  },
  {
   "cell_type": "markdown",
   "metadata": {},
   "source": [
    "кодируем категориальные признаки"
   ]
  },
  {
   "cell_type": "code",
   "execution_count": 152,
   "metadata": {},
   "outputs": [],
   "source": [
    "ord_enc = OrdinalEncoder(handle_unknown='use_encoded_value', unknown_value=-1)\n",
    "features_train_lgb = features_train.copy()\n",
    "features_train_lgb[CATEGORICAL] = ord_enc.fit_transform(features_train_lgb[CATEGORICAL]).astype(int)"
   ]
  },
  {
   "cell_type": "code",
   "execution_count": 153,
   "metadata": {},
   "outputs": [
    {
     "name": "stdout",
     "output_type": "stream",
     "text": [
      "Fitting 5 folds for each of 10 candidates, totalling 50 fits\n",
      "[LightGBM] [Warning] Accuracy may be bad since you didn't explicitly set num_leaves OR 2^max_depth > num_leaves. (num_leaves=31).\n",
      "[LightGBM] [Warning] Accuracy may be bad since you didn't explicitly set num_leaves OR 2^max_depth > num_leaves. (num_leaves=31).\n",
      "[LightGBM] [Info] Auto-choosing row-wise multi-threading, the overhead of testing was 0.005577 seconds.\n",
      "You can set `force_row_wise=true` to remove the overhead.\n",
      "And if memory is not enough, you can set `force_col_wise=true`.\n",
      "[LightGBM] [Info] Total Bins 581\n",
      "[LightGBM] [Info] Number of data points in the train set: 200454, number of used features: 9\n",
      "[LightGBM] [Info] Start training from score 4382.534083\n",
      "[LightGBM] [Warning] No further splits with positive gain, best gain: -inf\n",
      "[LightGBM] [Warning] No further splits with positive gain, best gain: -inf\n",
      "[LightGBM] [Warning] No further splits with positive gain, best gain: -inf\n",
      "[LightGBM] [Warning] No further splits with positive gain, best gain: -inf\n",
      "[LightGBM] [Warning] No further splits with positive gain, best gain: -inf\n",
      "[LightGBM] [Warning] No further splits with positive gain, best gain: -inf\n",
      "[LightGBM] [Warning] No further splits with positive gain, best gain: -inf\n",
      "[LightGBM] [Warning] No further splits with positive gain, best gain: -inf\n",
      "[LightGBM] [Warning] No further splits with positive gain, best gain: -inf\n",
      "[LightGBM] [Warning] No further splits with positive gain, best gain: -inf\n",
      "[LightGBM] [Warning] No further splits with positive gain, best gain: -inf\n",
      "[LightGBM] [Warning] No further splits with positive gain, best gain: -inf\n",
      "[LightGBM] [Warning] No further splits with positive gain, best gain: -inf\n",
      "[LightGBM] [Warning] No further splits with positive gain, best gain: -inf\n",
      "[LightGBM] [Warning] No further splits with positive gain, best gain: -inf\n",
      "[LightGBM] [Warning] No further splits with positive gain, best gain: -inf\n",
      "[LightGBM] [Warning] No further splits with positive gain, best gain: -inf\n",
      "[LightGBM] [Warning] No further splits with positive gain, best gain: -inf\n",
      "[LightGBM] [Warning] No further splits with positive gain, best gain: -inf\n",
      "[LightGBM] [Warning] No further splits with positive gain, best gain: -inf\n",
      "[LightGBM] [Warning] No further splits with positive gain, best gain: -inf\n",
      "[LightGBM] [Warning] No further splits with positive gain, best gain: -inf\n",
      "[LightGBM] [Warning] No further splits with positive gain, best gain: -inf\n",
      "[LightGBM] [Warning] No further splits with positive gain, best gain: -inf\n",
      "[LightGBM] [Warning] No further splits with positive gain, best gain: -inf\n",
      "[LightGBM] [Warning] No further splits with positive gain, best gain: -inf\n",
      "[LightGBM] [Warning] No further splits with positive gain, best gain: -inf\n",
      "[LightGBM] [Warning] No further splits with positive gain, best gain: -inf\n",
      "[LightGBM] [Warning] No further splits with positive gain, best gain: -inf\n",
      "[LightGBM] [Warning] No further splits with positive gain, best gain: -inf\n",
      "[LightGBM] [Warning] No further splits with positive gain, best gain: -inf\n",
      "[LightGBM] [Warning] No further splits with positive gain, best gain: -inf\n",
      "[LightGBM] [Warning] No further splits with positive gain, best gain: -inf\n",
      "[LightGBM] [Warning] No further splits with positive gain, best gain: -inf\n",
      "[LightGBM] [Warning] No further splits with positive gain, best gain: -inf\n",
      "[LightGBM] [Warning] No further splits with positive gain, best gain: -inf\n",
      "[LightGBM] [Warning] No further splits with positive gain, best gain: -inf\n",
      "[LightGBM] [Warning] No further splits with positive gain, best gain: -inf\n",
      "[LightGBM] [Warning] No further splits with positive gain, best gain: -inf\n",
      "[LightGBM] [Warning] No further splits with positive gain, best gain: -inf\n",
      "[LightGBM] [Warning] No further splits with positive gain, best gain: -inf\n",
      "[LightGBM] [Warning] No further splits with positive gain, best gain: -inf\n",
      "[LightGBM] [Warning] No further splits with positive gain, best gain: -inf\n",
      "[LightGBM] [Warning] No further splits with positive gain, best gain: -inf\n",
      "[LightGBM] [Warning] No further splits with positive gain, best gain: -inf\n",
      "[LightGBM] [Warning] No further splits with positive gain, best gain: -inf\n",
      "[LightGBM] [Warning] No further splits with positive gain, best gain: -inf\n",
      "[LightGBM] [Warning] No further splits with positive gain, best gain: -inf\n",
      "[LightGBM] [Warning] No further splits with positive gain, best gain: -inf\n",
      "[LightGBM] [Warning] No further splits with positive gain, best gain: -inf\n",
      "[LightGBM] [Warning] No further splits with positive gain, best gain: -inf\n",
      "[LightGBM] [Warning] No further splits with positive gain, best gain: -inf\n",
      "[LightGBM] [Warning] No further splits with positive gain, best gain: -inf\n",
      "[LightGBM] [Warning] No further splits with positive gain, best gain: -inf\n",
      "[LightGBM] [Warning] No further splits with positive gain, best gain: -inf\n",
      "[LightGBM] [Warning] No further splits with positive gain, best gain: -inf\n",
      "[LightGBM] [Warning] No further splits with positive gain, best gain: -inf\n",
      "[LightGBM] [Warning] No further splits with positive gain, best gain: -inf\n",
      "[LightGBM] [Warning] No further splits with positive gain, best gain: -inf\n",
      "[LightGBM] [Warning] No further splits with positive gain, best gain: -inf\n",
      "[LightGBM] [Warning] No further splits with positive gain, best gain: -inf\n",
      "[LightGBM] [Warning] No further splits with positive gain, best gain: -inf\n",
      "[LightGBM] [Warning] No further splits with positive gain, best gain: -inf\n",
      "[LightGBM] [Warning] No further splits with positive gain, best gain: -inf\n",
      "[LightGBM] [Warning] No further splits with positive gain, best gain: -inf\n",
      "[LightGBM] [Warning] No further splits with positive gain, best gain: -inf\n",
      "[LightGBM] [Warning] No further splits with positive gain, best gain: -inf\n",
      "[LightGBM] [Warning] No further splits with positive gain, best gain: -inf\n",
      "[LightGBM] [Warning] No further splits with positive gain, best gain: -inf\n",
      "[LightGBM] [Warning] No further splits with positive gain, best gain: -inf\n",
      "[LightGBM] [Warning] No further splits with positive gain, best gain: -inf\n",
      "[LightGBM] [Warning] No further splits with positive gain, best gain: -inf\n",
      "[LightGBM] [Warning] No further splits with positive gain, best gain: -inf\n",
      "[LightGBM] [Warning] No further splits with positive gain, best gain: -inf\n",
      "[LightGBM] [Warning] No further splits with positive gain, best gain: -inf\n",
      "[LightGBM] [Warning] No further splits with positive gain, best gain: -inf\n",
      "[LightGBM] [Warning] No further splits with positive gain, best gain: -inf\n",
      "[LightGBM] [Warning] No further splits with positive gain, best gain: -inf\n",
      "[LightGBM] [Warning] No further splits with positive gain, best gain: -inf\n",
      "[LightGBM] [Warning] No further splits with positive gain, best gain: -inf\n",
      "[LightGBM] [Warning] No further splits with positive gain, best gain: -inf\n",
      "[LightGBM] [Warning] No further splits with positive gain, best gain: -inf\n",
      "[LightGBM] [Warning] No further splits with positive gain, best gain: -inf\n",
      "[LightGBM] [Warning] No further splits with positive gain, best gain: -inf\n",
      "[LightGBM] [Warning] No further splits with positive gain, best gain: -inf\n",
      "[LightGBM] [Warning] No further splits with positive gain, best gain: -inf\n",
      "[LightGBM] [Warning] No further splits with positive gain, best gain: -inf\n",
      "[LightGBM] [Warning] No further splits with positive gain, best gain: -inf\n",
      "[LightGBM] [Warning] No further splits with positive gain, best gain: -inf\n",
      "[LightGBM] [Warning] No further splits with positive gain, best gain: -inf\n",
      "[LightGBM] [Warning] No further splits with positive gain, best gain: -inf\n",
      "[LightGBM] [Warning] No further splits with positive gain, best gain: -inf\n",
      "[LightGBM] [Warning] No further splits with positive gain, best gain: -inf\n",
      "[LightGBM] [Warning] No further splits with positive gain, best gain: -inf\n",
      "[LightGBM] [Warning] No further splits with positive gain, best gain: -inf\n",
      "[LightGBM] [Warning] No further splits with positive gain, best gain: -inf\n",
      "[LightGBM] [Warning] No further splits with positive gain, best gain: -inf\n",
      "[LightGBM] [Warning] No further splits with positive gain, best gain: -inf\n",
      "[LightGBM] [Warning] No further splits with positive gain, best gain: -inf\n",
      "[LightGBM] [Warning] No further splits with positive gain, best gain: -inf\n",
      "[LightGBM] [Warning] No further splits with positive gain, best gain: -inf\n",
      "[LightGBM] [Warning] No further splits with positive gain, best gain: -inf\n",
      "[LightGBM] [Warning] No further splits with positive gain, best gain: -inf\n",
      "[LightGBM] [Warning] No further splits with positive gain, best gain: -inf\n",
      "[LightGBM] [Warning] No further splits with positive gain, best gain: -inf\n",
      "[LightGBM] [Warning] No further splits with positive gain, best gain: -inf\n",
      "[LightGBM] [Warning] No further splits with positive gain, best gain: -inf\n",
      "[LightGBM] [Warning] No further splits with positive gain, best gain: -inf\n",
      "[LightGBM] [Warning] No further splits with positive gain, best gain: -inf\n",
      "[LightGBM] [Warning] No further splits with positive gain, best gain: -inf\n",
      "[LightGBM] [Warning] No further splits with positive gain, best gain: -inf\n",
      "[LightGBM] [Warning] No further splits with positive gain, best gain: -inf\n",
      "[LightGBM] [Warning] No further splits with positive gain, best gain: -inf\n",
      "[LightGBM] [Warning] No further splits with positive gain, best gain: -inf\n",
      "[LightGBM] [Warning] No further splits with positive gain, best gain: -inf\n",
      "[LightGBM] [Warning] No further splits with positive gain, best gain: -inf\n",
      "[LightGBM] [Warning] No further splits with positive gain, best gain: -inf\n",
      "[LightGBM] [Warning] No further splits with positive gain, best gain: -inf\n",
      "[LightGBM] [Warning] No further splits with positive gain, best gain: -inf\n",
      "[LightGBM] [Warning] No further splits with positive gain, best gain: -inf\n",
      "[LightGBM] [Warning] No further splits with positive gain, best gain: -inf\n",
      "[LightGBM] [Warning] No further splits with positive gain, best gain: -inf\n",
      "[LightGBM] [Warning] No further splits with positive gain, best gain: -inf\n",
      "[LightGBM] [Warning] No further splits with positive gain, best gain: -inf\n",
      "[LightGBM] [Warning] No further splits with positive gain, best gain: -inf\n",
      "[LightGBM] [Warning] No further splits with positive gain, best gain: -inf\n",
      "[LightGBM] [Warning] No further splits with positive gain, best gain: -inf\n",
      "[LightGBM] [Warning] No further splits with positive gain, best gain: -inf\n",
      "[LightGBM] [Warning] No further splits with positive gain, best gain: -inf\n",
      "[LightGBM] [Warning] No further splits with positive gain, best gain: -inf\n",
      "[LightGBM] [Warning] No further splits with positive gain, best gain: -inf\n",
      "[LightGBM] [Warning] No further splits with positive gain, best gain: -inf\n",
      "[LightGBM] [Warning] No further splits with positive gain, best gain: -inf\n",
      "[LightGBM] [Warning] No further splits with positive gain, best gain: -inf\n",
      "[LightGBM] [Warning] No further splits with positive gain, best gain: -inf\n",
      "[LightGBM] [Warning] No further splits with positive gain, best gain: -inf\n",
      "[LightGBM] [Warning] No further splits with positive gain, best gain: -inf\n",
      "[LightGBM] [Warning] No further splits with positive gain, best gain: -inf\n",
      "[LightGBM] [Warning] No further splits with positive gain, best gain: -inf\n",
      "[LightGBM] [Warning] No further splits with positive gain, best gain: -inf\n",
      "[LightGBM] [Warning] No further splits with positive gain, best gain: -inf\n",
      "[LightGBM] [Warning] No further splits with positive gain, best gain: -inf\n",
      "[LightGBM] [Warning] No further splits with positive gain, best gain: -inf\n",
      "[LightGBM] [Warning] No further splits with positive gain, best gain: -inf\n",
      "[LightGBM] [Warning] No further splits with positive gain, best gain: -inf\n",
      "[LightGBM] [Warning] No further splits with positive gain, best gain: -inf\n",
      "[LightGBM] [Warning] No further splits with positive gain, best gain: -inf\n",
      "[LightGBM] [Warning] No further splits with positive gain, best gain: -inf\n",
      "[LightGBM] [Warning] No further splits with positive gain, best gain: -inf\n",
      "[LightGBM] [Warning] No further splits with positive gain, best gain: -inf\n",
      "[LightGBM] [Warning] No further splits with positive gain, best gain: -inf\n",
      "[LightGBM] [Warning] No further splits with positive gain, best gain: -inf\n",
      "[LightGBM] [Warning] No further splits with positive gain, best gain: -inf\n",
      "[LightGBM] [Warning] No further splits with positive gain, best gain: -inf\n",
      "[LightGBM] [Warning] No further splits with positive gain, best gain: -inf\n",
      "[LightGBM] [Warning] No further splits with positive gain, best gain: -inf\n",
      "[LightGBM] [Warning] No further splits with positive gain, best gain: -inf\n",
      "[LightGBM] [Warning] No further splits with positive gain, best gain: -inf\n",
      "[LightGBM] [Warning] No further splits with positive gain, best gain: -inf\n",
      "[LightGBM] [Warning] No further splits with positive gain, best gain: -inf\n",
      "[LightGBM] [Warning] No further splits with positive gain, best gain: -inf\n",
      "[LightGBM] [Warning] No further splits with positive gain, best gain: -inf\n",
      "[LightGBM] [Warning] No further splits with positive gain, best gain: -inf\n",
      "[LightGBM] [Warning] No further splits with positive gain, best gain: -inf\n",
      "[LightGBM] [Warning] No further splits with positive gain, best gain: -inf\n",
      "[LightGBM] [Warning] No further splits with positive gain, best gain: -inf\n",
      "[LightGBM] [Warning] No further splits with positive gain, best gain: -inf\n",
      "[LightGBM] [Warning] No further splits with positive gain, best gain: -inf\n",
      "[LightGBM] [Warning] No further splits with positive gain, best gain: -inf\n",
      "[LightGBM] [Warning] No further splits with positive gain, best gain: -inf\n",
      "[LightGBM] [Warning] No further splits with positive gain, best gain: -inf\n",
      "[LightGBM] [Warning] No further splits with positive gain, best gain: -inf\n",
      "[LightGBM] [Warning] No further splits with positive gain, best gain: -inf\n",
      "[LightGBM] [Warning] No further splits with positive gain, best gain: -inf\n",
      "[LightGBM] [Warning] No further splits with positive gain, best gain: -inf\n",
      "[LightGBM] [Warning] No further splits with positive gain, best gain: -inf\n",
      "[LightGBM] [Warning] No further splits with positive gain, best gain: -inf\n",
      "[LightGBM] [Warning] No further splits with positive gain, best gain: -inf\n",
      "[LightGBM] [Warning] No further splits with positive gain, best gain: -inf\n",
      "[LightGBM] [Warning] No further splits with positive gain, best gain: -inf\n",
      "[LightGBM] [Warning] No further splits with positive gain, best gain: -inf\n",
      "[LightGBM] [Warning] No further splits with positive gain, best gain: -inf\n",
      "[LightGBM] [Warning] No further splits with positive gain, best gain: -inf\n",
      "[LightGBM] [Warning] No further splits with positive gain, best gain: -inf\n",
      "[LightGBM] [Warning] No further splits with positive gain, best gain: -inf\n",
      "[LightGBM] [Warning] No further splits with positive gain, best gain: -inf\n",
      "[LightGBM] [Warning] No further splits with positive gain, best gain: -inf\n",
      "[LightGBM] [Warning] No further splits with positive gain, best gain: -inf\n",
      "[LightGBM] [Warning] No further splits with positive gain, best gain: -inf\n",
      "[LightGBM] [Warning] No further splits with positive gain, best gain: -inf\n",
      "[LightGBM] [Warning] No further splits with positive gain, best gain: -inf\n",
      "[LightGBM] [Warning] No further splits with positive gain, best gain: -inf\n",
      "[LightGBM] [Warning] No further splits with positive gain, best gain: -inf\n",
      "[LightGBM] [Warning] No further splits with positive gain, best gain: -inf\n",
      "[LightGBM] [Warning] No further splits with positive gain, best gain: -inf\n",
      "[LightGBM] [Warning] No further splits with positive gain, best gain: -inf\n",
      "[LightGBM] [Warning] No further splits with positive gain, best gain: -inf\n",
      "[LightGBM] [Warning] No further splits with positive gain, best gain: -inf\n",
      "[LightGBM] [Warning] No further splits with positive gain, best gain: -inf\n",
      "[LightGBM] [Warning] No further splits with positive gain, best gain: -inf\n",
      "[LightGBM] [Warning] No further splits with positive gain, best gain: -inf\n",
      "[LightGBM] [Warning] No further splits with positive gain, best gain: -inf\n",
      "[LightGBM] [Warning] No further splits with positive gain, best gain: -inf\n",
      "[LightGBM] [Warning] No further splits with positive gain, best gain: -inf\n",
      "[LightGBM] [Warning] No further splits with positive gain, best gain: -inf\n",
      "[LightGBM] [Warning] No further splits with positive gain, best gain: -inf\n",
      "[LightGBM] [Warning] No further splits with positive gain, best gain: -inf\n",
      "[LightGBM] [Warning] No further splits with positive gain, best gain: -inf\n",
      "[LightGBM] [Warning] No further splits with positive gain, best gain: -inf\n",
      "[LightGBM] [Warning] No further splits with positive gain, best gain: -inf\n",
      "[LightGBM] [Warning] No further splits with positive gain, best gain: -inf\n",
      "[LightGBM] [Warning] No further splits with positive gain, best gain: -inf\n",
      "CPU times: total: 9.28 s\n",
      "Wall time: 30 s\n"
     ]
    }
   ],
   "source": [
    "%%time\n",
    "\n",
    "params = {'learning_rate': [0.5, 0.1],\n",
    "          'max_depth': range(1, 8),\n",
    "          'n_estimators': range(50, 351, 50)}\n",
    "\n",
    "fit_params = {'categorical_feature': CATEGORICAL}\n",
    "\n",
    "model = lgb.LGBMRegressor(random_state=42)\n",
    "grid = RandomizedSearchCV(model, \n",
    "                          param_distributions=params, \n",
    "                          scoring='neg_root_mean_squared_error', \n",
    "                          cv=5,\n",
    "                          n_jobs=-1, \n",
    "                          random_state=42,\n",
    "                          verbose=1)\n",
    "grid.fit(features_train_lgb, target_train, **fit_params)\n",
    "\n",
    "best_model_lgb = grid.best_estimator_\n",
    "best_parametrs_lgb = grid.best_params_\n",
    "best_result_lgb = grid.best_score_ * -1"
   ]
  },
  {
   "cell_type": "code",
   "execution_count": 154,
   "metadata": {},
   "outputs": [
    {
     "name": "stdout",
     "output_type": "stream",
     "text": [
      "Оптимальный результат RMSE модели: 1411.130998986128\n",
      "Оптимальные параметры модели: {'n_estimators': 350, 'max_depth': 5, 'learning_rate': 0.1}\n"
     ]
    }
   ],
   "source": [
    "print(f'Оптимальный результат RMSE модели: {best_result_lgb}') \n",
    "print(f'Оптимальные параметры модели: {best_parametrs_lgb}') "
   ]
  },
  {
   "cell_type": "markdown",
   "metadata": {},
   "source": [
    "замеряем время предсказания"
   ]
  },
  {
   "cell_type": "code",
   "execution_count": 155,
   "metadata": {},
   "outputs": [
    {
     "name": "stdout",
     "output_type": "stream",
     "text": [
      "[LightGBM] [Warning] Accuracy may be bad since you didn't explicitly set num_leaves OR 2^max_depth > num_leaves. (num_leaves=31).\n"
     ]
    }
   ],
   "source": [
    "predicted_test = best_model_lgb.predict(features_train_lgb)"
   ]
  },
  {
   "cell_type": "code",
   "execution_count": 156,
   "metadata": {},
   "outputs": [],
   "source": [
    "rmse_score_diff_methods.loc['LightGBM', 'RMSE'] = best_result_lgb\n",
    "rmse_score_diff_methods.loc['LightGBM', 'time_fit'] = '15.9 s'\n",
    "rmse_score_diff_methods.loc['LightGBM', 'time_predict'] = '5.64 s'"
   ]
  },
  {
   "cell_type": "markdown",
   "metadata": {},
   "source": [
    "# CatBoost"
   ]
  },
  {
   "cell_type": "code",
   "execution_count": 157,
   "metadata": {},
   "outputs": [
    {
     "name": "stdout",
     "output_type": "stream",
     "text": [
      "Fitting 5 folds for each of 10 candidates, totalling 50 fits\n",
      "0:\tlearn: 2812.7311002\ttotal: 105ms\tremaining: 31.3s\n",
      "1:\tlearn: 2295.9276825\ttotal: 219ms\tremaining: 32.6s\n",
      "2:\tlearn: 2020.8712070\ttotal: 332ms\tremaining: 32.9s\n",
      "3:\tlearn: 1872.5008674\ttotal: 463ms\tremaining: 34.3s\n",
      "4:\tlearn: 1783.6038074\ttotal: 588ms\tremaining: 34.7s\n",
      "5:\tlearn: 1745.0133529\ttotal: 711ms\tremaining: 34.9s\n",
      "6:\tlearn: 1714.7034118\ttotal: 815ms\tremaining: 34.1s\n",
      "7:\tlearn: 1693.1116931\ttotal: 913ms\tremaining: 33.3s\n",
      "8:\tlearn: 1678.5873287\ttotal: 1.02s\tremaining: 33s\n",
      "9:\tlearn: 1666.6642863\ttotal: 1.13s\tremaining: 32.7s\n",
      "10:\tlearn: 1651.8815930\ttotal: 1.24s\tremaining: 32.6s\n",
      "11:\tlearn: 1642.8845415\ttotal: 1.38s\tremaining: 33s\n",
      "12:\tlearn: 1634.6064272\ttotal: 1.48s\tremaining: 32.7s\n",
      "13:\tlearn: 1626.2620956\ttotal: 1.58s\tremaining: 32.2s\n",
      "14:\tlearn: 1611.5044598\ttotal: 1.67s\tremaining: 31.7s\n",
      "15:\tlearn: 1600.8904052\ttotal: 1.76s\tremaining: 31.3s\n",
      "16:\tlearn: 1596.6788045\ttotal: 1.86s\tremaining: 31.1s\n",
      "17:\tlearn: 1589.7663421\ttotal: 1.98s\tremaining: 31s\n",
      "18:\tlearn: 1579.8871772\ttotal: 2.06s\tremaining: 30.5s\n",
      "19:\tlearn: 1573.9014069\ttotal: 2.15s\tremaining: 30.1s\n",
      "20:\tlearn: 1567.4311593\ttotal: 2.26s\tremaining: 30.1s\n",
      "21:\tlearn: 1562.8972343\ttotal: 2.37s\tremaining: 29.9s\n",
      "22:\tlearn: 1558.4028430\ttotal: 2.46s\tremaining: 29.6s\n",
      "23:\tlearn: 1556.4813589\ttotal: 2.56s\tremaining: 29.4s\n",
      "24:\tlearn: 1551.6704766\ttotal: 2.68s\tremaining: 29.5s\n",
      "25:\tlearn: 1546.3764750\ttotal: 2.79s\tremaining: 29.4s\n",
      "26:\tlearn: 1543.3667658\ttotal: 2.9s\tremaining: 29.3s\n",
      "27:\tlearn: 1539.8697420\ttotal: 2.99s\tremaining: 29.1s\n",
      "28:\tlearn: 1536.5468283\ttotal: 3.1s\tremaining: 29s\n",
      "29:\tlearn: 1534.2863116\ttotal: 3.2s\tremaining: 28.8s\n",
      "30:\tlearn: 1529.3124005\ttotal: 3.31s\tremaining: 28.7s\n",
      "31:\tlearn: 1526.2100068\ttotal: 3.42s\tremaining: 28.7s\n",
      "32:\tlearn: 1524.2994066\ttotal: 3.56s\tremaining: 28.8s\n",
      "33:\tlearn: 1522.8183138\ttotal: 3.65s\tremaining: 28.5s\n",
      "34:\tlearn: 1518.4426439\ttotal: 3.75s\tremaining: 28.4s\n",
      "35:\tlearn: 1516.6463656\ttotal: 3.86s\tremaining: 28.3s\n",
      "36:\tlearn: 1512.8704027\ttotal: 3.95s\tremaining: 28.1s\n",
      "37:\tlearn: 1510.1372061\ttotal: 4.06s\tremaining: 28s\n",
      "38:\tlearn: 1506.9371602\ttotal: 4.17s\tremaining: 27.9s\n",
      "39:\tlearn: 1504.7245530\ttotal: 4.28s\tremaining: 27.8s\n",
      "40:\tlearn: 1502.0653377\ttotal: 4.39s\tremaining: 27.7s\n",
      "41:\tlearn: 1499.7600295\ttotal: 4.49s\tremaining: 27.6s\n",
      "42:\tlearn: 1497.4490195\ttotal: 4.6s\tremaining: 27.5s\n",
      "43:\tlearn: 1494.9083214\ttotal: 4.69s\tremaining: 27.3s\n",
      "44:\tlearn: 1493.4867146\ttotal: 4.78s\tremaining: 27.1s\n",
      "45:\tlearn: 1491.5368872\ttotal: 4.87s\tremaining: 26.9s\n",
      "46:\tlearn: 1487.4189979\ttotal: 4.98s\tremaining: 26.8s\n",
      "47:\tlearn: 1486.0063779\ttotal: 5.09s\tremaining: 26.7s\n",
      "48:\tlearn: 1483.6687406\ttotal: 5.2s\tremaining: 26.6s\n",
      "49:\tlearn: 1481.6705562\ttotal: 5.3s\tremaining: 26.5s\n",
      "50:\tlearn: 1479.5592252\ttotal: 5.43s\tremaining: 26.5s\n",
      "51:\tlearn: 1477.5504746\ttotal: 5.53s\tremaining: 26.4s\n",
      "52:\tlearn: 1475.6784073\ttotal: 5.64s\tremaining: 26.3s\n",
      "53:\tlearn: 1473.8026650\ttotal: 5.74s\tremaining: 26.2s\n",
      "54:\tlearn: 1472.0777924\ttotal: 5.85s\tremaining: 26.1s\n",
      "55:\tlearn: 1471.1242879\ttotal: 5.96s\tremaining: 26s\n",
      "56:\tlearn: 1470.1154463\ttotal: 6.07s\tremaining: 25.9s\n",
      "57:\tlearn: 1468.9168615\ttotal: 6.17s\tremaining: 25.7s\n",
      "58:\tlearn: 1467.8898350\ttotal: 6.28s\tremaining: 25.7s\n",
      "59:\tlearn: 1466.1535319\ttotal: 6.39s\tremaining: 25.6s\n",
      "60:\tlearn: 1465.5369839\ttotal: 6.48s\tremaining: 25.4s\n",
      "61:\tlearn: 1464.5197135\ttotal: 6.58s\tremaining: 25.3s\n",
      "62:\tlearn: 1462.7660660\ttotal: 6.68s\tremaining: 25.1s\n",
      "63:\tlearn: 1461.7269732\ttotal: 6.78s\tremaining: 25s\n",
      "64:\tlearn: 1460.1252953\ttotal: 6.88s\tremaining: 24.9s\n",
      "65:\tlearn: 1459.0287838\ttotal: 6.97s\tremaining: 24.7s\n",
      "66:\tlearn: 1457.9539878\ttotal: 7.08s\tremaining: 24.6s\n",
      "67:\tlearn: 1457.0361794\ttotal: 7.19s\tremaining: 24.5s\n",
      "68:\tlearn: 1455.3604225\ttotal: 7.29s\tremaining: 24.4s\n",
      "69:\tlearn: 1454.1946679\ttotal: 7.39s\tremaining: 24.3s\n",
      "70:\tlearn: 1452.8751410\ttotal: 7.5s\tremaining: 24.2s\n",
      "71:\tlearn: 1451.3530088\ttotal: 7.59s\tremaining: 24s\n",
      "72:\tlearn: 1450.1676457\ttotal: 7.67s\tremaining: 23.9s\n",
      "73:\tlearn: 1448.9503542\ttotal: 7.77s\tremaining: 23.7s\n",
      "74:\tlearn: 1447.2678507\ttotal: 7.86s\tremaining: 23.6s\n",
      "75:\tlearn: 1446.1110497\ttotal: 7.96s\tremaining: 23.5s\n",
      "76:\tlearn: 1444.9478697\ttotal: 8.04s\tremaining: 23.3s\n",
      "77:\tlearn: 1443.8529925\ttotal: 8.14s\tremaining: 23.2s\n",
      "78:\tlearn: 1443.0078804\ttotal: 8.25s\tremaining: 23.1s\n",
      "79:\tlearn: 1442.1476075\ttotal: 8.37s\tremaining: 23s\n",
      "80:\tlearn: 1441.3992347\ttotal: 8.47s\tremaining: 22.9s\n",
      "81:\tlearn: 1440.6930920\ttotal: 8.58s\tremaining: 22.8s\n",
      "82:\tlearn: 1439.5057132\ttotal: 8.67s\tremaining: 22.7s\n",
      "83:\tlearn: 1438.7201725\ttotal: 8.77s\tremaining: 22.6s\n",
      "84:\tlearn: 1436.9489920\ttotal: 8.89s\tremaining: 22.5s\n",
      "85:\tlearn: 1436.0221113\ttotal: 8.98s\tremaining: 22.4s\n",
      "86:\tlearn: 1434.8364880\ttotal: 9.08s\tremaining: 22.2s\n",
      "87:\tlearn: 1433.8777841\ttotal: 9.19s\tremaining: 22.1s\n",
      "88:\tlearn: 1432.6355280\ttotal: 9.28s\tremaining: 22s\n",
      "89:\tlearn: 1431.8275603\ttotal: 9.38s\tremaining: 21.9s\n",
      "90:\tlearn: 1431.2143031\ttotal: 9.49s\tremaining: 21.8s\n",
      "91:\tlearn: 1430.6296829\ttotal: 9.59s\tremaining: 21.7s\n",
      "92:\tlearn: 1429.4642941\ttotal: 9.68s\tremaining: 21.6s\n",
      "93:\tlearn: 1428.4349469\ttotal: 9.79s\tremaining: 21.4s\n",
      "94:\tlearn: 1427.4697638\ttotal: 9.89s\tremaining: 21.3s\n",
      "95:\tlearn: 1426.7988999\ttotal: 9.99s\tremaining: 21.2s\n",
      "96:\tlearn: 1426.0936340\ttotal: 10.1s\tremaining: 21.1s\n",
      "97:\tlearn: 1425.0618551\ttotal: 10.2s\tremaining: 21s\n",
      "98:\tlearn: 1424.1951891\ttotal: 10.3s\tremaining: 20.9s\n",
      "99:\tlearn: 1422.9239769\ttotal: 10.4s\tremaining: 20.8s\n",
      "100:\tlearn: 1422.2067540\ttotal: 10.5s\tremaining: 20.7s\n",
      "101:\tlearn: 1421.5380962\ttotal: 10.6s\tremaining: 20.6s\n",
      "102:\tlearn: 1421.1057033\ttotal: 10.7s\tremaining: 20.5s\n",
      "103:\tlearn: 1420.6640424\ttotal: 10.8s\tremaining: 20.3s\n",
      "104:\tlearn: 1419.9216028\ttotal: 10.9s\tremaining: 20.2s\n",
      "105:\tlearn: 1419.0006064\ttotal: 11s\tremaining: 20.1s\n",
      "106:\tlearn: 1418.6770283\ttotal: 11.1s\tremaining: 20.1s\n",
      "107:\tlearn: 1418.1984241\ttotal: 11.2s\tremaining: 20s\n",
      "108:\tlearn: 1417.8361071\ttotal: 11.3s\tremaining: 19.9s\n",
      "109:\tlearn: 1416.9953541\ttotal: 11.4s\tremaining: 19.7s\n",
      "110:\tlearn: 1416.3316622\ttotal: 11.5s\tremaining: 19.6s\n",
      "111:\tlearn: 1415.8940551\ttotal: 11.6s\tremaining: 19.5s\n",
      "112:\tlearn: 1415.3941231\ttotal: 11.7s\tremaining: 19.4s\n",
      "113:\tlearn: 1414.8913882\ttotal: 11.8s\tremaining: 19.3s\n",
      "114:\tlearn: 1414.6511480\ttotal: 11.9s\tremaining: 19.2s\n",
      "115:\tlearn: 1413.4254176\ttotal: 12s\tremaining: 19.1s\n",
      "116:\tlearn: 1412.8461590\ttotal: 12.1s\tremaining: 19s\n",
      "117:\tlearn: 1412.3954248\ttotal: 12.2s\tremaining: 18.9s\n",
      "118:\tlearn: 1412.0652200\ttotal: 12.3s\tremaining: 18.8s\n",
      "119:\tlearn: 1411.1760062\ttotal: 12.4s\tremaining: 18.7s\n",
      "120:\tlearn: 1410.5426081\ttotal: 12.5s\tremaining: 18.5s\n",
      "121:\tlearn: 1410.0575316\ttotal: 12.6s\tremaining: 18.4s\n",
      "122:\tlearn: 1409.1543505\ttotal: 12.7s\tremaining: 18.3s\n",
      "123:\tlearn: 1408.5762137\ttotal: 12.8s\tremaining: 18.2s\n",
      "124:\tlearn: 1408.1996827\ttotal: 12.9s\tremaining: 18.1s\n",
      "125:\tlearn: 1407.8094177\ttotal: 13s\tremaining: 18s\n",
      "126:\tlearn: 1407.2966427\ttotal: 13.1s\tremaining: 17.9s\n",
      "127:\tlearn: 1406.4199691\ttotal: 13.2s\tremaining: 17.7s\n",
      "128:\tlearn: 1405.8607434\ttotal: 13.3s\tremaining: 17.7s\n",
      "129:\tlearn: 1405.6749702\ttotal: 13.4s\tremaining: 17.6s\n",
      "130:\tlearn: 1404.8202531\ttotal: 13.5s\tremaining: 17.4s\n",
      "131:\tlearn: 1404.3362488\ttotal: 13.6s\tremaining: 17.3s\n",
      "132:\tlearn: 1403.2854882\ttotal: 13.7s\tremaining: 17.2s\n",
      "133:\tlearn: 1403.2248722\ttotal: 13.8s\tremaining: 17.1s\n",
      "134:\tlearn: 1402.9000632\ttotal: 13.9s\tremaining: 17s\n",
      "135:\tlearn: 1402.7281048\ttotal: 14s\tremaining: 16.9s\n",
      "136:\tlearn: 1401.7340346\ttotal: 14.1s\tremaining: 16.8s\n",
      "137:\tlearn: 1401.3197546\ttotal: 14.2s\tremaining: 16.7s\n",
      "138:\tlearn: 1400.7401759\ttotal: 14.3s\tremaining: 16.6s\n",
      "139:\tlearn: 1400.0958868\ttotal: 14.4s\tremaining: 16.5s\n",
      "140:\tlearn: 1399.8441792\ttotal: 14.6s\tremaining: 16.4s\n",
      "141:\tlearn: 1399.0781276\ttotal: 14.7s\tremaining: 16.3s\n",
      "142:\tlearn: 1398.3769239\ttotal: 14.8s\tremaining: 16.2s\n",
      "143:\tlearn: 1397.5834119\ttotal: 14.9s\tremaining: 16.2s\n",
      "144:\tlearn: 1397.3546004\ttotal: 15s\tremaining: 16.1s\n",
      "145:\tlearn: 1396.5842749\ttotal: 15.2s\tremaining: 16s\n",
      "146:\tlearn: 1396.0201595\ttotal: 15.3s\tremaining: 15.9s\n",
      "147:\tlearn: 1395.6351674\ttotal: 15.4s\tremaining: 15.8s\n",
      "148:\tlearn: 1395.2166933\ttotal: 15.5s\tremaining: 15.7s\n",
      "149:\tlearn: 1394.8829144\ttotal: 15.6s\tremaining: 15.6s\n",
      "150:\tlearn: 1394.4651662\ttotal: 15.8s\tremaining: 15.5s\n",
      "151:\tlearn: 1393.9754168\ttotal: 15.9s\tremaining: 15.5s\n",
      "152:\tlearn: 1393.4698635\ttotal: 16s\tremaining: 15.4s\n",
      "153:\tlearn: 1393.1015374\ttotal: 16.1s\tremaining: 15.3s\n",
      "154:\tlearn: 1392.5019054\ttotal: 16.3s\tremaining: 15.2s\n",
      "155:\tlearn: 1392.3424756\ttotal: 16.4s\tremaining: 15.1s\n",
      "156:\tlearn: 1391.7689093\ttotal: 16.5s\tremaining: 15s\n",
      "157:\tlearn: 1391.4783759\ttotal: 16.6s\tremaining: 14.9s\n",
      "158:\tlearn: 1391.1555500\ttotal: 16.7s\tremaining: 14.8s\n",
      "159:\tlearn: 1390.7807411\ttotal: 16.8s\tremaining: 14.7s\n",
      "160:\tlearn: 1390.4215123\ttotal: 17s\tremaining: 14.7s\n",
      "161:\tlearn: 1389.9246880\ttotal: 17.1s\tremaining: 14.6s\n",
      "162:\tlearn: 1389.2624651\ttotal: 17.2s\tremaining: 14.5s\n",
      "163:\tlearn: 1389.1675024\ttotal: 17.4s\tremaining: 14.4s\n",
      "164:\tlearn: 1388.6045714\ttotal: 17.5s\tremaining: 14.3s\n",
      "165:\tlearn: 1388.0938839\ttotal: 17.6s\tremaining: 14.2s\n",
      "166:\tlearn: 1387.8402537\ttotal: 17.8s\tremaining: 14.2s\n",
      "167:\tlearn: 1387.4685706\ttotal: 17.9s\tremaining: 14s\n",
      "168:\tlearn: 1387.0748285\ttotal: 18s\tremaining: 13.9s\n",
      "169:\tlearn: 1386.6724762\ttotal: 18.1s\tremaining: 13.9s\n",
      "170:\tlearn: 1386.4079007\ttotal: 18.3s\tremaining: 13.8s\n",
      "171:\tlearn: 1385.9353250\ttotal: 18.4s\tremaining: 13.7s\n",
      "172:\tlearn: 1385.4646992\ttotal: 18.5s\tremaining: 13.6s\n",
      "173:\tlearn: 1385.0113708\ttotal: 18.6s\tremaining: 13.5s\n",
      "174:\tlearn: 1384.9971734\ttotal: 18.7s\tremaining: 13.3s\n",
      "175:\tlearn: 1384.6487851\ttotal: 18.8s\tremaining: 13.2s\n",
      "176:\tlearn: 1384.0071840\ttotal: 18.9s\tremaining: 13.1s\n",
      "177:\tlearn: 1383.5565566\ttotal: 19s\tremaining: 13s\n",
      "178:\tlearn: 1383.2724273\ttotal: 19.1s\tremaining: 12.9s\n",
      "179:\tlearn: 1383.0040769\ttotal: 19.2s\tremaining: 12.8s\n",
      "180:\tlearn: 1382.2838972\ttotal: 19.3s\tremaining: 12.7s\n",
      "181:\tlearn: 1381.9561583\ttotal: 19.4s\tremaining: 12.6s\n",
      "182:\tlearn: 1381.8191822\ttotal: 19.5s\tremaining: 12.4s\n",
      "183:\tlearn: 1381.5611023\ttotal: 19.6s\tremaining: 12.3s\n",
      "184:\tlearn: 1380.8336584\ttotal: 19.7s\tremaining: 12.2s\n",
      "185:\tlearn: 1380.3913715\ttotal: 19.8s\tremaining: 12.1s\n",
      "186:\tlearn: 1380.2000709\ttotal: 19.9s\tremaining: 12s\n",
      "187:\tlearn: 1379.9615436\ttotal: 20s\tremaining: 11.9s\n",
      "188:\tlearn: 1379.5013585\ttotal: 20.1s\tremaining: 11.8s\n",
      "189:\tlearn: 1379.3247207\ttotal: 20.2s\tremaining: 11.7s\n",
      "190:\tlearn: 1378.6211616\ttotal: 20.3s\tremaining: 11.6s\n",
      "191:\tlearn: 1378.4651803\ttotal: 20.4s\tremaining: 11.5s\n",
      "192:\tlearn: 1378.2206715\ttotal: 20.5s\tremaining: 11.4s\n",
      "193:\tlearn: 1377.5216252\ttotal: 20.7s\tremaining: 11.3s\n",
      "194:\tlearn: 1377.2403627\ttotal: 20.8s\tremaining: 11.2s\n",
      "195:\tlearn: 1377.0174212\ttotal: 20.9s\tremaining: 11.1s\n",
      "196:\tlearn: 1376.8304191\ttotal: 21s\tremaining: 11s\n",
      "197:\tlearn: 1376.4260556\ttotal: 21.1s\tremaining: 10.9s\n",
      "198:\tlearn: 1376.2589847\ttotal: 21.3s\tremaining: 10.8s\n",
      "199:\tlearn: 1376.1136933\ttotal: 21.4s\tremaining: 10.7s\n",
      "200:\tlearn: 1375.6620780\ttotal: 21.5s\tremaining: 10.6s\n",
      "201:\tlearn: 1375.3352847\ttotal: 21.6s\tremaining: 10.5s\n",
      "202:\tlearn: 1374.4374862\ttotal: 21.7s\tremaining: 10.4s\n",
      "203:\tlearn: 1374.0668928\ttotal: 21.8s\tremaining: 10.3s\n",
      "204:\tlearn: 1373.8061549\ttotal: 21.9s\tremaining: 10.2s\n",
      "205:\tlearn: 1373.7168149\ttotal: 22s\tremaining: 10.1s\n",
      "206:\tlearn: 1373.2140357\ttotal: 22.1s\tremaining: 9.94s\n",
      "207:\tlearn: 1373.1215597\ttotal: 22.2s\tremaining: 9.84s\n",
      "208:\tlearn: 1372.7466255\ttotal: 22.3s\tremaining: 9.73s\n",
      "209:\tlearn: 1372.3972365\ttotal: 22.5s\tremaining: 9.63s\n",
      "210:\tlearn: 1371.6218127\ttotal: 22.6s\tremaining: 9.52s\n",
      "211:\tlearn: 1371.4715802\ttotal: 22.7s\tremaining: 9.41s\n",
      "212:\tlearn: 1371.3158324\ttotal: 22.8s\tremaining: 9.31s\n",
      "213:\tlearn: 1370.5139705\ttotal: 22.9s\tremaining: 9.2s\n",
      "214:\tlearn: 1370.3028732\ttotal: 23s\tremaining: 9.1s\n",
      "215:\tlearn: 1370.0961391\ttotal: 23.1s\tremaining: 8.99s\n",
      "216:\tlearn: 1369.5163948\ttotal: 23.2s\tremaining: 8.88s\n",
      "217:\tlearn: 1368.7736873\ttotal: 23.4s\tremaining: 8.79s\n",
      "218:\tlearn: 1368.7496094\ttotal: 23.5s\tremaining: 8.69s\n",
      "219:\tlearn: 1368.3118445\ttotal: 23.6s\tremaining: 8.58s\n",
      "220:\tlearn: 1367.9116655\ttotal: 23.7s\tremaining: 8.48s\n",
      "221:\tlearn: 1367.8410090\ttotal: 23.8s\tremaining: 8.38s\n",
      "222:\tlearn: 1367.8156770\ttotal: 24s\tremaining: 8.28s\n",
      "223:\tlearn: 1367.5251947\ttotal: 24.1s\tremaining: 8.18s\n",
      "224:\tlearn: 1367.3514255\ttotal: 24.2s\tremaining: 8.08s\n",
      "225:\tlearn: 1366.9868264\ttotal: 24.4s\tremaining: 7.99s\n",
      "226:\tlearn: 1366.2999694\ttotal: 24.5s\tremaining: 7.88s\n",
      "227:\tlearn: 1366.0728985\ttotal: 24.7s\tremaining: 7.79s\n",
      "228:\tlearn: 1365.6718110\ttotal: 24.8s\tremaining: 7.69s\n",
      "229:\tlearn: 1365.1811297\ttotal: 24.9s\tremaining: 7.58s\n",
      "230:\tlearn: 1364.8780908\ttotal: 25s\tremaining: 7.47s\n",
      "231:\tlearn: 1364.5427664\ttotal: 25.1s\tremaining: 7.36s\n",
      "232:\tlearn: 1364.2308750\ttotal: 25.2s\tremaining: 7.26s\n",
      "233:\tlearn: 1364.1280276\ttotal: 25.3s\tremaining: 7.15s\n",
      "234:\tlearn: 1363.8299397\ttotal: 25.4s\tremaining: 7.04s\n",
      "235:\tlearn: 1363.7961529\ttotal: 25.5s\tremaining: 6.92s\n",
      "236:\tlearn: 1363.2155947\ttotal: 25.6s\tremaining: 6.82s\n",
      "237:\tlearn: 1363.1842045\ttotal: 25.8s\tremaining: 6.71s\n",
      "238:\tlearn: 1362.7864473\ttotal: 25.9s\tremaining: 6.61s\n",
      "239:\tlearn: 1362.4663114\ttotal: 26s\tremaining: 6.5s\n",
      "240:\tlearn: 1362.0836155\ttotal: 26.1s\tremaining: 6.39s\n",
      "241:\tlearn: 1361.6521917\ttotal: 26.2s\tremaining: 6.28s\n",
      "242:\tlearn: 1361.4939604\ttotal: 26.3s\tremaining: 6.17s\n",
      "243:\tlearn: 1361.2914123\ttotal: 26.4s\tremaining: 6.06s\n",
      "244:\tlearn: 1360.9526273\ttotal: 26.5s\tremaining: 5.95s\n",
      "245:\tlearn: 1360.3570634\ttotal: 26.6s\tremaining: 5.84s\n",
      "246:\tlearn: 1360.2107486\ttotal: 26.7s\tremaining: 5.72s\n",
      "247:\tlearn: 1359.9954359\ttotal: 26.8s\tremaining: 5.62s\n",
      "248:\tlearn: 1359.9229901\ttotal: 26.9s\tremaining: 5.5s\n",
      "249:\tlearn: 1359.7107534\ttotal: 27s\tremaining: 5.4s\n",
      "250:\tlearn: 1359.5823600\ttotal: 27.1s\tremaining: 5.29s\n",
      "251:\tlearn: 1359.5361026\ttotal: 27.2s\tremaining: 5.18s\n",
      "252:\tlearn: 1359.3709485\ttotal: 27.3s\tremaining: 5.08s\n",
      "253:\tlearn: 1358.9743743\ttotal: 27.4s\tremaining: 4.96s\n",
      "254:\tlearn: 1358.0007055\ttotal: 27.5s\tremaining: 4.86s\n",
      "255:\tlearn: 1357.5603344\ttotal: 27.6s\tremaining: 4.75s\n",
      "256:\tlearn: 1357.0278254\ttotal: 27.8s\tremaining: 4.64s\n",
      "257:\tlearn: 1356.8814225\ttotal: 27.9s\tremaining: 4.54s\n",
      "258:\tlearn: 1356.8503811\ttotal: 28s\tremaining: 4.42s\n",
      "259:\tlearn: 1356.4875254\ttotal: 28.1s\tremaining: 4.32s\n",
      "260:\tlearn: 1356.2056816\ttotal: 28.2s\tremaining: 4.21s\n",
      "261:\tlearn: 1356.1010963\ttotal: 28.3s\tremaining: 4.11s\n",
      "262:\tlearn: 1355.7697072\ttotal: 28.4s\tremaining: 4s\n",
      "263:\tlearn: 1355.4830159\ttotal: 28.5s\tremaining: 3.89s\n",
      "264:\tlearn: 1355.3054640\ttotal: 28.7s\tremaining: 3.78s\n",
      "265:\tlearn: 1355.0153543\ttotal: 28.8s\tremaining: 3.68s\n",
      "266:\tlearn: 1354.9674982\ttotal: 28.9s\tremaining: 3.57s\n",
      "267:\tlearn: 1354.6725170\ttotal: 29s\tremaining: 3.46s\n",
      "268:\tlearn: 1354.0532416\ttotal: 29.1s\tremaining: 3.35s\n",
      "269:\tlearn: 1353.8382165\ttotal: 29.2s\tremaining: 3.24s\n",
      "270:\tlearn: 1353.3787524\ttotal: 29.4s\tremaining: 3.14s\n",
      "271:\tlearn: 1352.8058189\ttotal: 29.5s\tremaining: 3.03s\n",
      "272:\tlearn: 1352.6996361\ttotal: 29.6s\tremaining: 2.93s\n",
      "273:\tlearn: 1352.0677371\ttotal: 29.7s\tremaining: 2.82s\n",
      "274:\tlearn: 1351.8630271\ttotal: 29.8s\tremaining: 2.71s\n",
      "275:\tlearn: 1351.8327448\ttotal: 30s\tremaining: 2.61s\n",
      "276:\tlearn: 1351.7390037\ttotal: 30.1s\tremaining: 2.5s\n",
      "277:\tlearn: 1351.6090387\ttotal: 30.3s\tremaining: 2.39s\n",
      "278:\tlearn: 1351.2747882\ttotal: 30.4s\tremaining: 2.28s\n",
      "279:\tlearn: 1350.6282937\ttotal: 30.5s\tremaining: 2.17s\n",
      "280:\tlearn: 1350.3419812\ttotal: 30.6s\tremaining: 2.06s\n",
      "281:\tlearn: 1350.1662786\ttotal: 30.7s\tremaining: 1.96s\n",
      "282:\tlearn: 1349.9099850\ttotal: 30.8s\tremaining: 1.85s\n",
      "283:\tlearn: 1349.8301880\ttotal: 30.9s\tremaining: 1.74s\n",
      "284:\tlearn: 1349.3423377\ttotal: 31s\tremaining: 1.63s\n",
      "285:\tlearn: 1348.8505698\ttotal: 31.1s\tremaining: 1.52s\n",
      "286:\tlearn: 1348.7158487\ttotal: 31.2s\tremaining: 1.41s\n",
      "287:\tlearn: 1348.3879310\ttotal: 31.3s\tremaining: 1.3s\n",
      "288:\tlearn: 1348.1795648\ttotal: 31.5s\tremaining: 1.2s\n",
      "289:\tlearn: 1347.9990058\ttotal: 31.6s\tremaining: 1.09s\n",
      "290:\tlearn: 1347.7530707\ttotal: 31.8s\tremaining: 983ms\n",
      "291:\tlearn: 1347.5703023\ttotal: 31.9s\tremaining: 874ms\n",
      "292:\tlearn: 1347.3134197\ttotal: 32s\tremaining: 764ms\n",
      "293:\tlearn: 1346.9365846\ttotal: 32.1s\tremaining: 655ms\n",
      "294:\tlearn: 1346.8111441\ttotal: 32.2s\tremaining: 546ms\n",
      "295:\tlearn: 1346.6584922\ttotal: 32.3s\tremaining: 437ms\n",
      "296:\tlearn: 1346.0781723\ttotal: 32.4s\tremaining: 328ms\n",
      "297:\tlearn: 1345.9721183\ttotal: 32.5s\tremaining: 218ms\n",
      "298:\tlearn: 1345.5272727\ttotal: 32.7s\tremaining: 109ms\n",
      "299:\tlearn: 1345.2867432\ttotal: 32.8s\tremaining: 0us\n",
      "CPU times: total: 3min 13s\n",
      "Wall time: 7min 33s\n"
     ]
    }
   ],
   "source": [
    "%%time\n",
    "\n",
    "params_cat = {'learning_rate': [0.5, 0.1],\n",
    "              'max_depth': range(1, 8),\n",
    "              'n_estimators': range(50, 351, 50)}\n",
    "\n",
    "cat_features = features_train.select_dtypes(include=['object']).columns.tolist()\n",
    "\n",
    "cat_model = CatBoostRegressor(random_state=42)\n",
    "cat_grid = RandomizedSearchCV(cat_model, \n",
    "                              param_distributions=params_cat, \n",
    "                              scoring='neg_root_mean_squared_error', \n",
    "                              cv=5,\n",
    "                              n_jobs=-1, \n",
    "                              random_state=42,\n",
    "                              verbose=1)\n",
    "cat_grid.fit(features_train, target_train, cat_features=cat_features)\n",
    "\n",
    "best_cat_model = cat_grid.best_estimator_\n",
    "best_cat_parameters = cat_grid.best_params_\n",
    "best_cat_result = cat_grid.best_score_ * -1\n"
   ]
  },
  {
   "cell_type": "code",
   "execution_count": 158,
   "metadata": {},
   "outputs": [
    {
     "name": "stdout",
     "output_type": "stream",
     "text": [
      "Оптимальный результат RMSE модели: 1428.1931339207385\n",
      "Оптимальные параметры модели: {'n_estimators': 300, 'max_depth': 6, 'learning_rate': 0.5}\n"
     ]
    }
   ],
   "source": [
    "print(f'Оптимальный результат RMSE модели: {best_cat_result}') \n",
    "print(f'Оптимальные параметры модели: {best_cat_parameters}')"
   ]
  },
  {
   "cell_type": "markdown",
   "metadata": {},
   "source": [
    "замеряем время предсказания"
   ]
  },
  {
   "cell_type": "code",
   "execution_count": 159,
   "metadata": {},
   "outputs": [
    {
     "name": "stdout",
     "output_type": "stream",
     "text": [
      "CPU times: total: 1.28 s\n",
      "Wall time: 557 ms\n"
     ]
    }
   ],
   "source": [
    "%%time\n",
    "\n",
    "predicted_test = best_cat_model.predict(features_train)"
   ]
  },
  {
   "cell_type": "code",
   "execution_count": 160,
   "metadata": {},
   "outputs": [],
   "source": [
    "rmse_score_diff_methods.loc['CatBoost', 'RMSE'] = best_cat_result\n",
    "rmse_score_diff_methods.loc['CatBoost', 'time_fit'] = '4 min 24s s'\n",
    "rmse_score_diff_methods.loc['CatBoost', 'time_predict'] = '734 ms'"
   ]
  },
  {
   "cell_type": "markdown",
   "metadata": {},
   "source": [
    "# Сравнение моделей"
   ]
  },
  {
   "cell_type": "code",
   "execution_count": 161,
   "metadata": {},
   "outputs": [
    {
     "data": {
      "text/html": [
       "<div>\n",
       "<style scoped>\n",
       "    .dataframe tbody tr th:only-of-type {\n",
       "        vertical-align: middle;\n",
       "    }\n",
       "\n",
       "    .dataframe tbody tr th {\n",
       "        vertical-align: top;\n",
       "    }\n",
       "\n",
       "    .dataframe thead th {\n",
       "        text-align: right;\n",
       "    }\n",
       "</style>\n",
       "<table border=\"1\" class=\"dataframe\">\n",
       "  <thead>\n",
       "    <tr style=\"text-align: right;\">\n",
       "      <th></th>\n",
       "      <th>RMSE</th>\n",
       "      <th>time_fit</th>\n",
       "      <th>time_predict</th>\n",
       "    </tr>\n",
       "  </thead>\n",
       "  <tbody>\n",
       "    <tr>\n",
       "      <th>Ridge</th>\n",
       "      <td>2188.306566</td>\n",
       "      <td>43.6 s</td>\n",
       "      <td>185 ms</td>\n",
       "    </tr>\n",
       "    <tr>\n",
       "      <th>DecisionTree</th>\n",
       "      <td>1664.966036</td>\n",
       "      <td>19.9 s</td>\n",
       "      <td>136 ms</td>\n",
       "    </tr>\n",
       "    <tr>\n",
       "      <th>LightGBM</th>\n",
       "      <td>1411.130999</td>\n",
       "      <td>15.9 s</td>\n",
       "      <td>5.64 s</td>\n",
       "    </tr>\n",
       "    <tr>\n",
       "      <th>CatBoost</th>\n",
       "      <td>1428.193134</td>\n",
       "      <td>4 min 24s s</td>\n",
       "      <td>734 ms</td>\n",
       "    </tr>\n",
       "  </tbody>\n",
       "</table>\n",
       "</div>"
      ],
      "text/plain": [
       "                     RMSE     time_fit time_predict\n",
       "Ridge         2188.306566       43.6 s       185 ms\n",
       "DecisionTree  1664.966036       19.9 s       136 ms\n",
       "LightGBM      1411.130999       15.9 s       5.64 s\n",
       "CatBoost      1428.193134  4 min 24s s       734 ms"
      ]
     },
     "execution_count": 161,
     "metadata": {},
     "output_type": "execute_result"
    }
   ],
   "source": [
    "rmse_score_diff_methods"
   ]
  },
  {
   "cell_type": "markdown",
   "metadata": {},
   "source": [
    "Из представленной таблицы видно, что наилучшие результаты в решении задачи продемонстрировала модель градиентного бустинга LightGBM. По результатам кросс-валидации ее RMSE составляет 1411, что соответствует условиям задачи, где значение этой метрики не должно превышать 2500.\n",
    "\n",
    "Несмотря на то, что данная модель обучается и предсказывает медленнее, чем другие три модели, ее преимущество в значении результирующей метрики делает ее оптимальным выбором для данной задачи. Обучение занимает всего 1 минуту 48 секунд, а время предсказания составляет 3.79 секунды."
   ]
  },
  {
   "cell_type": "markdown",
   "metadata": {},
   "source": [
    "# Анализ модели"
   ]
  },
  {
   "cell_type": "markdown",
   "metadata": {},
   "source": [
    "кодируем категориальные признаки"
   ]
  },
  {
   "cell_type": "code",
   "execution_count": 162,
   "metadata": {},
   "outputs": [],
   "source": [
    "features_test_lgb = features_test.copy()\n",
    "features_test_lgb[CATEGORICAL] = ord_enc.transform(features_test_lgb[CATEGORICAL]).astype(int)"
   ]
  },
  {
   "cell_type": "code",
   "execution_count": 163,
   "metadata": {},
   "outputs": [
    {
     "name": "stdout",
     "output_type": "stream",
     "text": [
      "[LightGBM] [Warning] Accuracy may be bad since you didn't explicitly set num_leaves OR 2^max_depth > num_leaves. (num_leaves=31).\n",
      "[LightGBM] [Warning] Accuracy may be bad since you didn't explicitly set num_leaves OR 2^max_depth > num_leaves. (num_leaves=31).\n"
     ]
    },
    {
     "name": "stdout",
     "output_type": "stream",
     "text": [
      "[LightGBM] [Info] Auto-choosing row-wise multi-threading, the overhead of testing was 0.004790 seconds.\n",
      "You can set `force_row_wise=true` to remove the overhead.\n",
      "And if memory is not enough, you can set `force_col_wise=true`.\n",
      "[LightGBM] [Info] Total Bins 581\n",
      "[LightGBM] [Info] Number of data points in the train set: 200454, number of used features: 9\n",
      "[LightGBM] [Info] Start training from score 4382.534083\n",
      "[LightGBM] [Warning] No further splits with positive gain, best gain: -inf\n",
      "[LightGBM] [Warning] No further splits with positive gain, best gain: -inf\n",
      "[LightGBM] [Warning] No further splits with positive gain, best gain: -inf\n",
      "[LightGBM] [Warning] No further splits with positive gain, best gain: -inf\n",
      "[LightGBM] [Warning] No further splits with positive gain, best gain: -inf\n",
      "[LightGBM] [Warning] No further splits with positive gain, best gain: -inf\n",
      "[LightGBM] [Warning] No further splits with positive gain, best gain: -inf\n",
      "[LightGBM] [Warning] No further splits with positive gain, best gain: -inf\n",
      "[LightGBM] [Warning] No further splits with positive gain, best gain: -inf\n",
      "[LightGBM] [Warning] No further splits with positive gain, best gain: -inf\n",
      "[LightGBM] [Warning] No further splits with positive gain, best gain: -inf\n",
      "[LightGBM] [Warning] No further splits with positive gain, best gain: -inf\n",
      "[LightGBM] [Warning] No further splits with positive gain, best gain: -inf\n",
      "[LightGBM] [Warning] No further splits with positive gain, best gain: -inf\n",
      "[LightGBM] [Warning] No further splits with positive gain, best gain: -inf\n",
      "[LightGBM] [Warning] No further splits with positive gain, best gain: -inf\n",
      "[LightGBM] [Warning] No further splits with positive gain, best gain: -inf\n",
      "[LightGBM] [Warning] No further splits with positive gain, best gain: -inf\n",
      "[LightGBM] [Warning] No further splits with positive gain, best gain: -inf\n",
      "[LightGBM] [Warning] No further splits with positive gain, best gain: -inf\n",
      "[LightGBM] [Warning] No further splits with positive gain, best gain: -inf\n",
      "[LightGBM] [Warning] No further splits with positive gain, best gain: -inf\n",
      "[LightGBM] [Warning] No further splits with positive gain, best gain: -inf\n",
      "[LightGBM] [Warning] No further splits with positive gain, best gain: -inf\n",
      "[LightGBM] [Warning] No further splits with positive gain, best gain: -inf\n",
      "[LightGBM] [Warning] No further splits with positive gain, best gain: -inf\n",
      "[LightGBM] [Warning] No further splits with positive gain, best gain: -inf\n",
      "[LightGBM] [Warning] No further splits with positive gain, best gain: -inf\n",
      "[LightGBM] [Warning] No further splits with positive gain, best gain: -inf\n",
      "[LightGBM] [Warning] No further splits with positive gain, best gain: -inf\n",
      "[LightGBM] [Warning] No further splits with positive gain, best gain: -inf\n",
      "[LightGBM] [Warning] No further splits with positive gain, best gain: -inf\n",
      "[LightGBM] [Warning] No further splits with positive gain, best gain: -inf\n",
      "[LightGBM] [Warning] No further splits with positive gain, best gain: -inf\n",
      "[LightGBM] [Warning] No further splits with positive gain, best gain: -inf\n",
      "[LightGBM] [Warning] No further splits with positive gain, best gain: -inf\n",
      "[LightGBM] [Warning] No further splits with positive gain, best gain: -inf\n",
      "[LightGBM] [Warning] No further splits with positive gain, best gain: -inf\n",
      "[LightGBM] [Warning] No further splits with positive gain, best gain: -inf\n",
      "[LightGBM] [Warning] No further splits with positive gain, best gain: -inf\n",
      "[LightGBM] [Warning] No further splits with positive gain, best gain: -inf\n",
      "[LightGBM] [Warning] No further splits with positive gain, best gain: -inf\n",
      "[LightGBM] [Warning] No further splits with positive gain, best gain: -inf\n",
      "[LightGBM] [Warning] No further splits with positive gain, best gain: -inf\n",
      "[LightGBM] [Warning] No further splits with positive gain, best gain: -inf\n",
      "[LightGBM] [Warning] No further splits with positive gain, best gain: -inf\n",
      "[LightGBM] [Warning] No further splits with positive gain, best gain: -inf\n",
      "[LightGBM] [Warning] No further splits with positive gain, best gain: -inf\n",
      "[LightGBM] [Warning] No further splits with positive gain, best gain: -inf\n",
      "[LightGBM] [Warning] No further splits with positive gain, best gain: -inf\n",
      "[LightGBM] [Warning] No further splits with positive gain, best gain: -inf\n",
      "[LightGBM] [Warning] No further splits with positive gain, best gain: -inf\n",
      "[LightGBM] [Warning] No further splits with positive gain, best gain: -inf\n",
      "[LightGBM] [Warning] No further splits with positive gain, best gain: -inf\n",
      "[LightGBM] [Warning] No further splits with positive gain, best gain: -inf\n",
      "[LightGBM] [Warning] No further splits with positive gain, best gain: -inf\n",
      "[LightGBM] [Warning] No further splits with positive gain, best gain: -inf\n",
      "[LightGBM] [Warning] No further splits with positive gain, best gain: -inf\n",
      "[LightGBM] [Warning] No further splits with positive gain, best gain: -inf\n",
      "[LightGBM] [Warning] No further splits with positive gain, best gain: -inf\n",
      "[LightGBM] [Warning] No further splits with positive gain, best gain: -inf\n",
      "[LightGBM] [Warning] No further splits with positive gain, best gain: -inf\n",
      "[LightGBM] [Warning] No further splits with positive gain, best gain: -inf\n",
      "[LightGBM] [Warning] No further splits with positive gain, best gain: -inf\n",
      "[LightGBM] [Warning] No further splits with positive gain, best gain: -inf\n",
      "[LightGBM] [Warning] No further splits with positive gain, best gain: -inf\n",
      "[LightGBM] [Warning] No further splits with positive gain, best gain: -inf\n",
      "[LightGBM] [Warning] No further splits with positive gain, best gain: -inf\n",
      "[LightGBM] [Warning] No further splits with positive gain, best gain: -inf\n",
      "[LightGBM] [Warning] No further splits with positive gain, best gain: -inf\n",
      "[LightGBM] [Warning] No further splits with positive gain, best gain: -inf\n",
      "[LightGBM] [Warning] No further splits with positive gain, best gain: -inf\n",
      "[LightGBM] [Warning] No further splits with positive gain, best gain: -inf\n",
      "[LightGBM] [Warning] No further splits with positive gain, best gain: -inf\n",
      "[LightGBM] [Warning] No further splits with positive gain, best gain: -inf\n",
      "[LightGBM] [Warning] No further splits with positive gain, best gain: -inf\n",
      "[LightGBM] [Warning] No further splits with positive gain, best gain: -inf\n",
      "[LightGBM] [Warning] No further splits with positive gain, best gain: -inf\n",
      "[LightGBM] [Warning] No further splits with positive gain, best gain: -inf\n",
      "[LightGBM] [Warning] No further splits with positive gain, best gain: -inf\n",
      "[LightGBM] [Warning] No further splits with positive gain, best gain: -inf\n",
      "[LightGBM] [Warning] No further splits with positive gain, best gain: -inf\n",
      "[LightGBM] [Warning] No further splits with positive gain, best gain: -inf\n",
      "[LightGBM] [Warning] No further splits with positive gain, best gain: -inf\n",
      "[LightGBM] [Warning] No further splits with positive gain, best gain: -inf\n",
      "[LightGBM] [Warning] No further splits with positive gain, best gain: -inf\n",
      "[LightGBM] [Warning] No further splits with positive gain, best gain: -inf\n",
      "[LightGBM] [Warning] No further splits with positive gain, best gain: -inf\n",
      "[LightGBM] [Warning] No further splits with positive gain, best gain: -inf\n",
      "[LightGBM] [Warning] No further splits with positive gain, best gain: -inf\n",
      "[LightGBM] [Warning] No further splits with positive gain, best gain: -inf\n",
      "[LightGBM] [Warning] No further splits with positive gain, best gain: -inf\n",
      "[LightGBM] [Warning] No further splits with positive gain, best gain: -inf\n",
      "[LightGBM] [Warning] No further splits with positive gain, best gain: -inf\n",
      "[LightGBM] [Warning] No further splits with positive gain, best gain: -inf\n",
      "[LightGBM] [Warning] No further splits with positive gain, best gain: -inf\n",
      "[LightGBM] [Warning] No further splits with positive gain, best gain: -inf\n",
      "[LightGBM] [Warning] No further splits with positive gain, best gain: -inf\n",
      "[LightGBM] [Warning] No further splits with positive gain, best gain: -inf\n",
      "[LightGBM] [Warning] No further splits with positive gain, best gain: -inf\n",
      "[LightGBM] [Warning] No further splits with positive gain, best gain: -inf\n",
      "[LightGBM] [Warning] No further splits with positive gain, best gain: -inf\n",
      "[LightGBM] [Warning] No further splits with positive gain, best gain: -inf\n",
      "[LightGBM] [Warning] No further splits with positive gain, best gain: -inf\n",
      "[LightGBM] [Warning] No further splits with positive gain, best gain: -inf\n",
      "[LightGBM] [Warning] No further splits with positive gain, best gain: -inf\n",
      "[LightGBM] [Warning] No further splits with positive gain, best gain: -inf\n",
      "[LightGBM] [Warning] No further splits with positive gain, best gain: -inf\n",
      "[LightGBM] [Warning] No further splits with positive gain, best gain: -inf\n",
      "[LightGBM] [Warning] No further splits with positive gain, best gain: -inf\n",
      "[LightGBM] [Warning] No further splits with positive gain, best gain: -inf\n",
      "[LightGBM] [Warning] No further splits with positive gain, best gain: -inf\n",
      "[LightGBM] [Warning] No further splits with positive gain, best gain: -inf\n",
      "[LightGBM] [Warning] No further splits with positive gain, best gain: -inf\n",
      "[LightGBM] [Warning] No further splits with positive gain, best gain: -inf\n",
      "[LightGBM] [Warning] No further splits with positive gain, best gain: -inf\n",
      "[LightGBM] [Warning] No further splits with positive gain, best gain: -inf\n",
      "[LightGBM] [Warning] No further splits with positive gain, best gain: -inf\n",
      "[LightGBM] [Warning] No further splits with positive gain, best gain: -inf\n",
      "[LightGBM] [Warning] No further splits with positive gain, best gain: -inf\n",
      "[LightGBM] [Warning] No further splits with positive gain, best gain: -inf\n",
      "[LightGBM] [Warning] No further splits with positive gain, best gain: -inf\n",
      "[LightGBM] [Warning] No further splits with positive gain, best gain: -inf\n",
      "[LightGBM] [Warning] No further splits with positive gain, best gain: -inf\n",
      "[LightGBM] [Warning] No further splits with positive gain, best gain: -inf\n",
      "[LightGBM] [Warning] No further splits with positive gain, best gain: -inf\n",
      "[LightGBM] [Warning] No further splits with positive gain, best gain: -inf\n",
      "[LightGBM] [Warning] No further splits with positive gain, best gain: -inf\n",
      "[LightGBM] [Warning] No further splits with positive gain, best gain: -inf\n",
      "[LightGBM] [Warning] No further splits with positive gain, best gain: -inf\n",
      "[LightGBM] [Warning] No further splits with positive gain, best gain: -inf\n",
      "[LightGBM] [Warning] No further splits with positive gain, best gain: -inf\n",
      "[LightGBM] [Warning] No further splits with positive gain, best gain: -inf\n",
      "[LightGBM] [Warning] No further splits with positive gain, best gain: -inf\n",
      "[LightGBM] [Warning] No further splits with positive gain, best gain: -inf\n",
      "[LightGBM] [Warning] No further splits with positive gain, best gain: -inf\n",
      "[LightGBM] [Warning] No further splits with positive gain, best gain: -inf\n",
      "[LightGBM] [Warning] No further splits with positive gain, best gain: -inf\n",
      "[LightGBM] [Warning] No further splits with positive gain, best gain: -inf\n",
      "[LightGBM] [Warning] No further splits with positive gain, best gain: -inf\n",
      "[LightGBM] [Warning] No further splits with positive gain, best gain: -inf\n",
      "[LightGBM] [Warning] No further splits with positive gain, best gain: -inf\n",
      "[LightGBM] [Warning] No further splits with positive gain, best gain: -inf\n",
      "[LightGBM] [Warning] No further splits with positive gain, best gain: -inf\n",
      "[LightGBM] [Warning] No further splits with positive gain, best gain: -inf\n",
      "[LightGBM] [Warning] No further splits with positive gain, best gain: -inf\n",
      "[LightGBM] [Warning] No further splits with positive gain, best gain: -inf\n",
      "[LightGBM] [Warning] No further splits with positive gain, best gain: -inf\n",
      "[LightGBM] [Warning] No further splits with positive gain, best gain: -inf\n",
      "[LightGBM] [Warning] No further splits with positive gain, best gain: -inf\n",
      "[LightGBM] [Warning] No further splits with positive gain, best gain: -inf\n",
      "[LightGBM] [Warning] No further splits with positive gain, best gain: -inf\n",
      "[LightGBM] [Warning] No further splits with positive gain, best gain: -inf\n",
      "[LightGBM] [Warning] No further splits with positive gain, best gain: -inf\n",
      "[LightGBM] [Warning] No further splits with positive gain, best gain: -inf\n",
      "[LightGBM] [Warning] No further splits with positive gain, best gain: -inf\n",
      "[LightGBM] [Warning] No further splits with positive gain, best gain: -inf\n",
      "[LightGBM] [Warning] No further splits with positive gain, best gain: -inf\n",
      "[LightGBM] [Warning] No further splits with positive gain, best gain: -inf\n",
      "[LightGBM] [Warning] No further splits with positive gain, best gain: -inf\n",
      "[LightGBM] [Warning] No further splits with positive gain, best gain: -inf\n",
      "[LightGBM] [Warning] No further splits with positive gain, best gain: -inf\n",
      "[LightGBM] [Warning] No further splits with positive gain, best gain: -inf\n",
      "[LightGBM] [Warning] No further splits with positive gain, best gain: -inf\n",
      "[LightGBM] [Warning] No further splits with positive gain, best gain: -inf\n",
      "[LightGBM] [Warning] No further splits with positive gain, best gain: -inf\n",
      "[LightGBM] [Warning] No further splits with positive gain, best gain: -inf\n",
      "[LightGBM] [Warning] No further splits with positive gain, best gain: -inf\n",
      "[LightGBM] [Warning] No further splits with positive gain, best gain: -inf\n",
      "[LightGBM] [Warning] No further splits with positive gain, best gain: -inf\n",
      "[LightGBM] [Warning] No further splits with positive gain, best gain: -inf\n",
      "[LightGBM] [Warning] No further splits with positive gain, best gain: -inf\n",
      "[LightGBM] [Warning] No further splits with positive gain, best gain: -inf\n",
      "[LightGBM] [Warning] No further splits with positive gain, best gain: -inf\n",
      "[LightGBM] [Warning] No further splits with positive gain, best gain: -inf\n",
      "[LightGBM] [Warning] No further splits with positive gain, best gain: -inf\n",
      "[LightGBM] [Warning] No further splits with positive gain, best gain: -inf\n",
      "[LightGBM] [Warning] No further splits with positive gain, best gain: -inf\n",
      "[LightGBM] [Warning] No further splits with positive gain, best gain: -inf\n",
      "[LightGBM] [Warning] No further splits with positive gain, best gain: -inf\n",
      "[LightGBM] [Warning] No further splits with positive gain, best gain: -inf\n",
      "[LightGBM] [Warning] No further splits with positive gain, best gain: -inf\n",
      "[LightGBM] [Warning] No further splits with positive gain, best gain: -inf\n",
      "[LightGBM] [Warning] No further splits with positive gain, best gain: -inf\n",
      "[LightGBM] [Warning] No further splits with positive gain, best gain: -inf\n",
      "[LightGBM] [Warning] No further splits with positive gain, best gain: -inf\n",
      "[LightGBM] [Warning] No further splits with positive gain, best gain: -inf\n",
      "[LightGBM] [Warning] No further splits with positive gain, best gain: -inf\n",
      "[LightGBM] [Warning] No further splits with positive gain, best gain: -inf\n",
      "[LightGBM] [Warning] No further splits with positive gain, best gain: -inf\n",
      "[LightGBM] [Warning] No further splits with positive gain, best gain: -inf\n",
      "[LightGBM] [Warning] No further splits with positive gain, best gain: -inf\n",
      "[LightGBM] [Warning] No further splits with positive gain, best gain: -inf\n",
      "[LightGBM] [Warning] No further splits with positive gain, best gain: -inf\n",
      "[LightGBM] [Warning] No further splits with positive gain, best gain: -inf\n",
      "[LightGBM] [Warning] No further splits with positive gain, best gain: -inf\n",
      "[LightGBM] [Warning] No further splits with positive gain, best gain: -inf\n",
      "[LightGBM] [Warning] No further splits with positive gain, best gain: -inf\n",
      "[LightGBM] [Warning] No further splits with positive gain, best gain: -inf\n",
      "[LightGBM] [Warning] No further splits with positive gain, best gain: -inf\n",
      "[LightGBM] [Warning] No further splits with positive gain, best gain: -inf\n",
      "[LightGBM] [Warning] No further splits with positive gain, best gain: -inf\n",
      "[LightGBM] [Warning] No further splits with positive gain, best gain: -inf\n",
      "[LightGBM] [Warning] No further splits with positive gain, best gain: -inf\n",
      "[LightGBM] [Warning] No further splits with positive gain, best gain: -inf\n",
      "[LightGBM] [Warning] No further splits with positive gain, best gain: -inf\n",
      "[LightGBM] [Warning] No further splits with positive gain, best gain: -inf\n",
      "[LightGBM] [Warning] No further splits with positive gain, best gain: -inf\n",
      "[LightGBM] [Warning] No further splits with positive gain, best gain: -inf\n",
      "[LightGBM] [Warning] No further splits with positive gain, best gain: -inf\n",
      "[LightGBM] [Warning] No further splits with positive gain, best gain: -inf\n",
      "[LightGBM] [Warning] No further splits with positive gain, best gain: -inf\n",
      "CPU times: total: 7.16 s\n",
      "Wall time: 1.3 s\n"
     ]
    },
    {
     "data": {
      "text/html": [
       "<style>#sk-container-id-3 {\n",
       "  /* Definition of color scheme common for light and dark mode */\n",
       "  --sklearn-color-text: black;\n",
       "  --sklearn-color-line: gray;\n",
       "  /* Definition of color scheme for unfitted estimators */\n",
       "  --sklearn-color-unfitted-level-0: #fff5e6;\n",
       "  --sklearn-color-unfitted-level-1: #f6e4d2;\n",
       "  --sklearn-color-unfitted-level-2: #ffe0b3;\n",
       "  --sklearn-color-unfitted-level-3: chocolate;\n",
       "  /* Definition of color scheme for fitted estimators */\n",
       "  --sklearn-color-fitted-level-0: #f0f8ff;\n",
       "  --sklearn-color-fitted-level-1: #d4ebff;\n",
       "  --sklearn-color-fitted-level-2: #b3dbfd;\n",
       "  --sklearn-color-fitted-level-3: cornflowerblue;\n",
       "\n",
       "  /* Specific color for light theme */\n",
       "  --sklearn-color-text-on-default-background: var(--sg-text-color, var(--theme-code-foreground, var(--jp-content-font-color1, black)));\n",
       "  --sklearn-color-background: var(--sg-background-color, var(--theme-background, var(--jp-layout-color0, white)));\n",
       "  --sklearn-color-border-box: var(--sg-text-color, var(--theme-code-foreground, var(--jp-content-font-color1, black)));\n",
       "  --sklearn-color-icon: #696969;\n",
       "\n",
       "  @media (prefers-color-scheme: dark) {\n",
       "    /* Redefinition of color scheme for dark theme */\n",
       "    --sklearn-color-text-on-default-background: var(--sg-text-color, var(--theme-code-foreground, var(--jp-content-font-color1, white)));\n",
       "    --sklearn-color-background: var(--sg-background-color, var(--theme-background, var(--jp-layout-color0, #111)));\n",
       "    --sklearn-color-border-box: var(--sg-text-color, var(--theme-code-foreground, var(--jp-content-font-color1, white)));\n",
       "    --sklearn-color-icon: #878787;\n",
       "  }\n",
       "}\n",
       "\n",
       "#sk-container-id-3 {\n",
       "  color: var(--sklearn-color-text);\n",
       "}\n",
       "\n",
       "#sk-container-id-3 pre {\n",
       "  padding: 0;\n",
       "}\n",
       "\n",
       "#sk-container-id-3 input.sk-hidden--visually {\n",
       "  border: 0;\n",
       "  clip: rect(1px 1px 1px 1px);\n",
       "  clip: rect(1px, 1px, 1px, 1px);\n",
       "  height: 1px;\n",
       "  margin: -1px;\n",
       "  overflow: hidden;\n",
       "  padding: 0;\n",
       "  position: absolute;\n",
       "  width: 1px;\n",
       "}\n",
       "\n",
       "#sk-container-id-3 div.sk-dashed-wrapped {\n",
       "  border: 1px dashed var(--sklearn-color-line);\n",
       "  margin: 0 0.4em 0.5em 0.4em;\n",
       "  box-sizing: border-box;\n",
       "  padding-bottom: 0.4em;\n",
       "  background-color: var(--sklearn-color-background);\n",
       "}\n",
       "\n",
       "#sk-container-id-3 div.sk-container {\n",
       "  /* jupyter's `normalize.less` sets `[hidden] { display: none; }`\n",
       "     but bootstrap.min.css set `[hidden] { display: none !important; }`\n",
       "     so we also need the `!important` here to be able to override the\n",
       "     default hidden behavior on the sphinx rendered scikit-learn.org.\n",
       "     See: https://github.com/scikit-learn/scikit-learn/issues/21755 */\n",
       "  display: inline-block !important;\n",
       "  position: relative;\n",
       "}\n",
       "\n",
       "#sk-container-id-3 div.sk-text-repr-fallback {\n",
       "  display: none;\n",
       "}\n",
       "\n",
       "div.sk-parallel-item,\n",
       "div.sk-serial,\n",
       "div.sk-item {\n",
       "  /* draw centered vertical line to link estimators */\n",
       "  background-image: linear-gradient(var(--sklearn-color-text-on-default-background), var(--sklearn-color-text-on-default-background));\n",
       "  background-size: 2px 100%;\n",
       "  background-repeat: no-repeat;\n",
       "  background-position: center center;\n",
       "}\n",
       "\n",
       "/* Parallel-specific style estimator block */\n",
       "\n",
       "#sk-container-id-3 div.sk-parallel-item::after {\n",
       "  content: \"\";\n",
       "  width: 100%;\n",
       "  border-bottom: 2px solid var(--sklearn-color-text-on-default-background);\n",
       "  flex-grow: 1;\n",
       "}\n",
       "\n",
       "#sk-container-id-3 div.sk-parallel {\n",
       "  display: flex;\n",
       "  align-items: stretch;\n",
       "  justify-content: center;\n",
       "  background-color: var(--sklearn-color-background);\n",
       "  position: relative;\n",
       "}\n",
       "\n",
       "#sk-container-id-3 div.sk-parallel-item {\n",
       "  display: flex;\n",
       "  flex-direction: column;\n",
       "}\n",
       "\n",
       "#sk-container-id-3 div.sk-parallel-item:first-child::after {\n",
       "  align-self: flex-end;\n",
       "  width: 50%;\n",
       "}\n",
       "\n",
       "#sk-container-id-3 div.sk-parallel-item:last-child::after {\n",
       "  align-self: flex-start;\n",
       "  width: 50%;\n",
       "}\n",
       "\n",
       "#sk-container-id-3 div.sk-parallel-item:only-child::after {\n",
       "  width: 0;\n",
       "}\n",
       "\n",
       "/* Serial-specific style estimator block */\n",
       "\n",
       "#sk-container-id-3 div.sk-serial {\n",
       "  display: flex;\n",
       "  flex-direction: column;\n",
       "  align-items: center;\n",
       "  background-color: var(--sklearn-color-background);\n",
       "  padding-right: 1em;\n",
       "  padding-left: 1em;\n",
       "}\n",
       "\n",
       "\n",
       "/* Toggleable style: style used for estimator/Pipeline/ColumnTransformer box that is\n",
       "clickable and can be expanded/collapsed.\n",
       "- Pipeline and ColumnTransformer use this feature and define the default style\n",
       "- Estimators will overwrite some part of the style using the `sk-estimator` class\n",
       "*/\n",
       "\n",
       "/* Pipeline and ColumnTransformer style (default) */\n",
       "\n",
       "#sk-container-id-3 div.sk-toggleable {\n",
       "  /* Default theme specific background. It is overwritten whether we have a\n",
       "  specific estimator or a Pipeline/ColumnTransformer */\n",
       "  background-color: var(--sklearn-color-background);\n",
       "}\n",
       "\n",
       "/* Toggleable label */\n",
       "#sk-container-id-3 label.sk-toggleable__label {\n",
       "  cursor: pointer;\n",
       "  display: block;\n",
       "  width: 100%;\n",
       "  margin-bottom: 0;\n",
       "  padding: 0.5em;\n",
       "  box-sizing: border-box;\n",
       "  text-align: center;\n",
       "}\n",
       "\n",
       "#sk-container-id-3 label.sk-toggleable__label-arrow:before {\n",
       "  /* Arrow on the left of the label */\n",
       "  content: \"▸\";\n",
       "  float: left;\n",
       "  margin-right: 0.25em;\n",
       "  color: var(--sklearn-color-icon);\n",
       "}\n",
       "\n",
       "#sk-container-id-3 label.sk-toggleable__label-arrow:hover:before {\n",
       "  color: var(--sklearn-color-text);\n",
       "}\n",
       "\n",
       "/* Toggleable content - dropdown */\n",
       "\n",
       "#sk-container-id-3 div.sk-toggleable__content {\n",
       "  max-height: 0;\n",
       "  max-width: 0;\n",
       "  overflow: hidden;\n",
       "  text-align: left;\n",
       "  /* unfitted */\n",
       "  background-color: var(--sklearn-color-unfitted-level-0);\n",
       "}\n",
       "\n",
       "#sk-container-id-3 div.sk-toggleable__content.fitted {\n",
       "  /* fitted */\n",
       "  background-color: var(--sklearn-color-fitted-level-0);\n",
       "}\n",
       "\n",
       "#sk-container-id-3 div.sk-toggleable__content pre {\n",
       "  margin: 0.2em;\n",
       "  border-radius: 0.25em;\n",
       "  color: var(--sklearn-color-text);\n",
       "  /* unfitted */\n",
       "  background-color: var(--sklearn-color-unfitted-level-0);\n",
       "}\n",
       "\n",
       "#sk-container-id-3 div.sk-toggleable__content.fitted pre {\n",
       "  /* unfitted */\n",
       "  background-color: var(--sklearn-color-fitted-level-0);\n",
       "}\n",
       "\n",
       "#sk-container-id-3 input.sk-toggleable__control:checked~div.sk-toggleable__content {\n",
       "  /* Expand drop-down */\n",
       "  max-height: 200px;\n",
       "  max-width: 100%;\n",
       "  overflow: auto;\n",
       "}\n",
       "\n",
       "#sk-container-id-3 input.sk-toggleable__control:checked~label.sk-toggleable__label-arrow:before {\n",
       "  content: \"▾\";\n",
       "}\n",
       "\n",
       "/* Pipeline/ColumnTransformer-specific style */\n",
       "\n",
       "#sk-container-id-3 div.sk-label input.sk-toggleable__control:checked~label.sk-toggleable__label {\n",
       "  color: var(--sklearn-color-text);\n",
       "  background-color: var(--sklearn-color-unfitted-level-2);\n",
       "}\n",
       "\n",
       "#sk-container-id-3 div.sk-label.fitted input.sk-toggleable__control:checked~label.sk-toggleable__label {\n",
       "  background-color: var(--sklearn-color-fitted-level-2);\n",
       "}\n",
       "\n",
       "/* Estimator-specific style */\n",
       "\n",
       "/* Colorize estimator box */\n",
       "#sk-container-id-3 div.sk-estimator input.sk-toggleable__control:checked~label.sk-toggleable__label {\n",
       "  /* unfitted */\n",
       "  background-color: var(--sklearn-color-unfitted-level-2);\n",
       "}\n",
       "\n",
       "#sk-container-id-3 div.sk-estimator.fitted input.sk-toggleable__control:checked~label.sk-toggleable__label {\n",
       "  /* fitted */\n",
       "  background-color: var(--sklearn-color-fitted-level-2);\n",
       "}\n",
       "\n",
       "#sk-container-id-3 div.sk-label label.sk-toggleable__label,\n",
       "#sk-container-id-3 div.sk-label label {\n",
       "  /* The background is the default theme color */\n",
       "  color: var(--sklearn-color-text-on-default-background);\n",
       "}\n",
       "\n",
       "/* On hover, darken the color of the background */\n",
       "#sk-container-id-3 div.sk-label:hover label.sk-toggleable__label {\n",
       "  color: var(--sklearn-color-text);\n",
       "  background-color: var(--sklearn-color-unfitted-level-2);\n",
       "}\n",
       "\n",
       "/* Label box, darken color on hover, fitted */\n",
       "#sk-container-id-3 div.sk-label.fitted:hover label.sk-toggleable__label.fitted {\n",
       "  color: var(--sklearn-color-text);\n",
       "  background-color: var(--sklearn-color-fitted-level-2);\n",
       "}\n",
       "\n",
       "/* Estimator label */\n",
       "\n",
       "#sk-container-id-3 div.sk-label label {\n",
       "  font-family: monospace;\n",
       "  font-weight: bold;\n",
       "  display: inline-block;\n",
       "  line-height: 1.2em;\n",
       "}\n",
       "\n",
       "#sk-container-id-3 div.sk-label-container {\n",
       "  text-align: center;\n",
       "}\n",
       "\n",
       "/* Estimator-specific */\n",
       "#sk-container-id-3 div.sk-estimator {\n",
       "  font-family: monospace;\n",
       "  border: 1px dotted var(--sklearn-color-border-box);\n",
       "  border-radius: 0.25em;\n",
       "  box-sizing: border-box;\n",
       "  margin-bottom: 0.5em;\n",
       "  /* unfitted */\n",
       "  background-color: var(--sklearn-color-unfitted-level-0);\n",
       "}\n",
       "\n",
       "#sk-container-id-3 div.sk-estimator.fitted {\n",
       "  /* fitted */\n",
       "  background-color: var(--sklearn-color-fitted-level-0);\n",
       "}\n",
       "\n",
       "/* on hover */\n",
       "#sk-container-id-3 div.sk-estimator:hover {\n",
       "  /* unfitted */\n",
       "  background-color: var(--sklearn-color-unfitted-level-2);\n",
       "}\n",
       "\n",
       "#sk-container-id-3 div.sk-estimator.fitted:hover {\n",
       "  /* fitted */\n",
       "  background-color: var(--sklearn-color-fitted-level-2);\n",
       "}\n",
       "\n",
       "/* Specification for estimator info (e.g. \"i\" and \"?\") */\n",
       "\n",
       "/* Common style for \"i\" and \"?\" */\n",
       "\n",
       ".sk-estimator-doc-link,\n",
       "a:link.sk-estimator-doc-link,\n",
       "a:visited.sk-estimator-doc-link {\n",
       "  float: right;\n",
       "  font-size: smaller;\n",
       "  line-height: 1em;\n",
       "  font-family: monospace;\n",
       "  background-color: var(--sklearn-color-background);\n",
       "  border-radius: 1em;\n",
       "  height: 1em;\n",
       "  width: 1em;\n",
       "  text-decoration: none !important;\n",
       "  margin-left: 1ex;\n",
       "  /* unfitted */\n",
       "  border: var(--sklearn-color-unfitted-level-1) 1pt solid;\n",
       "  color: var(--sklearn-color-unfitted-level-1);\n",
       "}\n",
       "\n",
       ".sk-estimator-doc-link.fitted,\n",
       "a:link.sk-estimator-doc-link.fitted,\n",
       "a:visited.sk-estimator-doc-link.fitted {\n",
       "  /* fitted */\n",
       "  border: var(--sklearn-color-fitted-level-1) 1pt solid;\n",
       "  color: var(--sklearn-color-fitted-level-1);\n",
       "}\n",
       "\n",
       "/* On hover */\n",
       "div.sk-estimator:hover .sk-estimator-doc-link:hover,\n",
       ".sk-estimator-doc-link:hover,\n",
       "div.sk-label-container:hover .sk-estimator-doc-link:hover,\n",
       ".sk-estimator-doc-link:hover {\n",
       "  /* unfitted */\n",
       "  background-color: var(--sklearn-color-unfitted-level-3);\n",
       "  color: var(--sklearn-color-background);\n",
       "  text-decoration: none;\n",
       "}\n",
       "\n",
       "div.sk-estimator.fitted:hover .sk-estimator-doc-link.fitted:hover,\n",
       ".sk-estimator-doc-link.fitted:hover,\n",
       "div.sk-label-container:hover .sk-estimator-doc-link.fitted:hover,\n",
       ".sk-estimator-doc-link.fitted:hover {\n",
       "  /* fitted */\n",
       "  background-color: var(--sklearn-color-fitted-level-3);\n",
       "  color: var(--sklearn-color-background);\n",
       "  text-decoration: none;\n",
       "}\n",
       "\n",
       "/* Span, style for the box shown on hovering the info icon */\n",
       ".sk-estimator-doc-link span {\n",
       "  display: none;\n",
       "  z-index: 9999;\n",
       "  position: relative;\n",
       "  font-weight: normal;\n",
       "  right: .2ex;\n",
       "  padding: .5ex;\n",
       "  margin: .5ex;\n",
       "  width: min-content;\n",
       "  min-width: 20ex;\n",
       "  max-width: 50ex;\n",
       "  color: var(--sklearn-color-text);\n",
       "  box-shadow: 2pt 2pt 4pt #999;\n",
       "  /* unfitted */\n",
       "  background: var(--sklearn-color-unfitted-level-0);\n",
       "  border: .5pt solid var(--sklearn-color-unfitted-level-3);\n",
       "}\n",
       "\n",
       ".sk-estimator-doc-link.fitted span {\n",
       "  /* fitted */\n",
       "  background: var(--sklearn-color-fitted-level-0);\n",
       "  border: var(--sklearn-color-fitted-level-3);\n",
       "}\n",
       "\n",
       ".sk-estimator-doc-link:hover span {\n",
       "  display: block;\n",
       "}\n",
       "\n",
       "/* \"?\"-specific style due to the `<a>` HTML tag */\n",
       "\n",
       "#sk-container-id-3 a.estimator_doc_link {\n",
       "  float: right;\n",
       "  font-size: 1rem;\n",
       "  line-height: 1em;\n",
       "  font-family: monospace;\n",
       "  background-color: var(--sklearn-color-background);\n",
       "  border-radius: 1rem;\n",
       "  height: 1rem;\n",
       "  width: 1rem;\n",
       "  text-decoration: none;\n",
       "  /* unfitted */\n",
       "  color: var(--sklearn-color-unfitted-level-1);\n",
       "  border: var(--sklearn-color-unfitted-level-1) 1pt solid;\n",
       "}\n",
       "\n",
       "#sk-container-id-3 a.estimator_doc_link.fitted {\n",
       "  /* fitted */\n",
       "  border: var(--sklearn-color-fitted-level-1) 1pt solid;\n",
       "  color: var(--sklearn-color-fitted-level-1);\n",
       "}\n",
       "\n",
       "/* On hover */\n",
       "#sk-container-id-3 a.estimator_doc_link:hover {\n",
       "  /* unfitted */\n",
       "  background-color: var(--sklearn-color-unfitted-level-3);\n",
       "  color: var(--sklearn-color-background);\n",
       "  text-decoration: none;\n",
       "}\n",
       "\n",
       "#sk-container-id-3 a.estimator_doc_link.fitted:hover {\n",
       "  /* fitted */\n",
       "  background-color: var(--sklearn-color-fitted-level-3);\n",
       "}\n",
       "</style><div id=\"sk-container-id-3\" class=\"sk-top-container\"><div class=\"sk-text-repr-fallback\"><pre>LGBMRegressor(max_depth=5, n_estimators=350, random_state=42)</pre><b>In a Jupyter environment, please rerun this cell to show the HTML representation or trust the notebook. <br />On GitHub, the HTML representation is unable to render, please try loading this page with nbviewer.org.</b></div><div class=\"sk-container\" hidden><div class=\"sk-item\"><div class=\"sk-estimator fitted sk-toggleable\"><input class=\"sk-toggleable__control sk-hidden--visually\" id=\"sk-estimator-id-3\" type=\"checkbox\" checked><label for=\"sk-estimator-id-3\" class=\"sk-toggleable__label fitted sk-toggleable__label-arrow fitted\">&nbsp;LGBMRegressor<span class=\"sk-estimator-doc-link fitted\">i<span>Fitted</span></span></label><div class=\"sk-toggleable__content fitted\"><pre>LGBMRegressor(max_depth=5, n_estimators=350, random_state=42)</pre></div> </div></div></div></div>"
      ],
      "text/plain": [
       "LGBMRegressor(max_depth=5, n_estimators=350, random_state=42)"
      ]
     },
     "execution_count": 163,
     "metadata": {},
     "output_type": "execute_result"
    }
   ],
   "source": [
    "%%time\n",
    "\n",
    "model = lgb.LGBMRegressor(n_estimators=350, max_depth=5, learning_rate=0.1, random_state=42)\n",
    "model.fit(features_train_lgb, target_train, categorical_feature=CATEGORICAL)"
   ]
  },
  {
   "cell_type": "code",
   "execution_count": 164,
   "metadata": {},
   "outputs": [
    {
     "name": "stdout",
     "output_type": "stream",
     "text": [
      "[LightGBM] [Warning] Accuracy may be bad since you didn't explicitly set num_leaves OR 2^max_depth > num_leaves. (num_leaves=31).\n"
     ]
    },
    {
     "name": "stdout",
     "output_type": "stream",
     "text": [
      "RMSE на тестовой выборке: 1391.05\n",
      "CPU times: total: 2.12 s\n",
      "Wall time: 362 ms\n"
     ]
    }
   ],
   "source": [
    "%%time\n",
    "\n",
    "predicted_test = model.predict(features_test_lgb)\n",
    "\n",
    "print(f'RMSE на тестовой выборке: {round(math.sqrt(mean_squared_error(target_test, predicted_test)), 2)}')"
   ]
  }
 ],
 "metadata": {
  "kernelspec": {
   "display_name": "Python 3",
   "language": "python",
   "name": "python3"
  },
  "language_info": {
   "codemirror_mode": {
    "name": "ipython",
    "version": 3
   },
   "file_extension": ".py",
   "mimetype": "text/x-python",
   "name": "python",
   "nbconvert_exporter": "python",
   "pygments_lexer": "ipython3",
   "version": "3.11.1"
  }
 },
 "nbformat": 4,
 "nbformat_minor": 2
}
