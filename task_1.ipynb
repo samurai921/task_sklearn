{
 "cells": [
  {
   "cell_type": "markdown",
   "metadata": {},
   "source": [
    "# Импортируем необходимые библиотеки"
   ]
  },
  {
   "cell_type": "code",
   "execution_count": 1293,
   "metadata": {},
   "outputs": [],
   "source": [
    "import pandas as pd\n",
    "from sklearn.model_selection import train_test_split\n",
    "from sklearn.linear_model import LogisticRegression\n",
    "from sklearn.ensemble import RandomForestClassifier\n",
    "from sklearn.tree import DecisionTreeClassifier\n",
    "from sklearn.metrics import accuracy_score\n",
    "from sklearn.metrics import f1_score\n",
    "from collections import Counter\n",
    "from imblearn.over_sampling import SMOTE \n",
    "from statsmodels.stats.outliers_influence import variance_inflation_factor\n",
    "import seaborn as sns\n",
    "import matplotlib.pyplot as plt\n",
    "from sklearn.model_selection import train_test_split\n",
    "from sklearn.preprocessing import StandardScaler\n",
    "from sklearn.utils.class_weight import compute_class_weight\n",
    "import numpy as np\n",
    "RANDOM_SEED = 42"
   ]
  },
  {
   "cell_type": "markdown",
   "metadata": {},
   "source": [
    "# Откройте файл с данными"
   ]
  },
  {
   "cell_type": "code",
   "execution_count": 1294,
   "metadata": {},
   "outputs": [],
   "source": [
    "columns = [\"calls\",  \"minutes\",  \"message\",\"md_used\", \"is_ultra\"]\n",
    "df_tarific = pd.read_csv(\"users_behavior.csv\",\n",
    "                 names=columns,\n",
    "                 header=1) "
   ]
  },
  {
   "cell_type": "code",
   "execution_count": 1295,
   "metadata": {},
   "outputs": [
    {
     "data": {
      "text/html": [
       "<div>\n",
       "<style scoped>\n",
       "    .dataframe tbody tr th:only-of-type {\n",
       "        vertical-align: middle;\n",
       "    }\n",
       "\n",
       "    .dataframe tbody tr th {\n",
       "        vertical-align: top;\n",
       "    }\n",
       "\n",
       "    .dataframe thead th {\n",
       "        text-align: right;\n",
       "    }\n",
       "</style>\n",
       "<table border=\"1\" class=\"dataframe\">\n",
       "  <thead>\n",
       "    <tr style=\"text-align: right;\">\n",
       "      <th></th>\n",
       "      <th>calls</th>\n",
       "      <th>minutes</th>\n",
       "      <th>message</th>\n",
       "      <th>md_used</th>\n",
       "      <th>is_ultra</th>\n",
       "    </tr>\n",
       "  </thead>\n",
       "  <tbody>\n",
       "    <tr>\n",
       "      <th>0</th>\n",
       "      <td>85.0</td>\n",
       "      <td>516.75</td>\n",
       "      <td>56.0</td>\n",
       "      <td>22696.96</td>\n",
       "      <td>0</td>\n",
       "    </tr>\n",
       "    <tr>\n",
       "      <th>1</th>\n",
       "      <td>77.0</td>\n",
       "      <td>467.66</td>\n",
       "      <td>86.0</td>\n",
       "      <td>21060.45</td>\n",
       "      <td>0</td>\n",
       "    </tr>\n",
       "    <tr>\n",
       "      <th>2</th>\n",
       "      <td>106.0</td>\n",
       "      <td>745.53</td>\n",
       "      <td>81.0</td>\n",
       "      <td>8437.39</td>\n",
       "      <td>1</td>\n",
       "    </tr>\n",
       "    <tr>\n",
       "      <th>3</th>\n",
       "      <td>66.0</td>\n",
       "      <td>418.74</td>\n",
       "      <td>1.0</td>\n",
       "      <td>14502.75</td>\n",
       "      <td>0</td>\n",
       "    </tr>\n",
       "    <tr>\n",
       "      <th>4</th>\n",
       "      <td>58.0</td>\n",
       "      <td>344.56</td>\n",
       "      <td>21.0</td>\n",
       "      <td>15823.37</td>\n",
       "      <td>0</td>\n",
       "    </tr>\n",
       "  </tbody>\n",
       "</table>\n",
       "</div>"
      ],
      "text/plain": [
       "   calls  minutes  message   md_used  is_ultra\n",
       "0   85.0   516.75     56.0  22696.96         0\n",
       "1   77.0   467.66     86.0  21060.45         0\n",
       "2  106.0   745.53     81.0   8437.39         1\n",
       "3   66.0   418.74      1.0  14502.75         0\n",
       "4   58.0   344.56     21.0  15823.37         0"
      ]
     },
     "execution_count": 1295,
     "metadata": {},
     "output_type": "execute_result"
    }
   ],
   "source": [
    "df_tarific.head()"
   ]
  },
  {
   "cell_type": "code",
   "execution_count": 1296,
   "metadata": {},
   "outputs": [
    {
     "name": "stdout",
     "output_type": "stream",
     "text": [
      "<class 'pandas.core.frame.DataFrame'>\n",
      "RangeIndex: 3213 entries, 0 to 3212\n",
      "Data columns (total 5 columns):\n",
      " #   Column    Non-Null Count  Dtype  \n",
      "---  ------    --------------  -----  \n",
      " 0   calls     3213 non-null   float64\n",
      " 1   minutes   3213 non-null   float64\n",
      " 2   message   3213 non-null   float64\n",
      " 3   md_used   3213 non-null   float64\n",
      " 4   is_ultra  3213 non-null   int64  \n",
      "dtypes: float64(4), int64(1)\n",
      "memory usage: 125.6 KB\n"
     ]
    }
   ],
   "source": [
    "df_tarific.info()"
   ]
  },
  {
   "cell_type": "code",
   "execution_count": 1297,
   "metadata": {},
   "outputs": [
    {
     "data": {
      "text/html": [
       "<div>\n",
       "<style scoped>\n",
       "    .dataframe tbody tr th:only-of-type {\n",
       "        vertical-align: middle;\n",
       "    }\n",
       "\n",
       "    .dataframe tbody tr th {\n",
       "        vertical-align: top;\n",
       "    }\n",
       "\n",
       "    .dataframe thead th {\n",
       "        text-align: right;\n",
       "    }\n",
       "</style>\n",
       "<table border=\"1\" class=\"dataframe\">\n",
       "  <thead>\n",
       "    <tr style=\"text-align: right;\">\n",
       "      <th></th>\n",
       "      <th>calls</th>\n",
       "      <th>minutes</th>\n",
       "      <th>message</th>\n",
       "      <th>md_used</th>\n",
       "      <th>is_ultra</th>\n",
       "    </tr>\n",
       "  </thead>\n",
       "  <tbody>\n",
       "    <tr>\n",
       "      <th>count</th>\n",
       "      <td>3213.000000</td>\n",
       "      <td>3213.000000</td>\n",
       "      <td>3213.000000</td>\n",
       "      <td>3213.000000</td>\n",
       "      <td>3213.000000</td>\n",
       "    </tr>\n",
       "    <tr>\n",
       "      <th>mean</th>\n",
       "      <td>63.046063</td>\n",
       "      <td>438.248098</td>\n",
       "      <td>38.267351</td>\n",
       "      <td>17206.831089</td>\n",
       "      <td>0.306567</td>\n",
       "    </tr>\n",
       "    <tr>\n",
       "      <th>std</th>\n",
       "      <td>33.239054</td>\n",
       "      <td>234.595795</td>\n",
       "      <td>36.145338</td>\n",
       "      <td>7571.995923</td>\n",
       "      <td>0.461140</td>\n",
       "    </tr>\n",
       "    <tr>\n",
       "      <th>min</th>\n",
       "      <td>0.000000</td>\n",
       "      <td>0.000000</td>\n",
       "      <td>0.000000</td>\n",
       "      <td>0.000000</td>\n",
       "      <td>0.000000</td>\n",
       "    </tr>\n",
       "    <tr>\n",
       "      <th>25%</th>\n",
       "      <td>40.000000</td>\n",
       "      <td>274.530000</td>\n",
       "      <td>9.000000</td>\n",
       "      <td>12491.750000</td>\n",
       "      <td>0.000000</td>\n",
       "    </tr>\n",
       "    <tr>\n",
       "      <th>50%</th>\n",
       "      <td>62.000000</td>\n",
       "      <td>430.700000</td>\n",
       "      <td>30.000000</td>\n",
       "      <td>16942.030000</td>\n",
       "      <td>0.000000</td>\n",
       "    </tr>\n",
       "    <tr>\n",
       "      <th>75%</th>\n",
       "      <td>82.000000</td>\n",
       "      <td>572.030000</td>\n",
       "      <td>57.000000</td>\n",
       "      <td>21425.840000</td>\n",
       "      <td>1.000000</td>\n",
       "    </tr>\n",
       "    <tr>\n",
       "      <th>max</th>\n",
       "      <td>244.000000</td>\n",
       "      <td>1632.060000</td>\n",
       "      <td>224.000000</td>\n",
       "      <td>49745.730000</td>\n",
       "      <td>1.000000</td>\n",
       "    </tr>\n",
       "  </tbody>\n",
       "</table>\n",
       "</div>"
      ],
      "text/plain": [
       "             calls      minutes      message       md_used     is_ultra\n",
       "count  3213.000000  3213.000000  3213.000000   3213.000000  3213.000000\n",
       "mean     63.046063   438.248098    38.267351  17206.831089     0.306567\n",
       "std      33.239054   234.595795    36.145338   7571.995923     0.461140\n",
       "min       0.000000     0.000000     0.000000      0.000000     0.000000\n",
       "25%      40.000000   274.530000     9.000000  12491.750000     0.000000\n",
       "50%      62.000000   430.700000    30.000000  16942.030000     0.000000\n",
       "75%      82.000000   572.030000    57.000000  21425.840000     1.000000\n",
       "max     244.000000  1632.060000   224.000000  49745.730000     1.000000"
      ]
     },
     "execution_count": 1297,
     "metadata": {},
     "output_type": "execute_result"
    }
   ],
   "source": [
    "df_tarific.describe()"
   ]
  },
  {
   "cell_type": "markdown",
   "metadata": {},
   "source": [
    "Вывод: \n",
    "1. Пропущенных значений нет\n",
    "1. Типы столбцов в порядке\n",
    "1. Дубликатов нет"
   ]
  },
  {
   "cell_type": "markdown",
   "metadata": {},
   "source": [
    "<div class=\"alert alert-info\">\n",
    "<b>как по мне - очень удобно смотреть именно транспонированное значение дескрайба, может пригодиться:</b>\n",
    "</div>"
   ]
  },
  {
   "cell_type": "markdown",
   "metadata": {},
   "source": [
    "Исследовательский анализ данных"
   ]
  },
  {
   "cell_type": "code",
   "execution_count": 1298,
   "metadata": {},
   "outputs": [
    {
     "data": {
      "text/plain": [
       "<Axes: >"
      ]
     },
     "execution_count": 1298,
     "metadata": {},
     "output_type": "execute_result"
    },
    {
     "data": {
      "image/png": "[encoded data removed]",
      "text/plain": [
       "<Figure size 640x480 with 1 Axes>"
      ]
     },
     "metadata": {},
     "output_type": "display_data"
    }
   ],
   "source": [
    "df_tarific['calls'].hist()"
   ]
  },
  {
   "cell_type": "markdown",
   "metadata": {},
   "source": [
    "Данные в разрезе тарифов"
   ]
  },
  {
   "cell_type": "code",
   "execution_count": 1299,
   "metadata": {},
   "outputs": [
    {
     "data": {
      "image/png": "[encoded data removed]",
      "text/plain": [
       "<Figure size 640x480 with 1 Axes>"
      ]
     },
     "metadata": {},
     "output_type": "display_data"
    }
   ],
   "source": [
    "df_tarific.query('is_ultra == 1')['calls'].hist(density=True)\n",
    "df_tarific.query('is_ultra == 0')['calls'].hist(density=True, alpha=0.6)\n",
    "\n",
    "plt.xlabel(\"Количество звонков\")\n",
    "plt.ylabel(\"Частота\")\n",
    "plt.legend(labels=[\"Ультра\", \"Смарт\"])\n",
    "plt.show()"
   ]
  },
  {
   "cell_type": "markdown",
   "metadata": {},
   "source": [
    "\n",
    "<div style=\"background-color: #c1b6fc; padding: 10px; border: 1px solid #a491fc;\">\n",
    "    <b>\n",
    "        <font color=\"purple\">Вывод: На основе данной гистограммы можно отметить, что тариф \"Смарт\" пользуется меньшей популярностью по сравнению с тарифом \"Ультра\", как видно из относительных частот. Однако, несмотря на меньшую популярность, пользователи тарифа \"Смарт\" проявляют более активное поведение в совершении звонков, что отражено в более высокой частоте использования количества звонков. </font>\n",
    "    </b>\n",
    "</div>"
   ]
  },
  {
   "cell_type": "code",
   "execution_count": 1300,
   "metadata": {},
   "outputs": [
    {
     "data": {
      "image/png": "[encoded data removed]",
      "text/plain": [
       "<Figure size 640x480 with 1 Axes>"
      ]
     },
     "metadata": {},
     "output_type": "display_data"
    }
   ],
   "source": [
    "df_tarific.query('is_ultra == 1')['minutes'].hist(density=True)\n",
    "df_tarific.query('is_ultra == 0')['minutes'].hist(alpha=0.6, density=True)\n",
    "\n",
    "plt.xlabel(\"Количество минут\")\n",
    "plt.ylabel(\"Частота\")\n",
    "plt.legend(labels=[\"Ультра\", \"Смарт\"])\n",
    "plt.show()"
   ]
  },
  {
   "cell_type": "code",
   "execution_count": 1301,
   "metadata": {},
   "outputs": [
    {
     "name": "stdout",
     "output_type": "stream",
     "text": [
      "Correlation between 'calls' for 'is_ultra == 1' and 'minutes' for 'is_ultra == 1': 0.99\n"
     ]
    }
   ],
   "source": [
    "correlation = df_tarific.query('is_ultra == 1')['calls'].corr(df_tarific.query('is_ultra == 1')['minutes'])\n",
    "print(f\"Correlation between 'calls' for 'is_ultra == 1' and 'minutes' for 'is_ultra == 1': {correlation:.2f}\")\n"
   ]
  },
  {
   "cell_type": "markdown",
   "metadata": {},
   "source": [
    "\n",
    "<div style=\"background-color: #c1b6fc; padding: 10px; border: 1px solid #a491fc;\">\n",
    "    <b>\n",
    "        <font color=\"purple\">Вывод: Как можно заметить количество минут и колличество звонков кореллируют между собой. </font>\n",
    "    </b>\n",
    "</div>"
   ]
  },
  {
   "cell_type": "code",
   "execution_count": 1302,
   "metadata": {},
   "outputs": [
    {
     "data": {
      "image/png": "[encoded data removed]",
      "text/plain": [
       "<Figure size 640x480 with 1 Axes>"
      ]
     },
     "metadata": {},
     "output_type": "display_data"
    }
   ],
   "source": [
    "df_tarific.query('is_ultra == 1')['md_used'].hist(density=True)\n",
    "df_tarific.query('is_ultra == 0')['md_used'].hist(alpha=0.6, density=True)\n",
    "\n",
    "plt.xlabel(\"Количество звонков\")\n",
    "plt.ylabel(\"Частота\")\n",
    "plt.legend(labels=[\"Ультра\", \"Смарт\"])\n",
    "plt.show()"
   ]
  },
  {
   "cell_type": "markdown",
   "metadata": {},
   "source": [
    "\n",
    "<div style=\"background-color: #c1b6fc; padding: 10px; border: 1px solid #a491fc;\">\n",
    "    <b>\n",
    "        <font color=\"purple\">Вывод: Пользователе тарифа \"Смарт\" намного чаше потребляют интернет трафик. Как показано пик частоты использования приходяться от 10 до 25 Гб.</font>\n",
    "    </b>\n",
    "</div>"
   ]
  },
  {
   "cell_type": "code",
   "execution_count": 1303,
   "metadata": {},
   "outputs": [
    {
     "data": {
      "image/png": "[encoded data removed]",
      "text/plain": [
       "<Figure size 640x480 with 1 Axes>"
      ]
     },
     "metadata": {},
     "output_type": "display_data"
    }
   ],
   "source": [
    "df_tarific.query('is_ultra == 1')['message'].hist(density=True)\n",
    "df_tarific.query('is_ultra == 0')['message'].hist(alpha=0.6, density=True)\n",
    "\n",
    "plt.xlabel(\"Количество звонков\")\n",
    "plt.ylabel(\"Частота\")\n",
    "plt.legend(labels=[\"Ультра\", \"Смарт\"])\n",
    "plt.show()"
   ]
  },
  {
   "cell_type": "code",
   "execution_count": 1304,
   "metadata": {},
   "outputs": [
    {
     "name": "stdout",
     "output_type": "stream",
     "text": [
      "Chi-square test statistic: 465.18887183342\n",
      "P-value: 2.4735242682804427e-27\n"
     ]
    }
   ],
   "source": [
    "from scipy.stats import chi2_contingency\n",
    "\n",
    "contingency_table = pd.crosstab(df_tarific['is_ultra'], df_tarific['message'])\n",
    "\n",
    "chi2, p, _, _ = chi2_contingency(contingency_table)\n",
    "\n",
    "print(f\"Chi-square test statistic: {chi2}\")\n",
    "print(f\"P-value: {p}\")"
   ]
  },
  {
   "cell_type": "markdown",
   "metadata": {},
   "source": [
    "<div style=\"background-color: #c1b6fc; padding: 10px; border: 1px solid #a491fc;\">\n",
    "    <b>\n",
    "        <font color=\"purple\">Вывод: результаты показывают, что клиенты тратят на сообщение меньше всего. Частота использования при 0 самая высокая.</font>\n",
    "    </b>\n",
    "</div>\n"
   ]
  },
  {
   "cell_type": "markdown",
   "metadata": {},
   "source": [
    "<div class=\"alert alert-warning\">\n",
    "<b>здорово, что данные визуализировал - не хватает только выводов по графикам. хотя бы пару слов.</b>\n",
    "</div>"
   ]
  },
  {
   "cell_type": "code",
   "execution_count": 1305,
   "metadata": {},
   "outputs": [
    {
     "data": {
      "text/html": [
       "<div>\n",
       "<style scoped>\n",
       "    .dataframe tbody tr th:only-of-type {\n",
       "        vertical-align: middle;\n",
       "    }\n",
       "\n",
       "    .dataframe tbody tr th {\n",
       "        vertical-align: top;\n",
       "    }\n",
       "\n",
       "    .dataframe thead th {\n",
       "        text-align: right;\n",
       "    }\n",
       "</style>\n",
       "<table border=\"1\" class=\"dataframe\">\n",
       "  <thead>\n",
       "    <tr style=\"text-align: right;\">\n",
       "      <th></th>\n",
       "      <th>calls</th>\n",
       "      <th>minutes</th>\n",
       "      <th>message</th>\n",
       "      <th>md_used</th>\n",
       "      <th>is_ultra</th>\n",
       "    </tr>\n",
       "  </thead>\n",
       "  <tbody>\n",
       "    <tr>\n",
       "      <th>count</th>\n",
       "      <td>985.000000</td>\n",
       "      <td>985.000000</td>\n",
       "      <td>985.000000</td>\n",
       "      <td>985.000000</td>\n",
       "      <td>985.0</td>\n",
       "    </tr>\n",
       "    <tr>\n",
       "      <th>mean</th>\n",
       "      <td>73.392893</td>\n",
       "      <td>511.224569</td>\n",
       "      <td>49.363452</td>\n",
       "      <td>19468.823228</td>\n",
       "      <td>1.0</td>\n",
       "    </tr>\n",
       "    <tr>\n",
       "      <th>std</th>\n",
       "      <td>43.916853</td>\n",
       "      <td>308.031100</td>\n",
       "      <td>47.804457</td>\n",
       "      <td>10087.178654</td>\n",
       "      <td>0.0</td>\n",
       "    </tr>\n",
       "    <tr>\n",
       "      <th>min</th>\n",
       "      <td>0.000000</td>\n",
       "      <td>0.000000</td>\n",
       "      <td>0.000000</td>\n",
       "      <td>0.000000</td>\n",
       "      <td>1.0</td>\n",
       "    </tr>\n",
       "    <tr>\n",
       "      <th>25%</th>\n",
       "      <td>41.000000</td>\n",
       "      <td>276.030000</td>\n",
       "      <td>6.000000</td>\n",
       "      <td>11770.280000</td>\n",
       "      <td>1.0</td>\n",
       "    </tr>\n",
       "    <tr>\n",
       "      <th>50%</th>\n",
       "      <td>74.000000</td>\n",
       "      <td>502.550000</td>\n",
       "      <td>38.000000</td>\n",
       "      <td>19308.010000</td>\n",
       "      <td>1.0</td>\n",
       "    </tr>\n",
       "    <tr>\n",
       "      <th>75%</th>\n",
       "      <td>104.000000</td>\n",
       "      <td>730.050000</td>\n",
       "      <td>79.000000</td>\n",
       "      <td>26837.720000</td>\n",
       "      <td>1.0</td>\n",
       "    </tr>\n",
       "    <tr>\n",
       "      <th>max</th>\n",
       "      <td>244.000000</td>\n",
       "      <td>1632.060000</td>\n",
       "      <td>224.000000</td>\n",
       "      <td>49745.730000</td>\n",
       "      <td>1.0</td>\n",
       "    </tr>\n",
       "  </tbody>\n",
       "</table>\n",
       "</div>"
      ],
      "text/plain": [
       "            calls      minutes     message       md_used  is_ultra\n",
       "count  985.000000   985.000000  985.000000    985.000000     985.0\n",
       "mean    73.392893   511.224569   49.363452  19468.823228       1.0\n",
       "std     43.916853   308.031100   47.804457  10087.178654       0.0\n",
       "min      0.000000     0.000000    0.000000      0.000000       1.0\n",
       "25%     41.000000   276.030000    6.000000  11770.280000       1.0\n",
       "50%     74.000000   502.550000   38.000000  19308.010000       1.0\n",
       "75%    104.000000   730.050000   79.000000  26837.720000       1.0\n",
       "max    244.000000  1632.060000  224.000000  49745.730000       1.0"
      ]
     },
     "execution_count": 1305,
     "metadata": {},
     "output_type": "execute_result"
    }
   ],
   "source": [
    "df_tarific.query('is_ultra == 1').describe()"
   ]
  },
  {
   "cell_type": "code",
   "execution_count": 1306,
   "metadata": {},
   "outputs": [
    {
     "data": {
      "text/html": [
       "<div>\n",
       "<style scoped>\n",
       "    .dataframe tbody tr th:only-of-type {\n",
       "        vertical-align: middle;\n",
       "    }\n",
       "\n",
       "    .dataframe tbody tr th {\n",
       "        vertical-align: top;\n",
       "    }\n",
       "\n",
       "    .dataframe thead th {\n",
       "        text-align: right;\n",
       "    }\n",
       "</style>\n",
       "<table border=\"1\" class=\"dataframe\">\n",
       "  <thead>\n",
       "    <tr style=\"text-align: right;\">\n",
       "      <th></th>\n",
       "      <th>calls</th>\n",
       "      <th>minutes</th>\n",
       "      <th>message</th>\n",
       "      <th>md_used</th>\n",
       "      <th>is_ultra</th>\n",
       "    </tr>\n",
       "  </thead>\n",
       "  <tbody>\n",
       "    <tr>\n",
       "      <th>count</th>\n",
       "      <td>2228.000000</td>\n",
       "      <td>2228.000000</td>\n",
       "      <td>2228.000000</td>\n",
       "      <td>2228.000000</td>\n",
       "      <td>2228.0</td>\n",
       "    </tr>\n",
       "    <tr>\n",
       "      <th>mean</th>\n",
       "      <td>58.471724</td>\n",
       "      <td>405.985162</td>\n",
       "      <td>33.361759</td>\n",
       "      <td>16206.803146</td>\n",
       "      <td>0.0</td>\n",
       "    </tr>\n",
       "    <tr>\n",
       "      <th>std</th>\n",
       "      <td>25.942730</td>\n",
       "      <td>184.543262</td>\n",
       "      <td>28.214621</td>\n",
       "      <td>5871.291048</td>\n",
       "      <td>0.0</td>\n",
       "    </tr>\n",
       "    <tr>\n",
       "      <th>min</th>\n",
       "      <td>0.000000</td>\n",
       "      <td>0.000000</td>\n",
       "      <td>0.000000</td>\n",
       "      <td>0.000000</td>\n",
       "      <td>0.0</td>\n",
       "    </tr>\n",
       "    <tr>\n",
       "      <th>25%</th>\n",
       "      <td>40.000000</td>\n",
       "      <td>274.130000</td>\n",
       "      <td>10.000000</td>\n",
       "      <td>12638.732500</td>\n",
       "      <td>0.0</td>\n",
       "    </tr>\n",
       "    <tr>\n",
       "      <th>50%</th>\n",
       "      <td>60.000000</td>\n",
       "      <td>410.605000</td>\n",
       "      <td>28.000000</td>\n",
       "      <td>16505.565000</td>\n",
       "      <td>0.0</td>\n",
       "    </tr>\n",
       "    <tr>\n",
       "      <th>75%</th>\n",
       "      <td>76.000000</td>\n",
       "      <td>529.515000</td>\n",
       "      <td>51.000000</td>\n",
       "      <td>20043.907500</td>\n",
       "      <td>0.0</td>\n",
       "    </tr>\n",
       "    <tr>\n",
       "      <th>max</th>\n",
       "      <td>198.000000</td>\n",
       "      <td>1390.220000</td>\n",
       "      <td>143.000000</td>\n",
       "      <td>38552.620000</td>\n",
       "      <td>0.0</td>\n",
       "    </tr>\n",
       "  </tbody>\n",
       "</table>\n",
       "</div>"
      ],
      "text/plain": [
       "             calls      minutes      message       md_used  is_ultra\n",
       "count  2228.000000  2228.000000  2228.000000   2228.000000    2228.0\n",
       "mean     58.471724   405.985162    33.361759  16206.803146       0.0\n",
       "std      25.942730   184.543262    28.214621   5871.291048       0.0\n",
       "min       0.000000     0.000000     0.000000      0.000000       0.0\n",
       "25%      40.000000   274.130000    10.000000  12638.732500       0.0\n",
       "50%      60.000000   410.605000    28.000000  16505.565000       0.0\n",
       "75%      76.000000   529.515000    51.000000  20043.907500       0.0\n",
       "max     198.000000  1390.220000   143.000000  38552.620000       0.0"
      ]
     },
     "execution_count": 1306,
     "metadata": {},
     "output_type": "execute_result"
    }
   ],
   "source": [
    "df_tarific.query('is_ultra == 0').describe()"
   ]
  },
  {
   "cell_type": "code",
   "execution_count": 1307,
   "metadata": {},
   "outputs": [
    {
     "data": {
      "text/plain": [
       "<Axes: >"
      ]
     },
     "execution_count": 1307,
     "metadata": {},
     "output_type": "execute_result"
    },
    {
     "data": {
      "image/png": "[encoded data removed]",
      "text/plain": [
       "<Figure size 640x480 with 2 Axes>"
      ]
     },
     "metadata": {},
     "output_type": "display_data"
    }
   ],
   "source": [
    "sns.heatmap(df_tarific.query('is_ultra == 1').drop('is_ultra', axis=1).corr(), annot=True)"
   ]
  },
  {
   "cell_type": "code",
   "execution_count": 1308,
   "metadata": {},
   "outputs": [
    {
     "data": {
      "text/plain": [
       "<Axes: >"
      ]
     },
     "execution_count": 1308,
     "metadata": {},
     "output_type": "execute_result"
    },
    {
     "data": {
      "image/png": "[encoded data removed]",
      "text/plain": [
       "<Figure size 640x480 with 2 Axes>"
      ]
     },
     "metadata": {},
     "output_type": "display_data"
    }
   ],
   "source": [
    "sns.heatmap(df_tarific.query('is_ultra == 0').drop('is_ultra', axis=1).corr(), annot=True)"
   ]
  },
  {
   "cell_type": "markdown",
   "metadata": {},
   "source": [
    "<div class=\"alert alert-warning\">\n",
    "<b>выводы?</b>\n",
    "</div>"
   ]
  },
  {
   "cell_type": "markdown",
   "metadata": {},
   "source": [
    "\n",
    "<div style=\"background-color: #c1b6fc; padding: 10px; border: 1px solid #a491fc;\">\n",
    "    <b>\n",
    "        <font color=\"purple\">Вывод: Смотря на матрицу корреляции можно сказать, что наибольшая корреляция у параметров тарифов является между колличеством звонков и минутами и составляет около 0.97. </font>\n",
    "    </b>\n",
    "</div>\n"
   ]
  },
  {
   "cell_type": "markdown",
   "metadata": {},
   "source": [
    "<div class=\"alert alert-info\">\n",
    "<b> смотри, звонки и минуты сильно скореллированы. можно попробовать стратегии: </b>\n",
    "\n",
    "1. удалить или один, или другой. чтобы понять какой удалить можно либо в тупую попробовать, либо воспользоваться расчетом VIF, либо каким нибудь PCA.\n",
    "\n",
    "2. объединить признаки - это называется feature engineering. то есть по сути придумать формулу, объединяющую эти два признака в один\n",
    "\n",
    "\n",
    "полезные статьи по теме:\n",
    "\n",
    "https://stats.stackexchange.com/questions/361020/why-is-multicollinearity-so-bad-for-machine-learning-models-and-what-can-we-do-a\n",
    "https://habr.com/ru/companies/akbarsdigital/articles/592493/\n",
    "https://medium.com/analytics-vidhya/removing-multi-collinearity-for-linear-and-logistic-regression-f1fa744f3666\n",
    "https://towardsdatascience.com/how-to-remove-multicollinearity-in-dataset-using-pca-4b4561c28d0b\n",
    "https://machinelearningmastery.com/information-gain-and-mutual-information/\n",
    "\n",
    "\n",
    "</div>"
   ]
  },
  {
   "cell_type": "markdown",
   "metadata": {},
   "source": [
    "# Разобьем данные на выборки"
   ]
  },
  {
   "cell_type": "code",
   "execution_count": 1309,
   "metadata": {},
   "outputs": [],
   "source": [
    "X = df_tarific.drop(columns=['is_ultra']) \n",
    "Y = df_tarific['is_ultra']"
   ]
  },
  {
   "cell_type": "markdown",
   "metadata": {},
   "source": [
    "Проверка и обработка дисбаланса классов"
   ]
  },
  {
   "cell_type": "code",
   "execution_count": 1310,
   "metadata": {},
   "outputs": [],
   "source": [
    "# counter = Counter(Y)\n",
    "# print(counter)\n",
    "\n",
    "\n",
    "# if counter[0] > counter[1]:\n",
    " \n",
    "#     smote = SMOTE(random_state=42)\n",
    "#     X, Y = smote.fit_resample(X, Y)"
   ]
  },
  {
   "cell_type": "markdown",
   "metadata": {},
   "source": [
    "Проверка мультиколлинеарности"
   ]
  },
  {
   "cell_type": "markdown",
   "metadata": {},
   "source": [
    "удаление высококоррелированных признаков с корреляцией более 0.9"
   ]
  },
  {
   "cell_type": "code",
   "execution_count": 1311,
   "metadata": {},
   "outputs": [],
   "source": [
    "corr_matrix = X.corr()\n",
    "high_corr_features = set()\n",
    "for i in range(len(corr_matrix.columns)):\n",
    "    for j in range(i):\n",
    "        if abs(corr_matrix.iloc[i, j]) > 0.9:\n",
    "            colname = corr_matrix.columns[i]\n",
    "            high_corr_features.add(colname)\n",
    "\n",
    "df_tarific_filtered = X.drop(columns=high_corr_features)"
   ]
  },
  {
   "cell_type": "code",
   "execution_count": 1312,
   "metadata": {},
   "outputs": [
    {
     "data": {
      "text/html": [
       "<div>\n",
       "<style scoped>\n",
       "    .dataframe tbody tr th:only-of-type {\n",
       "        vertical-align: middle;\n",
       "    }\n",
       "\n",
       "    .dataframe tbody tr th {\n",
       "        vertical-align: top;\n",
       "    }\n",
       "\n",
       "    .dataframe thead th {\n",
       "        text-align: right;\n",
       "    }\n",
       "</style>\n",
       "<table border=\"1\" class=\"dataframe\">\n",
       "  <thead>\n",
       "    <tr style=\"text-align: right;\">\n",
       "      <th></th>\n",
       "      <th>calls</th>\n",
       "      <th>message</th>\n",
       "      <th>md_used</th>\n",
       "    </tr>\n",
       "  </thead>\n",
       "  <tbody>\n",
       "    <tr>\n",
       "      <th>0</th>\n",
       "      <td>85.0</td>\n",
       "      <td>56.0</td>\n",
       "      <td>22696.96</td>\n",
       "    </tr>\n",
       "    <tr>\n",
       "      <th>1</th>\n",
       "      <td>77.0</td>\n",
       "      <td>86.0</td>\n",
       "      <td>21060.45</td>\n",
       "    </tr>\n",
       "    <tr>\n",
       "      <th>2</th>\n",
       "      <td>106.0</td>\n",
       "      <td>81.0</td>\n",
       "      <td>8437.39</td>\n",
       "    </tr>\n",
       "    <tr>\n",
       "      <th>3</th>\n",
       "      <td>66.0</td>\n",
       "      <td>1.0</td>\n",
       "      <td>14502.75</td>\n",
       "    </tr>\n",
       "    <tr>\n",
       "      <th>4</th>\n",
       "      <td>58.0</td>\n",
       "      <td>21.0</td>\n",
       "      <td>15823.37</td>\n",
       "    </tr>\n",
       "    <tr>\n",
       "      <th>...</th>\n",
       "      <td>...</td>\n",
       "      <td>...</td>\n",
       "      <td>...</td>\n",
       "    </tr>\n",
       "    <tr>\n",
       "      <th>3208</th>\n",
       "      <td>122.0</td>\n",
       "      <td>20.0</td>\n",
       "      <td>35124.90</td>\n",
       "    </tr>\n",
       "    <tr>\n",
       "      <th>3209</th>\n",
       "      <td>25.0</td>\n",
       "      <td>0.0</td>\n",
       "      <td>3275.61</td>\n",
       "    </tr>\n",
       "    <tr>\n",
       "      <th>3210</th>\n",
       "      <td>97.0</td>\n",
       "      <td>70.0</td>\n",
       "      <td>13974.06</td>\n",
       "    </tr>\n",
       "    <tr>\n",
       "      <th>3211</th>\n",
       "      <td>64.0</td>\n",
       "      <td>90.0</td>\n",
       "      <td>31239.78</td>\n",
       "    </tr>\n",
       "    <tr>\n",
       "      <th>3212</th>\n",
       "      <td>80.0</td>\n",
       "      <td>6.0</td>\n",
       "      <td>29480.52</td>\n",
       "    </tr>\n",
       "  </tbody>\n",
       "</table>\n",
       "<p>3213 rows × 3 columns</p>\n",
       "</div>"
      ],
      "text/plain": [
       "      calls  message   md_used\n",
       "0      85.0     56.0  22696.96\n",
       "1      77.0     86.0  21060.45\n",
       "2     106.0     81.0   8437.39\n",
       "3      66.0      1.0  14502.75\n",
       "4      58.0     21.0  15823.37\n",
       "...     ...      ...       ...\n",
       "3208  122.0     20.0  35124.90\n",
       "3209   25.0      0.0   3275.61\n",
       "3210   97.0     70.0  13974.06\n",
       "3211   64.0     90.0  31239.78\n",
       "3212   80.0      6.0  29480.52\n",
       "\n",
       "[3213 rows x 3 columns]"
      ]
     },
     "execution_count": 1312,
     "metadata": {},
     "output_type": "execute_result"
    }
   ],
   "source": [
    "df_tarific_filtered "
   ]
  },
  {
   "cell_type": "markdown",
   "metadata": {},
   "source": [
    "Масштабирование признаков  "
   ]
  },
  {
   "cell_type": "code",
   "execution_count": 1313,
   "metadata": {},
   "outputs": [],
   "source": [
    "scaler = StandardScaler()\n",
    "X_scaled = scaler.fit_transform(df_tarific_filtered)"
   ]
  },
  {
   "cell_type": "code",
   "execution_count": 1314,
   "metadata": {},
   "outputs": [
    {
     "data": {
      "text/plain": [
       "array([[ 0.66058902,  0.49066933,  0.72516989],\n",
       "       [ 0.41987082,  1.32078107,  0.50900962],\n",
       "       [ 1.29247428,  1.18242911, -1.15832155],\n",
       "       ...,\n",
       "       [ 1.02166631,  0.87805481, -0.42700423],\n",
       "       [ 0.02870375,  1.43146263,  1.85355794],\n",
       "       [ 0.51014015, -0.89285024,  1.6211841 ]])"
      ]
     },
     "execution_count": 1314,
     "metadata": {},
     "output_type": "execute_result"
    }
   ],
   "source": [
    "X_scaled"
   ]
  },
  {
   "cell_type": "markdown",
   "metadata": {},
   "source": [
    "Разделение на обучающий, валидационный и тестовый наборы"
   ]
  },
  {
   "cell_type": "code",
   "execution_count": 1315,
   "metadata": {},
   "outputs": [],
   "source": [
    "X_train, X_temp, y_train, y_temp = train_test_split(X_scaled, Y, test_size=0.33, random_state=RANDOM_SEED)\n",
    "\n",
    "X_valid, X_test, y_valid, y_test = train_test_split(X_temp, y_temp, test_size=0.5, random_state=RANDOM_SEED)"
   ]
  },
  {
   "cell_type": "code",
   "execution_count": 1316,
   "metadata": {},
   "outputs": [
    {
     "data": {
      "text/html": [
       "<div>\n",
       "<style scoped>\n",
       "    .dataframe tbody tr th:only-of-type {\n",
       "        vertical-align: middle;\n",
       "    }\n",
       "\n",
       "    .dataframe tbody tr th {\n",
       "        vertical-align: top;\n",
       "    }\n",
       "\n",
       "    .dataframe thead th {\n",
       "        text-align: right;\n",
       "    }\n",
       "</style>\n",
       "<table border=\"1\" class=\"dataframe\">\n",
       "  <thead>\n",
       "    <tr style=\"text-align: right;\">\n",
       "      <th></th>\n",
       "      <th>0</th>\n",
       "      <th>1</th>\n",
       "      <th>2</th>\n",
       "    </tr>\n",
       "  </thead>\n",
       "  <tbody>\n",
       "    <tr>\n",
       "      <th>0</th>\n",
       "      <td>0.419871</td>\n",
       "      <td>-1.058873</td>\n",
       "      <td>0.248838</td>\n",
       "    </tr>\n",
       "    <tr>\n",
       "      <th>1</th>\n",
       "      <td>-1.084618</td>\n",
       "      <td>-0.118079</td>\n",
       "      <td>-0.737001</td>\n",
       "    </tr>\n",
       "    <tr>\n",
       "      <th>2</th>\n",
       "      <td>-0.001386</td>\n",
       "      <td>-0.477794</td>\n",
       "      <td>0.270491</td>\n",
       "    </tr>\n",
       "    <tr>\n",
       "      <th>3</th>\n",
       "      <td>1.713731</td>\n",
       "      <td>-0.892850</td>\n",
       "      <td>2.415998</td>\n",
       "    </tr>\n",
       "    <tr>\n",
       "      <th>4</th>\n",
       "      <td>1.021666</td>\n",
       "      <td>1.182429</td>\n",
       "      <td>-0.291953</td>\n",
       "    </tr>\n",
       "    <tr>\n",
       "      <th>...</th>\n",
       "      <td>...</td>\n",
       "      <td>...</td>\n",
       "      <td>...</td>\n",
       "    </tr>\n",
       "    <tr>\n",
       "      <th>2147</th>\n",
       "      <td>-1.445695</td>\n",
       "      <td>-0.892850</td>\n",
       "      <td>-1.898446</td>\n",
       "    </tr>\n",
       "    <tr>\n",
       "      <th>2148</th>\n",
       "      <td>-1.445695</td>\n",
       "      <td>-0.533135</td>\n",
       "      <td>-1.705606</td>\n",
       "    </tr>\n",
       "    <tr>\n",
       "      <th>2149</th>\n",
       "      <td>1.262385</td>\n",
       "      <td>-0.782169</td>\n",
       "      <td>2.116918</td>\n",
       "    </tr>\n",
       "    <tr>\n",
       "      <th>2150</th>\n",
       "      <td>-0.603182</td>\n",
       "      <td>-0.477794</td>\n",
       "      <td>0.596486</td>\n",
       "    </tr>\n",
       "    <tr>\n",
       "      <th>2151</th>\n",
       "      <td>0.600409</td>\n",
       "      <td>-0.201090</td>\n",
       "      <td>-0.297989</td>\n",
       "    </tr>\n",
       "  </tbody>\n",
       "</table>\n",
       "<p>2152 rows × 3 columns</p>\n",
       "</div>"
      ],
      "text/plain": [
       "             0         1         2\n",
       "0     0.419871 -1.058873  0.248838\n",
       "1    -1.084618 -0.118079 -0.737001\n",
       "2    -0.001386 -0.477794  0.270491\n",
       "3     1.713731 -0.892850  2.415998\n",
       "4     1.021666  1.182429 -0.291953\n",
       "...        ...       ...       ...\n",
       "2147 -1.445695 -0.892850 -1.898446\n",
       "2148 -1.445695 -0.533135 -1.705606\n",
       "2149  1.262385 -0.782169  2.116918\n",
       "2150 -0.603182 -0.477794  0.596486\n",
       "2151  0.600409 -0.201090 -0.297989\n",
       "\n",
       "[2152 rows x 3 columns]"
      ]
     },
     "execution_count": 1316,
     "metadata": {},
     "output_type": "execute_result"
    }
   ],
   "source": [
    "pd.DataFrame(X_train)"
   ]
  },
  {
   "cell_type": "markdown",
   "metadata": {},
   "source": [
    "<div class=\"alert alert-warning\">\n",
    "<b>дисбаланс классов? мультиколлинеарность? масштабирование признаков? все это может поднять тебе качество моделей</b>\n",
    "</div>"
   ]
  },
  {
   "cell_type": "markdown",
   "metadata": {},
   "source": [
    "#  Исследуем модели"
   ]
  },
  {
   "cell_type": "markdown",
   "metadata": {},
   "source": [
    "# Random Forest"
   ]
  },
  {
   "cell_type": "code",
   "execution_count": 1317,
   "metadata": {},
   "outputs": [],
   "source": [
    "best_RF = None\n",
    "best_accuracy_RF = 0\n",
    "best_est_RF = 0\n",
    "best_depth_RF = 0"
   ]
  },
  {
   "cell_type": "markdown",
   "metadata": {},
   "source": [
    "<div class=\"alert alert-info\">\n",
    "в ML постоянно могут мешать надоедливые warnings, это можно отключить так:"
   ]
  },
  {
   "cell_type": "code",
   "execution_count": 1318,
   "metadata": {},
   "outputs": [],
   "source": [
    "import warnings\n",
    "warnings.filterwarnings('ignore')"
   ]
  },
  {
   "cell_type": "code",
   "execution_count": 1319,
   "metadata": {},
   "outputs": [],
   "source": [
    "for est in range(2, 51):\n",
    "    for depth in range(2, 25):\n",
    "        \n",
    "        RF = RandomForestClassifier(random_state = RANDOM_SEED, n_estimators = est, max_depth = depth)\n",
    "        RF.fit(X_train, y_train)\n",
    "        \n",
    "        prediction_valid_RF = RF.predict(X_valid)\n",
    "        accuracy_RF = accuracy_score(prediction_valid_RF, y_valid)\n",
    "\n",
    "        if best_accuracy_RF < accuracy_RF:\n",
    "            best_RF = RF\n",
    "            best_depth_RF = depth\n",
    "            best_est_RF = est\n",
    "            best_accuracy_RF = accuracy_RF"
   ]
  },
  {
   "cell_type": "markdown",
   "metadata": {},
   "source": [
    "Результаты работы:"
   ]
  },
  {
   "cell_type": "markdown",
   "metadata": {},
   "source": [
    "accuracy"
   ]
  },
  {
   "cell_type": "code",
   "execution_count": 1320,
   "metadata": {},
   "outputs": [
    {
     "name": "stdout",
     "output_type": "stream",
     "text": [
      "Random Forest accuracy_score valid: 0.8132075471698114\n"
     ]
    }
   ],
   "source": [
    "print(f\"Random Forest accuracy_score valid: {best_accuracy_RF}\")"
   ]
  },
  {
   "cell_type": "code",
   "execution_count": 1321,
   "metadata": {},
   "outputs": [],
   "source": [
    "prediction_test_RF = best_RF.predict(X_test)"
   ]
  },
  {
   "cell_type": "code",
   "execution_count": 1322,
   "metadata": {},
   "outputs": [
    {
     "name": "stdout",
     "output_type": "stream",
     "text": [
      "Random Forest accuracy_score test: 0.8116760828625236\n"
     ]
    }
   ],
   "source": [
    "accuracy_RF_test = accuracy_score(prediction_test_RF, y_test)\n",
    "print(f\"Random Forest accuracy_score test: {accuracy_RF_test}\")"
   ]
  },
  {
   "cell_type": "markdown",
   "metadata": {},
   "source": [
    "f1_score"
   ]
  },
  {
   "cell_type": "code",
   "execution_count": 1323,
   "metadata": {},
   "outputs": [
    {
     "name": "stdout",
     "output_type": "stream",
     "text": [
      "Random Forest f1_score test: 0.7987781199422123\n"
     ]
    }
   ],
   "source": [
    "f1_score_RF_valid = f1_score(prediction_valid_RF, y_valid, average='weighted')\n",
    "print(f\"Random Forest f1_score test: {f1_score_RF_valid}\")"
   ]
  },
  {
   "cell_type": "code",
   "execution_count": 1324,
   "metadata": {},
   "outputs": [
    {
     "name": "stdout",
     "output_type": "stream",
     "text": [
      "Random Forest f1_score test: 0.818568731500296\n"
     ]
    }
   ],
   "source": [
    "f1_score_RF_test = f1_score(prediction_test_RF, y_test, average='weighted')\n",
    "print(f\"Random Forest f1_score test: {f1_score_RF_test}\")"
   ]
  },
  {
   "cell_type": "markdown",
   "metadata": {},
   "source": [
    "\n",
    "<div style=\"background-color: #c1b6fc; padding: 10px; border: 1px solid #a491fc;\">\n",
    "    <b>\n",
    "        <font color=\"purple\">Вывод: Исходя из предоставленных метрик оценки вашей модели случайного леса, можно сделать следующие выводы:\n",
    "\n",
    "Показатели точности:\n",
    "\n",
    "Точность на валидационной выборке составляет приблизительно 81,32%.\n",
    "Точность на тестовой выборке составляет приблизительно 81,17%.\n",
    "Показатель точности в данном случае модель показывает схожую хорошую производительность как на валидационной, так и на тестовой выборке, что указывает на последовательность результатов.\n",
    "\n",
    "Показатели F1:\n",
    "\n",
    "F1-мера на тестовой выборке составляет приблизительно 79,88%.\n",
    "F1-мера на валидационной выборке составляет приблизительно 81,86%.\n",
    "F1-скор на валидационной выборке выше, чем на тестовой выборке, что может свидетельствовать о некотором переобучении модели на тренировочных данных.\n",
    "\n",
    "Точность и F1-скор находятся на приемлемом уровне, что указывает на хорошую общую производительность модели.\n",
    "\n",
    " </font>\n",
    "    </b>\n",
    "</div>\n"
   ]
  },
  {
   "cell_type": "markdown",
   "metadata": {},
   "source": [
    "# Decision Tree"
   ]
  },
  {
   "cell_type": "code",
   "execution_count": 1325,
   "metadata": {},
   "outputs": [],
   "source": [
    "best_DT = None\n",
    "best_accuracy_DT = 0\n",
    "best_depth_DT = 0"
   ]
  },
  {
   "cell_type": "code",
   "execution_count": 1326,
   "metadata": {},
   "outputs": [],
   "source": [
    "for depth in range(2,5):\n",
    "    DT = DecisionTreeClassifier(random_state = RANDOM_SEED, max_depth = depth)\n",
    "    DT = DT.fit(X_train, y_train)\n",
    "    prediction_valid_DT = DT.predict(X_valid)\n",
    "    accuracy_DT = accuracy_score(prediction_valid_DT, y_valid)\n",
    "    if best_accuracy_DT < accuracy_DT:\n",
    "        best_DT = DT\n",
    "        best_accuracy_DT = accuracy_DT\n",
    "        best_depth_DT = depth"
   ]
  },
  {
   "cell_type": "markdown",
   "metadata": {},
   "source": [
    "Вывод "
   ]
  },
  {
   "cell_type": "code",
   "execution_count": 1327,
   "metadata": {},
   "outputs": [],
   "source": [
    "from sklearn import tree"
   ]
  },
  {
   "cell_type": "code",
   "execution_count": 1328,
   "metadata": {},
   "outputs": [
    {
     "data": {
      "image/png": "[encoded data removed]",
      "text/plain": [
       "<Figure size 640x480 with 1 Axes>"
      ]
     },
     "metadata": {},
     "output_type": "display_data"
    }
   ],
   "source": [
    "tree.plot_tree(DT);"
   ]
  },
  {
   "cell_type": "markdown",
   "metadata": {},
   "source": [
    "<div class=\"alert alert-info\">\n",
    "чтобы спрятать вспомогательный вывод к графику достаточно поставить ; в конце, обрати внимание"
   ]
  },
  {
   "cell_type": "markdown",
   "metadata": {},
   "source": [
    "<div class=\"alert alert-warning\">\n",
    "<b>выводы?</b>\n",
    "</div>"
   ]
  },
  {
   "cell_type": "markdown",
   "metadata": {},
   "source": [
    "accuracy"
   ]
  },
  {
   "cell_type": "code",
   "execution_count": 1342,
   "metadata": {},
   "outputs": [
    {
     "name": "stdout",
     "output_type": "stream",
     "text": [
      "Decision Tree valid accuracy_score: 0.7867924528301887\n"
     ]
    }
   ],
   "source": [
    "print(f\"Decision Tree valid accuracy_score: {best_accuracy_DT}\")"
   ]
  },
  {
   "cell_type": "code",
   "execution_count": 1330,
   "metadata": {},
   "outputs": [],
   "source": [
    "prediction_test_DT = best_DT.predict(X_test)"
   ]
  },
  {
   "cell_type": "code",
   "execution_count": 1341,
   "metadata": {},
   "outputs": [
    {
     "name": "stdout",
     "output_type": "stream",
     "text": [
      "Decision Tree test accuracy_score: 0.7815442561205274\n"
     ]
    }
   ],
   "source": [
    "accuracy_DT_test = accuracy_score(prediction_test_DT, y_test)\n",
    "print(f\"Decision Tree test accuracy_score: {accuracy_DT_test}\")"
   ]
  },
  {
   "cell_type": "markdown",
   "metadata": {},
   "source": [
    "f1_score"
   ]
  },
  {
   "cell_type": "code",
   "execution_count": 1344,
   "metadata": {},
   "outputs": [
    {
     "name": "stdout",
     "output_type": "stream",
     "text": [
      "Decision Tree valid f1_score: 0.8111394401730758\n"
     ]
    }
   ],
   "source": [
    "f1_score_DT_valid = f1_score(prediction_valid_DT, y_valid, average='weighted')\n",
    "\n",
    "print(f\"Decision Tree valid f1_score: {f1_score_DT_valid}\")"
   ]
  },
  {
   "cell_type": "code",
   "execution_count": 1343,
   "metadata": {},
   "outputs": [
    {
     "name": "stdout",
     "output_type": "stream",
     "text": [
      "Decision Tree test f1_score: 0.8039214420231369\n"
     ]
    }
   ],
   "source": [
    "f1_score_DT_test = f1_score(prediction_test_DT, y_test, average='weighted')\n",
    "print(f\"Decision Tree test f1_score: {f1_score_DT_test}\")"
   ]
  },
  {
   "cell_type": "markdown",
   "metadata": {},
   "source": [
    "\n",
    "<div style=\"background-color: #c1b6fc; padding: 10px; border: 1px solid #a491fc;\">\n",
    "    <b>\n",
    "        <font color=\"purple\">Вывод: \n",
    "Точность на тестовой и валидационной выборках:\n",
    "\n",
    "Точность на тестовой выборке составляет приблизительно 78,15%.\n",
    "Точность на валидационной выборке составляет приблизительно 78,68%.\n",
    "Модель дерева решений показывает сопоставимую производительность на тестовой и валидационной выборках.\n",
    "\n",
    "F1-скор на тестовой и валидационной выборках:\n",
    "\n",
    "F1-скор на тестовой выборке составляет приблизительно 80,39%.\n",
    "F1-скор на валидационной выборке составляет приблизительно 81,11%.\n",
    "Значения F1-скора говорят о том, что модель показывает неплохие результаты, особенно на валидационной выборке.\n",
    "\n",
    "Точность и F1-скор находятся на уровне, который может считаться приемлемым.\n",
    " </font>\n",
    "    </b>\n",
    "</div>\n"
   ]
  },
  {
   "cell_type": "markdown",
   "metadata": {},
   "source": [
    "# LogisticRegression"
   ]
  },
  {
   "cell_type": "code",
   "execution_count": 1334,
   "metadata": {},
   "outputs": [],
   "source": [
    "LR = LogisticRegression(random_state = RANDOM_SEED, max_iter= 1000, tol=1e-5, solver = 'lbfgs')\n",
    "LR.fit(X_train, y_train)\n",
    "prediction_valid_LR = LR.predict(X_valid)\n",
    "accuracy_LR = accuracy_score(prediction_valid_LR, y_valid)"
   ]
  },
  {
   "cell_type": "markdown",
   "metadata": {},
   "source": [
    "Вывод"
   ]
  },
  {
   "cell_type": "markdown",
   "metadata": {},
   "source": [
    "accuracy"
   ]
  },
  {
   "cell_type": "code",
   "execution_count": 1345,
   "metadata": {},
   "outputs": [
    {
     "name": "stdout",
     "output_type": "stream",
     "text": [
      "Logistic Regression valid accuracy_score: 0.7433962264150943\n"
     ]
    }
   ],
   "source": [
    "print(f\"Logistic Regression valid accuracy_score: {accuracy_LR}\")"
   ]
  },
  {
   "cell_type": "code",
   "execution_count": 1336,
   "metadata": {},
   "outputs": [],
   "source": [
    "prediction_test_LR = LR.predict(X_test)"
   ]
  },
  {
   "cell_type": "code",
   "execution_count": 1337,
   "metadata": {},
   "outputs": [],
   "source": [
    "accuracy_LR_test = accuracy_score(prediction_test_LR, y_test)"
   ]
  },
  {
   "cell_type": "code",
   "execution_count": 1346,
   "metadata": {},
   "outputs": [
    {
     "name": "stdout",
     "output_type": "stream",
     "text": [
      "Logistic Regression test accuracy_score: 0.7476459510357816\n"
     ]
    }
   ],
   "source": [
    "print(f\"Logistic Regression test accuracy_score: {accuracy_LR_test}\")"
   ]
  },
  {
   "cell_type": "markdown",
   "metadata": {},
   "source": [
    "f1_score"
   ]
  },
  {
   "cell_type": "code",
   "execution_count": 1350,
   "metadata": {},
   "outputs": [
    {
     "name": "stdout",
     "output_type": "stream",
     "text": [
      "Logistic Regression test f1_score: 0.7987571180920704\n"
     ]
    }
   ],
   "source": [
    "f1_score_LR_valid = f1_score(prediction_valid_LR, y_valid, average='weighted')\n",
    "print(f\"Logistic Regression test f1_score: {f1_score_LR_valid}\")"
   ]
  },
  {
   "cell_type": "code",
   "execution_count": 1351,
   "metadata": {},
   "outputs": [
    {
     "name": "stdout",
     "output_type": "stream",
     "text": [
      "Logistic Regression test f1_score: 0.7917084610751828\n"
     ]
    }
   ],
   "source": [
    "f1_score_LR_test = f1_score(prediction_test_LR, y_test, average='weighted')\n",
    "\n",
    "print(f\"Logistic Regression test f1_score: {f1_score_LR_test}\")"
   ]
  },
  {
   "cell_type": "markdown",
   "metadata": {},
   "source": [
    "\n",
    "<div style=\"background-color: #c1b6fc; padding: 10px; border: 1px solid #a491fc;\">\n",
    "    <b>\n",
    "        <font color=\"purple\">Вывод: \n",
    "Точность на тестовой и валидационной выборках:\n",
    "\n",
    "Точность на тестовой выборке составляет приблизительно 74,76%.\n",
    "Точность на валидационной выборке составляет приблизительно 74,34%.\n",
    "Модель логистической регрессии показывает сопоставимую производительность на тестовой и валидационной выборках.\n",
    "\n",
    "F1-скор на тестовой и валидационной выборках:\n",
    "\n",
    "F1-скор на тестовой выборке составляет приблизительно 79,18%.\n",
    "F1-скор на валидационной выборке составляет приблизительно 79,88%.\n",
    "Значения F1-скора говорят о том, что модель демонстрирует неплохие результаты на обеих выборках.\n",
    "\n",
    "Общие наблюдения:\n",
    "\n",
    "Точность и F1-скор находятся на уровне, который может считаться приемлемым.\n",
    "Модель логистической регрессии показывает себя стабильно как на тестовой, так и на валидационной выборках.\n",
    " </font>\n",
    "    </b>\n",
    "</div>\n"
   ]
  },
  {
   "cell_type": "markdown",
   "metadata": {},
   "source": [
    "<div class=\"alert alert-warning\">\n",
    "<b>в целом все хорошо, кроме отсутствующих выводов и вообще текста. если хочешь повысить качество - оставил подсказку</b>\n",
    "</div>"
   ]
  }
 ],
 "metadata": {
  "kernelspec": {
   "display_name": "Python 3 (ipykernel)",
   "language": "python",
   "name": "python3"
  },
  "language_info": {
   "codemirror_mode": {
    "name": "ipython",
    "version": 3
   },
   "file_extension": ".py",
   "mimetype": "text/x-python",
   "name": "python",
   "nbconvert_exporter": "python",
   "pygments_lexer": "ipython3",
   "version": "3.11.4"
  },
  "toc": {
   "base_numbering": 1,
   "nav_menu": {},
   "number_sections": true,
   "sideBar": true,
   "skip_h1_title": false,
   "title_cell": "Содержание",
   "title_sidebar": "Contents",
   "toc_cell": true,
   "toc_position": {},
   "toc_section_display": true,
   "toc_window_display": true
  }
 },
 "nbformat": 4,
 "nbformat_minor": 4
}
