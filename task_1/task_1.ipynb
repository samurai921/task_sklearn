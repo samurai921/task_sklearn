{
 "cells": [
  {
   "cell_type": "markdown",
   "metadata": {},
   "source": [
    "# Импортируем необходимые библиотеки"
   ]
  },
  {
   "cell_type": "code",
   "execution_count": 2522,
   "metadata": {},
   "outputs": [],
   "source": [
    "import pandas as pd\n",
    "from sklearn.model_selection import train_test_split\n",
    "from sklearn.linear_model import LogisticRegression\n",
    "from sklearn.ensemble import RandomForestClassifier\n",
    "from sklearn.tree import DecisionTreeClassifier\n",
    "from sklearn.metrics import accuracy_score\n",
    "from sklearn.metrics import f1_score\n",
    "from collections import Counter\n",
    "from imblearn.over_sampling import SMOTE \n",
    "from statsmodels.stats.outliers_influence import variance_inflation_factor\n",
    "import seaborn as sns\n",
    "import matplotlib.pyplot as plt\n",
    "from sklearn.model_selection import train_test_split\n",
    "from sklearn.preprocessing import StandardScaler\n",
    "from sklearn.utils.class_weight import compute_class_weight\n",
    "import numpy as np\n",
    "RANDOM_SEED = 42"
   ]
  },
  {
   "cell_type": "markdown",
   "metadata": {},
   "source": [
    "# Откройте файл с данными"
   ]
  },
  {
   "cell_type": "code",
   "execution_count": 2523,
   "metadata": {},
   "outputs": [],
   "source": [
    "columns = [\"calls\",  \"minutes\",  \"message\",\"md_used\", \"is_ultra\"]\n",
    "df_tarific = pd.read_csv(\"users_behavior.csv\",\n",
    "                 names=columns,\n",
    "                 header=1) "
   ]
  },
  {
   "cell_type": "code",
   "execution_count": 2524,
   "metadata": {},
   "outputs": [
    {
     "data": {
      "text/html": [
       "<div>\n",
       "<style scoped>\n",
       "    .dataframe tbody tr th:only-of-type {\n",
       "        vertical-align: middle;\n",
       "    }\n",
       "\n",
       "    .dataframe tbody tr th {\n",
       "        vertical-align: top;\n",
       "    }\n",
       "\n",
       "    .dataframe thead th {\n",
       "        text-align: right;\n",
       "    }\n",
       "</style>\n",
       "<table border=\"1\" class=\"dataframe\">\n",
       "  <thead>\n",
       "    <tr style=\"text-align: right;\">\n",
       "      <th></th>\n",
       "      <th>calls</th>\n",
       "      <th>minutes</th>\n",
       "      <th>message</th>\n",
       "      <th>md_used</th>\n",
       "      <th>is_ultra</th>\n",
       "    </tr>\n",
       "  </thead>\n",
       "  <tbody>\n",
       "    <tr>\n",
       "      <th>0</th>\n",
       "      <td>85.0</td>\n",
       "      <td>516.75</td>\n",
       "      <td>56.0</td>\n",
       "      <td>22696.96</td>\n",
       "      <td>0</td>\n",
       "    </tr>\n",
       "    <tr>\n",
       "      <th>1</th>\n",
       "      <td>77.0</td>\n",
       "      <td>467.66</td>\n",
       "      <td>86.0</td>\n",
       "      <td>21060.45</td>\n",
       "      <td>0</td>\n",
       "    </tr>\n",
       "    <tr>\n",
       "      <th>2</th>\n",
       "      <td>106.0</td>\n",
       "      <td>745.53</td>\n",
       "      <td>81.0</td>\n",
       "      <td>8437.39</td>\n",
       "      <td>1</td>\n",
       "    </tr>\n",
       "    <tr>\n",
       "      <th>3</th>\n",
       "      <td>66.0</td>\n",
       "      <td>418.74</td>\n",
       "      <td>1.0</td>\n",
       "      <td>14502.75</td>\n",
       "      <td>0</td>\n",
       "    </tr>\n",
       "    <tr>\n",
       "      <th>4</th>\n",
       "      <td>58.0</td>\n",
       "      <td>344.56</td>\n",
       "      <td>21.0</td>\n",
       "      <td>15823.37</td>\n",
       "      <td>0</td>\n",
       "    </tr>\n",
       "  </tbody>\n",
       "</table>\n",
       "</div>"
      ],
      "text/plain": [
       "   calls  minutes  message   md_used  is_ultra\n",
       "0   85.0   516.75     56.0  22696.96         0\n",
       "1   77.0   467.66     86.0  21060.45         0\n",
       "2  106.0   745.53     81.0   8437.39         1\n",
       "3   66.0   418.74      1.0  14502.75         0\n",
       "4   58.0   344.56     21.0  15823.37         0"
      ]
     },
     "execution_count": 2524,
     "metadata": {},
     "output_type": "execute_result"
    }
   ],
   "source": [
    "df_tarific.head()"
   ]
  },
  {
   "cell_type": "code",
   "execution_count": 2525,
   "metadata": {},
   "outputs": [
    {
     "name": "stdout",
     "output_type": "stream",
     "text": [
      "<class 'pandas.core.frame.DataFrame'>\n",
      "RangeIndex: 3213 entries, 0 to 3212\n",
      "Data columns (total 5 columns):\n",
      " #   Column    Non-Null Count  Dtype  \n",
      "---  ------    --------------  -----  \n",
      " 0   calls     3213 non-null   float64\n",
      " 1   minutes   3213 non-null   float64\n",
      " 2   message   3213 non-null   float64\n",
      " 3   md_used   3213 non-null   float64\n",
      " 4   is_ultra  3213 non-null   int64  \n",
      "dtypes: float64(4), int64(1)\n",
      "memory usage: 125.6 KB\n"
     ]
    }
   ],
   "source": [
    "df_tarific.info()"
   ]
  },
  {
   "cell_type": "code",
   "execution_count": 2526,
   "metadata": {},
   "outputs": [
    {
     "data": {
      "text/html": [
       "<div>\n",
       "<style scoped>\n",
       "    .dataframe tbody tr th:only-of-type {\n",
       "        vertical-align: middle;\n",
       "    }\n",
       "\n",
       "    .dataframe tbody tr th {\n",
       "        vertical-align: top;\n",
       "    }\n",
       "\n",
       "    .dataframe thead th {\n",
       "        text-align: right;\n",
       "    }\n",
       "</style>\n",
       "<table border=\"1\" class=\"dataframe\">\n",
       "  <thead>\n",
       "    <tr style=\"text-align: right;\">\n",
       "      <th></th>\n",
       "      <th>calls</th>\n",
       "      <th>minutes</th>\n",
       "      <th>message</th>\n",
       "      <th>md_used</th>\n",
       "      <th>is_ultra</th>\n",
       "    </tr>\n",
       "  </thead>\n",
       "  <tbody>\n",
       "    <tr>\n",
       "      <th>count</th>\n",
       "      <td>3213.000000</td>\n",
       "      <td>3213.000000</td>\n",
       "      <td>3213.000000</td>\n",
       "      <td>3213.000000</td>\n",
       "      <td>3213.000000</td>\n",
       "    </tr>\n",
       "    <tr>\n",
       "      <th>mean</th>\n",
       "      <td>63.046063</td>\n",
       "      <td>438.248098</td>\n",
       "      <td>38.267351</td>\n",
       "      <td>17206.831089</td>\n",
       "      <td>0.306567</td>\n",
       "    </tr>\n",
       "    <tr>\n",
       "      <th>std</th>\n",
       "      <td>33.239054</td>\n",
       "      <td>234.595795</td>\n",
       "      <td>36.145338</td>\n",
       "      <td>7571.995923</td>\n",
       "      <td>0.461140</td>\n",
       "    </tr>\n",
       "    <tr>\n",
       "      <th>min</th>\n",
       "      <td>0.000000</td>\n",
       "      <td>0.000000</td>\n",
       "      <td>0.000000</td>\n",
       "      <td>0.000000</td>\n",
       "      <td>0.000000</td>\n",
       "    </tr>\n",
       "    <tr>\n",
       "      <th>25%</th>\n",
       "      <td>40.000000</td>\n",
       "      <td>274.530000</td>\n",
       "      <td>9.000000</td>\n",
       "      <td>12491.750000</td>\n",
       "      <td>0.000000</td>\n",
       "    </tr>\n",
       "    <tr>\n",
       "      <th>50%</th>\n",
       "      <td>62.000000</td>\n",
       "      <td>430.700000</td>\n",
       "      <td>30.000000</td>\n",
       "      <td>16942.030000</td>\n",
       "      <td>0.000000</td>\n",
       "    </tr>\n",
       "    <tr>\n",
       "      <th>75%</th>\n",
       "      <td>82.000000</td>\n",
       "      <td>572.030000</td>\n",
       "      <td>57.000000</td>\n",
       "      <td>21425.840000</td>\n",
       "      <td>1.000000</td>\n",
       "    </tr>\n",
       "    <tr>\n",
       "      <th>max</th>\n",
       "      <td>244.000000</td>\n",
       "      <td>1632.060000</td>\n",
       "      <td>224.000000</td>\n",
       "      <td>49745.730000</td>\n",
       "      <td>1.000000</td>\n",
       "    </tr>\n",
       "  </tbody>\n",
       "</table>\n",
       "</div>"
      ],
      "text/plain": [
       "             calls      minutes      message       md_used     is_ultra\n",
       "count  3213.000000  3213.000000  3213.000000   3213.000000  3213.000000\n",
       "mean     63.046063   438.248098    38.267351  17206.831089     0.306567\n",
       "std      33.239054   234.595795    36.145338   7571.995923     0.461140\n",
       "min       0.000000     0.000000     0.000000      0.000000     0.000000\n",
       "25%      40.000000   274.530000     9.000000  12491.750000     0.000000\n",
       "50%      62.000000   430.700000    30.000000  16942.030000     0.000000\n",
       "75%      82.000000   572.030000    57.000000  21425.840000     1.000000\n",
       "max     244.000000  1632.060000   224.000000  49745.730000     1.000000"
      ]
     },
     "execution_count": 2526,
     "metadata": {},
     "output_type": "execute_result"
    }
   ],
   "source": [
    "df_tarific.describe()"
   ]
  },
  {
   "cell_type": "markdown",
   "metadata": {},
   "source": [
    "Вывод: \n",
    "1. Пропущенных значений нет\n",
    "1. Типы столбцов в порядке\n",
    "1. Дубликатов нет"
   ]
  },
  {
   "cell_type": "markdown",
   "metadata": {},
   "source": [
    "Исследовательский анализ данных"
   ]
  },
  {
   "cell_type": "code",
   "execution_count": 2527,
   "metadata": {},
   "outputs": [
    {
     "data": {
      "text/plain": [
       "<Axes: >"
      ]
     },
     "execution_count": 2527,
     "metadata": {},
     "output_type": "execute_result"
    },
    {
     "data": {
      "image/png": "[encoded data removed]",
      "text/plain": [
       "<Figure size 640x480 with 1 Axes>"
      ]
     },
     "metadata": {},
     "output_type": "display_data"
    }
   ],
   "source": [
    "df_tarific['calls'].hist()"
   ]
  },
  {
   "cell_type": "markdown",
   "metadata": {},
   "source": [
    "Данные в разрезе тарифов"
   ]
  },
  {
   "cell_type": "code",
   "execution_count": 2528,
   "metadata": {},
   "outputs": [
    {
     "data": {
      "image/png": "[encoded data removed]",
      "text/plain": [
       "<Figure size 640x480 with 1 Axes>"
      ]
     },
     "metadata": {},
     "output_type": "display_data"
    }
   ],
   "source": [
    "df_tarific.query('is_ultra == 1')['calls'].hist(density=True)\n",
    "df_tarific.query('is_ultra == 0')['calls'].hist(density=True, alpha=0.6)\n",
    "\n",
    "plt.xlabel(\"Количество звонков\")\n",
    "plt.ylabel(\"Частота\")\n",
    "plt.legend(labels=[\"Ультра\", \"Смарт\"])\n",
    "plt.show()"
   ]
  },
  {
   "cell_type": "markdown",
   "metadata": {},
   "source": [
    "\n",
    "<div style=\"background-color: #c1b6fc; padding: 10px; border: 1px solid #a491fc;\">\n",
    "    <b>\n",
    "        <font color=\"purple\">Вывод: Исходя из полученных гистограмм, можно сделать вывод, что тариф \"Ультра\" является менее популярным чем тариф \"Смарт\". Однако пользователи тарифа \"Ультра\" проявляют наибольшую активность совершаемых звонков в сравнении с тарифом \"Смарт\".     </font>\n",
    "    </b>\n",
    "</div>"
   ]
  },
  {
   "cell_type": "markdown",
   "metadata": {},
   "source": [
    "<div class=\"alert alert-warning\">\n",
    "<b>а мне казалось что доля is_ultra 0.3 - это говорит о том, что ультра наоборот, не очень популярный. проверь формулировку выводов\n",
    "\n",
    "</b>\n",
    "</div>"
   ]
  },
  {
   "cell_type": "code",
   "execution_count": 2529,
   "metadata": {},
   "outputs": [
    {
     "data": {
      "image/png": "[encoded data removed]",
      "text/plain": [
       "<Figure size 640x480 with 1 Axes>"
      ]
     },
     "metadata": {},
     "output_type": "display_data"
    }
   ],
   "source": [
    "df_tarific.query('is_ultra == 1')['minutes'].hist(density=True)\n",
    "df_tarific.query('is_ultra == 0')['minutes'].hist(alpha=0.6, density=True)\n",
    "\n",
    "plt.xlabel(\"Количество минут\")\n",
    "plt.ylabel(\"Частота\")\n",
    "plt.legend(labels=[\"Ультра\", \"Смарт\"])\n",
    "plt.show()"
   ]
  },
  {
   "cell_type": "markdown",
   "metadata": {},
   "source": [
    "\n",
    "<div style=\"background-color: #c1b6fc; padding: 10px; border: 1px solid #a491fc;\">\n",
    "    <b>\n",
    "        <font color=\"purple\"> Вывод: Схожая ситуация и с количеством потребляемых минут у пользователей тарифов \"Смарт\" и \"Ультра\". Пользователи тарифа \"Ультра\" проявляют высокую активность в использовании минут, несмотря на меньшую популярность самого тарифа. </font>\n",
    "    </b>\n",
    "</div>"
   ]
  },
  {
   "cell_type": "markdown",
   "metadata": {},
   "source": [
    "<div class=\"alert alert-warning\">\n",
    "<b>корреляция не всесильная штука, между категориальной переменной и количественной переменной вообще нельзя оценивать корреляцию:\n",
    "\n",
    "https://stats.stackexchange.com/questions/129585/is-there-a-correlation-index-for-binary-variable-vs-quantitative-variables\n",
    "\n",
    "https://www.codecamp.ru/blog/correlation-between-categorical-variables/\n",
    "</b>\n",
    "</div>"
   ]
  },
  {
   "cell_type": "code",
   "execution_count": 2530,
   "metadata": {},
   "outputs": [
    {
     "data": {
      "image/png": "[encoded data removed]",
      "text/plain": [
       "<Figure size 640x480 with 1 Axes>"
      ]
     },
     "metadata": {},
     "output_type": "display_data"
    }
   ],
   "source": [
    "df_tarific.query('is_ultra == 1')['md_used'].hist(density=True) # Ультра \n",
    "df_tarific.query('is_ultra == 0')['md_used'].hist(alpha=0.6, density=True) # Смарт\n",
    "\n",
    "plt.xlabel(\"Количество потраченного трафика\")\n",
    "plt.ylabel(\"Частота\")\n",
    "plt.legend(labels=[\"Ультра\", \"Смарт\"])\n",
    "plt.show()"
   ]
  },
  {
   "cell_type": "markdown",
   "metadata": {},
   "source": [
    "\n",
    "<div style=\"background-color: #c1b6fc; padding: 10px; border: 1px solid #a491fc;\">\n",
    "    <b>\n",
    "        <font color=\"purple\">Вывод: Колличество потраченного интернет трафика говорит нам, что тариф \"Ультра\", имеет наибольшую интенсивность использования (Пик частоты приходиться на интервал от 10 до 30 гБ). Тариф \"Смарт\" по прежнему имеет большое колличиство пользователей, и пик частоты использования интернета приходиться на интервал от 10 до 20 гБ. </font>\n",
    "    </b>\n",
    "</div>"
   ]
  },
  {
   "cell_type": "markdown",
   "metadata": {},
   "source": [
    "<div class=\"alert alert-warning\">\n",
    "<b>а ультра при этом как себя ведут?\n",
    "</b>\n",
    "</div>"
   ]
  },
  {
   "cell_type": "code",
   "execution_count": 2531,
   "metadata": {},
   "outputs": [
    {
     "data": {
      "image/png": "[encoded data removed]",
      "text/plain": [
       "<Figure size 640x480 with 1 Axes>"
      ]
     },
     "metadata": {},
     "output_type": "display_data"
    }
   ],
   "source": [
    "df_tarific.query('is_ultra == 1')['message'].hist(density=True) # Ультра \n",
    "df_tarific.query('is_ultra == 0')['message'].hist(alpha=0.6, density=True) # Смарт \n",
    "\n",
    "plt.xlabel(\"Количество сообщений\")\n",
    "plt.ylabel(\"Частота\")\n",
    "plt.legend(labels=[\"Ультра\", \"Смарт\"])\n",
    "plt.show()"
   ]
  },
  {
   "cell_type": "markdown",
   "metadata": {},
   "source": [
    "<div style=\"background-color: #c1b6fc; padding: 10px; border: 1px solid #a491fc;\">\n",
    "    <b>\n",
    "        <font color=\"purple\">Вывод: Исходя из данной гистограммы можно сделать вывод, что у пользователи тарифов \"Смарт\" и \"Ультра\" количество отправки собщений менее интенсивно в сравнении с другими предоставляемыми услугами. Пик частоты использование услуги приходятся на тариф \"Смарт\" от 0 до 50 сообщений, но у тарифа \"Ультра\" пик частоты приходиться от 0 - 100.     </font>\n",
    "    </b>\n",
    "</div>\n"
   ]
  },
  {
   "cell_type": "markdown",
   "metadata": {},
   "source": [
    "<div class=\"alert alert-warning\">\n",
    "<b>статистический критерий без текстового пояснения бесполезен - что ты тут считаешь? вообще хз.  по гистограмме можно сказать что пользователи ультра звонят больше\n",
    "</b>\n",
    "</div>"
   ]
  },
  {
   "cell_type": "markdown",
   "metadata": {},
   "source": [
    "<div class=\"alert alert-warning\">\n",
    "<b>здорово, что данные визуализировал - не хватает только выводов по графикам. хотя бы пару слов.</b>\n",
    "</div>"
   ]
  },
  {
   "cell_type": "code",
   "execution_count": 2532,
   "metadata": {},
   "outputs": [
    {
     "data": {
      "text/html": [
       "<div>\n",
       "<style scoped>\n",
       "    .dataframe tbody tr th:only-of-type {\n",
       "        vertical-align: middle;\n",
       "    }\n",
       "\n",
       "    .dataframe tbody tr th {\n",
       "        vertical-align: top;\n",
       "    }\n",
       "\n",
       "    .dataframe thead th {\n",
       "        text-align: right;\n",
       "    }\n",
       "</style>\n",
       "<table border=\"1\" class=\"dataframe\">\n",
       "  <thead>\n",
       "    <tr style=\"text-align: right;\">\n",
       "      <th></th>\n",
       "      <th>calls</th>\n",
       "      <th>minutes</th>\n",
       "      <th>message</th>\n",
       "      <th>md_used</th>\n",
       "      <th>is_ultra</th>\n",
       "    </tr>\n",
       "  </thead>\n",
       "  <tbody>\n",
       "    <tr>\n",
       "      <th>count</th>\n",
       "      <td>985.000000</td>\n",
       "      <td>985.000000</td>\n",
       "      <td>985.000000</td>\n",
       "      <td>985.000000</td>\n",
       "      <td>985.0</td>\n",
       "    </tr>\n",
       "    <tr>\n",
       "      <th>mean</th>\n",
       "      <td>73.392893</td>\n",
       "      <td>511.224569</td>\n",
       "      <td>49.363452</td>\n",
       "      <td>19468.823228</td>\n",
       "      <td>1.0</td>\n",
       "    </tr>\n",
       "    <tr>\n",
       "      <th>std</th>\n",
       "      <td>43.916853</td>\n",
       "      <td>308.031100</td>\n",
       "      <td>47.804457</td>\n",
       "      <td>10087.178654</td>\n",
       "      <td>0.0</td>\n",
       "    </tr>\n",
       "    <tr>\n",
       "      <th>min</th>\n",
       "      <td>0.000000</td>\n",
       "      <td>0.000000</td>\n",
       "      <td>0.000000</td>\n",
       "      <td>0.000000</td>\n",
       "      <td>1.0</td>\n",
       "    </tr>\n",
       "    <tr>\n",
       "      <th>25%</th>\n",
       "      <td>41.000000</td>\n",
       "      <td>276.030000</td>\n",
       "      <td>6.000000</td>\n",
       "      <td>11770.280000</td>\n",
       "      <td>1.0</td>\n",
       "    </tr>\n",
       "    <tr>\n",
       "      <th>50%</th>\n",
       "      <td>74.000000</td>\n",
       "      <td>502.550000</td>\n",
       "      <td>38.000000</td>\n",
       "      <td>19308.010000</td>\n",
       "      <td>1.0</td>\n",
       "    </tr>\n",
       "    <tr>\n",
       "      <th>75%</th>\n",
       "      <td>104.000000</td>\n",
       "      <td>730.050000</td>\n",
       "      <td>79.000000</td>\n",
       "      <td>26837.720000</td>\n",
       "      <td>1.0</td>\n",
       "    </tr>\n",
       "    <tr>\n",
       "      <th>max</th>\n",
       "      <td>244.000000</td>\n",
       "      <td>1632.060000</td>\n",
       "      <td>224.000000</td>\n",
       "      <td>49745.730000</td>\n",
       "      <td>1.0</td>\n",
       "    </tr>\n",
       "  </tbody>\n",
       "</table>\n",
       "</div>"
      ],
      "text/plain": [
       "            calls      minutes     message       md_used  is_ultra\n",
       "count  985.000000   985.000000  985.000000    985.000000     985.0\n",
       "mean    73.392893   511.224569   49.363452  19468.823228       1.0\n",
       "std     43.916853   308.031100   47.804457  10087.178654       0.0\n",
       "min      0.000000     0.000000    0.000000      0.000000       1.0\n",
       "25%     41.000000   276.030000    6.000000  11770.280000       1.0\n",
       "50%     74.000000   502.550000   38.000000  19308.010000       1.0\n",
       "75%    104.000000   730.050000   79.000000  26837.720000       1.0\n",
       "max    244.000000  1632.060000  224.000000  49745.730000       1.0"
      ]
     },
     "execution_count": 2532,
     "metadata": {},
     "output_type": "execute_result"
    }
   ],
   "source": [
    "df_tarific.query('is_ultra == 1').describe() # Ультра "
   ]
  },
  {
   "cell_type": "code",
   "execution_count": 2533,
   "metadata": {},
   "outputs": [
    {
     "data": {
      "text/html": [
       "<div>\n",
       "<style scoped>\n",
       "    .dataframe tbody tr th:only-of-type {\n",
       "        vertical-align: middle;\n",
       "    }\n",
       "\n",
       "    .dataframe tbody tr th {\n",
       "        vertical-align: top;\n",
       "    }\n",
       "\n",
       "    .dataframe thead th {\n",
       "        text-align: right;\n",
       "    }\n",
       "</style>\n",
       "<table border=\"1\" class=\"dataframe\">\n",
       "  <thead>\n",
       "    <tr style=\"text-align: right;\">\n",
       "      <th></th>\n",
       "      <th>calls</th>\n",
       "      <th>minutes</th>\n",
       "      <th>message</th>\n",
       "      <th>md_used</th>\n",
       "      <th>is_ultra</th>\n",
       "    </tr>\n",
       "  </thead>\n",
       "  <tbody>\n",
       "    <tr>\n",
       "      <th>count</th>\n",
       "      <td>2228.000000</td>\n",
       "      <td>2228.000000</td>\n",
       "      <td>2228.000000</td>\n",
       "      <td>2228.000000</td>\n",
       "      <td>2228.0</td>\n",
       "    </tr>\n",
       "    <tr>\n",
       "      <th>mean</th>\n",
       "      <td>58.471724</td>\n",
       "      <td>405.985162</td>\n",
       "      <td>33.361759</td>\n",
       "      <td>16206.803146</td>\n",
       "      <td>0.0</td>\n",
       "    </tr>\n",
       "    <tr>\n",
       "      <th>std</th>\n",
       "      <td>25.942730</td>\n",
       "      <td>184.543262</td>\n",
       "      <td>28.214621</td>\n",
       "      <td>5871.291048</td>\n",
       "      <td>0.0</td>\n",
       "    </tr>\n",
       "    <tr>\n",
       "      <th>min</th>\n",
       "      <td>0.000000</td>\n",
       "      <td>0.000000</td>\n",
       "      <td>0.000000</td>\n",
       "      <td>0.000000</td>\n",
       "      <td>0.0</td>\n",
       "    </tr>\n",
       "    <tr>\n",
       "      <th>25%</th>\n",
       "      <td>40.000000</td>\n",
       "      <td>274.130000</td>\n",
       "      <td>10.000000</td>\n",
       "      <td>12638.732500</td>\n",
       "      <td>0.0</td>\n",
       "    </tr>\n",
       "    <tr>\n",
       "      <th>50%</th>\n",
       "      <td>60.000000</td>\n",
       "      <td>410.605000</td>\n",
       "      <td>28.000000</td>\n",
       "      <td>16505.565000</td>\n",
       "      <td>0.0</td>\n",
       "    </tr>\n",
       "    <tr>\n",
       "      <th>75%</th>\n",
       "      <td>76.000000</td>\n",
       "      <td>529.515000</td>\n",
       "      <td>51.000000</td>\n",
       "      <td>20043.907500</td>\n",
       "      <td>0.0</td>\n",
       "    </tr>\n",
       "    <tr>\n",
       "      <th>max</th>\n",
       "      <td>198.000000</td>\n",
       "      <td>1390.220000</td>\n",
       "      <td>143.000000</td>\n",
       "      <td>38552.620000</td>\n",
       "      <td>0.0</td>\n",
       "    </tr>\n",
       "  </tbody>\n",
       "</table>\n",
       "</div>"
      ],
      "text/plain": [
       "             calls      minutes      message       md_used  is_ultra\n",
       "count  2228.000000  2228.000000  2228.000000   2228.000000    2228.0\n",
       "mean     58.471724   405.985162    33.361759  16206.803146       0.0\n",
       "std      25.942730   184.543262    28.214621   5871.291048       0.0\n",
       "min       0.000000     0.000000     0.000000      0.000000       0.0\n",
       "25%      40.000000   274.130000    10.000000  12638.732500       0.0\n",
       "50%      60.000000   410.605000    28.000000  16505.565000       0.0\n",
       "75%      76.000000   529.515000    51.000000  20043.907500       0.0\n",
       "max     198.000000  1390.220000   143.000000  38552.620000       0.0"
      ]
     },
     "execution_count": 2533,
     "metadata": {},
     "output_type": "execute_result"
    }
   ],
   "source": [
    "df_tarific.query('is_ultra == 0').describe() # Смарт "
   ]
  },
  {
   "cell_type": "markdown",
   "metadata": {},
   "source": [
    "<div style=\"background-color: #c1b6fc; padding: 10px; border: 1px solid #a491fc;\">\n",
    "<b>\n",
    "<font color=\"purple\">\n",
    "\n",
    "Заключение: Исходя из данных двух таблиц статистики для тарифов \"Ультра\" и \"Смарт\" можно сделать следующие выводы:\n",
    "\n",
    "1. Среднее количество звонков у пользователей тарифа \"Ультра\" выше - 73 звонка против 58 у \"Смарта\".\n",
    "\n",
    "2. Средняя длительность разговоров также больше для \"Ультра\" - 511 минут против 406 минут у \"Смарта\". \n",
    "\n",
    "3. Среднее количество sms сообщений выше у \"Ультра\" - 49 против 33 у \"Смарта\".\n",
    "\n",
    "4. Использованный интернет-трафик в среднем также интенсивнее используется абонентами \"Ультра\" - почти 19.5 Гб против 16.2 Гб.\n",
    "\n",
    "Таким образом, несмотря на меньшую абонентскую базу, пользователи тарифа \"Ультра\" используют услуги сотовой связи значительно интенсивнее в сравнении с тарифом \"Смарт\"\n",
    "\n",
    "</font>\n",
    "</b>\n",
    "</div>"
   ]
  },
  {
   "cell_type": "code",
   "execution_count": 2534,
   "metadata": {},
   "outputs": [
    {
     "data": {
      "text/plain": [
       "<Axes: >"
      ]
     },
     "execution_count": 2534,
     "metadata": {},
     "output_type": "execute_result"
    },
    {
     "data": {
      "image/png": "[encoded data removed]",
      "text/plain": [
       "<Figure size 640x480 with 2 Axes>"
      ]
     },
     "metadata": {},
     "output_type": "display_data"
    }
   ],
   "source": [
    "sns.heatmap(df_tarific.query('is_ultra == 1').drop('is_ultra', axis=1).corr(), annot=True)"
   ]
  },
  {
   "cell_type": "code",
   "execution_count": 2535,
   "metadata": {},
   "outputs": [
    {
     "data": {
      "text/plain": [
       "<Axes: >"
      ]
     },
     "execution_count": 2535,
     "metadata": {},
     "output_type": "execute_result"
    },
    {
     "data": {
      "image/png": "[encoded data removed]",
      "text/plain": [
       "<Figure size 640x480 with 2 Axes>"
      ]
     },
     "metadata": {},
     "output_type": "display_data"
    }
   ],
   "source": [
    "sns.heatmap(df_tarific.query('is_ultra == 0').drop('is_ultra', axis=1).corr(), annot=True)"
   ]
  },
  {
   "cell_type": "markdown",
   "metadata": {},
   "source": [
    "<div class=\"alert alert-warning\">\n",
    "<b>выводы?</b>\n",
    "</div>"
   ]
  },
  {
   "cell_type": "markdown",
   "metadata": {},
   "source": [
    "\n",
    "<div style=\"background-color: #c1b6fc; padding: 10px; border: 1px solid #a491fc;\">\n",
    "    <b>\n",
    "        <font color=\"purple\">\n",
    "Вывод: Смотря на матрицу корреляции, можно сказать, что наибольшая корреляция у параметров тарифов наблюдается между количеством звонков и минутами, и составляет около 0,97. В случае использования таких данных при моделировании возрастает вероятность переобучения моделей и снижается точность прогнозов на новых данных, поскольку модель может учитывать шумы и случайные флуктуации в обучающей выборке. \n",
    "Для решения этой проблемы необходимо будет: либо удалить или один, или другой столбец, либо воспользоваться расчетом VIF, либо метод PCA.\n",
    "\n",
    "  </font>\n",
    "    </b>\n",
    "</div>\n"
   ]
  },
  {
   "cell_type": "markdown",
   "metadata": {},
   "source": [
    "<div class=\"alert alert-warning\">\n",
    "<b>и что с этим делаем? это проблема?\n",
    "</b>\n",
    "</div>"
   ]
  },
  {
   "cell_type": "markdown",
   "metadata": {},
   "source": [
    "<div class=\"alert alert-info\">\n",
    "<b> смотри, звонки и минуты сильно скореллированы. можно попробовать стратегии: </b>\n",
    "\n",
    "1. удалить или один, или другой. чтобы понять какой удалить можно либо в тупую попробовать, либо воспользоваться расчетом VIF, либо каким нибудь PCA.\n",
    "\n",
    "2. объединить признаки - это называется feature engineering. то есть по сути придумать формулу, объединяющую эти два признака в один\n",
    "\n",
    "\n",
    "полезные статьи по теме:\n",
    "\n",
    "https://stats.stackexchange.com/questions/361020/why-is-multicollinearity-so-bad-for-machine-learning-models-and-what-can-we-do-a\n",
    "https://habr.com/ru/companies/akbarsdigital/articles/592493/\n",
    "https://medium.com/analytics-vidhya/removing-multi-collinearity-for-linear-and-logistic-regression-f1fa744f3666\n",
    "https://towardsdatascience.com/how-to-remove-multicollinearity-in-dataset-using-pca-4b4561c28d0b\n",
    "https://machinelearningmastery.com/information-gain-and-mutual-information/\n",
    "\n",
    "\n",
    "</div>"
   ]
  },
  {
   "cell_type": "markdown",
   "metadata": {},
   "source": [
    "# Разобьем данные на выборки"
   ]
  },
  {
   "cell_type": "code",
   "execution_count": 2536,
   "metadata": {},
   "outputs": [],
   "source": [
    "X = df_tarific.drop(columns=['is_ultra']) \n",
    "Y = df_tarific['is_ultra']"
   ]
  },
  {
   "cell_type": "markdown",
   "metadata": {},
   "source": [
    "Масштабирование признаков  "
   ]
  },
  {
   "cell_type": "code",
   "execution_count": 2537,
   "metadata": {},
   "outputs": [],
   "source": [
    "scaler = StandardScaler()\n",
    "X = pd.DataFrame(scaler.fit_transform(X))"
   ]
  },
  {
   "cell_type": "markdown",
   "metadata": {},
   "source": [
    "Разделение на обучающий, валидационный и тестовый наборы"
   ]
  },
  {
   "cell_type": "code",
   "execution_count": 2538,
   "metadata": {},
   "outputs": [],
   "source": [
    "X_train, X_temp, y_train, y_temp = train_test_split(X , Y, test_size=0.33, random_state = RANDOM_SEED)"
   ]
  },
  {
   "cell_type": "code",
   "execution_count": 2539,
   "metadata": {},
   "outputs": [
    {
     "name": "stdout",
     "output_type": "stream",
     "text": [
      "Counter({0: 1487, 1: 665})\n",
      "Counter({1: 1487, 0: 1487})\n"
     ]
    }
   ],
   "source": [
    "counter = Counter(y_train)\n",
    "print(counter)\n",
    "\n",
    "if counter[1] < counter[0]:\n",
    "    smote = SMOTE(random_state=42)\n",
    "    X_train_resampled, y_train_resampled = smote.fit_resample(X_train, y_train)\n",
    "    print(Counter(y_train_resampled))\n",
    "else:\n",
    "    print(\"No need for resampling, classes are balanced.\")"
   ]
  },
  {
   "cell_type": "markdown",
   "metadata": {},
   "source": [
    "Проверка мультиколлинеарности"
   ]
  },
  {
   "cell_type": "code",
   "execution_count": 2540,
   "metadata": {},
   "outputs": [],
   "source": [
    "from statsmodels.tools.tools import add_constant\n",
    "from statsmodels.stats.outliers_influence import variance_inflation_factor\n",
    "\n",
    "def get_VIF(dataFrame, target):\n",
    "    data = add_constant(dataFrame.loc[:, dataFrame.columns != target])\n",
    "    seriesObject = pd.Series([variance_inflation_factor(data.values, i) for i in range(data.shape[1])], index=data.columns)\n",
    "    return seriesObject"
   ]
  },
  {
   "cell_type": "code",
   "execution_count": 2541,
   "metadata": {},
   "outputs": [
    {
     "name": "stdout",
     "output_type": "stream",
     "text": [
      "const     1.012882\n",
      "0        36.027620\n",
      "1        35.900334\n",
      "2         1.065793\n",
      "3         1.113884\n",
      "dtype: float64\n"
     ]
    }
   ],
   "source": [
    "vif_results = get_VIF(X_train_resampled, '')\n",
    "print(vif_results)"
   ]
  },
  {
   "cell_type": "markdown",
   "metadata": {},
   "source": [
    "<div class=\"alert alert-warning\">\n",
    "<b>ка где минуты? ты же их еще не удалял?\n",
    "</b>\n",
    "</div>"
   ]
  },
  {
   "cell_type": "markdown",
   "metadata": {},
   "source": [
    "<div style=\"background-color: #c1b6fc; padding: 10px; border: 1px solid #a491fc;\">\n",
    "    <b>\n",
    "        <font color=\"purple\">\n",
    "Вывод: Полученные значения VIF (variance inflation factor) указывают на наличие существенной мультиколлинеарности между переменными \"calls\" (количество звонков) и \"minutes\" (количество минут разговоров). Их значения VIF превышают порог 8, что говорит о критическом уровне мультиколлинеарности.\n",
    "\n",
    "При этом переменные \"message\" и \"md_used\" имеют приемлемый уровень VIF около 1, что говорит об их независимости от остальных признаков.\n",
    "\n",
    "Таким образом для дальнейшего моделирования имеет смысл оставить только один из столбцов с высокой мультиколлинеарностью - \"calls\" или \"minutes\". Либо можно применить методы борьбы с мультиколлинеарностью вроде PCA или регуляризации. Но в любом случае совместное использование двух сильно коррелирующих параметров негативно скажется на точности модели.\n",
    "\n",
    "  </font>\n",
    "    </b>\n",
    "</div>"
   ]
  },
  {
   "cell_type": "markdown",
   "metadata": {},
   "source": [
    "удаление высококоррелированных признаков с корреляцией более 0.9"
   ]
  },
  {
   "cell_type": "code",
   "execution_count": 2542,
   "metadata": {},
   "outputs": [],
   "source": [
    "corr_matrix = X_train_resampled.corr()\n",
    "high_corr_features = set()\n",
    "for i in range(len(corr_matrix.columns)):\n",
    "    for j in range(i):\n",
    "        if abs(corr_matrix.iloc[i, j]) > 0.9:\n",
    "            colname = corr_matrix.columns[i]\n",
    "            high_corr_features.add(colname)\n",
    "\n",
    "X_train_resampled = X_train_resampled.drop(columns=high_corr_features)"
   ]
  },
  {
   "cell_type": "code",
   "execution_count": 2543,
   "metadata": {},
   "outputs": [
    {
     "data": {
      "text/html": [
       "<div>\n",
       "<style scoped>\n",
       "    .dataframe tbody tr th:only-of-type {\n",
       "        vertical-align: middle;\n",
       "    }\n",
       "\n",
       "    .dataframe tbody tr th {\n",
       "        vertical-align: top;\n",
       "    }\n",
       "\n",
       "    .dataframe thead th {\n",
       "        text-align: right;\n",
       "    }\n",
       "</style>\n",
       "<table border=\"1\" class=\"dataframe\">\n",
       "  <thead>\n",
       "    <tr style=\"text-align: right;\">\n",
       "      <th></th>\n",
       "      <th>0</th>\n",
       "      <th>2</th>\n",
       "      <th>3</th>\n",
       "    </tr>\n",
       "  </thead>\n",
       "  <tbody>\n",
       "    <tr>\n",
       "      <th>0</th>\n",
       "      <td>0.419871</td>\n",
       "      <td>-1.058873</td>\n",
       "      <td>0.248838</td>\n",
       "    </tr>\n",
       "    <tr>\n",
       "      <th>1</th>\n",
       "      <td>-1.084618</td>\n",
       "      <td>-0.118079</td>\n",
       "      <td>-0.737001</td>\n",
       "    </tr>\n",
       "    <tr>\n",
       "      <th>2</th>\n",
       "      <td>-0.001386</td>\n",
       "      <td>-0.477794</td>\n",
       "      <td>0.270491</td>\n",
       "    </tr>\n",
       "    <tr>\n",
       "      <th>3</th>\n",
       "      <td>1.713731</td>\n",
       "      <td>-0.892850</td>\n",
       "      <td>2.415998</td>\n",
       "    </tr>\n",
       "    <tr>\n",
       "      <th>4</th>\n",
       "      <td>1.021666</td>\n",
       "      <td>1.182429</td>\n",
       "      <td>-0.291953</td>\n",
       "    </tr>\n",
       "    <tr>\n",
       "      <th>...</th>\n",
       "      <td>...</td>\n",
       "      <td>...</td>\n",
       "      <td>...</td>\n",
       "    </tr>\n",
       "    <tr>\n",
       "      <th>2969</th>\n",
       "      <td>0.030498</td>\n",
       "      <td>0.388048</td>\n",
       "      <td>0.109919</td>\n",
       "    </tr>\n",
       "    <tr>\n",
       "      <th>2970</th>\n",
       "      <td>-1.897042</td>\n",
       "      <td>-0.299520</td>\n",
       "      <td>-0.758180</td>\n",
       "    </tr>\n",
       "    <tr>\n",
       "      <th>2971</th>\n",
       "      <td>3.516830</td>\n",
       "      <td>3.088140</td>\n",
       "      <td>1.651275</td>\n",
       "    </tr>\n",
       "    <tr>\n",
       "      <th>2972</th>\n",
       "      <td>-1.173816</td>\n",
       "      <td>2.159221</td>\n",
       "      <td>0.890990</td>\n",
       "    </tr>\n",
       "    <tr>\n",
       "      <th>2973</th>\n",
       "      <td>-0.592671</td>\n",
       "      <td>-0.476586</td>\n",
       "      <td>0.615021</td>\n",
       "    </tr>\n",
       "  </tbody>\n",
       "</table>\n",
       "<p>2974 rows × 3 columns</p>\n",
       "</div>"
      ],
      "text/plain": [
       "             0         2         3\n",
       "0     0.419871 -1.058873  0.248838\n",
       "1    -1.084618 -0.118079 -0.737001\n",
       "2    -0.001386 -0.477794  0.270491\n",
       "3     1.713731 -0.892850  2.415998\n",
       "4     1.021666  1.182429 -0.291953\n",
       "...        ...       ...       ...\n",
       "2969  0.030498  0.388048  0.109919\n",
       "2970 -1.897042 -0.299520 -0.758180\n",
       "2971  3.516830  3.088140  1.651275\n",
       "2972 -1.173816  2.159221  0.890990\n",
       "2973 -0.592671 -0.476586  0.615021\n",
       "\n",
       "[2974 rows x 3 columns]"
      ]
     },
     "execution_count": 2543,
     "metadata": {},
     "output_type": "execute_result"
    }
   ],
   "source": [
    "X_train_resampled"
   ]
  },
  {
   "cell_type": "code",
   "execution_count": 2544,
   "metadata": {},
   "outputs": [
    {
     "name": "stdout",
     "output_type": "stream",
     "text": [
      "const    1.012874\n",
      "0        1.102216\n",
      "2        1.065374\n",
      "3        1.113849\n",
      "dtype: float64\n"
     ]
    }
   ],
   "source": [
    "vif_results = get_VIF(X_train_resampled, '')\n",
    "print(vif_results)"
   ]
  },
  {
   "cell_type": "code",
   "execution_count": 2545,
   "metadata": {},
   "outputs": [],
   "source": [
    "X_valid, X_test, y_valid, y_test = train_test_split(X_train_resampled, y_train_resampled, test_size=0.5, random_state = RANDOM_SEED)"
   ]
  },
  {
   "cell_type": "markdown",
   "metadata": {},
   "source": [
    "<div class=\"alert alert-warning\">\n",
    "<b>дисбаланс классов? мультиколлинеарность? масштабирование признаков? все это может поднять тебе качество моделей</b>\n",
    "</div>"
   ]
  },
  {
   "cell_type": "markdown",
   "metadata": {},
   "source": [
    "#  Исследуем модели"
   ]
  },
  {
   "cell_type": "markdown",
   "metadata": {},
   "source": [
    "# Random Forest"
   ]
  },
  {
   "cell_type": "code",
   "execution_count": 2546,
   "metadata": {},
   "outputs": [],
   "source": [
    "best_RF = None\n",
    "best_accuracy_RF = 0\n",
    "best_est_RF = 0\n",
    "best_depth_RF = 0"
   ]
  },
  {
   "cell_type": "markdown",
   "metadata": {},
   "source": [
    "<div class=\"alert alert-info\">\n",
    "в ML постоянно могут мешать надоедливые warnings, это можно отключить так:"
   ]
  },
  {
   "cell_type": "code",
   "execution_count": 2547,
   "metadata": {},
   "outputs": [],
   "source": [
    "import warnings\n",
    "warnings.filterwarnings('ignore')"
   ]
  },
  {
   "cell_type": "code",
   "execution_count": 2548,
   "metadata": {},
   "outputs": [],
   "source": [
    "for est in range(2, 10):\n",
    "    for depth in range(2, 10):\n",
    "        \n",
    "        RF = RandomForestClassifier(random_state = RANDOM_SEED, n_estimators = est, max_depth = depth)\n",
    "        RF.fit( X_train_resampled, y_train_resampled)\n",
    "        \n",
    "        prediction_valid_RF = RF.predict(X_valid)\n",
    "        accuracy_RF = accuracy_score(prediction_valid_RF, y_valid)\n",
    "\n",
    "        if best_accuracy_RF < accuracy_RF:\n",
    "            best_RF = RF\n",
    "            best_depth_RF = depth\n",
    "            best_est_RF = est\n",
    "            best_accuracy_RF = accuracy_RF"
   ]
  },
  {
   "cell_type": "markdown",
   "metadata": {},
   "source": [
    "Результаты работы:"
   ]
  },
  {
   "cell_type": "code",
   "execution_count": 2549,
   "metadata": {},
   "outputs": [],
   "source": [
    "prediction_test_RF = best_RF.predict(X_test)"
   ]
  },
  {
   "cell_type": "markdown",
   "metadata": {},
   "source": [
    "Расчет accuracy и сравнение тестовых и валидационных значений "
   ]
  },
  {
   "cell_type": "code",
   "execution_count": 2550,
   "metadata": {},
   "outputs": [
    {
     "name": "stdout",
     "output_type": "stream",
     "text": [
      "Random Forest accuracy_score valid: 0.8433086751849361\n"
     ]
    }
   ],
   "source": [
    "print(f\"Random Forest accuracy_score valid: {best_accuracy_RF}\")"
   ]
  },
  {
   "cell_type": "code",
   "execution_count": 2551,
   "metadata": {},
   "outputs": [
    {
     "name": "stdout",
     "output_type": "stream",
     "text": [
      "Random Forest accuracy_score test: 0.8406186953597848\n"
     ]
    }
   ],
   "source": [
    "accuracy_RF_test = accuracy_score(prediction_test_RF, y_test)\n",
    "print(f\"Random Forest accuracy_score test: {accuracy_RF_test}\")"
   ]
  },
  {
   "cell_type": "markdown",
   "metadata": {},
   "source": [
    "f1_score"
   ]
  },
  {
   "cell_type": "code",
   "execution_count": 2552,
   "metadata": {},
   "outputs": [
    {
     "name": "stdout",
     "output_type": "stream",
     "text": [
      "Random Forest f1_score test: 0.8387166617741332\n"
     ]
    }
   ],
   "source": [
    "f1_score_RF_valid = f1_score(prediction_valid_RF, y_valid, average='weighted')\n",
    "print(f\"Random Forest f1_score test: {f1_score_RF_valid}\")"
   ]
  },
  {
   "cell_type": "code",
   "execution_count": 2553,
   "metadata": {},
   "outputs": [
    {
     "name": "stdout",
     "output_type": "stream",
     "text": [
      "Random Forest f1_score test: 0.8424017332676783\n"
     ]
    }
   ],
   "source": [
    "f1_score_RF_test = f1_score(prediction_test_RF, y_test, average='weighted')\n",
    "print(f\"Random Forest f1_score test: {f1_score_RF_test}\")"
   ]
  },
  {
   "cell_type": "markdown",
   "metadata": {},
   "source": [
    "\n",
    "<div style=\"background-color: #c1b6fc; padding: 10px; border: 1px solid #a491fc;\">\n",
    "    <b>\n",
    "        <font color=\"purple\">Вывод: \n",
    "\n",
    "Показатели точности:\n",
    "\n",
    "Точность на валидационной выборке составляет приблизительно 84.33%.\n",
    "Точность на тестовой выборке составляет приблизительно 84.06%.\n",
    "Модель показывает хорошую производительность как на валидационной, так и на тестовой выборке.\n",
    "\n",
    "Показатели F1:\n",
    "\n",
    "F1-мера на тестовой выборке составляет приблизительно 83.87%.\n",
    "F1-мера на валидационной выборке составляет приблизительно 84.24%.\n",
    "F1-скор на валидационной выборке выше, чем на тестовой выборк.\n",
    "\n",
    "Точность и F1-скор находятся на приемлемом уровне, что указывает на хорошую общую производительность модели.\n",
    "\n",
    " </font>\n",
    "    </b>\n",
    "</div>\n"
   ]
  },
  {
   "cell_type": "markdown",
   "metadata": {},
   "source": [
    "# Decision Tree"
   ]
  },
  {
   "cell_type": "code",
   "execution_count": 2554,
   "metadata": {},
   "outputs": [],
   "source": [
    "best_DT = None\n",
    "best_accuracy_DT = 0\n",
    "best_depth_DT = 0"
   ]
  },
  {
   "cell_type": "code",
   "execution_count": 2555,
   "metadata": {},
   "outputs": [],
   "source": [
    "for depth in range(2,10):\n",
    "    DT = DecisionTreeClassifier(random_state = RANDOM_SEED, max_depth = depth)\n",
    "    DT = DT.fit(X_train_resampled, y_train_resampled)\n",
    "    prediction_valid_DT = DT.predict(X_valid)\n",
    "    accuracy_DT = accuracy_score(prediction_valid_DT, y_valid)\n",
    "    if best_accuracy_DT < accuracy_DT:\n",
    "        best_DT = DT\n",
    "        best_accuracy_DT = accuracy_DT\n",
    "        best_depth_DT = depth"
   ]
  },
  {
   "cell_type": "markdown",
   "metadata": {},
   "source": [
    "Вывод "
   ]
  },
  {
   "cell_type": "code",
   "execution_count": 2556,
   "metadata": {},
   "outputs": [],
   "source": [
    "from sklearn import tree"
   ]
  },
  {
   "cell_type": "code",
   "execution_count": 2557,
   "metadata": {},
   "outputs": [
    {
     "data": {
      "image/png": "[encoded data removed]",
      "text/plain": [
       "<Figure size 640x480 with 1 Axes>"
      ]
     },
     "metadata": {},
     "output_type": "display_data"
    }
   ],
   "source": [
    "tree.plot_tree(DT);"
   ]
  },
  {
   "cell_type": "markdown",
   "metadata": {},
   "source": [
    "<div class=\"alert alert-info\">\n",
    "чтобы спрятать вспомогательный вывод к графику достаточно поставить ; в конце, обрати внимание"
   ]
  },
  {
   "cell_type": "markdown",
   "metadata": {},
   "source": [
    "<div class=\"alert alert-warning\">\n",
    "<b>выводы?</b>\n",
    "</div>"
   ]
  },
  {
   "cell_type": "markdown",
   "metadata": {},
   "source": [
    "accuracy"
   ]
  },
  {
   "cell_type": "code",
   "execution_count": 2558,
   "metadata": {},
   "outputs": [
    {
     "name": "stdout",
     "output_type": "stream",
     "text": [
      "Decision Tree valid accuracy_score: 0.83591123066577\n"
     ]
    }
   ],
   "source": [
    "print(f\"Decision Tree valid accuracy_score: {best_accuracy_DT}\")"
   ]
  },
  {
   "cell_type": "code",
   "execution_count": 2559,
   "metadata": {},
   "outputs": [],
   "source": [
    "prediction_test_DT = best_DT.predict(X_test)"
   ]
  },
  {
   "cell_type": "code",
   "execution_count": 2560,
   "metadata": {},
   "outputs": [
    {
     "name": "stdout",
     "output_type": "stream",
     "text": [
      "Decision Tree test accuracy_score: 0.8312037659717552\n"
     ]
    }
   ],
   "source": [
    "accuracy_DT_test = accuracy_score(prediction_test_DT, y_test)\n",
    "print(f\"Decision Tree test accuracy_score: {accuracy_DT_test}\")"
   ]
  },
  {
   "cell_type": "markdown",
   "metadata": {},
   "source": [
    "f1_score"
   ]
  },
  {
   "cell_type": "code",
   "execution_count": 2561,
   "metadata": {},
   "outputs": [
    {
     "name": "stdout",
     "output_type": "stream",
     "text": [
      "Decision Tree valid f1_score: 0.8365167336190085\n"
     ]
    }
   ],
   "source": [
    "f1_score_DT_valid = f1_score(prediction_valid_DT, y_valid, average='weighted')\n",
    "\n",
    "print(f\"Decision Tree valid f1_score: {f1_score_DT_valid}\")"
   ]
  },
  {
   "cell_type": "code",
   "execution_count": 2562,
   "metadata": {},
   "outputs": [
    {
     "name": "stdout",
     "output_type": "stream",
     "text": [
      "Decision Tree test f1_score: 0.8319745709367722\n"
     ]
    }
   ],
   "source": [
    "f1_score_DT_test = f1_score(prediction_test_DT, y_test, average='weighted')\n",
    "print(f\"Decision Tree test f1_score: {f1_score_DT_test}\")"
   ]
  },
  {
   "cell_type": "markdown",
   "metadata": {},
   "source": [
    "\n",
    "<div style=\"background-color: #c1b6fc; padding: 10px; border: 1px solid #a491fc;\">\n",
    "    <b>\n",
    "        <font color=\"purple\">Вывод: \n",
    "\n",
    "Точность на тестовой и валидационной выборках:\n",
    "\n",
    "Точность на тестовой выборке составляет приблизительно 83.59%.\n",
    "Точность на валидационной выборке составляет приблизительно 83.12%.\n",
    "Модель дерева решений показывает сопоставимую производительность на тестовой и валидационной выборках.\n",
    "\n",
    "F1-скор на тестовой и валидационной выборках:\n",
    "\n",
    "F1-скор на тестовой выборке составляет приблизительно 83.65%.\n",
    "F1-скор на валидационной выборке составляет приблизительно 83.19%.\n",
    "Значения F1-скора говорят о том, что модель показывает неплохие результаты, особенно на валидационной выборке.\n",
    "\n",
    "Точность и F1-скор находятся на уровне, который может считаться приемлемым.\n",
    " </font>\n",
    "    </b>\n",
    "</div>\n"
   ]
  },
  {
   "cell_type": "markdown",
   "metadata": {},
   "source": [
    "# LogisticRegression"
   ]
  },
  {
   "cell_type": "code",
   "execution_count": 2563,
   "metadata": {},
   "outputs": [
    {
     "name": "stdout",
     "output_type": "stream",
     "text": [
      "const     1.000119\n",
      "0        27.701464\n",
      "1        27.531799\n",
      "2         1.055593\n",
      "3         1.126544\n",
      "dtype: float64\n"
     ]
    }
   ],
   "source": [
    "vif_results = get_VIF(X_train, '')\n",
    "print(vif_results)"
   ]
  },
  {
   "cell_type": "code",
   "execution_count": 2564,
   "metadata": {},
   "outputs": [],
   "source": [
    "corr_matrix = X_train.corr()\n",
    "high_corr_features = set()\n",
    "for i in range(len(corr_matrix.columns)):\n",
    "    for j in range(i):\n",
    "        if abs(corr_matrix.iloc[i, j]) > 0.9:\n",
    "            colname = corr_matrix.columns[i]\n",
    "            high_corr_features.add(colname)\n",
    "\n",
    "X_train = X_train.drop(columns=high_corr_features)"
   ]
  },
  {
   "cell_type": "code",
   "execution_count": 2565,
   "metadata": {},
   "outputs": [],
   "source": [
    "X_valid, X_test, y_valid, y_test = train_test_split(X_train, y_train, test_size=0.5, random_state = RANDOM_SEED)"
   ]
  },
  {
   "cell_type": "code",
   "execution_count": 2566,
   "metadata": {},
   "outputs": [],
   "source": [
    "# LR = LogisticRegression(random_state = RANDOM_SEED, max_iter= 1000, tol=1e-5, solver = 'lbfgs')\n",
    "# LR = LogisticRegression(random_state= RANDOM_SEED, penalty='l1', solver='saga')\n",
    "LR = LogisticRegression(random_state=RANDOM_SEED, penalty='l2')\n",
    "LR.fit(X_train, y_train)\n",
    "prediction_valid_LR = LR.predict(X_valid)\n",
    "accuracy_LR = accuracy_score(prediction_valid_LR, y_valid)"
   ]
  },
  {
   "cell_type": "markdown",
   "metadata": {},
   "source": [
    "Вывод"
   ]
  },
  {
   "cell_type": "markdown",
   "metadata": {},
   "source": [
    "accuracy"
   ]
  },
  {
   "cell_type": "code",
   "execution_count": 2567,
   "metadata": {},
   "outputs": [
    {
     "name": "stdout",
     "output_type": "stream",
     "text": [
      "Logistic Regression valid accuracy_score: 0.7620817843866171\n"
     ]
    }
   ],
   "source": [
    "print(f\"Logistic Regression valid accuracy_score: {accuracy_LR}\")"
   ]
  },
  {
   "cell_type": "code",
   "execution_count": 2568,
   "metadata": {},
   "outputs": [],
   "source": [
    "prediction_test_LR = LR.predict(X_test)"
   ]
  },
  {
   "cell_type": "code",
   "execution_count": 2569,
   "metadata": {},
   "outputs": [],
   "source": [
    "accuracy_LR_test = accuracy_score(prediction_test_LR, y_test)"
   ]
  },
  {
   "cell_type": "code",
   "execution_count": 2570,
   "metadata": {},
   "outputs": [
    {
     "name": "stdout",
     "output_type": "stream",
     "text": [
      "Logistic Regression test accuracy_score: 0.7425650557620818\n"
     ]
    }
   ],
   "source": [
    "print(f\"Logistic Regression test accuracy_score: {accuracy_LR_test}\")"
   ]
  },
  {
   "cell_type": "markdown",
   "metadata": {},
   "source": [
    "f1_score"
   ]
  },
  {
   "cell_type": "code",
   "execution_count": 2571,
   "metadata": {},
   "outputs": [
    {
     "name": "stdout",
     "output_type": "stream",
     "text": [
      "Logistic Regression test f1_score: 0.8097125244836809\n"
     ]
    }
   ],
   "source": [
    "f1_score_LR_valid = f1_score(prediction_valid_LR, y_valid, average='weighted')\n",
    "print(f\"Logistic Regression test f1_score: {f1_score_LR_valid}\")"
   ]
  },
  {
   "cell_type": "code",
   "execution_count": 2572,
   "metadata": {},
   "outputs": [
    {
     "name": "stdout",
     "output_type": "stream",
     "text": [
      "Logistic Regression test f1_score: 0.796863125873675\n"
     ]
    }
   ],
   "source": [
    "f1_score_LR_test = f1_score(prediction_test_LR, y_test, average='weighted')\n",
    "\n",
    "print(f\"Logistic Regression test f1_score: {f1_score_LR_test}\")"
   ]
  },
  {
   "cell_type": "markdown",
   "metadata": {},
   "source": [
    "\n",
    "<div style=\"background-color: #c1b6fc; padding: 10px; border: 1px solid #a491fc;\">\n",
    "    <b>\n",
    "        <font color=\"purple\">Вывод: \n",
    "\n",
    "Точность на тестовой и валидационной выборках:\n",
    "\n",
    "Точность на тестовой выборке составляет приблизительно 76.20%.\n",
    "\n",
    "Точность на валидационной выборке составляет приблизительно 74.25%.\n",
    "\n",
    "Модель логистической регрессии показывает сопоставимую производительность на тестовой и валидационной выборках.\n",
    "\n",
    "F1-скор на тестовой и валидационной выборках:\n",
    "\n",
    "F1-скор на тестовой выборке составляет приблизительно 80.97%.\n",
    "\n",
    "F1-скор на валидационной выборке составляет приблизительно 79.68%.\n",
    "\n",
    "Значения F1-скора говорят о том, что модель демонстрирует неплохие результаты на обеих выборках.\n",
    "\n",
    "Общие наблюдения:\n",
    "\n",
    "Точность и F1-скор находятся на уровне, который может считаться приемлемым.\n",
    "\n",
    "Модель логистической регрессии показывает себя стабильно как на тестовой, так и на валидационной выборках.\n",
    " </font>\n",
    "    </b>\n",
    "</div>\n"
   ]
  },
  {
   "cell_type": "markdown",
   "metadata": {},
   "source": [
    "<div class=\"alert alert-warning\">\n",
    "<b>в целом все хорошо, кроме отсутствующих выводов и вообще текста. если хочешь повысить качество - оставил подсказку</b>\n",
    "</div>"
   ]
  }
 ],
 "metadata": {
  "kernelspec": {
   "display_name": "Python 3 (ipykernel)",
   "language": "python",
   "name": "python3"
  },
  "language_info": {
   "codemirror_mode": {
    "name": "ipython",
    "version": 3
   },
   "file_extension": ".py",
   "mimetype": "text/x-python",
   "name": "python",
   "nbconvert_exporter": "python",
   "pygments_lexer": "ipython3",
   "version": "3.10.0"
  },
  "toc": {
   "base_numbering": 1,
   "nav_menu": {},
   "number_sections": true,
   "sideBar": true,
   "skip_h1_title": false,
   "title_cell": "Содержание",
   "title_sidebar": "Contents",
   "toc_cell": true,
   "toc_position": {},
   "toc_section_display": true,
   "toc_window_display": true
  }
 },
 "nbformat": 4,
 "nbformat_minor": 4
}
