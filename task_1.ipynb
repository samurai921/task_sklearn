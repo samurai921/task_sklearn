{
 "cells": [
  {
   "cell_type": "markdown",
   "metadata": {},
   "source": [
    "# Импортируем необходимые библиотеки"
   ]
  },
  {
   "cell_type": "code",
   "execution_count": 363,
   "metadata": {},
   "outputs": [],
   "source": [
    "import pandas as pd\n",
    "from sklearn.model_selection import train_test_split\n",
    "from sklearn.linear_model import LogisticRegression\n",
    "from sklearn.ensemble import RandomForestClassifier\n",
    "from sklearn.tree import DecisionTreeClassifier\n",
    "from sklearn.metrics import accuracy_score\n",
    "from sklearn.metrics import f1_score\n",
    "import seaborn as sns\n",
    "import matplotlib.pyplot as plt\n",
    "RANDOM_SEED = 42"
   ]
  },
  {
   "cell_type": "markdown",
   "metadata": {},
   "source": [
    "# Откройте файл с данными"
   ]
  },
  {
   "cell_type": "code",
   "execution_count": 364,
   "metadata": {},
   "outputs": [],
   "source": [
    "columns = [\"calls\",  \"minutes\",  \"message\",\"md_used\", \"is_ultra\"]\n",
    "df_tarific = pd.read_csv(\"users_behavior.csv\",\n",
    "                 names=columns,\n",
    "                 header=1) "
   ]
  },
  {
   "cell_type": "code",
   "execution_count": 365,
   "metadata": {},
   "outputs": [
    {
     "data": {
      "text/html": [
       "<div>\n",
       "<style scoped>\n",
       "    .dataframe tbody tr th:only-of-type {\n",
       "        vertical-align: middle;\n",
       "    }\n",
       "\n",
       "    .dataframe tbody tr th {\n",
       "        vertical-align: top;\n",
       "    }\n",
       "\n",
       "    .dataframe thead th {\n",
       "        text-align: right;\n",
       "    }\n",
       "</style>\n",
       "<table border=\"1\" class=\"dataframe\">\n",
       "  <thead>\n",
       "    <tr style=\"text-align: right;\">\n",
       "      <th></th>\n",
       "      <th>calls</th>\n",
       "      <th>minutes</th>\n",
       "      <th>message</th>\n",
       "      <th>md_used</th>\n",
       "      <th>is_ultra</th>\n",
       "    </tr>\n",
       "  </thead>\n",
       "  <tbody>\n",
       "    <tr>\n",
       "      <th>0</th>\n",
       "      <td>85.0</td>\n",
       "      <td>516.75</td>\n",
       "      <td>56.0</td>\n",
       "      <td>22696.96</td>\n",
       "      <td>0</td>\n",
       "    </tr>\n",
       "    <tr>\n",
       "      <th>1</th>\n",
       "      <td>77.0</td>\n",
       "      <td>467.66</td>\n",
       "      <td>86.0</td>\n",
       "      <td>21060.45</td>\n",
       "      <td>0</td>\n",
       "    </tr>\n",
       "    <tr>\n",
       "      <th>2</th>\n",
       "      <td>106.0</td>\n",
       "      <td>745.53</td>\n",
       "      <td>81.0</td>\n",
       "      <td>8437.39</td>\n",
       "      <td>1</td>\n",
       "    </tr>\n",
       "    <tr>\n",
       "      <th>3</th>\n",
       "      <td>66.0</td>\n",
       "      <td>418.74</td>\n",
       "      <td>1.0</td>\n",
       "      <td>14502.75</td>\n",
       "      <td>0</td>\n",
       "    </tr>\n",
       "    <tr>\n",
       "      <th>4</th>\n",
       "      <td>58.0</td>\n",
       "      <td>344.56</td>\n",
       "      <td>21.0</td>\n",
       "      <td>15823.37</td>\n",
       "      <td>0</td>\n",
       "    </tr>\n",
       "  </tbody>\n",
       "</table>\n",
       "</div>"
      ],
      "text/plain": [
       "   calls  minutes  message   md_used  is_ultra\n",
       "0   85.0   516.75     56.0  22696.96         0\n",
       "1   77.0   467.66     86.0  21060.45         0\n",
       "2  106.0   745.53     81.0   8437.39         1\n",
       "3   66.0   418.74      1.0  14502.75         0\n",
       "4   58.0   344.56     21.0  15823.37         0"
      ]
     },
     "execution_count": 365,
     "metadata": {},
     "output_type": "execute_result"
    }
   ],
   "source": [
    "df_tarific.head()"
   ]
  },
  {
   "cell_type": "code",
   "execution_count": 366,
   "metadata": {},
   "outputs": [
    {
     "name": "stdout",
     "output_type": "stream",
     "text": [
      "<class 'pandas.core.frame.DataFrame'>\n",
      "RangeIndex: 3213 entries, 0 to 3212\n",
      "Data columns (total 5 columns):\n",
      " #   Column    Non-Null Count  Dtype  \n",
      "---  ------    --------------  -----  \n",
      " 0   calls     3213 non-null   float64\n",
      " 1   minutes   3213 non-null   float64\n",
      " 2   message   3213 non-null   float64\n",
      " 3   md_used   3213 non-null   float64\n",
      " 4   is_ultra  3213 non-null   int64  \n",
      "dtypes: float64(4), int64(1)\n",
      "memory usage: 125.6 KB\n"
     ]
    }
   ],
   "source": [
    "df_tarific.info()"
   ]
  },
  {
   "cell_type": "code",
   "execution_count": 367,
   "metadata": {},
   "outputs": [
    {
     "data": {
      "text/html": [
       "<div>\n",
       "<style scoped>\n",
       "    .dataframe tbody tr th:only-of-type {\n",
       "        vertical-align: middle;\n",
       "    }\n",
       "\n",
       "    .dataframe tbody tr th {\n",
       "        vertical-align: top;\n",
       "    }\n",
       "\n",
       "    .dataframe thead th {\n",
       "        text-align: right;\n",
       "    }\n",
       "</style>\n",
       "<table border=\"1\" class=\"dataframe\">\n",
       "  <thead>\n",
       "    <tr style=\"text-align: right;\">\n",
       "      <th></th>\n",
       "      <th>calls</th>\n",
       "      <th>minutes</th>\n",
       "      <th>message</th>\n",
       "      <th>md_used</th>\n",
       "      <th>is_ultra</th>\n",
       "    </tr>\n",
       "  </thead>\n",
       "  <tbody>\n",
       "    <tr>\n",
       "      <th>count</th>\n",
       "      <td>3213.000000</td>\n",
       "      <td>3213.000000</td>\n",
       "      <td>3213.000000</td>\n",
       "      <td>3213.000000</td>\n",
       "      <td>3213.000000</td>\n",
       "    </tr>\n",
       "    <tr>\n",
       "      <th>mean</th>\n",
       "      <td>63.046063</td>\n",
       "      <td>438.248098</td>\n",
       "      <td>38.267351</td>\n",
       "      <td>17206.831089</td>\n",
       "      <td>0.306567</td>\n",
       "    </tr>\n",
       "    <tr>\n",
       "      <th>std</th>\n",
       "      <td>33.239054</td>\n",
       "      <td>234.595795</td>\n",
       "      <td>36.145338</td>\n",
       "      <td>7571.995923</td>\n",
       "      <td>0.461140</td>\n",
       "    </tr>\n",
       "    <tr>\n",
       "      <th>min</th>\n",
       "      <td>0.000000</td>\n",
       "      <td>0.000000</td>\n",
       "      <td>0.000000</td>\n",
       "      <td>0.000000</td>\n",
       "      <td>0.000000</td>\n",
       "    </tr>\n",
       "    <tr>\n",
       "      <th>25%</th>\n",
       "      <td>40.000000</td>\n",
       "      <td>274.530000</td>\n",
       "      <td>9.000000</td>\n",
       "      <td>12491.750000</td>\n",
       "      <td>0.000000</td>\n",
       "    </tr>\n",
       "    <tr>\n",
       "      <th>50%</th>\n",
       "      <td>62.000000</td>\n",
       "      <td>430.700000</td>\n",
       "      <td>30.000000</td>\n",
       "      <td>16942.030000</td>\n",
       "      <td>0.000000</td>\n",
       "    </tr>\n",
       "    <tr>\n",
       "      <th>75%</th>\n",
       "      <td>82.000000</td>\n",
       "      <td>572.030000</td>\n",
       "      <td>57.000000</td>\n",
       "      <td>21425.840000</td>\n",
       "      <td>1.000000</td>\n",
       "    </tr>\n",
       "    <tr>\n",
       "      <th>max</th>\n",
       "      <td>244.000000</td>\n",
       "      <td>1632.060000</td>\n",
       "      <td>224.000000</td>\n",
       "      <td>49745.730000</td>\n",
       "      <td>1.000000</td>\n",
       "    </tr>\n",
       "  </tbody>\n",
       "</table>\n",
       "</div>"
      ],
      "text/plain": [
       "             calls      minutes      message       md_used     is_ultra\n",
       "count  3213.000000  3213.000000  3213.000000   3213.000000  3213.000000\n",
       "mean     63.046063   438.248098    38.267351  17206.831089     0.306567\n",
       "std      33.239054   234.595795    36.145338   7571.995923     0.461140\n",
       "min       0.000000     0.000000     0.000000      0.000000     0.000000\n",
       "25%      40.000000   274.530000     9.000000  12491.750000     0.000000\n",
       "50%      62.000000   430.700000    30.000000  16942.030000     0.000000\n",
       "75%      82.000000   572.030000    57.000000  21425.840000     1.000000\n",
       "max     244.000000  1632.060000   224.000000  49745.730000     1.000000"
      ]
     },
     "execution_count": 367,
     "metadata": {},
     "output_type": "execute_result"
    }
   ],
   "source": [
    "df_tarific.describe()"
   ]
  },
  {
   "cell_type": "markdown",
   "metadata": {},
   "source": [
    "Исследовательский анализ данных"
   ]
  },
  {
   "cell_type": "code",
   "execution_count": 368,
   "metadata": {},
   "outputs": [
    {
     "data": {
      "text/plain": [
       "<Axes: >"
      ]
     },
     "execution_count": 368,
     "metadata": {},
     "output_type": "execute_result"
    },
    {
     "data": {
      "image/png": "[encoded data removed]",
      "text/plain": [
       "<Figure size 640x480 with 1 Axes>"
      ]
     },
     "metadata": {},
     "output_type": "display_data"
    }
   ],
   "source": [
    "df_tarific['calls'].hist()"
   ]
  },
  {
   "cell_type": "code",
   "execution_count": 369,
   "metadata": {},
   "outputs": [
    {
     "data": {
      "text/plain": [
       "<Axes: >"
      ]
     },
     "execution_count": 369,
     "metadata": {},
     "output_type": "execute_result"
    },
    {
     "data": {
      "image/png": "[encoded data removed]",
      "text/plain": [
       "<Figure size 640x480 with 1 Axes>"
      ]
     },
     "metadata": {},
     "output_type": "display_data"
    }
   ],
   "source": [
    "df_tarific.query('is_ultra == 1')['calls'].hist(density=True)\n",
    "df_tarific.query('is_ultra == 0')['calls'].hist(alpha=0.6, density=True)"
   ]
  },
  {
   "cell_type": "code",
   "execution_count": 370,
   "metadata": {},
   "outputs": [
    {
     "data": {
      "text/plain": [
       "<Axes: >"
      ]
     },
     "execution_count": 370,
     "metadata": {},
     "output_type": "execute_result"
    },
    {
     "data": {
      "image/png": "[encoded data removed]",
      "text/plain": [
       "<Figure size 640x480 with 1 Axes>"
      ]
     },
     "metadata": {},
     "output_type": "display_data"
    }
   ],
   "source": [
    "df_tarific.query('is_ultra == 1')['minutes'].hist(density=True)\n",
    "df_tarific.query('is_ultra == 0')['minutes'].hist(alpha=0.6, density=True)"
   ]
  },
  {
   "cell_type": "code",
   "execution_count": 371,
   "metadata": {},
   "outputs": [
    {
     "data": {
      "text/plain": [
       "<Axes: >"
      ]
     },
     "execution_count": 371,
     "metadata": {},
     "output_type": "execute_result"
    },
    {
     "data": {
      "image/png": "[encoded data removed]",
      "text/plain": [
       "<Figure size 640x480 with 1 Axes>"
      ]
     },
     "metadata": {},
     "output_type": "display_data"
    }
   ],
   "source": [
    "df_tarific.query('is_ultra == 1')['md_used'].hist(density=True)\n",
    "df_tarific.query('is_ultra == 0')['md_used'].hist(alpha=0.6, density=True)"
   ]
  },
  {
   "cell_type": "code",
   "execution_count": 372,
   "metadata": {},
   "outputs": [
    {
     "data": {
      "text/plain": [
       "<Axes: >"
      ]
     },
     "execution_count": 372,
     "metadata": {},
     "output_type": "execute_result"
    },
    {
     "data": {
      "image/png": "[encoded data removed]",
      "text/plain": [
       "<Figure size 640x480 with 1 Axes>"
      ]
     },
     "metadata": {},
     "output_type": "display_data"
    }
   ],
   "source": [
    "df_tarific.query('is_ultra == 1')['message'].hist(density=True)\n",
    "df_tarific.query('is_ultra == 0')['message'].hist(alpha=0.6, density=True)"
   ]
  },
  {
   "cell_type": "code",
   "execution_count": 373,
   "metadata": {},
   "outputs": [
    {
     "data": {
      "text/html": [
       "<div>\n",
       "<style scoped>\n",
       "    .dataframe tbody tr th:only-of-type {\n",
       "        vertical-align: middle;\n",
       "    }\n",
       "\n",
       "    .dataframe tbody tr th {\n",
       "        vertical-align: top;\n",
       "    }\n",
       "\n",
       "    .dataframe thead th {\n",
       "        text-align: right;\n",
       "    }\n",
       "</style>\n",
       "<table border=\"1\" class=\"dataframe\">\n",
       "  <thead>\n",
       "    <tr style=\"text-align: right;\">\n",
       "      <th></th>\n",
       "      <th>calls</th>\n",
       "      <th>minutes</th>\n",
       "      <th>message</th>\n",
       "      <th>md_used</th>\n",
       "      <th>is_ultra</th>\n",
       "    </tr>\n",
       "  </thead>\n",
       "  <tbody>\n",
       "    <tr>\n",
       "      <th>count</th>\n",
       "      <td>985.000000</td>\n",
       "      <td>985.000000</td>\n",
       "      <td>985.000000</td>\n",
       "      <td>985.000000</td>\n",
       "      <td>985.0</td>\n",
       "    </tr>\n",
       "    <tr>\n",
       "      <th>mean</th>\n",
       "      <td>73.392893</td>\n",
       "      <td>511.224569</td>\n",
       "      <td>49.363452</td>\n",
       "      <td>19468.823228</td>\n",
       "      <td>1.0</td>\n",
       "    </tr>\n",
       "    <tr>\n",
       "      <th>std</th>\n",
       "      <td>43.916853</td>\n",
       "      <td>308.031100</td>\n",
       "      <td>47.804457</td>\n",
       "      <td>10087.178654</td>\n",
       "      <td>0.0</td>\n",
       "    </tr>\n",
       "    <tr>\n",
       "      <th>min</th>\n",
       "      <td>0.000000</td>\n",
       "      <td>0.000000</td>\n",
       "      <td>0.000000</td>\n",
       "      <td>0.000000</td>\n",
       "      <td>1.0</td>\n",
       "    </tr>\n",
       "    <tr>\n",
       "      <th>25%</th>\n",
       "      <td>41.000000</td>\n",
       "      <td>276.030000</td>\n",
       "      <td>6.000000</td>\n",
       "      <td>11770.280000</td>\n",
       "      <td>1.0</td>\n",
       "    </tr>\n",
       "    <tr>\n",
       "      <th>50%</th>\n",
       "      <td>74.000000</td>\n",
       "      <td>502.550000</td>\n",
       "      <td>38.000000</td>\n",
       "      <td>19308.010000</td>\n",
       "      <td>1.0</td>\n",
       "    </tr>\n",
       "    <tr>\n",
       "      <th>75%</th>\n",
       "      <td>104.000000</td>\n",
       "      <td>730.050000</td>\n",
       "      <td>79.000000</td>\n",
       "      <td>26837.720000</td>\n",
       "      <td>1.0</td>\n",
       "    </tr>\n",
       "    <tr>\n",
       "      <th>max</th>\n",
       "      <td>244.000000</td>\n",
       "      <td>1632.060000</td>\n",
       "      <td>224.000000</td>\n",
       "      <td>49745.730000</td>\n",
       "      <td>1.0</td>\n",
       "    </tr>\n",
       "  </tbody>\n",
       "</table>\n",
       "</div>"
      ],
      "text/plain": [
       "            calls      minutes     message       md_used  is_ultra\n",
       "count  985.000000   985.000000  985.000000    985.000000     985.0\n",
       "mean    73.392893   511.224569   49.363452  19468.823228       1.0\n",
       "std     43.916853   308.031100   47.804457  10087.178654       0.0\n",
       "min      0.000000     0.000000    0.000000      0.000000       1.0\n",
       "25%     41.000000   276.030000    6.000000  11770.280000       1.0\n",
       "50%     74.000000   502.550000   38.000000  19308.010000       1.0\n",
       "75%    104.000000   730.050000   79.000000  26837.720000       1.0\n",
       "max    244.000000  1632.060000  224.000000  49745.730000       1.0"
      ]
     },
     "execution_count": 373,
     "metadata": {},
     "output_type": "execute_result"
    }
   ],
   "source": [
    "df_tarific.query('is_ultra == 1').describe()"
   ]
  },
  {
   "cell_type": "code",
   "execution_count": 374,
   "metadata": {},
   "outputs": [
    {
     "data": {
      "text/html": [
       "<div>\n",
       "<style scoped>\n",
       "    .dataframe tbody tr th:only-of-type {\n",
       "        vertical-align: middle;\n",
       "    }\n",
       "\n",
       "    .dataframe tbody tr th {\n",
       "        vertical-align: top;\n",
       "    }\n",
       "\n",
       "    .dataframe thead th {\n",
       "        text-align: right;\n",
       "    }\n",
       "</style>\n",
       "<table border=\"1\" class=\"dataframe\">\n",
       "  <thead>\n",
       "    <tr style=\"text-align: right;\">\n",
       "      <th></th>\n",
       "      <th>calls</th>\n",
       "      <th>minutes</th>\n",
       "      <th>message</th>\n",
       "      <th>md_used</th>\n",
       "      <th>is_ultra</th>\n",
       "    </tr>\n",
       "  </thead>\n",
       "  <tbody>\n",
       "    <tr>\n",
       "      <th>count</th>\n",
       "      <td>2228.000000</td>\n",
       "      <td>2228.000000</td>\n",
       "      <td>2228.000000</td>\n",
       "      <td>2228.000000</td>\n",
       "      <td>2228.0</td>\n",
       "    </tr>\n",
       "    <tr>\n",
       "      <th>mean</th>\n",
       "      <td>58.471724</td>\n",
       "      <td>405.985162</td>\n",
       "      <td>33.361759</td>\n",
       "      <td>16206.803146</td>\n",
       "      <td>0.0</td>\n",
       "    </tr>\n",
       "    <tr>\n",
       "      <th>std</th>\n",
       "      <td>25.942730</td>\n",
       "      <td>184.543262</td>\n",
       "      <td>28.214621</td>\n",
       "      <td>5871.291048</td>\n",
       "      <td>0.0</td>\n",
       "    </tr>\n",
       "    <tr>\n",
       "      <th>min</th>\n",
       "      <td>0.000000</td>\n",
       "      <td>0.000000</td>\n",
       "      <td>0.000000</td>\n",
       "      <td>0.000000</td>\n",
       "      <td>0.0</td>\n",
       "    </tr>\n",
       "    <tr>\n",
       "      <th>25%</th>\n",
       "      <td>40.000000</td>\n",
       "      <td>274.130000</td>\n",
       "      <td>10.000000</td>\n",
       "      <td>12638.732500</td>\n",
       "      <td>0.0</td>\n",
       "    </tr>\n",
       "    <tr>\n",
       "      <th>50%</th>\n",
       "      <td>60.000000</td>\n",
       "      <td>410.605000</td>\n",
       "      <td>28.000000</td>\n",
       "      <td>16505.565000</td>\n",
       "      <td>0.0</td>\n",
       "    </tr>\n",
       "    <tr>\n",
       "      <th>75%</th>\n",
       "      <td>76.000000</td>\n",
       "      <td>529.515000</td>\n",
       "      <td>51.000000</td>\n",
       "      <td>20043.907500</td>\n",
       "      <td>0.0</td>\n",
       "    </tr>\n",
       "    <tr>\n",
       "      <th>max</th>\n",
       "      <td>198.000000</td>\n",
       "      <td>1390.220000</td>\n",
       "      <td>143.000000</td>\n",
       "      <td>38552.620000</td>\n",
       "      <td>0.0</td>\n",
       "    </tr>\n",
       "  </tbody>\n",
       "</table>\n",
       "</div>"
      ],
      "text/plain": [
       "             calls      minutes      message       md_used  is_ultra\n",
       "count  2228.000000  2228.000000  2228.000000   2228.000000    2228.0\n",
       "mean     58.471724   405.985162    33.361759  16206.803146       0.0\n",
       "std      25.942730   184.543262    28.214621   5871.291048       0.0\n",
       "min       0.000000     0.000000     0.000000      0.000000       0.0\n",
       "25%      40.000000   274.130000    10.000000  12638.732500       0.0\n",
       "50%      60.000000   410.605000    28.000000  16505.565000       0.0\n",
       "75%      76.000000   529.515000    51.000000  20043.907500       0.0\n",
       "max     198.000000  1390.220000   143.000000  38552.620000       0.0"
      ]
     },
     "execution_count": 374,
     "metadata": {},
     "output_type": "execute_result"
    }
   ],
   "source": [
    "df_tarific.query('is_ultra == 0').describe()"
   ]
  },
  {
   "cell_type": "code",
   "execution_count": 375,
   "metadata": {},
   "outputs": [
    {
     "data": {
      "text/plain": [
       "<Axes: >"
      ]
     },
     "execution_count": 375,
     "metadata": {},
     "output_type": "execute_result"
    },
    {
     "data": {
      "image/png": "[encoded data removed]",
      "text/plain": [
       "<Figure size 640x480 with 2 Axes>"
      ]
     },
     "metadata": {},
     "output_type": "display_data"
    }
   ],
   "source": [
    "sns.heatmap(df_tarific.query('is_ultra == 1').drop('is_ultra', axis=1).corr(), annot=True)"
   ]
  },
  {
   "cell_type": "code",
   "execution_count": 376,
   "metadata": {},
   "outputs": [
    {
     "data": {
      "text/plain": [
       "<Axes: >"
      ]
     },
     "execution_count": 376,
     "metadata": {},
     "output_type": "execute_result"
    },
    {
     "data": {
      "image/png": "[encoded data removed]",
      "text/plain": [
       "<Figure size 640x480 with 2 Axes>"
      ]
     },
     "metadata": {},
     "output_type": "display_data"
    }
   ],
   "source": [
    "sns.heatmap(df_tarific.query('is_ultra == 0').drop('is_ultra', axis=1).corr(), annot=True)"
   ]
  },
  {
   "cell_type": "markdown",
   "metadata": {},
   "source": [
    "# Разобьем данные на выборки"
   ]
  },
  {
   "cell_type": "code",
   "execution_count": 377,
   "metadata": {},
   "outputs": [],
   "source": [
    "X = df_tarific.drop(columns=['is_ultra']) \n",
    "Y = df_tarific['is_ultra']"
   ]
  },
  {
   "cell_type": "code",
   "execution_count": 378,
   "metadata": {},
   "outputs": [],
   "source": [
    "X_train, X_temp, y_train, y_temp = train_test_split(X, Y, test_size=0.33, random_state=42)\n",
    "X_valid, X_test, y_valid, y_test = train_test_split(X_temp, y_temp, test_size=0.5, random_state=42)"
   ]
  },
  {
   "cell_type": "markdown",
   "metadata": {},
   "source": [
    "#  Исследуем модели"
   ]
  },
  {
   "cell_type": "markdown",
   "metadata": {},
   "source": [
    "# Random Forest"
   ]
  },
  {
   "cell_type": "code",
   "execution_count": 379,
   "metadata": {},
   "outputs": [],
   "source": [
    "best_RF = None\n",
    "best_accuracy_RF = 0\n",
    "best_est_RF = 0\n",
    "best_depth_RF = 0"
   ]
  },
  {
   "cell_type": "code",
   "execution_count": 380,
   "metadata": {},
   "outputs": [],
   "source": [
    "for est in range(2, 51):\n",
    "    for depth in range(2, 25):\n",
    "        \n",
    "        RF = RandomForestClassifier(random_state = RANDOM_SEED, n_estimators = est, max_depth = depth)\n",
    "        RF.fit(X_train, y_train)\n",
    "        \n",
    "        prediction_valid_RF = RF.predict(X_valid)\n",
    "        accuracy_RF = accuracy_score(prediction_valid_RF, y_valid)\n",
    "\n",
    "        if best_accuracy_RF < accuracy_RF:\n",
    "            best_RF = RF\n",
    "            best_depth_RF = depth\n",
    "            best_est_RF = est\n",
    "            best_accuracy_RF = accuracy_RF"
   ]
  },
  {
   "cell_type": "markdown",
   "metadata": {},
   "source": [
    "Вывод"
   ]
  },
  {
   "cell_type": "markdown",
   "metadata": {},
   "source": [
    "accuracy"
   ]
  },
  {
   "cell_type": "code",
   "execution_count": 381,
   "metadata": {},
   "outputs": [
    {
     "name": "stdout",
     "output_type": "stream",
     "text": [
      "Random Forest valid: 0.8150943396226416\n"
     ]
    }
   ],
   "source": [
    "print(f\"Random Forest valid: {best_accuracy_RF}\")"
   ]
  },
  {
   "cell_type": "code",
   "execution_count": 382,
   "metadata": {},
   "outputs": [],
   "source": [
    "prediction_test_RF = best_RF.predict(X_test)"
   ]
  },
  {
   "cell_type": "code",
   "execution_count": 383,
   "metadata": {},
   "outputs": [
    {
     "name": "stdout",
     "output_type": "stream",
     "text": [
      "Random Forest test: 0.7815442561205274\n"
     ]
    }
   ],
   "source": [
    "accuracy_RF_test = accuracy_score(prediction_test_RF, y_test)\n",
    "print(f\"Random Forest test: {accuracy_RF_test}\")"
   ]
  },
  {
   "cell_type": "markdown",
   "metadata": {},
   "source": [
    "f1_score"
   ]
  },
  {
   "cell_type": "code",
   "execution_count": 384,
   "metadata": {},
   "outputs": [
    {
     "data": {
      "text/plain": [
       "0.7946957081566054"
      ]
     },
     "execution_count": 384,
     "metadata": {},
     "output_type": "execute_result"
    }
   ],
   "source": [
    "f1_score(prediction_valid_RF, y_valid, average='weighted')"
   ]
  },
  {
   "cell_type": "code",
   "execution_count": 385,
   "metadata": {},
   "outputs": [
    {
     "data": {
      "text/plain": [
       "0.785848298428943"
      ]
     },
     "execution_count": 385,
     "metadata": {},
     "output_type": "execute_result"
    }
   ],
   "source": [
    "f1_score(prediction_test_RF, y_test, average='weighted')"
   ]
  },
  {
   "cell_type": "markdown",
   "metadata": {},
   "source": [
    "# Decision Tree"
   ]
  },
  {
   "cell_type": "code",
   "execution_count": 386,
   "metadata": {},
   "outputs": [],
   "source": [
    "best_DT = None\n",
    "best_accuracy_DT = 0\n",
    "best_depth_DT = 0"
   ]
  },
  {
   "cell_type": "code",
   "execution_count": 387,
   "metadata": {},
   "outputs": [],
   "source": [
    "for depth in range(2,5):\n",
    "    DT = DecisionTreeClassifier(random_state = RANDOM_SEED, max_depth = depth)\n",
    "    DT = DT.fit(X_train, y_train)\n",
    "    prediction_valid_DT = DT.predict(X_valid)\n",
    "    accuracy_DT = accuracy_score(prediction_valid_DT, y_valid)\n",
    "    if best_accuracy_DT < accuracy_DT:\n",
    "        best_DT = DT\n",
    "        best_accuracy_DT = accuracy_DT\n",
    "        best_depth_DT = depth"
   ]
  },
  {
   "cell_type": "markdown",
   "metadata": {},
   "source": [
    "Вывод "
   ]
  },
  {
   "cell_type": "code",
   "execution_count": 388,
   "metadata": {},
   "outputs": [],
   "source": [
    "from sklearn import tree"
   ]
  },
  {
   "cell_type": "code",
   "execution_count": 389,
   "metadata": {},
   "outputs": [
    {
     "data": {
      "text/plain": [
       "[Text(0.5, 0.9, 'x[3] <= 25082.575\\ngini = 0.427\\nsamples = 2152\\nvalue = [1487, 665]'),\n",
       " Text(0.25, 0.7, 'x[0] <= 99.5\\ngini = 0.369\\nsamples = 1871\\nvalue = [1415, 456]'),\n",
       " Text(0.125, 0.5, 'x[2] <= 114.5\\ngini = 0.319\\nsamples = 1704\\nvalue = [1364, 340]'),\n",
       " Text(0.0625, 0.3, 'x[1] <= 0.735\\ngini = 0.301\\nsamples = 1665\\nvalue = [1358, 307]'),\n",
       " Text(0.03125, 0.1, 'gini = 0.172\\nsamples = 21\\nvalue = [2, 19]'),\n",
       " Text(0.09375, 0.1, 'gini = 0.289\\nsamples = 1644\\nvalue = [1356, 288]'),\n",
       " Text(0.1875, 0.3, 'x[2] <= 129.5\\ngini = 0.26\\nsamples = 39\\nvalue = [6, 33]'),\n",
       " Text(0.15625, 0.1, 'gini = 0.457\\nsamples = 17\\nvalue = [6, 11]'),\n",
       " Text(0.21875, 0.1, 'gini = 0.0\\nsamples = 22\\nvalue = [0, 22]'),\n",
       " Text(0.375, 0.5, 'x[0] <= 110.5\\ngini = 0.424\\nsamples = 167\\nvalue = [51, 116]'),\n",
       " Text(0.3125, 0.3, 'x[2] <= 10.5\\ngini = 0.498\\nsamples = 70\\nvalue = [33, 37]'),\n",
       " Text(0.28125, 0.1, 'gini = 0.351\\nsamples = 22\\nvalue = [5, 17]'),\n",
       " Text(0.34375, 0.1, 'gini = 0.486\\nsamples = 48\\nvalue = [28, 20]'),\n",
       " Text(0.4375, 0.3, 'x[3] <= 24123.22\\ngini = 0.302\\nsamples = 97\\nvalue = [18, 79]'),\n",
       " Text(0.40625, 0.1, 'gini = 0.268\\nsamples = 94\\nvalue = [15, 79]'),\n",
       " Text(0.46875, 0.1, 'gini = 0.0\\nsamples = 3\\nvalue = [3, 0]'),\n",
       " Text(0.75, 0.7, 'x[3] <= 28865.81\\ngini = 0.381\\nsamples = 281\\nvalue = [72, 209]'),\n",
       " Text(0.625, 0.5, 'x[1] <= 631.955\\ngini = 0.475\\nsamples = 142\\nvalue = [55, 87]'),\n",
       " Text(0.5625, 0.3, 'x[1] <= 132.69\\ngini = 0.5\\nsamples = 105\\nvalue = [51, 54]'),\n",
       " Text(0.53125, 0.1, 'gini = 0.0\\nsamples = 10\\nvalue = [0, 10]'),\n",
       " Text(0.59375, 0.1, 'gini = 0.497\\nsamples = 95\\nvalue = [51, 44]'),\n",
       " Text(0.6875, 0.3, 'x[3] <= 28752.465\\ngini = 0.193\\nsamples = 37\\nvalue = [4, 33]'),\n",
       " Text(0.65625, 0.1, 'gini = 0.153\\nsamples = 36\\nvalue = [3, 33]'),\n",
       " Text(0.71875, 0.1, 'gini = 0.0\\nsamples = 1\\nvalue = [1, 0]'),\n",
       " Text(0.875, 0.5, 'x[3] <= 32749.515\\ngini = 0.215\\nsamples = 139\\nvalue = [17, 122]'),\n",
       " Text(0.8125, 0.3, 'x[2] <= 29.5\\ngini = 0.331\\nsamples = 62\\nvalue = [13, 49]'),\n",
       " Text(0.78125, 0.1, 'gini = 0.498\\nsamples = 17\\nvalue = [9, 8]'),\n",
       " Text(0.84375, 0.1, 'gini = 0.162\\nsamples = 45\\nvalue = [4, 41]'),\n",
       " Text(0.9375, 0.3, 'x[1] <= 567.945\\ngini = 0.098\\nsamples = 77\\nvalue = [4, 73]'),\n",
       " Text(0.90625, 0.1, 'gini = 0.0\\nsamples = 32\\nvalue = [0, 32]'),\n",
       " Text(0.96875, 0.1, 'gini = 0.162\\nsamples = 45\\nvalue = [4, 41]')]"
      ]
     },
     "execution_count": 389,
     "metadata": {},
     "output_type": "execute_result"
    },
    {
     "data": {
      "image/png": "[encoded data removed]",
      "text/plain": [
       "<Figure size 640x480 with 1 Axes>"
      ]
     },
     "metadata": {},
     "output_type": "display_data"
    }
   ],
   "source": [
    "tree.plot_tree(DT)"
   ]
  },
  {
   "cell_type": "markdown",
   "metadata": {},
   "source": [
    "accuracy"
   ]
  },
  {
   "cell_type": "code",
   "execution_count": 390,
   "metadata": {},
   "outputs": [
    {
     "name": "stdout",
     "output_type": "stream",
     "text": [
      "Decision Tree valid: 0.7867924528301887\n"
     ]
    }
   ],
   "source": [
    "print(f\"Decision Tree valid: {best_accuracy_DT}\")"
   ]
  },
  {
   "cell_type": "code",
   "execution_count": 391,
   "metadata": {},
   "outputs": [],
   "source": [
    "prediction_test_DT = best_DT.predict(X_test)"
   ]
  },
  {
   "cell_type": "code",
   "execution_count": 392,
   "metadata": {},
   "outputs": [
    {
     "name": "stdout",
     "output_type": "stream",
     "text": [
      "Decision Tree test: 0.7721280602636534\n"
     ]
    }
   ],
   "source": [
    "accuracy_DT_test = accuracy_score(prediction_test_DT, y_test)\n",
    "print(f\"Decision Tree test: {accuracy_DT_test}\")"
   ]
  },
  {
   "cell_type": "markdown",
   "metadata": {},
   "source": [
    "f1_score"
   ]
  },
  {
   "cell_type": "code",
   "execution_count": 393,
   "metadata": {},
   "outputs": [
    {
     "data": {
      "text/plain": [
       "0.8111394401730758"
      ]
     },
     "execution_count": 393,
     "metadata": {},
     "output_type": "execute_result"
    }
   ],
   "source": [
    "f1_score(prediction_valid_DT, y_valid, average='weighted')"
   ]
  },
  {
   "cell_type": "code",
   "execution_count": 394,
   "metadata": {},
   "outputs": [
    {
     "data": {
      "text/plain": [
       "0.7968820583171268"
      ]
     },
     "execution_count": 394,
     "metadata": {},
     "output_type": "execute_result"
    }
   ],
   "source": [
    "f1_score(prediction_test_DT, y_test, average='weighted')"
   ]
  },
  {
   "cell_type": "markdown",
   "metadata": {},
   "source": [
    "# LogisticRegression"
   ]
  },
  {
   "cell_type": "code",
   "execution_count": 395,
   "metadata": {},
   "outputs": [],
   "source": [
    "LR = LogisticRegression(random_state = RANDOM_SEED, max_iter= 1000, tol=1e-5, solver = 'lbfgs')\n",
    "LR.fit(X_train, y_train)\n",
    "prediction_valid_LR = LR.predict(X_valid)\n",
    "accuracy_LR = accuracy_score(prediction_valid_LR, y_valid)"
   ]
  },
  {
   "cell_type": "markdown",
   "metadata": {},
   "source": [
    "Вывод"
   ]
  },
  {
   "cell_type": "markdown",
   "metadata": {},
   "source": [
    "accuracy"
   ]
  },
  {
   "cell_type": "code",
   "execution_count": 396,
   "metadata": {},
   "outputs": [
    {
     "name": "stdout",
     "output_type": "stream",
     "text": [
      "Logistic Regression valid: 0.7433962264150943\n"
     ]
    }
   ],
   "source": [
    "print(f\"Logistic Regression valid: {accuracy_LR}\")"
   ]
  },
  {
   "cell_type": "code",
   "execution_count": 397,
   "metadata": {},
   "outputs": [],
   "source": [
    "prediction_test_LR = LR.predict(X_test)"
   ]
  },
  {
   "cell_type": "code",
   "execution_count": 398,
   "metadata": {},
   "outputs": [],
   "source": [
    "accuracy_LR_test = accuracy_score(prediction_test_LR, y_test)"
   ]
  },
  {
   "cell_type": "code",
   "execution_count": 399,
   "metadata": {},
   "outputs": [
    {
     "name": "stdout",
     "output_type": "stream",
     "text": [
      "Logistic Regression  test: 0.7476459510357816\n"
     ]
    }
   ],
   "source": [
    "print(f\"Logistic Regression  test: {accuracy_LR_test}\")"
   ]
  },
  {
   "cell_type": "markdown",
   "metadata": {},
   "source": [
    "f1_score"
   ]
  },
  {
   "cell_type": "code",
   "execution_count": 400,
   "metadata": {},
   "outputs": [
    {
     "data": {
      "text/plain": [
       "0.7987571180920704"
      ]
     },
     "execution_count": 400,
     "metadata": {},
     "output_type": "execute_result"
    }
   ],
   "source": [
    "f1_score(prediction_valid_LR, y_valid, average='weighted')"
   ]
  },
  {
   "cell_type": "code",
   "execution_count": 401,
   "metadata": {},
   "outputs": [
    {
     "data": {
      "text/plain": [
       "0.7917084610751828"
      ]
     },
     "execution_count": 401,
     "metadata": {},
     "output_type": "execute_result"
    }
   ],
   "source": [
    "f1_score(prediction_test_LR, y_test, average='weighted')"
   ]
  }
 ],
 "metadata": {
  "kernelspec": {
   "display_name": "Python 3 (ipykernel)",
   "language": "python",
   "name": "python3"
  },
  "language_info": {
   "codemirror_mode": {
    "name": "ipython",
    "version": 3
   },
   "file_extension": ".py",
   "mimetype": "text/x-python",
   "name": "python",
   "nbconvert_exporter": "python",
   "pygments_lexer": "ipython3",
   "version": "3.11.4"
  },
  "toc": {
   "base_numbering": 1,
   "nav_menu": {},
   "number_sections": true,
   "sideBar": true,
   "skip_h1_title": false,
   "title_cell": "Содержание",
   "title_sidebar": "Contents",
   "toc_cell": true,
   "toc_position": {},
   "toc_section_display": true,
   "toc_window_display": true
  }
 },
 "nbformat": 4,
 "nbformat_minor": 4
}
